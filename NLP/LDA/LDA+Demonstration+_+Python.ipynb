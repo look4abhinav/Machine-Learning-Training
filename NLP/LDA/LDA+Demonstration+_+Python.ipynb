{
 "cells": [
  {
   "cell_type": "markdown",
   "metadata": {
    "id": "6RCC7rth2I-J"
   },
   "source": [
    "# LDA Demonstration\n",
    "\n",
    "\n",
    "In this notebook, we will build LDA models on various datasets. We'll use the gensim implementation of LDA, though sklearn also comes with one. \n",
    "\n",
    "We will also use the library spacy for preprocessing (specifically lemmatisation). Though you can also perform lemmatisation in NLTK, it is slightly more convenient and less verbose in spacy. For visualising the topics and the word-topic distributions (interactively!), we'll use the 'pyLDAvis' module."
   ]
  },
  {
   "cell_type": "code",
   "execution_count": 22,
   "metadata": {
    "colab": {
     "base_uri": "https://localhost:8080/",
     "height": 381
    },
    "executionInfo": {
     "elapsed": 3441,
     "status": "ok",
     "timestamp": 1602776740094,
     "user": {
      "displayName": "Sayan Dey",
      "photoUrl": "https://lh3.googleusercontent.com/a-/AOh14GgqVHJ9o6-7idGiRbNNd4iVc1VjzvuPnwmAnvEtD6U=s64",
      "userId": "03603580465490055794"
     },
     "user_tz": -330
    },
    "id": "MfMO2YUT2I-L",
    "outputId": "4a52bede-4b5b-4eca-b06d-022249dd4174"
   },
   "outputs": [
    {
     "name": "stdout",
     "output_type": "stream",
     "text": [
      "Requirement already satisfied: pyLDAvis in /usr/local/lib/python3.6/dist-packages (2.1.2)\n",
      "Requirement already satisfied: joblib>=0.8.4 in /usr/local/lib/python3.6/dist-packages (from pyLDAvis) (0.16.0)\n",
      "Requirement already satisfied: pandas>=0.17.0 in /usr/local/lib/python3.6/dist-packages (from pyLDAvis) (1.1.2)\n",
      "Requirement already satisfied: jinja2>=2.7.2 in /usr/local/lib/python3.6/dist-packages (from pyLDAvis) (2.11.2)\n",
      "Requirement already satisfied: numexpr in /usr/local/lib/python3.6/dist-packages (from pyLDAvis) (2.7.1)\n",
      "Requirement already satisfied: numpy>=1.9.2 in /usr/local/lib/python3.6/dist-packages (from pyLDAvis) (1.18.5)\n",
      "Requirement already satisfied: pytest in /usr/local/lib/python3.6/dist-packages (from pyLDAvis) (3.6.4)\n",
      "Requirement already satisfied: scipy>=0.18.0 in /usr/local/lib/python3.6/dist-packages (from pyLDAvis) (1.4.1)\n",
      "Requirement already satisfied: funcy in /usr/local/lib/python3.6/dist-packages (from pyLDAvis) (1.15)\n",
      "Requirement already satisfied: wheel>=0.23.0 in /usr/local/lib/python3.6/dist-packages (from pyLDAvis) (0.35.1)\n",
      "Requirement already satisfied: future in /usr/local/lib/python3.6/dist-packages (from pyLDAvis) (0.16.0)\n",
      "Requirement already satisfied: python-dateutil>=2.7.3 in /usr/local/lib/python3.6/dist-packages (from pandas>=0.17.0->pyLDAvis) (2.8.1)\n",
      "Requirement already satisfied: pytz>=2017.2 in /usr/local/lib/python3.6/dist-packages (from pandas>=0.17.0->pyLDAvis) (2018.9)\n",
      "Requirement already satisfied: MarkupSafe>=0.23 in /usr/local/lib/python3.6/dist-packages (from jinja2>=2.7.2->pyLDAvis) (1.1.1)\n",
      "Requirement already satisfied: six>=1.10.0 in /usr/local/lib/python3.6/dist-packages (from pytest->pyLDAvis) (1.15.0)\n",
      "Requirement already satisfied: more-itertools>=4.0.0 in /usr/local/lib/python3.6/dist-packages (from pytest->pyLDAvis) (8.5.0)\n",
      "Requirement already satisfied: pluggy<0.8,>=0.5 in /usr/local/lib/python3.6/dist-packages (from pytest->pyLDAvis) (0.7.1)\n",
      "Requirement already satisfied: attrs>=17.4.0 in /usr/local/lib/python3.6/dist-packages (from pytest->pyLDAvis) (20.2.0)\n",
      "Requirement already satisfied: py>=1.5.0 in /usr/local/lib/python3.6/dist-packages (from pytest->pyLDAvis) (1.9.0)\n",
      "Requirement already satisfied: atomicwrites>=1.0 in /usr/local/lib/python3.6/dist-packages (from pytest->pyLDAvis) (1.4.0)\n",
      "Requirement already satisfied: setuptools in /usr/local/lib/python3.6/dist-packages (from pytest->pyLDAvis) (50.3.0)\n"
     ]
    }
   ],
   "source": [
    "# import libraries  \n",
    "import numpy as np\n",
    "import pandas as pd\n",
    "import nltk\n",
    "import re, random, os\n",
    "import string, pprint\n",
    "import matplotlib.pyplot as plt\n",
    "import seaborn as sns\n",
    "\n",
    "# spacy for basic preprocessing, optional, can use nltk as well (lemmatisation etc.)\n",
    "import spacy\n",
    "\n",
    "# gensim for LDA \n",
    "import gensim\n",
    "import gensim.corpora as corpora\n",
    "from gensim.utils import simple_preprocess\n",
    "from gensim.models import CoherenceModel\n",
    "!pip install pyLDAvis\n",
    "# Plotting tools\n",
    "import pyLDAvis\n",
    "import pyLDAvis.gensim  # don't skip this\n",
    "import matplotlib.pyplot as plt\n",
    "%matplotlib inline\n",
    "\n",
    "import warnings\n",
    "warnings.filterwarnings(\"ignore\",category=DeprecationWarning)"
   ]
  },
  {
   "cell_type": "markdown",
   "metadata": {
    "id": "JrTL5Ok72I-P"
   },
   "source": [
    "## Amazon Product Reviews Dataset - Echo/Alexa\n",
    "\n",
    "For building topic models, let's experiment with the Amazon product reviews dataset. We have a list of reviews of a few amazon products such as Kindle, Echo (Alexa) etc. "
   ]
  },
  {
   "cell_type": "code",
   "execution_count": 23,
   "metadata": {
    "colab": {
     "base_uri": "https://localhost:8080/",
     "height": 35
    },
    "executionInfo": {
     "elapsed": 1218,
     "status": "ok",
     "timestamp": 1602776753489,
     "user": {
      "displayName": "Sayan Dey",
      "photoUrl": "https://lh3.googleusercontent.com/a-/AOh14GgqVHJ9o6-7idGiRbNNd4iVc1VjzvuPnwmAnvEtD6U=s64",
      "userId": "03603580465490055794"
     },
     "user_tz": -330
    },
    "id": "Qh_Gpdnm3LIP",
    "outputId": "a99f299e-953c-494a-850d-269b299e042b"
   },
   "outputs": [
    {
     "name": "stdout",
     "output_type": "stream",
     "text": [
      "Drive already mounted at /gdrive; to attempt to forcibly remount, call drive.mount(\"/gdrive\", force_remount=True).\n"
     ]
    }
   ],
   "source": [
    "from google.colab import drive\n",
    "drive.mount('/gdrive')"
   ]
  },
  {
   "cell_type": "code",
   "execution_count": 24,
   "metadata": {
    "executionInfo": {
     "elapsed": 1023,
     "status": "ok",
     "timestamp": 1602776758508,
     "user": {
      "displayName": "Sayan Dey",
      "photoUrl": "https://lh3.googleusercontent.com/a-/AOh14GgqVHJ9o6-7idGiRbNNd4iVc1VjzvuPnwmAnvEtD6U=s64",
      "userId": "03603580465490055794"
     },
     "user_tz": -330
    },
    "id": "-VKDRFPk2I-P"
   },
   "outputs": [],
   "source": [
    "df = pd.read_csv('/gdrive/My Drive/Deep Learning AIML/Statistical NLP/Notebooks/New/LDA/7817_1.csv')"
   ]
  },
  {
   "cell_type": "code",
   "execution_count": 26,
   "metadata": {
    "colab": {
     "base_uri": "https://localhost:8080/",
     "height": 499
    },
    "executionInfo": {
     "elapsed": 1077,
     "status": "ok",
     "timestamp": 1602776846485,
     "user": {
      "displayName": "Sayan Dey",
      "photoUrl": "https://lh3.googleusercontent.com/a-/AOh14GgqVHJ9o6-7idGiRbNNd4iVc1VjzvuPnwmAnvEtD6U=s64",
      "userId": "03603580465490055794"
     },
     "user_tz": -330
    },
    "id": "FRAEUnrA2I-S",
    "outputId": "36c19b17-440b-4829-fde9-e88721ce1bf9",
    "scrolled": false
   },
   "outputs": [
    {
     "data": {
      "text/html": [
       "<div>\n",
       "<style scoped>\n",
       "    .dataframe tbody tr th:only-of-type {\n",
       "        vertical-align: middle;\n",
       "    }\n",
       "\n",
       "    .dataframe tbody tr th {\n",
       "        vertical-align: top;\n",
       "    }\n",
       "\n",
       "    .dataframe thead th {\n",
       "        text-align: right;\n",
       "    }\n",
       "</style>\n",
       "<table border=\"1\" class=\"dataframe\">\n",
       "  <thead>\n",
       "    <tr style=\"text-align: right;\">\n",
       "      <th></th>\n",
       "      <th>id</th>\n",
       "      <th>asins</th>\n",
       "      <th>brand</th>\n",
       "      <th>categories</th>\n",
       "      <th>colors</th>\n",
       "      <th>dateAdded</th>\n",
       "      <th>dateUpdated</th>\n",
       "      <th>dimension</th>\n",
       "      <th>ean</th>\n",
       "      <th>keys</th>\n",
       "      <th>manufacturer</th>\n",
       "      <th>manufacturerNumber</th>\n",
       "      <th>name</th>\n",
       "      <th>prices</th>\n",
       "      <th>reviews.date</th>\n",
       "      <th>reviews.doRecommend</th>\n",
       "      <th>reviews.numHelpful</th>\n",
       "      <th>reviews.rating</th>\n",
       "      <th>reviews.sourceURLs</th>\n",
       "      <th>reviews.text</th>\n",
       "      <th>reviews.title</th>\n",
       "      <th>reviews.userCity</th>\n",
       "      <th>reviews.userProvince</th>\n",
       "      <th>reviews.username</th>\n",
       "      <th>sizes</th>\n",
       "      <th>upc</th>\n",
       "      <th>weight</th>\n",
       "    </tr>\n",
       "  </thead>\n",
       "  <tbody>\n",
       "    <tr>\n",
       "      <th>0</th>\n",
       "      <td>AVpe7AsMilAPnD_xQ78G</td>\n",
       "      <td>B00QJDU3KY</td>\n",
       "      <td>Amazon</td>\n",
       "      <td>Amazon Devices,mazon.co.uk</td>\n",
       "      <td>NaN</td>\n",
       "      <td>2016-03-08T20:21:53Z</td>\n",
       "      <td>2017-07-18T23:52:58Z</td>\n",
       "      <td>169 mm x 117 mm x 9.1 mm</td>\n",
       "      <td>NaN</td>\n",
       "      <td>kindlepaperwhite/b00qjdu3ky</td>\n",
       "      <td>Amazon</td>\n",
       "      <td>NaN</td>\n",
       "      <td>Kindle Paperwhite</td>\n",
       "      <td>[{\"amountMax\":139.99,\"amountMin\":139.99,\"curre...</td>\n",
       "      <td>2015-08-08T00:00:00.000Z</td>\n",
       "      <td>NaN</td>\n",
       "      <td>139.0</td>\n",
       "      <td>5.0</td>\n",
       "      <td>https://www.amazon.com/Kindle-Paperwhite-High-...</td>\n",
       "      <td>I initially had trouble deciding between the p...</td>\n",
       "      <td>Paperwhite voyage, no regrets!</td>\n",
       "      <td>NaN</td>\n",
       "      <td>NaN</td>\n",
       "      <td>Cristina M</td>\n",
       "      <td>NaN</td>\n",
       "      <td>NaN</td>\n",
       "      <td>205 grams</td>\n",
       "    </tr>\n",
       "    <tr>\n",
       "      <th>1</th>\n",
       "      <td>AVpe7AsMilAPnD_xQ78G</td>\n",
       "      <td>B00QJDU3KY</td>\n",
       "      <td>Amazon</td>\n",
       "      <td>Amazon Devices,mazon.co.uk</td>\n",
       "      <td>NaN</td>\n",
       "      <td>2016-03-08T20:21:53Z</td>\n",
       "      <td>2017-07-18T23:52:58Z</td>\n",
       "      <td>169 mm x 117 mm x 9.1 mm</td>\n",
       "      <td>NaN</td>\n",
       "      <td>kindlepaperwhite/b00qjdu3ky</td>\n",
       "      <td>Amazon</td>\n",
       "      <td>NaN</td>\n",
       "      <td>Kindle Paperwhite</td>\n",
       "      <td>[{\"amountMax\":139.99,\"amountMin\":139.99,\"curre...</td>\n",
       "      <td>2015-09-01T00:00:00.000Z</td>\n",
       "      <td>NaN</td>\n",
       "      <td>126.0</td>\n",
       "      <td>5.0</td>\n",
       "      <td>https://www.amazon.com/Kindle-Paperwhite-High-...</td>\n",
       "      <td>Allow me to preface this with a little history...</td>\n",
       "      <td>One Simply Could Not Ask For More</td>\n",
       "      <td>NaN</td>\n",
       "      <td>NaN</td>\n",
       "      <td>Ricky</td>\n",
       "      <td>NaN</td>\n",
       "      <td>NaN</td>\n",
       "      <td>205 grams</td>\n",
       "    </tr>\n",
       "    <tr>\n",
       "      <th>2</th>\n",
       "      <td>AVpe7AsMilAPnD_xQ78G</td>\n",
       "      <td>B00QJDU3KY</td>\n",
       "      <td>Amazon</td>\n",
       "      <td>Amazon Devices,mazon.co.uk</td>\n",
       "      <td>NaN</td>\n",
       "      <td>2016-03-08T20:21:53Z</td>\n",
       "      <td>2017-07-18T23:52:58Z</td>\n",
       "      <td>169 mm x 117 mm x 9.1 mm</td>\n",
       "      <td>NaN</td>\n",
       "      <td>kindlepaperwhite/b00qjdu3ky</td>\n",
       "      <td>Amazon</td>\n",
       "      <td>NaN</td>\n",
       "      <td>Kindle Paperwhite</td>\n",
       "      <td>[{\"amountMax\":139.99,\"amountMin\":139.99,\"curre...</td>\n",
       "      <td>2015-07-20T00:00:00.000Z</td>\n",
       "      <td>NaN</td>\n",
       "      <td>69.0</td>\n",
       "      <td>4.0</td>\n",
       "      <td>https://www.amazon.com/Kindle-Paperwhite-High-...</td>\n",
       "      <td>I am enjoying it so far. Great for reading. Ha...</td>\n",
       "      <td>Great for those that just want an e-reader</td>\n",
       "      <td>NaN</td>\n",
       "      <td>NaN</td>\n",
       "      <td>Tedd Gardiner</td>\n",
       "      <td>NaN</td>\n",
       "      <td>NaN</td>\n",
       "      <td>205 grams</td>\n",
       "    </tr>\n",
       "    <tr>\n",
       "      <th>3</th>\n",
       "      <td>AVpe7AsMilAPnD_xQ78G</td>\n",
       "      <td>B00QJDU3KY</td>\n",
       "      <td>Amazon</td>\n",
       "      <td>Amazon Devices,mazon.co.uk</td>\n",
       "      <td>NaN</td>\n",
       "      <td>2016-03-08T20:21:53Z</td>\n",
       "      <td>2017-07-18T23:52:58Z</td>\n",
       "      <td>169 mm x 117 mm x 9.1 mm</td>\n",
       "      <td>NaN</td>\n",
       "      <td>kindlepaperwhite/b00qjdu3ky</td>\n",
       "      <td>Amazon</td>\n",
       "      <td>NaN</td>\n",
       "      <td>Kindle Paperwhite</td>\n",
       "      <td>[{\"amountMax\":139.99,\"amountMin\":139.99,\"curre...</td>\n",
       "      <td>2017-06-16T00:00:00.000Z</td>\n",
       "      <td>NaN</td>\n",
       "      <td>2.0</td>\n",
       "      <td>5.0</td>\n",
       "      <td>https://www.amazon.com/Kindle-Paperwhite-High-...</td>\n",
       "      <td>I bought one of the first Paperwhites and have...</td>\n",
       "      <td>Love / Hate relationship</td>\n",
       "      <td>NaN</td>\n",
       "      <td>NaN</td>\n",
       "      <td>Dougal</td>\n",
       "      <td>NaN</td>\n",
       "      <td>NaN</td>\n",
       "      <td>205 grams</td>\n",
       "    </tr>\n",
       "    <tr>\n",
       "      <th>4</th>\n",
       "      <td>AVpe7AsMilAPnD_xQ78G</td>\n",
       "      <td>B00QJDU3KY</td>\n",
       "      <td>Amazon</td>\n",
       "      <td>Amazon Devices,mazon.co.uk</td>\n",
       "      <td>NaN</td>\n",
       "      <td>2016-03-08T20:21:53Z</td>\n",
       "      <td>2017-07-18T23:52:58Z</td>\n",
       "      <td>169 mm x 117 mm x 9.1 mm</td>\n",
       "      <td>NaN</td>\n",
       "      <td>kindlepaperwhite/b00qjdu3ky</td>\n",
       "      <td>Amazon</td>\n",
       "      <td>NaN</td>\n",
       "      <td>Kindle Paperwhite</td>\n",
       "      <td>[{\"amountMax\":139.99,\"amountMin\":139.99,\"curre...</td>\n",
       "      <td>2016-08-11T00:00:00.000Z</td>\n",
       "      <td>NaN</td>\n",
       "      <td>17.0</td>\n",
       "      <td>5.0</td>\n",
       "      <td>https://www.amazon.com/Kindle-Paperwhite-High-...</td>\n",
       "      <td>I have to say upfront - I don't like coroporat...</td>\n",
       "      <td>I LOVE IT</td>\n",
       "      <td>NaN</td>\n",
       "      <td>NaN</td>\n",
       "      <td>Miljan David Tanic</td>\n",
       "      <td>NaN</td>\n",
       "      <td>NaN</td>\n",
       "      <td>205 grams</td>\n",
       "    </tr>\n",
       "  </tbody>\n",
       "</table>\n",
       "</div>"
      ],
      "text/plain": [
       "                     id       asins   brand  ... sizes upc     weight\n",
       "0  AVpe7AsMilAPnD_xQ78G  B00QJDU3KY  Amazon  ...   NaN NaN  205 grams\n",
       "1  AVpe7AsMilAPnD_xQ78G  B00QJDU3KY  Amazon  ...   NaN NaN  205 grams\n",
       "2  AVpe7AsMilAPnD_xQ78G  B00QJDU3KY  Amazon  ...   NaN NaN  205 grams\n",
       "3  AVpe7AsMilAPnD_xQ78G  B00QJDU3KY  Amazon  ...   NaN NaN  205 grams\n",
       "4  AVpe7AsMilAPnD_xQ78G  B00QJDU3KY  Amazon  ...   NaN NaN  205 grams\n",
       "\n",
       "[5 rows x 27 columns]"
      ]
     },
     "execution_count": 26,
     "metadata": {
      "tags": []
     },
     "output_type": "execute_result"
    }
   ],
   "source": [
    "df.head()"
   ]
  },
  {
   "cell_type": "markdown",
   "metadata": {
    "id": "h8EDih9p2I-W"
   },
   "source": [
    "Let's now filter the dataframe to only one product - Amazon Echo. If you are not aware of Echo, <a href=\"https://www.amazon.in/Amazon-Echo-control-weather-Powered/dp/B0749YXL1J?tag=googinhydr18418-21\">here's the amazon page</a>."
   ]
  },
  {
   "cell_type": "code",
   "execution_count": 27,
   "metadata": {
    "colab": {
     "base_uri": "https://localhost:8080/",
     "height": 742
    },
    "executionInfo": {
     "elapsed": 1242,
     "status": "ok",
     "timestamp": 1602776847966,
     "user": {
      "displayName": "Sayan Dey",
      "photoUrl": "https://lh3.googleusercontent.com/a-/AOh14GgqVHJ9o6-7idGiRbNNd4iVc1VjzvuPnwmAnvEtD6U=s64",
      "userId": "03603580465490055794"
     },
     "user_tz": -330
    },
    "id": "tG2xaIUb2I-X",
    "outputId": "9e8f5aba-cf5e-440e-e808-de1bac17bd79",
    "scrolled": true
   },
   "outputs": [
    {
     "data": {
      "text/html": [
       "<div>\n",
       "<style scoped>\n",
       "    .dataframe tbody tr th:only-of-type {\n",
       "        vertical-align: middle;\n",
       "    }\n",
       "\n",
       "    .dataframe tbody tr th {\n",
       "        vertical-align: top;\n",
       "    }\n",
       "\n",
       "    .dataframe thead th {\n",
       "        text-align: right;\n",
       "    }\n",
       "</style>\n",
       "<table border=\"1\" class=\"dataframe\">\n",
       "  <thead>\n",
       "    <tr style=\"text-align: right;\">\n",
       "      <th></th>\n",
       "      <th>id</th>\n",
       "      <th>asins</th>\n",
       "      <th>brand</th>\n",
       "      <th>categories</th>\n",
       "      <th>colors</th>\n",
       "      <th>dateAdded</th>\n",
       "      <th>dateUpdated</th>\n",
       "      <th>dimension</th>\n",
       "      <th>ean</th>\n",
       "      <th>keys</th>\n",
       "      <th>manufacturer</th>\n",
       "      <th>manufacturerNumber</th>\n",
       "      <th>name</th>\n",
       "      <th>prices</th>\n",
       "      <th>reviews.date</th>\n",
       "      <th>reviews.doRecommend</th>\n",
       "      <th>reviews.numHelpful</th>\n",
       "      <th>reviews.rating</th>\n",
       "      <th>reviews.sourceURLs</th>\n",
       "      <th>reviews.text</th>\n",
       "      <th>reviews.title</th>\n",
       "      <th>reviews.userCity</th>\n",
       "      <th>reviews.userProvince</th>\n",
       "      <th>reviews.username</th>\n",
       "      <th>sizes</th>\n",
       "      <th>upc</th>\n",
       "      <th>weight</th>\n",
       "    </tr>\n",
       "  </thead>\n",
       "  <tbody>\n",
       "    <tr>\n",
       "      <th>852</th>\n",
       "      <td>AVpfpK8KLJeJML43BCuD</td>\n",
       "      <td>B01BH83OOM</td>\n",
       "      <td>Amazon</td>\n",
       "      <td>Amazon Devices,Home,Smart Home &amp; Connected Liv...</td>\n",
       "      <td>Black</td>\n",
       "      <td>2017-01-04T03:51:17Z</td>\n",
       "      <td>2017-08-13T08:31:07Z</td>\n",
       "      <td>4.8 in x 6.6 in x 3.2 in</td>\n",
       "      <td>8.416670e+11</td>\n",
       "      <td>amazontapalexaenabledportablebluetoothspeaker/...</td>\n",
       "      <td>Amazon</td>\n",
       "      <td>B01BH83OOM</td>\n",
       "      <td>Amazon Tap - Alexa-Enabled Portable Bluetooth ...</td>\n",
       "      <td>[{\"amountMax\":129.99,\"amountMin\":129.99,\"curre...</td>\n",
       "      <td>NaN</td>\n",
       "      <td>NaN</td>\n",
       "      <td>806.0</td>\n",
       "      <td>5.0</td>\n",
       "      <td>https://www.amazon.com/dp/B01BH83OOM,https://w...</td>\n",
       "      <td>IMPORTANT UPDATE (3/8/17): As you read my orig...</td>\n",
       "      <td>The Echo's Little Sister Is AMAZING!! 3,</td>\n",
       "      <td>NaN</td>\n",
       "      <td>NaN</td>\n",
       "      <td>Deanokat</td>\n",
       "      <td>NaN</td>\n",
       "      <td>8.416670e+11</td>\n",
       "      <td>1.75 lbs</td>\n",
       "    </tr>\n",
       "    <tr>\n",
       "      <th>853</th>\n",
       "      <td>AVpfpK8KLJeJML43BCuD</td>\n",
       "      <td>B01BH83OOM</td>\n",
       "      <td>Amazon</td>\n",
       "      <td>Amazon Devices,Home,Smart Home &amp; Connected Liv...</td>\n",
       "      <td>Black</td>\n",
       "      <td>2017-01-04T03:51:17Z</td>\n",
       "      <td>2017-08-13T08:31:07Z</td>\n",
       "      <td>4.8 in x 6.6 in x 3.2 in</td>\n",
       "      <td>8.416670e+11</td>\n",
       "      <td>amazontapalexaenabledportablebluetoothspeaker/...</td>\n",
       "      <td>Amazon</td>\n",
       "      <td>B01BH83OOM</td>\n",
       "      <td>Amazon Tap - Alexa-Enabled Portable Bluetooth ...</td>\n",
       "      <td>[{\"amountMax\":129.99,\"amountMin\":129.99,\"curre...</td>\n",
       "      <td>2016-04-05T00:00:00.000Z</td>\n",
       "      <td>NaN</td>\n",
       "      <td>426.0</td>\n",
       "      <td>5.0</td>\n",
       "      <td>https://www.amazon.com/dp/B01BH83OOM,https://w...</td>\n",
       "      <td>It was just a few weeks ago that I was bemoani...</td>\n",
       "      <td>Tap Alexa on the go!</td>\n",
       "      <td>NaN</td>\n",
       "      <td>NaN</td>\n",
       "      <td>Heather A</td>\n",
       "      <td>NaN</td>\n",
       "      <td>8.416670e+11</td>\n",
       "      <td>1.75 lbs</td>\n",
       "    </tr>\n",
       "    <tr>\n",
       "      <th>854</th>\n",
       "      <td>AVpfpK8KLJeJML43BCuD</td>\n",
       "      <td>B01BH83OOM</td>\n",
       "      <td>Amazon</td>\n",
       "      <td>Amazon Devices,Home,Smart Home &amp; Connected Liv...</td>\n",
       "      <td>Black</td>\n",
       "      <td>2017-01-04T03:51:17Z</td>\n",
       "      <td>2017-08-13T08:31:07Z</td>\n",
       "      <td>4.8 in x 6.6 in x 3.2 in</td>\n",
       "      <td>8.416670e+11</td>\n",
       "      <td>amazontapalexaenabledportablebluetoothspeaker/...</td>\n",
       "      <td>Amazon</td>\n",
       "      <td>B01BH83OOM</td>\n",
       "      <td>Amazon Tap - Alexa-Enabled Portable Bluetooth ...</td>\n",
       "      <td>[{\"amountMax\":129.99,\"amountMin\":129.99,\"curre...</td>\n",
       "      <td>NaN</td>\n",
       "      <td>NaN</td>\n",
       "      <td>295.0</td>\n",
       "      <td>5.0</td>\n",
       "      <td>https://www.amazon.com/dp/B01BH83OOM,https://w...</td>\n",
       "      <td>The Amazon Tap is a portable Bluetooth speaker...</td>\n",
       "      <td>Amazon Tap Review - Best Bluetooth Speaker in ...</td>\n",
       "      <td>NaN</td>\n",
       "      <td>NaN</td>\n",
       "      <td>Quentin Moore</td>\n",
       "      <td>NaN</td>\n",
       "      <td>8.416670e+11</td>\n",
       "      <td>1.75 lbs</td>\n",
       "    </tr>\n",
       "    <tr>\n",
       "      <th>855</th>\n",
       "      <td>AVpfpK8KLJeJML43BCuD</td>\n",
       "      <td>B01BH83OOM</td>\n",
       "      <td>Amazon</td>\n",
       "      <td>Amazon Devices,Home,Smart Home &amp; Connected Liv...</td>\n",
       "      <td>Black</td>\n",
       "      <td>2017-01-04T03:51:17Z</td>\n",
       "      <td>2017-08-13T08:31:07Z</td>\n",
       "      <td>4.8 in x 6.6 in x 3.2 in</td>\n",
       "      <td>8.416670e+11</td>\n",
       "      <td>amazontapalexaenabledportablebluetoothspeaker/...</td>\n",
       "      <td>Amazon</td>\n",
       "      <td>B01BH83OOM</td>\n",
       "      <td>Amazon Tap - Alexa-Enabled Portable Bluetooth ...</td>\n",
       "      <td>[{\"amountMax\":129.99,\"amountMin\":129.99,\"curre...</td>\n",
       "      <td>2016-05-31T00:00:00.000Z</td>\n",
       "      <td>True</td>\n",
       "      <td>0.0</td>\n",
       "      <td>5.0</td>\n",
       "      <td>http://reviews.bestbuy.com/3545/5097300/review...</td>\n",
       "      <td>Look at this product as a portable speaker fir...</td>\n",
       "      <td>Great for what it does</td>\n",
       "      <td>NaN</td>\n",
       "      <td>NaN</td>\n",
       "      <td>Casey</td>\n",
       "      <td>NaN</td>\n",
       "      <td>8.416670e+11</td>\n",
       "      <td>1.75 lbs</td>\n",
       "    </tr>\n",
       "    <tr>\n",
       "      <th>856</th>\n",
       "      <td>AVpfpK8KLJeJML43BCuD</td>\n",
       "      <td>B01BH83OOM</td>\n",
       "      <td>Amazon</td>\n",
       "      <td>Amazon Devices,Home,Smart Home &amp; Connected Liv...</td>\n",
       "      <td>Black</td>\n",
       "      <td>2017-01-04T03:51:17Z</td>\n",
       "      <td>2017-08-13T08:31:07Z</td>\n",
       "      <td>4.8 in x 6.6 in x 3.2 in</td>\n",
       "      <td>8.416670e+11</td>\n",
       "      <td>amazontapalexaenabledportablebluetoothspeaker/...</td>\n",
       "      <td>Amazon</td>\n",
       "      <td>B01BH83OOM</td>\n",
       "      <td>Amazon Tap - Alexa-Enabled Portable Bluetooth ...</td>\n",
       "      <td>[{\"amountMax\":129.99,\"amountMin\":129.99,\"curre...</td>\n",
       "      <td>2016-05-30T00:00:00.000Z</td>\n",
       "      <td>True</td>\n",
       "      <td>3.0</td>\n",
       "      <td>5.0</td>\n",
       "      <td>http://reviews.bestbuy.com/3545/5097300/review...</td>\n",
       "      <td>This Amazon tap is not only a great Bluetooth ...</td>\n",
       "      <td>Awesome, smart little portable speaker</td>\n",
       "      <td>NaN</td>\n",
       "      <td>NaN</td>\n",
       "      <td>Tazman3582</td>\n",
       "      <td>NaN</td>\n",
       "      <td>8.416670e+11</td>\n",
       "      <td>1.75 lbs</td>\n",
       "    </tr>\n",
       "  </tbody>\n",
       "</table>\n",
       "</div>"
      ],
      "text/plain": [
       "                       id       asins   brand  ... sizes           upc    weight\n",
       "852  AVpfpK8KLJeJML43BCuD  B01BH83OOM  Amazon  ...   NaN  8.416670e+11  1.75 lbs\n",
       "853  AVpfpK8KLJeJML43BCuD  B01BH83OOM  Amazon  ...   NaN  8.416670e+11  1.75 lbs\n",
       "854  AVpfpK8KLJeJML43BCuD  B01BH83OOM  Amazon  ...   NaN  8.416670e+11  1.75 lbs\n",
       "855  AVpfpK8KLJeJML43BCuD  B01BH83OOM  Amazon  ...   NaN  8.416670e+11  1.75 lbs\n",
       "856  AVpfpK8KLJeJML43BCuD  B01BH83OOM  Amazon  ...   NaN  8.416670e+11  1.75 lbs\n",
       "\n",
       "[5 rows x 27 columns]"
      ]
     },
     "execution_count": 27,
     "metadata": {
      "tags": []
     },
     "output_type": "execute_result"
    }
   ],
   "source": [
    "# filter for product id = amazon echo\n",
    "df = df[df['asins']==\"B01BH83OOM\"]\n",
    "df.head()"
   ]
  },
  {
   "cell_type": "markdown",
   "metadata": {
    "id": "mQRgyjYR2I-a"
   },
   "source": [
    "### Preprocessing\n",
    "\n",
    "Let's first do some preprocessing. For tokenisation, though one can use NLTK as well, let's try using gensim's ```simple_preprocess``` this time. The preprocessing pipeline is mentioned below.<br>\n",
    "\n",
    "1. Tokenize each review (using gensim)\n",
    "2. Remove stop words (including punctuations)\n",
    "3. Lemmatize (using spacy)\n",
    "\n",
    "Though you can build topic models without lemmatisation, it is actually quite important (and highly recommended) because otherwise you may end up getting topics having similar words for e.g. *speaker, speakers* etc. (which are basically referring to the same thing - speaker).\n",
    "\n",
    "Note that lemmatization uses POS tags of words, so we need to specify a list of POS tags - here we've used ```['NOUN', 'ADJ', 'VERB', 'ADV']``` ."
   ]
  },
  {
   "cell_type": "code",
   "execution_count": 28,
   "metadata": {
    "colab": {
     "base_uri": "https://localhost:8080/",
     "height": 55
    },
    "executionInfo": {
     "elapsed": 1010,
     "status": "ok",
     "timestamp": 1602776867961,
     "user": {
      "displayName": "Sayan Dey",
      "photoUrl": "https://lh3.googleusercontent.com/a-/AOh14GgqVHJ9o6-7idGiRbNNd4iVc1VjzvuPnwmAnvEtD6U=s64",
      "userId": "03603580465490055794"
     },
     "user_tz": -330
    },
    "id": "UJLzuHRX2I-a",
    "outputId": "737fe902-68b3-41b2-c701-35f7a4ff5b9c",
    "scrolled": true
   },
   "outputs": [
    {
     "name": "stdout",
     "output_type": "stream",
     "text": [
      "['look', 'at', 'this', 'product', 'as', 'portable', 'speaker', 'first', 'and', 'an', 'echo', 'replacement', 'second', 'the', 'big', 'reason', 'to', 'buy', 'this', 'over', 'standard', 'bluetooth', 'speakers', 'is', 'this', 'has', 'wifi', 'streaming', 'enabled', 'when', 'you', 'are', 'at', 'home', 'you', 'can', 'stream', 'music', 'with', 'ease', 'to', 'it', 'voice', 'recognition', 'is', 'top', 'notch', 'and', 'it', 'really', 'shines', 'when', 'using', 'it', 'with', 'other', 'smart', 'home', 'accessories', 'the', 'only', 'problem', 'is', 'having', 'to', 'tap', 'the', 'microphone', 'button', 'for', 'it', 'to', 'listen', 'to', 'your', 'voice', 'if', 'you', 'want', 'bigger', 'sound', 'and', 'always', 'listening', 'features', 'spend', 'the', 'extra', 'money', 'on', 'the', 'amazon', 'echo']\n"
     ]
    }
   ],
   "source": [
    "# tokenize using gensim simple_preprocess\n",
    "def sent_to_words(sentences, deacc=True): # deacc=True removes punctuations\n",
    "    for sentence in sentences:\n",
    "        yield(gensim.utils.simple_preprocess(str(sentence)))  \n",
    "\n",
    "\n",
    "# convert to list\n",
    "data = df['reviews.text'].values.tolist()\n",
    "data_words = list(sent_to_words(data))\n",
    "\n",
    "# sample\n",
    "print(data_words[3])"
   ]
  },
  {
   "cell_type": "markdown",
   "metadata": {
    "id": "SwtGlcR92I-d"
   },
   "source": [
    "The code below creates a list of stop words. The 'string' module in python comes with a list of punctuation characters, which we'll append to the builtin stopwords of NLTK."
   ]
  },
  {
   "cell_type": "code",
   "execution_count": 29,
   "metadata": {
    "colab": {
     "base_uri": "https://localhost:8080/",
     "height": 69
    },
    "executionInfo": {
     "elapsed": 1453,
     "status": "ok",
     "timestamp": 1602776871247,
     "user": {
      "displayName": "Sayan Dey",
      "photoUrl": "https://lh3.googleusercontent.com/a-/AOh14GgqVHJ9o6-7idGiRbNNd4iVc1VjzvuPnwmAnvEtD6U=s64",
      "userId": "03603580465490055794"
     },
     "user_tz": -330
    },
    "id": "oSlsgRuI3poF",
    "outputId": "373e703c-3330-409d-914c-169c7184c555"
   },
   "outputs": [
    {
     "name": "stdout",
     "output_type": "stream",
     "text": [
      "[nltk_data] Downloading package stopwords to /root/nltk_data...\n",
      "[nltk_data]   Package stopwords is already up-to-date!\n"
     ]
    },
    {
     "data": {
      "text/plain": [
       "True"
      ]
     },
     "execution_count": 29,
     "metadata": {
      "tags": []
     },
     "output_type": "execute_result"
    }
   ],
   "source": [
    "import nltk\n",
    "nltk.download('stopwords')"
   ]
  },
  {
   "cell_type": "code",
   "execution_count": 30,
   "metadata": {
    "executionInfo": {
     "elapsed": 859,
     "status": "ok",
     "timestamp": 1602776872293,
     "user": {
      "displayName": "Sayan Dey",
      "photoUrl": "https://lh3.googleusercontent.com/a-/AOh14GgqVHJ9o6-7idGiRbNNd4iVc1VjzvuPnwmAnvEtD6U=s64",
      "userId": "03603580465490055794"
     },
     "user_tz": -330
    },
    "id": "bXvdDx2B2I-e"
   },
   "outputs": [],
   "source": [
    "# create list of stop words\n",
    "# string.punctuation (from the 'string' module) contains a list of punctuations\n",
    "from nltk.corpus import stopwords\n",
    "stop_words = stopwords.words('english') + list(string.punctuation)\n"
   ]
  },
  {
   "cell_type": "code",
   "execution_count": 31,
   "metadata": {
    "executionInfo": {
     "elapsed": 702,
     "status": "ok",
     "timestamp": 1602776872808,
     "user": {
      "displayName": "Sayan Dey",
      "photoUrl": "https://lh3.googleusercontent.com/a-/AOh14GgqVHJ9o6-7idGiRbNNd4iVc1VjzvuPnwmAnvEtD6U=s64",
      "userId": "03603580465490055794"
     },
     "user_tz": -330
    },
    "id": "7EC41T1w2I-h"
   },
   "outputs": [],
   "source": [
    "# functions for removing stopwords and lemmatization\n",
    "def remove_stopwords(texts):\n",
    "    return [[word for word in simple_preprocess(str(doc)) if word not in stop_words] for doc in texts]\n",
    "\n",
    "def lemmatization(texts, allowed_postags=['NOUN', 'ADJ', 'VERB', 'ADV']):\n",
    "    \"\"\"https://spacy.io/api/annotation\"\"\"\n",
    "    texts_out = []\n",
    "    for sent in texts:\n",
    "        doc = nlp(\" \".join(sent)) \n",
    "        texts_out.append([token.lemma_ for token in doc if token.pos_ in allowed_postags])\n",
    "    return texts_out"
   ]
  },
  {
   "cell_type": "markdown",
   "metadata": {
    "id": "rpit9a6M2I-o"
   },
   "source": [
    "**Important Note:** All models are not automatically downloaded with spacy, so you will need to do a ```python -m spacy download en``` to use its preprocessing methods."
   ]
  },
  {
   "cell_type": "code",
   "execution_count": 32,
   "metadata": {
    "colab": {
     "base_uri": "https://localhost:8080/",
     "height": 55
    },
    "executionInfo": {
     "elapsed": 4021,
     "status": "ok",
     "timestamp": 1602776877384,
     "user": {
      "displayName": "Sayan Dey",
      "photoUrl": "https://lh3.googleusercontent.com/a-/AOh14GgqVHJ9o6-7idGiRbNNd4iVc1VjzvuPnwmAnvEtD6U=s64",
      "userId": "03603580465490055794"
     },
     "user_tz": -330
    },
    "id": "pp_z4L6Y2I-o",
    "outputId": "22295001-c985-4163-f8f3-78e5a0e377b0",
    "scrolled": true
   },
   "outputs": [
    {
     "name": "stdout",
     "output_type": "stream",
     "text": [
      "['look', 'product', 'portable', 'speaker', 'first', 'echo', 'replacement', 'second', 'big', 'reason', 'buy', 'standard', 'bluetooth', 'speaker', 'wifi', 'stream', 'enable', 'home', 'stream', 'music', 'ease', 'voice', 'recognition', 'top', 'notch', 'really', 'shine', 'use', 'smart', 'home', 'accessory', 'problem', 'tap', 'microphone', 'button', 'voice', 'want', 'big', 'sound', 'always', 'listen', 'feature', 'spend', 'extra', 'money']\n"
     ]
    }
   ],
   "source": [
    "# call functions\n",
    "\n",
    "# remove stop words\n",
    "data_words_nostops = remove_stopwords(data_words)\n",
    "\n",
    "# initialize spacy 'en' model, use only tagger since we don't need parsing or NER \n",
    "# python3 -m spacy download en\n",
    "nlp = spacy.load('en', disable=['parser', 'ner'])\n",
    "\n",
    "# lemmatization keeping only noun, adj, vb, adv\n",
    "data_lemmatized = lemmatization(data_words_nostops, allowed_postags=['NOUN', 'ADJ', 'VERB', 'ADV'])\n",
    "\n",
    "print(data_lemmatized[3])"
   ]
  },
  {
   "cell_type": "code",
   "execution_count": 33,
   "metadata": {
    "colab": {
     "base_uri": "https://localhost:8080/",
     "height": 89
    },
    "executionInfo": {
     "elapsed": 2493,
     "status": "ok",
     "timestamp": 1602776877386,
     "user": {
      "displayName": "Sayan Dey",
      "photoUrl": "https://lh3.googleusercontent.com/a-/AOh14GgqVHJ9o6-7idGiRbNNd4iVc1VjzvuPnwmAnvEtD6U=s64",
      "userId": "03603580465490055794"
     },
     "user_tz": -330
    },
    "id": "oLBWn-LU2I-r",
    "outputId": "16268414-1434-4676-9ba9-c80cd7e8b564",
    "scrolled": false
   },
   "outputs": [
    {
     "name": "stdout",
     "output_type": "stream",
     "text": [
      "look at this product as portable speaker first and an echo replacement second the big reason to buy this over standard bluetooth speakers is this has wifi streaming enabled when you are at home you can stream music with ease to it voice recognition is top notch and it really shines when using it with other smart home accessories the only problem is having to tap the microphone button for it to listen to your voice if you want bigger sound and always listening features spend the extra money on the amazon echo \n",
      "\n",
      "look product portable speaker first echo replacement second big reason buy standard bluetooth speaker wifi stream enable home stream music ease voice recognition top notch really shine use smart home accessory problem tap microphone button voice want big sound always listen feature spend extra money\n"
     ]
    }
   ],
   "source": [
    "# compare the nostop, lemmatised version with the original one\n",
    "# note that speakers is lemmatised to speaker; \n",
    "print(' '.join(data_words[3]), '\\n')\n",
    "print(' '.join(data_lemmatized[3]))"
   ]
  },
  {
   "cell_type": "markdown",
   "metadata": {
    "id": "5zIvcswt2I-t"
   },
   "source": [
    "### Creating Dictionary and Corpus\n",
    "\n",
    "Gensim's LDA requires the data in a certain format. Firstly, it needs the corpus as a dicionary of id-word mapping, where each word has a unique numeric ID. This is for computationally efficiency purposes. Secondly, it needs the corpus as a term-document frequency matrix which contains the frequency of each word in each document."
   ]
  },
  {
   "cell_type": "code",
   "execution_count": 34,
   "metadata": {
    "colab": {
     "base_uri": "https://localhost:8080/",
     "height": 55
    },
    "executionInfo": {
     "elapsed": 1074,
     "status": "ok",
     "timestamp": 1602776880592,
     "user": {
      "displayName": "Sayan Dey",
      "photoUrl": "https://lh3.googleusercontent.com/a-/AOh14GgqVHJ9o6-7idGiRbNNd4iVc1VjzvuPnwmAnvEtD6U=s64",
      "userId": "03603580465490055794"
     },
     "user_tz": -330
    },
    "id": "8lxDDhHK2I-t",
    "outputId": "d5b88154-b831-4f9a-cb96-5cc5e70ae65c",
    "scrolled": true
   },
   "outputs": [
    {
     "name": "stdout",
     "output_type": "stream",
     "text": [
      "[(2, 1), (11, 1), (14, 2), (15, 3), (17, 1), (18, 2), (22, 4), (27, 1), (30, 1), (33, 1), (47, 1), (52, 1), (56, 5), (66, 1), (78, 1), (81, 3), (84, 1), (85, 2), (90, 1), (91, 1), (92, 2), (94, 1), (95, 1), (97, 1), (106, 2), (110, 1), (116, 1), (120, 1), (130, 2), (133, 1), (136, 1), (142, 1), (143, 1), (144, 2), (145, 1), (146, 1), (147, 1), (148, 1), (149, 1), (150, 1), (151, 1), (152, 1), (153, 1), (154, 1), (155, 2), (156, 1), (157, 2), (158, 1), (159, 1), (160, 1), (161, 1), (162, 1), (163, 1), (164, 1), (165, 2), (166, 1), (167, 3), (168, 1), (169, 1), (170, 1), (171, 1), (172, 1), (173, 1), (174, 1), (175, 1), (176, 1), (177, 1), (178, 1), (179, 1), (180, 1), (181, 2), (182, 1), (183, 2), (184, 1), (185, 5), (186, 1), (187, 3), (188, 2), (189, 1), (190, 3), (191, 1), (192, 1), (193, 1), (194, 1), (195, 6), (196, 1), (197, 1), (198, 2), (199, 1), (200, 2), (201, 1), (202, 1), (203, 1), (204, 1), (205, 1), (206, 2), (207, 1), (208, 2), (209, 1)]\n"
     ]
    }
   ],
   "source": [
    "# create dictionary and corpus\n",
    "# create dictionary\n",
    "id2word = corpora.Dictionary(data_lemmatized)\n",
    "\n",
    "# Create corpus\n",
    "corpus = [id2word.doc2bow(text) for text in data_lemmatized]\n",
    "\n",
    "# sample\n",
    "print(corpus[2])"
   ]
  },
  {
   "cell_type": "markdown",
   "metadata": {
    "id": "lIeLsnP12I-x"
   },
   "source": [
    "The (3, 7) above represents the fact that the word with id=3 appears 7 times in the second document (review), word id 12 appears twice and so on. The nested list below shows the frequencies of words in the first document."
   ]
  },
  {
   "cell_type": "code",
   "execution_count": 35,
   "metadata": {
    "colab": {
     "base_uri": "https://localhost:8080/",
     "height": 1000
    },
    "executionInfo": {
     "elapsed": 1194,
     "status": "ok",
     "timestamp": 1602776883160,
     "user": {
      "displayName": "Sayan Dey",
      "photoUrl": "https://lh3.googleusercontent.com/a-/AOh14GgqVHJ9o6-7idGiRbNNd4iVc1VjzvuPnwmAnvEtD6U=s64",
      "userId": "03603580465490055794"
     },
     "user_tz": -330
    },
    "id": "si2Bd-g52I-x",
    "outputId": "5f19a912-7430-41bc-8aae-0828f71c4193"
   },
   "outputs": [
    {
     "data": {
      "text/plain": [
       "[[('admit', 1),\n",
       "  ('allow', 1),\n",
       "  ('amazon', 1),\n",
       "  ('announce', 1),\n",
       "  ('answer', 1),\n",
       "  ('anyway', 1),\n",
       "  ('app', 2),\n",
       "  ('appealing', 1),\n",
       "  ('associate', 1),\n",
       "  ('avid', 1),\n",
       "  ('aware', 1),\n",
       "  ('battery', 3),\n",
       "  ('buy', 1),\n",
       "  ('choose', 2),\n",
       "  ('command', 1),\n",
       "  ('control', 1),\n",
       "  ('convenience', 1),\n",
       "  ('could', 2),\n",
       "  ('day', 1),\n",
       "  ('decide', 2),\n",
       "  ('demand', 1),\n",
       "  ('development', 1),\n",
       "  ('device', 3),\n",
       "  ('dot', 1),\n",
       "  ('drain', 1),\n",
       "  ('early', 2),\n",
       "  ('easily', 2),\n",
       "  ('echo', 6),\n",
       "  ('echos', 1),\n",
       "  ('enable', 1),\n",
       "  ('especially', 1),\n",
       "  ('fabulous', 1),\n",
       "  ('financial', 1),\n",
       "  ('first', 1),\n",
       "  ('free', 6),\n",
       "  ('get', 1),\n",
       "  ('give', 1),\n",
       "  ('go', 1),\n",
       "  ('hand', 6),\n",
       "  ('high', 1),\n",
       "  ('hope', 1),\n",
       "  ('important', 1),\n",
       "  ('introduce', 1),\n",
       "  ('keep', 1),\n",
       "  ('kitchen', 1),\n",
       "  ('lack', 1),\n",
       "  ('little', 2),\n",
       "  ('lot', 1),\n",
       "  ('love', 1),\n",
       "  ('major', 1),\n",
       "  ('make', 1),\n",
       "  ('maximum', 1),\n",
       "  ('microphone', 1),\n",
       "  ('mind', 1),\n",
       "  ('minimal', 1),\n",
       "  ('mode', 2),\n",
       "  ('music', 2),\n",
       "  ('new', 1),\n",
       "  ('operation', 1),\n",
       "  ('option', 2),\n",
       "  ('original', 1),\n",
       "  ('owner', 2),\n",
       "  ('pick', 1),\n",
       "  ('power', 1),\n",
       "  ('question', 1),\n",
       "  ('quickly', 2),\n",
       "  ('read', 2),\n",
       "  ('regular', 1),\n",
       "  ('require', 1),\n",
       "  ('respond', 1),\n",
       "  ('review', 1),\n",
       "  ('risk', 1),\n",
       "  ('sell', 1),\n",
       "  ('set', 1),\n",
       "  ('setting', 1),\n",
       "  ('shortcome', 1),\n",
       "  ('skeptical', 1),\n",
       "  ('soon', 1),\n",
       "  ('sound', 1),\n",
       "  ('start', 1),\n",
       "  ('stream', 1),\n",
       "  ('tap', 7),\n",
       "  ('thank', 1),\n",
       "  ('thing', 1),\n",
       "  ('think', 1),\n",
       "  ('time', 1),\n",
       "  ('today', 1),\n",
       "  ('toggle', 1),\n",
       "  ('touch', 1),\n",
       "  ('try', 2),\n",
       "  ('update', 2),\n",
       "  ('use', 4),\n",
       "  ('voice', 2),\n",
       "  ('want', 2),\n",
       "  ('well', 1),\n",
       "  ('whole', 1),\n",
       "  ('wonderful', 1),\n",
       "  ('would', 1)]]"
      ]
     },
     "execution_count": 35,
     "metadata": {
      "tags": []
     },
     "output_type": "execute_result"
    }
   ],
   "source": [
    "# human-readable format of corpus (term-frequency)\n",
    "[[(id2word[id], freq) for id, freq in cp] for cp in corpus[:1]]"
   ]
  },
  {
   "cell_type": "markdown",
   "metadata": {
    "id": "D6S_cuQR2I-0"
   },
   "source": [
    "### Building the Topic Model"
   ]
  },
  {
   "cell_type": "markdown",
   "metadata": {
    "id": "9RPYr3pA2I-0"
   },
   "source": [
    "Let's now build the topic model. We'll define 10 topics to start with. The hyperparameter `alpha` affects sparsity of the document-topic\n",
    "(theta) distributions, whose default value is 1. Similarly, the hyperparameter `eta` can also be specified, which affects the topic-word distribution's sparsity.\n",
    "\n"
   ]
  },
  {
   "cell_type": "code",
   "execution_count": 36,
   "metadata": {
    "executionInfo": {
     "elapsed": 1706,
     "status": "ok",
     "timestamp": 1602776887508,
     "user": {
      "displayName": "Sayan Dey",
      "photoUrl": "https://lh3.googleusercontent.com/a-/AOh14GgqVHJ9o6-7idGiRbNNd4iVc1VjzvuPnwmAnvEtD6U=s64",
      "userId": "03603580465490055794"
     },
     "user_tz": -330
    },
    "id": "eXgsuhga2I-1"
   },
   "outputs": [],
   "source": [
    "# help(gensim.models.ldamodel.LdaModel)"
   ]
  },
  {
   "cell_type": "code",
   "execution_count": 37,
   "metadata": {
    "executionInfo": {
     "elapsed": 2412,
     "status": "ok",
     "timestamp": 1602776888767,
     "user": {
      "displayName": "Sayan Dey",
      "photoUrl": "https://lh3.googleusercontent.com/a-/AOh14GgqVHJ9o6-7idGiRbNNd4iVc1VjzvuPnwmAnvEtD6U=s64",
      "userId": "03603580465490055794"
     },
     "user_tz": -330
    },
    "id": "z5M43J052I-4"
   },
   "outputs": [],
   "source": [
    "# Build LDA model\n",
    "lda_model = gensim.models.ldamodel.LdaModel(corpus=corpus,\n",
    "                                           id2word=id2word,\n",
    "                                           num_topics=10, \n",
    "                                           random_state=100,\n",
    "                                           update_every=1,\n",
    "                                           chunksize=100,\n",
    "                                           passes=10,\n",
    "                                           alpha='auto',\n",
    "                                           per_word_topics=True)"
   ]
  },
  {
   "cell_type": "markdown",
   "metadata": {
    "id": "AsnWqvYL2I-7"
   },
   "source": [
    "Let's now print the topics found in the dataset."
   ]
  },
  {
   "cell_type": "code",
   "execution_count": 38,
   "metadata": {
    "colab": {
     "base_uri": "https://localhost:8080/",
     "height": 693
    },
    "executionInfo": {
     "elapsed": 994,
     "status": "ok",
     "timestamp": 1602776912381,
     "user": {
      "displayName": "Sayan Dey",
      "photoUrl": "https://lh3.googleusercontent.com/a-/AOh14GgqVHJ9o6-7idGiRbNNd4iVc1VjzvuPnwmAnvEtD6U=s64",
      "userId": "03603580465490055794"
     },
     "user_tz": -330
    },
    "id": "9BvKopgT2I-8",
    "outputId": "c1da55e6-cfdc-4761-84cd-eb99bea3e32d",
    "scrolled": true
   },
   "outputs": [
    {
     "name": "stdout",
     "output_type": "stream",
     "text": [
      "[(0,\n",
      "  '0.053*\"great\" + 0.047*\"echo\" + 0.047*\"sound\" + 0.043*\"tap\" + 0.039*\"use\" + '\n",
      "  '0.034*\"love\" + 0.032*\"good\" + 0.031*\"speaker\" + 0.025*\"alexa\" + '\n",
      "  '0.024*\"buy\"'),\n",
      " (1,\n",
      "  '0.084*\"get\" + 0.047*\"tap\" + 0.037*\"purchase\" + 0.029*\"want\" + 0.026*\"fun\" + '\n",
      "  '0.021*\"lot\" + 0.021*\"wish\" + 0.020*\"weather\" + 0.020*\"item\" + 0.019*\"even\"'),\n",
      " (2,\n",
      "  '0.053*\"gift\" + 0.028*\"must\" + 0.025*\"mostly\" + 0.022*\"super\" + 0.021*\"live\" '\n",
      "  '+ 0.018*\"technology\" + 0.016*\"movie\" + 0.015*\"area\" + 0.015*\"invest\" + '\n",
      "  '0.014*\"tub\"'),\n",
      " (3,\n",
      "  '0.048*\"size\" + 0.031*\"move\" + 0.021*\"pretty\" + 0.020*\"favorite\" + '\n",
      "  '0.020*\"bass\" + 0.019*\"amazon\" + 0.018*\"system\" + 0.016*\"hook\" + '\n",
      "  '0.016*\"functionality\" + 0.015*\"room\"'),\n",
      " (4,\n",
      "  '0.051*\"phone\" + 0.032*\"use\" + 0.031*\"music\" + 0.029*\"speaker\" + '\n",
      "  '0.027*\"bluetooth\" + 0.024*\"stream\" + 0.018*\"play\" + 0.017*\"control\" + '\n",
      "  '0.017*\"amazing\" + 0.017*\"access\"'),\n",
      " (5,\n",
      "  '0.044*\"wifi\" + 0.040*\"free\" + 0.032*\"try\" + 0.029*\"long\" + 0.026*\"hand\" + '\n",
      "  '0.026*\"touch\" + 0.021*\"extra\" + 0.020*\"battery\" + 0.018*\"keep\" + '\n",
      "  '0.018*\"read\"'),\n",
      " (6,\n",
      "  '0.059*\"ask\" + 0.052*\"question\" + 0.030*\"recommend\" + 0.027*\"music\" + '\n",
      "  '0.025*\"play\" + 0.023*\"start\" + 0.023*\"would\" + 0.022*\"like\" + '\n",
      "  '0.018*\"answer\" + 0.016*\"loud\"'),\n",
      " (7,\n",
      "  '0.049*\"excellent\" + 0.028*\"first\" + 0.025*\"device\" + 0.023*\"operate\" + '\n",
      "  '0.019*\"microphone\" + 0.019*\"smart\" + 0.019*\"small\" + 0.018*\"hold\" + '\n",
      "  '0.017*\"little\" + 0.015*\"place\"'),\n",
      " (8,\n",
      "  '0.036*\"alarm\" + 0.036*\"new\" + 0.032*\"radio\" + 0.028*\"base\" + 0.025*\"list\" + '\n",
      "  '0.023*\"call\" + 0.018*\"station\" + 0.018*\"thought\" + 0.018*\"case\" + '\n",
      "  '0.017*\"clock\"'),\n",
      " (9,\n",
      "  '0.039*\"small\" + 0.034*\"anywhere\" + 0.029*\"daughter\" + 0.028*\"time\" + '\n",
      "  '0.028*\"hit\" + 0.024*\"know\" + 0.024*\"last\" + 0.017*\"part\" + 0.015*\"bring\" + '\n",
      "  '0.015*\"week\"')]\n"
     ]
    }
   ],
   "source": [
    "# print the 10 topics\n",
    "pprint.pprint(lda_model.print_topics())\n",
    "doc_lda = lda_model[corpus]"
   ]
  },
  {
   "cell_type": "markdown",
   "metadata": {
    "id": "cIfcF_eT2I--"
   },
   "source": [
    "Let's now evaluate the model using coherence score."
   ]
  },
  {
   "cell_type": "code",
   "execution_count": 39,
   "metadata": {
    "colab": {
     "base_uri": "https://localhost:8080/",
     "height": 52
    },
    "executionInfo": {
     "elapsed": 2081,
     "status": "ok",
     "timestamp": 1602777184554,
     "user": {
      "displayName": "Sayan Dey",
      "photoUrl": "https://lh3.googleusercontent.com/a-/AOh14GgqVHJ9o6-7idGiRbNNd4iVc1VjzvuPnwmAnvEtD6U=s64",
      "userId": "03603580465490055794"
     },
     "user_tz": -330
    },
    "id": "zcPmYWzG2I-_",
    "outputId": "d45d6a80-a0fe-4cbd-b00d-a5729432fe5b"
   },
   "outputs": [
    {
     "name": "stdout",
     "output_type": "stream",
     "text": [
      "\n",
      "Coherence Score:  0.4350983815596237\n"
     ]
    }
   ],
   "source": [
    "# coherence score\n",
    "coherence_model_lda = CoherenceModel(model=lda_model, texts=data_lemmatized, dictionary=id2word, coherence='c_v')\n",
    "coherence_lda = coherence_model_lda.get_coherence()\n",
    "print('\\nCoherence Score: ', coherence_lda)"
   ]
  },
  {
   "cell_type": "markdown",
   "metadata": {
    "id": "IzEyeqQq2I_D"
   },
   "source": [
    "Now lets visualise the topics. The `pyLDAvis` library comes with excellent interactive visualisation capabilities."
   ]
  },
  {
   "cell_type": "code",
   "execution_count": 40,
   "metadata": {
    "colab": {
     "base_uri": "https://localhost:8080/",
     "height": 861
    },
    "executionInfo": {
     "elapsed": 3922,
     "status": "ok",
     "timestamp": 1602777189743,
     "user": {
      "displayName": "Sayan Dey",
      "photoUrl": "https://lh3.googleusercontent.com/a-/AOh14GgqVHJ9o6-7idGiRbNNd4iVc1VjzvuPnwmAnvEtD6U=s64",
      "userId": "03603580465490055794"
     },
     "user_tz": -330
    },
    "id": "Gg_484D_2I_E",
    "outputId": "a42e0a2c-8860-4cfb-dbfa-6263b461b511"
   },
   "outputs": [
    {
     "data": {
      "text/html": [
       "\n",
       "<link rel=\"stylesheet\" type=\"text/css\" href=\"https://cdn.rawgit.com/bmabey/pyLDAvis/files/ldavis.v1.0.0.css\">\n",
       "\n",
       "\n",
       "<div id=\"ldavis_el1021402554491589046334821331\"></div>\n",
       "<script type=\"text/javascript\">\n",
       "\n",
       "var ldavis_el1021402554491589046334821331_data = {\"mdsDat\": {\"x\": [-0.3787204119719491, -0.11195651523095089, -0.09505209907145475, 0.05847428825730982, 0.04447103038200366, 0.07248998571396471, 0.0958580514738939, 0.08539098048795586, 0.11459123726362964, 0.114453452695597], \"y\": [0.0725748239222822, -0.2959029523695074, 0.09366688481963055, 0.03056556821434351, 0.1432790860982886, -0.019010269211779975, 0.017889762054413626, 0.010457761312886863, -0.01979757301717798, -0.03372309182337962], \"topics\": [1, 2, 3, 4, 5, 6, 7, 8, 9, 10], \"cluster\": [1, 1, 1, 1, 1, 1, 1, 1, 1, 1], \"Freq\": [47.791918817514826, 11.600060706827886, 8.026990529656551, 6.027072177057023, 5.82504039512476, 5.3627040470604115, 4.4425747714920005, 4.201646459524686, 3.7747466572721455, 2.947245438469711]}, \"tinfo\": {\"Term\": [\"get\", \"use\", \"tap\", \"great\", \"sound\", \"speaker\", \"music\", \"time\", \"would\", \"phone\", \"ask\", \"echo\", \"purchase\", \"device\", \"good\", \"question\", \"gift\", \"excellent\", \"bluetooth\", \"wifi\", \"play\", \"hand\", \"size\", \"small\", \"voice\", \"free\", \"want\", \"fun\", \"recommend\", \"quality\", \"good\", \"great\", \"button\", \"easy\", \"work\", \"take\", \"portability\", \"able\", \"product\", \"enjoy\", \"set\", \"feature\", \"price\", \"sound\", \"nice\", \"buy\", \"talk\", \"listen\", \"add\", \"activate\", \"portable\", \"push\", \"better\", \"need\", \"alexa\", \"put\", \"still\", \"quality\", \"unit\", \"echo\", \"also\", \"really\", \"well\", \"love\", \"use\", \"speaker\", \"tap\", \"charge\", \"would\", \"music\", \"time\", \"device\", \"dot\", \"get\", \"purchase\", \"fun\", \"wish\", \"lot\", \"weather\", \"may\", \"think\", \"press\", \"actually\", \"worth\", \"full\", \"news\", \"sale\", \"sit\", \"feel\", \"star\", \"volume\", \"wife\", \"item\", \"glad\", \"manually\", \"mom\", \"directly\", \"kid\", \"find\", \"happy\", \"downside\", \"maybe\", \"impressed\", \"even\", \"request\", \"want\", \"year\", \"room\", \"tap\", \"gift\", \"give\", \"dot\", \"command\", \"music\", \"say\", \"echo\", \"phone\", \"light\", \"mobile\", \"old\", \"month\", \"bedroom\", \"beat\", \"many\", \"deck\", \"spotify\", \"useful\", \"hot\", \"stand\", \"especially\", \"access\", \"ready\", \"beach\", \"plan\", \"internet\", \"personally\", \"additional\", \"couple\", \"hype\", \"pill\", \"therefore\", \"moment\", \"dual\", \"streaming\", \"stream\", \"switch\", \"control\", \"amazing\", \"cool\", \"life\", \"carry\", \"bluetooth\", \"connect\", \"music\", \"order\", \"speaker\", \"play\", \"use\", \"little\", \"wifi\", \"loud\", \"go\", \"love\", \"day\", \"excellent\", \"first\", \"operate\", \"microphone\", \"place\", \"return\", \"nee\", \"high\", \"sync\", \"highly\", \"certain\", \"support\", \"several\", \"never\", \"pick\", \"difficult\", \"simply\", \"garage\", \"kitchen\", \"run\", \"enable\", \"appliance\", \"sooner\", \"cooking\", \"consider\", \"almost\", \"smart\", \"handy\", \"design\", \"cord\", \"hold\", \"small\", \"prime\", \"little\", \"device\", \"command\", \"pair\", \"recommend\", \"want\", \"voice\", \"ask\", \"start\", \"turn\", \"apple\", \"disappoint\", \"tell\", \"convenient\", \"friend\", \"definitely\", \"hear\", \"song\", \"instruction\", \"mother\", \"question\", \"sure\", \"skill\", \"table\", \"playlist\", \"gathering\", \"camping\", \"mainly\", \"online\", \"different\", \"upgraded\", \"valid\", \"avail\", \"unable\", \"follow\", \"rarely\", \"science\", \"like\", \"recommend\", \"answer\", \"review\", \"loud\", \"respond\", \"understand\", \"play\", \"enough\", \"would\", \"music\", \"keep\", \"free\", \"extra\", \"read\", \"remember\", \"help\", \"blue\", \"lack\", \"require\", \"tooth\", \"drop\", \"try\", \"recognition\", \"minimal\", \"granddaughter\", \"software\", \"touch\", \"development\", \"early\", \"mind\", \"money\", \"short\", \"reason\", \"pleasantly\", \"hotspot\", \"alone\", \"convenience\", \"durable\", \"date\", \"second\", \"long\", \"search\", \"big\", \"wifi\", \"mode\", \"keep\", \"easily\", \"other\", \"hand\", \"update\", \"battery\", \"voice\", \"command\", \"problem\", \"decide\", \"little\", \"want\", \"anywhere\", \"daughter\", \"hit\", \"know\", \"part\", \"bring\", \"week\", \"compact\", \"ago\", \"bonus\", \"cell\", \"event\", \"physically\", \"assistant\", \"yet\", \"computer\", \"fire\", \"back\", \"show\", \"shopping\", \"supposedly\", \"backyard\", \"interest\", \"notice\", \"vacation\", \"huge\", \"side\", \"response\", \"late\", \"game\", \"seem\", \"last\", \"small\", \"ability\", \"time\", \"give\", \"carry\", \"move\", \"bass\", \"system\", \"hook\", \"functionality\", \"compare\", \"personal\", \"everywhere\", \"bose\", \"size\", \"otherwise\", \"useless\", \"job\", \"end\", \"check\", \"amazon\", \"range\", \"sport\", \"score\", \"cylinder\", \"nephew\", \"amazed\", \"favorite\", \"terrible\", \"tip\", \"audiophile\", \"real\", \"stereo\", \"exactly\", \"rate\", \"cost\", \"pretty\", \"ability\", \"answer\", \"build\", \"room\", \"last\", \"long\", \"recommend\", \"connection\", \"question\", \"want\", \"sound\", \"quality\", \"alarm\", \"new\", \"radio\", \"base\", \"list\", \"call\", \"station\", \"thought\", \"case\", \"clock\", \"pleased\", \"daily\", \"figure\", \"source\", \"produce\", \"point\", \"apart\", \"son\", \"hard\", \"podcast\", \"similar\", \"continue\", \"fabric\", \"user\", \"friendly\", \"water\", \"future\", \"recent\", \"degree\", \"knowledge\", \"overall\", \"however\", \"timer\", \"see\", \"app\", \"room\", \"play\", \"must\", \"mostly\", \"super\", \"live\", \"technology\", \"area\", \"invest\", \"tub\", \"guess\", \"wait\", \"absolutely\", \"course\", \"watch\", \"ipad\", \"present\", \"usage\", \"cover\", \"simple\", \"next\", \"drive\", \"ideal\", \"step\", \"joke\", \"basement\", \"store\", \"entertain\", \"wonderful\", \"girlfriend\", \"quite\", \"form\", \"movie\", \"expect\", \"gift\", \"touch\"], \"Freq\": [84.0, 184.0, 229.0, 221.0, 197.0, 147.0, 132.0, 56.0, 73.0, 35.0, 30.0, 203.0, 37.0, 65.0, 130.0, 30.0, 25.0, 25.0, 51.0, 32.0, 55.0, 32.0, 20.0, 26.0, 45.0, 19.0, 48.0, 26.0, 26.0, 72.0, 129.93881474882815, 219.9176496592913, 73.82578346348268, 69.02296758723553, 95.43449631424012, 47.487749532521896, 46.978076931001205, 40.94421554932971, 61.79595885175309, 40.21191432215211, 39.047401553543004, 36.05139539884603, 35.59430840061159, 192.99464931931797, 29.50450505101197, 100.54158678346111, 28.572783980195368, 58.19864558704428, 27.624386571915274, 25.058735409522196, 94.99346616445241, 21.60645929164075, 20.032734710048906, 40.569265506611245, 104.20232575028811, 16.663374224280346, 16.69841850698683, 69.43931790833086, 14.99036933554316, 194.24580999752172, 48.1569932987306, 46.87528394851781, 50.52049924939546, 140.26445000845223, 161.70998599993496, 125.83763635239042, 178.188286442017, 34.05979382972746, 61.8078538080439, 78.58780128906585, 43.66570176308373, 46.40979644906542, 40.02599090021875, 84.04104093969815, 37.114771765060574, 25.900810693883763, 20.94431489358124, 21.341709359846387, 20.207298660769066, 19.06453283684048, 18.518494610490297, 16.253708326120517, 13.720823458421743, 13.457989888579924, 11.030024496545668, 14.47499776966983, 8.52450373342717, 10.621279759825683, 8.120555698649875, 7.368037701989529, 12.773971067391138, 6.707413975213766, 20.131169638166227, 6.284042649301302, 5.781196154283281, 5.27850467690374, 5.209780190510184, 12.44589415800431, 13.43706204186646, 4.370023573822479, 4.3041522499101665, 4.140820452199381, 4.14075807272924, 19.06854001951931, 8.060996339182529, 29.033179959326368, 7.287114305036173, 12.611437168276021, 47.354836617309005, 11.637754156790365, 9.535362116005537, 13.965576292291702, 10.333499988149157, 14.75472034829278, 8.903499049111685, 8.296403424973931, 35.15255076076601, 9.975184394797152, 8.921048621297675, 8.919415428970183, 8.66445316828534, 7.962865957260729, 8.02489312006706, 7.544441438699672, 6.891835179581302, 6.671827744506109, 5.567254353280882, 5.373044914406796, 5.336067765043299, 4.673991567454782, 11.716368424191243, 4.323138690268264, 4.304009079544758, 4.020527801832312, 3.897935296097786, 3.834997153429097, 3.592029675684398, 3.581077945358932, 3.509307034717884, 3.509307034717884, 3.509307034717884, 3.509162076818994, 3.509162076818994, 3.369521877917686, 16.472766946521624, 3.071265202635722, 11.89122115163356, 11.793180648427018, 6.17123529053829, 8.736430241271476, 7.838391575869949, 18.452215375163096, 11.22313661020039, 21.482832772306764, 6.639377147131947, 20.109631778204008, 12.523223417132384, 22.089669058043636, 8.039405016389264, 7.653056137437239, 6.00141099154413, 6.951125537256592, 7.474562711832133, 5.918888714606749, 25.232231127557046, 14.311053517943243, 11.991794432101216, 10.042750168095957, 7.76001837450562, 7.728918173920884, 7.42878921731126, 6.785457543213092, 6.362255169907999, 6.196457737166055, 5.726227019295674, 5.595016109417077, 5.595002564665613, 5.066567147307644, 4.858524602231704, 4.299116208204536, 4.250499741530094, 3.997219177787735, 3.864735303142083, 3.8078299323127918, 3.489982505823749, 3.2579444660470696, 3.2579444660470696, 3.257828368177378, 3.1058741551727747, 2.521506654126428, 9.700690047141627, 2.4368906567662694, 2.332235441485671, 2.332222622345893, 9.114564147110578, 9.676229193479875, 6.523302748556189, 8.75099592831365, 12.797943209878122, 6.727720137651012, 4.0503523353343, 6.270256799258831, 6.500712521819841, 4.183476441357188, 29.377387841347165, 11.513113928547735, 7.830690647066183, 6.7661269785424505, 6.429887584439856, 6.35019594610506, 6.171623074028779, 5.702511452289027, 5.213925511946028, 5.071110413666551, 4.8323057285597155, 4.6864353493451, 4.520677358742746, 26.108107268584998, 4.377743041390818, 4.187227690935479, 3.75413682624058, 3.75413355356016, 3.4440706937984786, 3.4440706937984786, 3.3449393337677362, 3.1943247367582766, 3.0619249439160625, 3.0608517385011265, 3.0608517385011265, 3.060785583604061, 3.060785583604061, 3.060785583604061, 3.060780908346318, 3.0607867524184966, 10.856302864091333, 15.083425931926286, 8.825737440681499, 6.577529418813344, 8.211069149521695, 5.200870322224104, 5.948245336896959, 12.717087237610848, 4.434071014205856, 11.400202713844884, 13.666799459468328, 4.091457841222049, 18.610423021886216, 9.82631172288226, 8.172795469758846, 5.58709966490429, 4.890145283593831, 4.108041735508466, 4.063655307459517, 6.881422609891241, 3.768239620076526, 3.421629152380533, 14.591857875940795, 3.8052362011143774, 2.9519804651042065, 2.926834583452257, 2.7944018449257, 11.814472822704024, 2.6524194217561696, 2.5600687158545714, 2.4847875278495364, 2.4847847301323966, 2.484176979886042, 2.3921316555706964, 2.3672707106489783, 2.312475698795157, 2.1693145758737544, 2.1553307247733096, 2.0274438461808026, 2.027371751162202, 1.9974884735566354, 13.231750701384149, 3.262648445496997, 5.7569718846128195, 20.237878324643972, 4.504810967339716, 8.453280816812118, 6.367404496077816, 3.5707298287895957, 12.213683815971232, 5.059680916409549, 9.352601395946069, 8.076430900597769, 5.73845228840183, 3.6029468329077234, 3.4389188290950927, 3.9222604048893315, 3.3769618765725573, 12.987337571480975, 10.990083579892763, 10.537075678445419, 9.148677970056665, 6.413531738963558, 5.834909143274724, 5.665335421175802, 5.251098495159576, 5.167616135127412, 4.403673454233233, 4.223725766684745, 4.223379539955814, 3.820328126284157, 3.81071400548892, 3.7782606873010587, 3.511460010195599, 3.4514789928038705, 3.384220795895397, 3.1413760845811325, 3.046493202196629, 2.9539813132560275, 2.953957601538753, 2.953833694444722, 2.953833694444722, 2.953833694444722, 2.8159678868500033, 2.7715986284553544, 2.3694315013828215, 2.2947060746522268, 2.1913351106176617, 4.898647173018213, 9.09767959298959, 14.819241379182612, 4.837784008430422, 10.842458350378154, 3.8012870824616427, 3.3080213204548103, 11.355546417944291, 7.080011714211283, 6.644314680390395, 5.733541598366651, 5.6236990627888135, 5.049287889432821, 4.414094391956267, 4.182126731979469, 3.9843417102618397, 17.512964466326494, 3.455812693422421, 3.428446146680811, 3.2827594409366703, 3.21384447961853, 2.671650231210018, 6.920104696419228, 2.346671181887391, 2.271269265471697, 2.271269265471697, 1.9879030416438594, 1.9878915758259494, 1.953591750163142, 7.088200331578657, 1.8439867930769982, 1.8180143549012695, 1.7898935934021385, 1.7429505114989512, 1.7428945313291553, 1.6829161633820477, 1.6166487943113028, 3.3882301275914113, 7.50966356415409, 4.060738454996196, 5.0762514463978885, 2.58691058641141, 5.253518049735627, 4.207812861937386, 4.2930807774347, 4.946368010033118, 2.716058692895217, 3.711623521743072, 3.8022247287182305, 3.773621559792033, 2.598999773862786, 11.67428318556311, 11.639048196529194, 10.309978350842448, 9.106210549047388, 8.102638078239321, 7.583138005012114, 5.953415844727991, 5.854257374986904, 5.804098262480841, 5.4075673920828855, 5.229156555089829, 4.863004122786721, 4.603048069040332, 4.339887539979998, 4.102675171760487, 3.7219718705552216, 3.415129044083984, 3.0640440383468586, 2.753846162274919, 2.6109853993423937, 2.577387943547758, 2.4464458776796714, 2.3033768253665707, 2.1728433096507818, 2.1728433096507818, 2.0663747158090513, 1.9230464757649235, 1.7588906610120159, 1.686388233039334, 1.6863270338322416, 4.991405512661356, 3.7561540514473246, 3.9189672707238454, 2.862177241886951, 3.7627478115619777, 3.371706085887294, 3.8166973363449395, 7.169166221683549, 6.396689543807501, 5.6936407590051745, 5.443377973623112, 4.5637999793007324, 3.871841130795543, 3.7517920144865773, 3.6211589422938433, 3.5805972436303337, 3.2884913683275285, 3.2217816711070206, 3.122162667169003, 2.7757503564477477, 2.7757503564477477, 2.6938688164256153, 2.574040874350637, 2.57398433890473, 2.573983865804764, 2.5181978102434317, 2.226353322671703, 2.1959564133223073, 2.106693567634549, 2.0095798645651586, 2.009547220667522, 1.8897383208661653, 1.88964653947281, 2.704695709141795, 1.7285510335854237, 1.7284896488648678, 1.672578221812612, 4.179338603834064, 3.547802663654519, 13.531308113592148, 2.542127916160996], \"Total\": [84.0, 184.0, 229.0, 221.0, 197.0, 147.0, 132.0, 56.0, 73.0, 35.0, 30.0, 203.0, 37.0, 65.0, 130.0, 30.0, 25.0, 25.0, 51.0, 32.0, 55.0, 32.0, 20.0, 26.0, 45.0, 19.0, 48.0, 26.0, 26.0, 72.0, 130.66702867037742, 221.467587117185, 74.55220542516246, 69.73514564584995, 96.64006449631796, 48.20104458382424, 47.69028081112116, 41.656449659571976, 62.888897523214524, 40.924147016255176, 39.7596001310516, 36.763620963028416, 36.30656410878478, 197.41712964172117, 30.216726939602154, 102.98151207229954, 29.296856262700103, 59.67930257953234, 28.339192284013322, 25.77090930130909, 97.83980654090897, 22.31872771006785, 20.744962482692557, 42.08231513643461, 108.27784701287372, 17.375572572010945, 17.418478540300214, 72.6744693719547, 15.702774121447325, 203.98993689987412, 50.83379678761121, 49.86900750415075, 54.02680984286263, 156.505451262788, 184.77643884180105, 147.00334116106634, 229.2063405635192, 36.06694807916953, 73.85796219988413, 132.32802101484208, 56.41146564273584, 65.08871329643695, 54.61331183557866, 84.88629497411229, 37.88655458399559, 26.622566188343907, 21.66281988192381, 22.10473372887148, 20.955577934287703, 19.783090448452345, 19.23700635383154, 16.972245684184998, 14.439430755670031, 14.176573921255029, 11.748481248666442, 15.550082268910645, 9.243031670042022, 11.527569193778804, 8.839094448242145, 8.086538547532546, 14.03756231135314, 7.425874117676724, 22.406984660998674, 7.002587985045541, 6.499775044868704, 5.996950317335742, 5.92843242328413, 14.169169977796004, 15.583316545395597, 5.0884528650451, 5.0226551426584685, 4.859280032394518, 4.859275857285536, 24.486804436725325, 10.271867806547457, 48.45216919285208, 9.362657095994015, 21.804000813869727, 229.2063405635192, 25.819524068850754, 18.193595717906227, 54.61331183557866, 25.197278889262055, 132.32802101484208, 35.57827770709074, 203.98993689987412, 35.87554914819537, 10.698106707237157, 9.643976628829048, 9.642457915144794, 9.387529501236399, 8.686083225129126, 8.755671040041763, 8.267423725061933, 7.614821289406492, 7.394751955365157, 6.290561860497544, 6.0960711297278944, 6.059028537429169, 5.397082681488292, 13.570638453309094, 5.046306115270738, 5.027042215535557, 4.74352243828076, 4.6208955743777524, 4.558917033248805, 4.314938298569124, 4.304064082843696, 4.232227316476324, 4.232227316476324, 4.232227316476324, 4.232213684653916, 4.232213684653916, 4.092443077083576, 20.316935016367783, 3.7942685021520255, 16.774877490351958, 17.99218303221862, 8.386431496980487, 13.510026848367064, 11.797107578165633, 51.829306979683466, 33.59052232073907, 132.32802101484208, 14.484891977947873, 147.00334116106634, 55.0651100787463, 184.77643884180105, 25.723095198498175, 32.343498481633304, 14.860506761737636, 38.18250006163605, 156.505451262788, 18.28464317574446, 25.961350480168555, 15.040261291367976, 12.733250726679929, 10.771837778409951, 8.489200069888874, 8.45826905033082, 8.1578600175453, 7.51460682526591, 7.091395493582054, 6.9646877699664556, 6.455416755180816, 6.324263600972578, 6.324253609141152, 5.795821934820322, 5.587724580026419, 5.028405802908796, 4.979567076607124, 4.726418813645157, 4.593838699698796, 4.537177831670593, 4.2190508366051445, 3.9871055435646725, 3.9871055435646725, 3.987079915791132, 3.83506633810417, 3.2505623385825504, 12.576192265910578, 3.165922593376546, 3.0613140683558973, 3.0613184890346887, 14.387970747200672, 26.600261922883565, 15.02679156337997, 25.723095198498175, 65.08871329643695, 25.197278889262055, 7.184209864389858, 26.877343786095825, 48.45216919285208, 45.791244033717376, 30.111309989706005, 12.247441521965886, 8.564628521713308, 7.500275147072137, 7.164040508726284, 7.0841074560019575, 6.90581326063301, 6.4364480974486495, 5.947899433796438, 5.8050596880139045, 5.56617252292922, 5.420431686522771, 5.254627396077327, 30.476877603505738, 5.111798195804897, 4.921814653803551, 4.488027719499951, 4.488026734215335, 4.178056743822753, 4.17805709756988, 4.07982752159265, 3.9282549753640263, 3.796095603558233, 3.794769256782972, 3.794769256782972, 3.794772522113737, 3.794772522113737, 3.794772522113737, 3.794767622705314, 3.79477588264025, 14.222493499139219, 26.877343786095825, 14.55916502185234, 10.04009945986209, 14.860506761737636, 8.312149908703491, 11.849309256908066, 55.0651100787463, 8.153190797677986, 73.85796219988413, 132.32802101484208, 13.189366440295592, 19.329966050049297, 10.54622280195211, 8.892435145413664, 6.306780110953868, 5.609680803106065, 4.827504347755527, 4.783163633940245, 8.193495707947037, 4.487705051972876, 4.143343300580966, 17.824334260620958, 4.68015250332558, 3.6715250845719383, 3.6465593407740293, 3.513939178623498, 15.008193261832274, 3.371849867359517, 3.279611643130863, 3.204223606216736, 3.2042231847899822, 3.203873617280722, 3.1116724265998603, 3.0867364711193686, 3.0320363177246468, 2.8890117397161292, 2.8747737217182205, 2.7469320721571955, 2.7469283166518856, 2.7171514380650437, 18.167542528586687, 4.500115729121978, 8.28214566769801, 32.343498481633304, 6.447676171159805, 13.189366440295592, 9.820799088412288, 5.331298249514937, 32.21601469196209, 11.714922961067481, 39.16811199688872, 45.791244033717376, 25.197278889262055, 9.142159384320857, 9.174834173332338, 25.723095198498175, 48.45216919285208, 13.723880428326526, 11.72669007025531, 11.273769039391214, 9.885231249164113, 7.150070705789898, 6.571568947401286, 6.4018625541628245, 5.987693134428599, 5.904413741022492, 5.140507786657956, 4.960257257824475, 4.960295328726848, 4.558055138150418, 4.547362733870995, 4.514878420683133, 4.248226214066119, 4.18796438869618, 4.12089787908344, 3.878335842517623, 3.7834920990294614, 3.69049820790055, 3.6904932118473477, 3.6905039090901983, 3.6905039090901983, 3.6905039090901983, 3.552663115501039, 3.5084190257556447, 3.1060027063821467, 3.0313369837592847, 2.9278505775843677, 6.87559038698374, 14.457516406140865, 26.600261922883565, 9.558494690699982, 56.41146564273584, 18.193595717906227, 11.797107578165633, 12.087663618254815, 7.812069240785035, 7.376386409536081, 6.4656083675319245, 6.355708044570293, 5.877389947796942, 5.146335481219378, 4.914565381671458, 4.716472037127943, 20.834872817079674, 4.188176785699399, 4.161269535799211, 4.01483838280599, 3.94587514117958, 3.4050946919551817, 9.048785277228875, 3.0787008601651613, 3.0032800451646042, 3.0032800451646042, 2.720078412946485, 2.7200749810405718, 2.685589525506443, 9.815858006310679, 2.5759590968080794, 2.550119383216437, 2.5219998308218474, 2.4749705336693846, 2.474967299613302, 2.414910450645831, 2.3486630570403912, 5.057229513067711, 17.12089356206632, 9.558494690699982, 14.55916502185234, 5.2387103970704185, 21.804000813869727, 14.457516406140865, 18.167542528586687, 26.877343786095825, 6.919838724870069, 30.476877603505738, 48.45216919285208, 197.41712964172117, 72.6744693719547, 12.408808396187588, 12.373781435262266, 11.04457065185941, 9.840805837856193, 8.83726009845575, 8.318172187894334, 6.687887926049396, 6.589172003432262, 6.538825468318292, 6.142056103328404, 5.963819808958491, 5.597536803154652, 5.337701755555219, 5.07450146542923, 4.8373686628037404, 4.457289230282419, 4.1499331389842355, 3.7985728330747075, 3.4884726720703694, 3.3455085710831116, 3.312170188783436, 3.1810745068995483, 3.0381514007105825, 2.9073076242541585, 2.9073076242541585, 2.8009830206359063, 2.658087560639439, 2.4936010381675806, 2.420892408992783, 2.4208912159597045, 8.340735802784662, 6.456835334005765, 7.096298703384572, 6.587763705191528, 22.483371860399227, 21.804000813869727, 55.0651100787463, 7.910089966801259, 7.137711156281185, 6.434662010911317, 6.1842764706094355, 5.304715632567312, 4.612795904854102, 4.492978873721165, 4.362210453619795, 4.321858400943128, 4.029384848777931, 3.9626487305266864, 3.864513359404822, 3.5166266213727635, 3.5166266213727635, 3.4348831835738314, 3.315009778144882, 3.3150138961982294, 3.3150166514601116, 3.2594039260951386, 2.9674263129012832, 2.93690216153888, 2.8475148788620217, 2.750532461670252, 2.7505485669433947, 2.630670111255804, 2.6306768891428627, 3.7855469808549356, 2.469423355602844, 2.469436877019705, 2.4138446990423716, 6.136071419347896, 5.574128307972547, 25.819524068850754, 15.008193261832274], \"Category\": [\"Default\", \"Default\", \"Default\", \"Default\", \"Default\", \"Default\", \"Default\", \"Default\", \"Default\", \"Default\", \"Default\", \"Default\", \"Default\", \"Default\", \"Default\", \"Default\", \"Default\", \"Default\", \"Default\", \"Default\", \"Default\", \"Default\", \"Default\", \"Default\", \"Default\", \"Default\", \"Default\", \"Default\", \"Default\", \"Default\", \"Topic1\", \"Topic1\", \"Topic1\", \"Topic1\", \"Topic1\", \"Topic1\", \"Topic1\", \"Topic1\", \"Topic1\", \"Topic1\", \"Topic1\", \"Topic1\", \"Topic1\", \"Topic1\", \"Topic1\", \"Topic1\", \"Topic1\", \"Topic1\", \"Topic1\", \"Topic1\", \"Topic1\", \"Topic1\", \"Topic1\", \"Topic1\", \"Topic1\", \"Topic1\", \"Topic1\", \"Topic1\", \"Topic1\", \"Topic1\", \"Topic1\", \"Topic1\", \"Topic1\", \"Topic1\", \"Topic1\", \"Topic1\", \"Topic1\", \"Topic1\", \"Topic1\", \"Topic1\", \"Topic1\", \"Topic1\", \"Topic1\", \"Topic2\", \"Topic2\", \"Topic2\", \"Topic2\", \"Topic2\", \"Topic2\", \"Topic2\", \"Topic2\", \"Topic2\", \"Topic2\", \"Topic2\", \"Topic2\", \"Topic2\", \"Topic2\", \"Topic2\", \"Topic2\", \"Topic2\", \"Topic2\", \"Topic2\", \"Topic2\", \"Topic2\", \"Topic2\", \"Topic2\", \"Topic2\", \"Topic2\", \"Topic2\", \"Topic2\", \"Topic2\", \"Topic2\", \"Topic2\", \"Topic2\", \"Topic2\", \"Topic2\", \"Topic2\", \"Topic2\", \"Topic2\", \"Topic2\", \"Topic2\", \"Topic2\", \"Topic2\", \"Topic2\", \"Topic2\", \"Topic2\", \"Topic3\", \"Topic3\", \"Topic3\", \"Topic3\", \"Topic3\", \"Topic3\", \"Topic3\", \"Topic3\", \"Topic3\", \"Topic3\", \"Topic3\", \"Topic3\", \"Topic3\", \"Topic3\", \"Topic3\", \"Topic3\", \"Topic3\", \"Topic3\", \"Topic3\", \"Topic3\", \"Topic3\", \"Topic3\", \"Topic3\", \"Topic3\", \"Topic3\", \"Topic3\", \"Topic3\", \"Topic3\", \"Topic3\", \"Topic3\", \"Topic3\", \"Topic3\", \"Topic3\", \"Topic3\", \"Topic3\", \"Topic3\", \"Topic3\", \"Topic3\", \"Topic3\", \"Topic3\", \"Topic3\", \"Topic3\", \"Topic3\", \"Topic3\", \"Topic3\", \"Topic3\", \"Topic3\", \"Topic3\", \"Topic4\", \"Topic4\", \"Topic4\", \"Topic4\", \"Topic4\", \"Topic4\", \"Topic4\", \"Topic4\", \"Topic4\", \"Topic4\", \"Topic4\", \"Topic4\", \"Topic4\", \"Topic4\", \"Topic4\", \"Topic4\", \"Topic4\", \"Topic4\", \"Topic4\", \"Topic4\", \"Topic4\", \"Topic4\", \"Topic4\", \"Topic4\", \"Topic4\", \"Topic4\", \"Topic4\", \"Topic4\", \"Topic4\", \"Topic4\", \"Topic4\", \"Topic4\", \"Topic4\", \"Topic4\", \"Topic4\", \"Topic4\", \"Topic4\", \"Topic4\", \"Topic4\", \"Topic4\", \"Topic5\", \"Topic5\", \"Topic5\", \"Topic5\", \"Topic5\", \"Topic5\", \"Topic5\", \"Topic5\", \"Topic5\", \"Topic5\", \"Topic5\", \"Topic5\", \"Topic5\", \"Topic5\", \"Topic5\", \"Topic5\", \"Topic5\", \"Topic5\", \"Topic5\", \"Topic5\", \"Topic5\", \"Topic5\", \"Topic5\", \"Topic5\", \"Topic5\", \"Topic5\", \"Topic5\", \"Topic5\", \"Topic5\", \"Topic5\", \"Topic5\", \"Topic5\", \"Topic5\", \"Topic5\", \"Topic5\", \"Topic5\", \"Topic5\", \"Topic5\", \"Topic5\", \"Topic5\", \"Topic5\", \"Topic5\", \"Topic6\", \"Topic6\", \"Topic6\", \"Topic6\", \"Topic6\", \"Topic6\", \"Topic6\", \"Topic6\", \"Topic6\", \"Topic6\", \"Topic6\", \"Topic6\", \"Topic6\", \"Topic6\", \"Topic6\", \"Topic6\", \"Topic6\", \"Topic6\", \"Topic6\", \"Topic6\", \"Topic6\", \"Topic6\", \"Topic6\", \"Topic6\", \"Topic6\", \"Topic6\", \"Topic6\", \"Topic6\", \"Topic6\", \"Topic6\", \"Topic6\", \"Topic6\", \"Topic6\", \"Topic6\", \"Topic6\", \"Topic6\", \"Topic6\", \"Topic6\", \"Topic6\", \"Topic6\", \"Topic6\", \"Topic6\", \"Topic6\", \"Topic6\", \"Topic6\", \"Topic6\", \"Topic7\", \"Topic7\", \"Topic7\", \"Topic7\", \"Topic7\", \"Topic7\", \"Topic7\", \"Topic7\", \"Topic7\", \"Topic7\", \"Topic7\", \"Topic7\", \"Topic7\", \"Topic7\", \"Topic7\", \"Topic7\", \"Topic7\", \"Topic7\", \"Topic7\", \"Topic7\", \"Topic7\", \"Topic7\", \"Topic7\", \"Topic7\", \"Topic7\", \"Topic7\", \"Topic7\", \"Topic7\", \"Topic7\", \"Topic7\", \"Topic7\", \"Topic7\", \"Topic7\", \"Topic7\", \"Topic7\", \"Topic7\", \"Topic7\", \"Topic8\", \"Topic8\", \"Topic8\", \"Topic8\", \"Topic8\", \"Topic8\", \"Topic8\", \"Topic8\", \"Topic8\", \"Topic8\", \"Topic8\", \"Topic8\", \"Topic8\", \"Topic8\", \"Topic8\", \"Topic8\", \"Topic8\", \"Topic8\", \"Topic8\", \"Topic8\", \"Topic8\", \"Topic8\", \"Topic8\", \"Topic8\", \"Topic8\", \"Topic8\", \"Topic8\", \"Topic8\", \"Topic8\", \"Topic8\", \"Topic8\", \"Topic8\", \"Topic8\", \"Topic8\", \"Topic8\", \"Topic8\", \"Topic8\", \"Topic8\", \"Topic8\", \"Topic8\", \"Topic8\", \"Topic8\", \"Topic8\", \"Topic8\", \"Topic9\", \"Topic9\", \"Topic9\", \"Topic9\", \"Topic9\", \"Topic9\", \"Topic9\", \"Topic9\", \"Topic9\", \"Topic9\", \"Topic9\", \"Topic9\", \"Topic9\", \"Topic9\", \"Topic9\", \"Topic9\", \"Topic9\", \"Topic9\", \"Topic9\", \"Topic9\", \"Topic9\", \"Topic9\", \"Topic9\", \"Topic9\", \"Topic9\", \"Topic9\", \"Topic9\", \"Topic9\", \"Topic9\", \"Topic9\", \"Topic9\", \"Topic9\", \"Topic9\", \"Topic9\", \"Topic9\", \"Topic9\", \"Topic9\", \"Topic10\", \"Topic10\", \"Topic10\", \"Topic10\", \"Topic10\", \"Topic10\", \"Topic10\", \"Topic10\", \"Topic10\", \"Topic10\", \"Topic10\", \"Topic10\", \"Topic10\", \"Topic10\", \"Topic10\", \"Topic10\", \"Topic10\", \"Topic10\", \"Topic10\", \"Topic10\", \"Topic10\", \"Topic10\", \"Topic10\", \"Topic10\", \"Topic10\", \"Topic10\", \"Topic10\", \"Topic10\", \"Topic10\", \"Topic10\", \"Topic10\", \"Topic10\", \"Topic10\", \"Topic10\"], \"logprob\": [30.0, 29.0, 28.0, 27.0, 26.0, 25.0, 24.0, 23.0, 22.0, 21.0, 20.0, 19.0, 18.0, 17.0, 16.0, 15.0, 14.0, 13.0, 12.0, 11.0, 10.0, 9.0, 8.0, 7.0, 6.0, 5.0, 4.0, 3.0, 2.0, 1.0, -3.456199884414673, -2.930000066757202, -4.021599769592285, -4.088900089263916, -3.764899969100952, -4.462800025939941, -4.473599910736084, -4.611100196838379, -4.19950008392334, -4.6290998458862305, -4.6585001945495605, -4.73829984664917, -4.751100063323975, -3.0606000423431396, -4.938799858093262, -3.7126998901367188, -4.970799922943115, -4.259399890899658, -5.0046000480651855, -5.102099895477295, -3.7695000171661377, -5.25029993057251, -5.325900077819824, -4.620299816131592, -3.677000045776367, -5.5100998878479, -5.507999897003174, -4.082799911499023, -5.615900039672852, -3.0541999340057373, -4.448800086975098, -4.475800037384033, -4.400899887084961, -3.3798000812530518, -3.237499952316284, -3.488300085067749, -3.140500068664551, -4.795199871063232, -4.1992998123168945, -3.9591000080108643, -4.5467000007629395, -4.485799789428711, -4.633800029754639, -2.476099967956543, -3.2934000492095947, -3.6531999111175537, -3.865600109100342, -3.8468000888824463, -3.901400089263916, -3.9595999717712402, -3.9886999130249023, -4.119100093841553, -4.28849983215332, -4.3078999519348145, -4.506800174713135, -4.235000133514404, -4.764500141143799, -4.544600009918213, -4.813000202178955, -4.910299777984619, -4.360000133514404, -5.004199981689453, -3.9052000045776367, -5.069399833679199, -5.1528000831604, -5.243800163269043, -5.256899833679199, -4.386099815368652, -4.3094000816345215, -5.432700157165527, -5.44789981842041, -5.486599922180176, -5.486599922180176, -3.959399938583374, -4.820400238037109, -3.5390000343322754, -4.921299934387207, -4.372799873352051, -3.049799919128418, -4.453199863433838, -4.652400016784668, -4.270899772644043, -4.5721001625061035, -4.21589994430542, -4.7210001945495605, -4.791600227355957, -2.979599952697754, -4.239099979400635, -4.350800037384033, -4.35099983215332, -4.380000114440918, -4.4644999504089355, -4.456699848175049, -4.518400192260742, -4.60890007019043, -4.64139986038208, -4.822299957275391, -4.857900142669678, -4.864799976348877, -4.997200012207031, -4.0782999992370605, -5.075300216674805, -5.079699993133545, -5.147799968719482, -5.178800106048584, -5.195099830627441, -5.260499954223633, -5.263599872589111, -5.28380012512207, -5.28380012512207, -5.28380012512207, -5.283899784088135, -5.283899784088135, -5.32450008392334, -3.737499952316284, -5.417200088500977, -4.063399791717529, -4.071700096130371, -4.719299793243408, -4.371699810028076, -4.480199813842773, -3.6240999698638916, -4.121300220489502, -3.4719998836517334, -4.646200180053711, -3.5380001068115234, -4.01170015335083, -3.4440999031066895, -4.454899787902832, -4.5040998458862305, -4.747300148010254, -4.600299835205078, -4.527699947357178, -4.761099815368652, -3.024600028991699, -3.5917000770568848, -3.7685000896453857, -3.9458000659942627, -4.203700065612793, -4.207699775695801, -4.247300148010254, -4.337900161743164, -4.402299880981445, -4.428699970245361, -4.507599830627441, -4.530799865722656, -4.530799865722656, -4.630000114440918, -4.671999931335449, -4.794300079345703, -4.805699825286865, -4.867099761962891, -4.9008002281188965, -4.915599822998047, -5.002799987792969, -5.071599960327148, -5.071599960327148, -5.071599960327148, -5.1194000244140625, -5.3277997970581055, -3.9804999828338623, -5.361999988555908, -5.405900001525879, -5.405900001525879, -4.042799949645996, -3.9830000400543213, -4.377299785614014, -4.083499908447266, -3.703399896621704, -4.346499919891357, -4.853899955749512, -4.416900157928467, -4.380799770355225, -4.821599960327148, -2.838399887084961, -3.775099992752075, -4.160600185394287, -4.306700229644775, -4.357600212097168, -4.370100021362305, -4.398600101470947, -4.477700233459473, -4.567299842834473, -4.59499979019165, -4.6433000564575195, -4.673900127410889, -4.70989990234375, -2.956399917602539, -4.742099761962891, -4.786600112915039, -4.895699977874756, -4.895699977874756, -4.98199987411499, -4.98199987411499, -5.011199951171875, -5.057199954986572, -5.099599838256836, -5.099899768829346, -5.099899768829346, -5.099899768829346, -5.099899768829346, -5.099899768829346, -5.099899768829346, -5.099899768829346, -3.833899974822998, -3.505000114440918, -4.040900230407715, -4.33489990234375, -4.113100051879883, -4.569799900054932, -4.435500144958496, -3.6756999492645264, -4.729300022125244, -3.7850000858306885, -3.603600025177002, -4.809700012207031, -3.2121999263763428, -3.850800037384033, -4.035099983215332, -4.41540002822876, -4.548699855804443, -4.7230000495910645, -4.733799934387207, -4.207099914550781, -4.809299945831299, -4.905799865722656, -3.455399990081787, -4.799499988555908, -5.053400039672852, -5.061999797821045, -5.10830020904541, -3.666599988937378, -5.160399913787842, -5.195899963378906, -5.2256999015808105, -5.2256999015808105, -5.22599983215332, -5.263700008392334, -5.274199962615967, -5.297599792480469, -5.361499786376953, -5.368000030517578, -5.429100036621094, -5.429200172424316, -5.443999767303467, -3.553299903869629, -4.953400135040283, -4.385499954223633, -3.1284000873565674, -4.630799770355225, -4.001399993896484, -4.2846999168396, -4.863100051879883, -3.6333000659942627, -4.514599800109863, -3.9003000259399414, -4.046999931335449, -4.388700008392334, -4.8541998863220215, -4.900700092315674, -4.769199848175049, -4.918900012969971, -3.383699893951416, -3.5506999492645264, -3.5927999019622803, -3.734100103378296, -4.089300155639648, -4.183800220489502, -4.2133002281188965, -4.2891998291015625, -4.305300235748291, -4.465199947357178, -4.506999969482422, -4.506999969482422, -4.6072998046875, -4.609899997711182, -4.6184000968933105, -4.6915998458862305, -4.708899974822998, -4.728499889373779, -4.802999973297119, -4.833700180053711, -4.864500045776367, -4.864500045776367, -4.86460018157959, -4.86460018157959, -4.86460018157959, -4.912399768829346, -4.928199768066406, -5.085000038146973, -5.117099761962891, -5.1631999015808105, -4.358699798583984, -3.7397000789642334, -3.251699924468994, -4.371200084686279, -3.564199924468994, -4.612299919128418, -4.751299858093262, -3.4621999263763428, -3.9346001148223877, -3.998199939727783, -4.145599842071533, -4.164899826049805, -4.27269983291626, -4.407100200653076, -4.461100101470947, -4.509500026702881, -3.0290000438690186, -4.651899814605713, -4.659800052642822, -4.703199863433838, -4.724400043487549, -4.909200191497803, -3.9574999809265137, -5.038899898529053, -5.071599960327148, -5.071599960327148, -5.204800128936768, -5.204800128936768, -5.2221999168396, -3.933500051498413, -5.28000020980835, -5.2941999435424805, -5.309800148010254, -5.336299896240234, -5.336400032043457, -5.371399879455566, -5.411600112915039, -4.671599864959717, -3.875699996948242, -4.490499973297119, -4.267300128936768, -4.941400051116943, -4.232999801635742, -4.454999923706055, -4.434899806976318, -4.293300151824951, -4.8927001953125, -4.580399990081787, -4.556300163269043, -4.563899993896484, -4.936800003051758, -3.327399969100952, -3.330399990081787, -3.45169997215271, -3.5757999420166016, -3.6926000118255615, -3.7588000297546387, -4.000800132751465, -4.017600059509277, -4.026199817657471, -4.0970001220703125, -4.130499839782715, -4.203100204467773, -4.2581000328063965, -4.31689977645874, -4.3730998039245605, -4.4704999923706055, -4.556600093841553, -4.664999961853027, -4.7718000411987305, -4.824999809265137, -4.8379998207092285, -4.890100002288818, -4.950399875640869, -5.008699893951416, -5.008699893951416, -5.059000015258789, -5.130899906158447, -5.220099925994873, -5.262199878692627, -5.262199878692627, -4.17710018157959, -4.461400032043457, -4.418900012969971, -4.7332000732421875, -4.45959997177124, -4.569399833679199, -4.445400238037109, -3.567500114440918, -3.68149995803833, -3.7980000972747803, -3.842900037765503, -4.019199848175049, -4.183599948883057, -4.215099811553955, -4.250500202178955, -4.2617998123168945, -4.34689998626709, -4.367400169372559, -4.398799896240234, -4.51639986038208, -4.51639986038208, -4.546299934387207, -4.591800212860107, -4.591899871826172, -4.591899871826172, -4.613800048828125, -4.7368998527526855, -4.750699996948242, -4.792200088500977, -4.839399814605713, -4.839399814605713, -4.900899887084961, -4.900899887084961, -4.542300224304199, -4.989999771118164, -4.990099906921387, -5.022900104522705, -4.1072001457214355, -4.270999908447266, -2.932300090789795, -4.604300022125244], \"loglift\": [30.0, 29.0, 28.0, 27.0, 26.0, 25.0, 24.0, 23.0, 22.0, 21.0, 20.0, 19.0, 18.0, 17.0, 16.0, 15.0, 14.0, 13.0, 12.0, 11.0, 10.0, 9.0, 8.0, 7.0, 6.0, 5.0, 4.0, 3.0, 2.0, 1.0, 0.7327, 0.7313, 0.7285, 0.728, 0.7258, 0.7234, 0.7233, 0.7211, 0.7208, 0.7208, 0.7202, 0.7188, 0.7185, 0.7157, 0.7145, 0.7143, 0.7133, 0.7132, 0.7128, 0.7103, 0.7088, 0.7059, 0.7034, 0.7017, 0.6999, 0.6965, 0.6961, 0.6928, 0.6919, 0.6894, 0.6842, 0.6764, 0.6712, 0.6288, 0.605, 0.5829, 0.4865, 0.6811, 0.5602, 0.2172, 0.4822, 0.4001, 0.4276, 2.1442, 2.1336, 2.1267, 2.1204, 2.119, 2.1178, 2.1172, 2.1161, 2.1109, 2.1031, 2.1021, 2.0911, 2.0825, 2.0732, 2.0723, 2.0694, 2.0611, 2.0598, 2.0524, 2.0471, 2.0459, 2.037, 2.0266, 2.0249, 2.0245, 2.006, 2.002, 1.9998, 1.9942, 1.9941, 1.9041, 1.9118, 1.642, 1.9035, 1.6067, 0.5772, 1.3573, 1.5081, 0.7905, 1.2628, -0.0396, 0.7689, -1.0481, 2.502, 2.4524, 2.4444, 2.4444, 2.4422, 2.4354, 2.4352, 2.4308, 2.4226, 2.4195, 2.4002, 2.3961, 2.3953, 2.3785, 2.3754, 2.3677, 2.3671, 2.357, 2.3522, 2.3494, 2.339, 2.3385, 2.3351, 2.3351, 2.3351, 2.335, 2.335, 2.328, 2.3126, 2.311, 2.1783, 2.0999, 2.2156, 2.0864, 2.1135, 1.4896, 1.4261, 0.7043, 1.7423, 0.5331, 1.0414, 0.3983, 1.3593, 1.0811, 1.6156, 0.8189, -0.5192, 1.3944, 2.7804, 2.7592, 2.7489, 2.7388, 2.7191, 2.7187, 2.7153, 2.7068, 2.7004, 2.692, 2.689, 2.6864, 2.6864, 2.6744, 2.6691, 2.6522, 2.6506, 2.6413, 2.6361, 2.6337, 2.6192, 2.6069, 2.6069, 2.6069, 2.598, 2.5549, 2.5493, 2.5472, 2.5369, 2.5369, 2.3524, 1.7977, 1.9745, 1.7307, 1.1824, 1.4884, 2.2358, 1.3534, 0.8002, 0.416, 2.8183, 2.7812, 2.7534, 2.74, 2.7349, 2.7336, 2.7306, 2.7219, 2.7113, 2.7078, 2.7016, 2.6975, 2.6926, 2.6883, 2.688, 2.6814, 2.6644, 2.6644, 2.6498, 2.6498, 2.6444, 2.6362, 2.6281, 2.6281, 2.6281, 2.6281, 2.6281, 2.6281, 2.6281, 2.6281, 2.5729, 2.2653, 2.3425, 2.4201, 2.2498, 2.3741, 2.1538, 1.3774, 2.2339, 0.9745, 0.5727, 1.6725, 2.8878, 2.855, 2.8413, 2.8045, 2.7884, 2.7643, 2.7627, 2.7512, 2.751, 2.7343, 2.7256, 2.7187, 2.7076, 2.7058, 2.6966, 2.6864, 2.6857, 2.678, 2.6714, 2.6714, 2.6713, 2.6627, 2.6603, 2.6548, 2.6392, 2.6377, 2.622, 2.622, 2.618, 2.6087, 2.6041, 2.562, 2.4568, 2.5671, 2.4808, 2.4924, 2.5249, 1.9558, 2.0861, 1.4935, 1.1906, 1.4462, 1.9946, 1.9444, 1.045, 0.2621, 3.0588, 3.0491, 3.0464, 3.0365, 3.0052, 2.995, 2.9917, 2.9827, 2.9806, 2.9592, 2.9532, 2.9531, 2.9374, 2.9372, 2.9358, 2.9235, 2.9205, 2.917, 2.9032, 2.8973, 2.8913, 2.8913, 2.8913, 2.8913, 2.8913, 2.8815, 2.8782, 2.8432, 2.8355, 2.8242, 2.7749, 2.6507, 2.5289, 2.433, 1.4647, 1.5482, 1.8424, 3.1072, 3.0713, 3.0652, 3.0495, 3.0473, 3.0178, 3.0162, 3.0083, 3.001, 2.996, 2.9775, 2.976, 2.9684, 2.9645, 2.9271, 2.9015, 2.8982, 2.8903, 2.8903, 2.8561, 2.8561, 2.8515, 2.8441, 2.8354, 2.8313, 2.8268, 2.819, 2.819, 2.8086, 2.7962, 2.7692, 2.3456, 2.3136, 2.116, 2.4641, 1.7465, 1.9354, 1.7271, 1.4771, 2.2345, 1.0642, 0.6247, -0.7876, -0.1612, 3.2158, 3.2156, 3.208, 3.1993, 3.19, 3.1843, 3.1605, 3.1586, 3.1576, 3.1495, 3.1454, 3.1362, 3.1288, 3.1205, 3.1121, 3.0965, 3.082, 3.0619, 3.0404, 3.0289, 3.026, 3.0143, 3.0, 2.9856, 2.9856, 2.9727, 2.9531, 2.9278, 2.9153, 2.9153, 2.7634, 2.7351, 2.6831, 2.4432, 1.4892, 1.4102, 0.6077, 3.4259, 3.4147, 3.4019, 3.3967, 3.3739, 3.3492, 3.344, 3.3381, 3.3361, 3.3211, 3.3173, 3.311, 3.2877, 3.2877, 3.2813, 3.2713, 3.2713, 3.2713, 3.2663, 3.237, 3.2336, 3.223, 3.2104, 3.2104, 3.1935, 3.1934, 3.1881, 3.1676, 3.1676, 3.1574, 3.1403, 3.0725, 2.8782, 1.7487]}, \"token.table\": {\"Topic\": [7, 8, 1, 10, 3, 4, 1, 2, 1, 3, 7, 9, 1, 2, 4, 4, 6, 1, 4, 8, 3, 5, 7, 4, 8, 5, 8, 7, 9, 1, 9, 5, 4, 10, 5, 7, 8, 5, 7, 7, 9, 10, 8, 1, 3, 4, 6, 8, 3, 3, 3, 1, 6, 7, 6, 1, 3, 8, 7, 8, 7, 1, 8, 1, 1, 5, 9, 5, 3, 7, 9, 7, 4, 1, 3, 8, 9, 2, 4, 5, 6, 7, 8, 7, 1, 3, 2, 8, 4, 9, 3, 4, 7, 6, 5, 4, 3, 5, 4, 6, 8, 3, 10, 10, 8, 9, 6, 7, 1, 3, 4, 2, 6, 3, 5, 9, 4, 6, 1, 3, 4, 5, 4, 2, 5, 1, 2, 2, 10, 6, 3, 6, 6, 5, 6, 1, 1, 2, 6, 4, 8, 1, 3, 5, 10, 3, 2, 3, 7, 8, 7, 8, 8, 4, 8, 10, 6, 9, 8, 9, 1, 2, 9, 2, 9, 7, 4, 5, 10, 6, 5, 9, 2, 2, 8, 9, 7, 4, 5, 2, 2, 10, 10, 2, 3, 7, 2, 1, 2, 3, 1, 6, 1, 2, 10, 1, 4, 6, 4, 2, 9, 5, 6, 4, 4, 7, 2, 3, 4, 8, 3, 6, 4, 9, 7, 3, 10, 2, 5, 7, 3, 10, 10, 2, 4, 8, 10, 5, 6, 2, 8, 4, 7, 9, 6, 6, 7, 8, 7, 3, 4, 5, 3, 4, 5, 8, 9, 1, 4, 3, 4, 6, 7, 8, 10, 6, 8, 2, 3, 5, 1, 2, 3, 5, 2, 3, 2, 2, 4, 6, 6, 3, 3, 6, 2, 3, 6, 3, 10, 5, 8, 5, 10, 1, 2, 3, 4, 5, 10, 4, 1, 6, 8, 4, 9, 2, 10, 1, 7, 3, 5, 4, 2, 3, 3, 6, 8, 5, 9, 1, 4, 7, 8, 3, 3, 7, 4, 3, 4, 3, 1, 2, 3, 5, 9, 5, 6, 9, 9, 9, 1, 1, 2, 10, 2, 2, 3, 8, 1, 2, 3, 4, 2, 6, 9, 1, 2, 1, 1, 1, 8, 5, 8, 10, 9, 8, 5, 8, 6, 3, 8, 1, 5, 6, 9, 6, 4, 5, 8, 6, 2, 4, 6, 8, 5, 6, 7, 4, 5, 6, 2, 8, 9, 4, 2, 1, 2, 5, 5, 8, 6, 9, 6, 3, 9, 5, 7, 1, 4, 7, 6, 7, 7, 9, 10, 4, 2, 3, 8, 5, 4, 7, 9, 3, 4, 6, 9, 5, 4, 1, 8, 9, 1, 3, 8, 8, 3, 3, 2, 5, 9, 10, 8, 1, 10, 3, 6, 3, 10, 4, 7, 5, 3, 4, 8, 5, 1, 1, 1, 2, 3, 4, 6, 10, 5, 8, 3, 2, 9, 1, 6, 7, 2, 9, 8, 6, 6, 10, 3, 6, 10, 5, 5, 2, 5, 1, 2, 6, 5, 10, 1, 3, 3, 8, 9, 7, 5, 1, 4, 6, 2, 6, 10, 2, 3, 4, 6, 8, 10, 9, 2, 7, 1, 2, 2, 2, 3, 6, 2, 10, 1, 2, 1, 5, 2, 7, 7], \"Freq\": [0.5230949183729517, 0.4184759346983614, 0.9842413440190735, 0.7570693755641726, 0.8842620073688496, 0.0736885006140708, 0.9700860651715565, 0.9695673075271699, 0.9880309826541999, 0.927012096865079, 0.8468241250204341, 0.9670549835943, 0.9604919461285086, 0.01847099896400978, 0.01847099896400978, 0.9229172332403841, 0.6922782529767489, 0.9442536861952078, 0.03934390359146699, 0.7447154455306583, 0.6669563097769509, 0.16673907744423772, 0.16673907744423772, 0.1105120708871813, 0.7735844962102691, 0.6181673184204999, 0.3434262880113888, 0.9472539540032414, 0.7229032130224391, 0.800591659994916, 0.177909257776648, 0.933299094064912, 0.7524255295529121, 0.867153041779011, 0.9630932699345887, 0.8796307297427655, 0.7930214647747448, 0.7905612213954162, 0.7279966861656986, 0.8128994765169321, 0.9145592493430028, 0.7271276806511882, 0.8960494056369334, 0.5616814004654488, 0.10212389099371795, 0.025530972748429488, 0.2297787547358654, 0.051061945496858975, 0.795696520637605, 0.9136935322734374, 0.921013510077331, 0.9640894755382625, 0.7244499482061967, 0.24148331606873222, 0.8285854785112183, 0.6174113038506122, 0.3472938584159693, 0.01929410324533163, 0.7781332440312391, 0.848091532932265, 0.9130239746434811, 0.38177334656988027, 0.5726600198548204, 0.9925930370266943, 0.9807585649848646, 0.019420961682868606, 0.9617497473354328, 0.7180370995276527, 0.678132325825916, 0.2542996221847185, 0.9175959855590287, 0.8064097872525193, 0.9294519978411433, 0.9426913506894892, 0.02772621619674968, 0.8810327674844839, 0.8140596432016439, 0.3968682508912321, 0.2778077756238625, 0.07937365017824642, 0.23812095053473928, 0.8350461334183162, 0.8507177581222394, 0.9415694453265628, 0.654946648043547, 0.3274733240217735, 0.5780481538715494, 0.43353611540366205, 0.7822550473750143, 0.6287183766561039, 0.7153554478655226, 0.17883886196638066, 0.05961295398879356, 0.6957069298673783, 0.868833224061147, 0.7524303659222562, 0.7154413652767908, 0.2384804550922636, 0.6533132724229065, 0.1977367247058955, 0.5932101741176865, 0.9293541924583054, 0.7762943793942618, 0.9049735819932767, 0.7352729209866893, 0.8932500447664957, 0.7280859816675941, 0.938031101197212, 0.4922163322245726, 0.32814422148304845, 0.16407211074152422, 0.5449689776991337, 0.3269813866194802, 0.9192599187768448, 0.840632908416306, 0.8261416296613131, 0.6533142158374217, 0.889719328562303, 0.7067277515611621, 0.0768182338653437, 0.19972740804989364, 0.7902856812109735, 0.7954807461414727, 0.8433932687437443, 0.837516202301145, 0.7324221633074703, 0.25634775715761465, 0.7963915272675516, 0.6739847224865305, 0.7240529645659218, 0.9451318619624698, 0.7280849862550035, 0.9147424532058518, 0.3054741241514396, 0.6109482483028792, 0.9894580324018625, 0.9510273053088028, 0.0392176208374764, 0.00490220260468455, 0.7110604058077544, 0.7602876149555964, 0.9774180506220911, 0.36795410219694535, 0.4906054695959271, 0.7602606037458473, 0.9264264223984813, 0.7759281146340102, 0.08167664364568529, 0.08167664364568529, 0.08167664364568529, 0.8064035979540506, 0.8139071696792828, 0.8281880595055316, 0.9629699356008882, 0.1794002478503631, 0.7176009914014524, 0.9482067833944297, 0.6582950407054194, 0.7131317502249579, 0.20375192863570227, 0.9792288968544106, 0.905070089118799, 0.9367327417265763, 0.8342254976422917, 0.12834238425266026, 0.7163384693760436, 0.9308348923455864, 0.7905612213954162, 0.8285537179725964, 0.9829298174039754, 0.932191157166069, 0.6879216988649698, 0.9362912334944228, 0.9766150947305567, 0.9440332938398301, 0.7524206612361832, 0.683094969159972, 0.8463067192547583, 0.7180371603223179, 0.9895590333588882, 0.46476456994329596, 0.542225331600512, 0.8099056791789974, 0.5496439601632981, 0.21985758406531922, 0.21985758406531922, 0.8568260781318807, 0.7595102456147919, 0.05238001693895116, 0.18333005928632906, 0.9948952028896282, 0.8226933170826205, 0.9933733548268242, 0.004515333431031019, 0.9255277773855591, 0.5897687898913365, 0.03104046262585982, 0.3724855515103178, 0.6317273846758659, 0.7860935545807689, 0.8599752046271681, 0.8613175865054127, 0.8913163111226424, 0.9315191283813175, 0.8614887268706517, 0.9757162810028618, 0.20850751316572427, 0.13900500877714952, 0.6255225394971728, 0.9279869207869053, 0.820200403439712, 0.6596227058061345, 0.3097492651650475, 0.619498530330095, 0.844436948414937, 0.9451288177333366, 0.6809896584883299, 0.8231679199695527, 0.9224357558885722, 0.8128971202579149, 0.8656330651961635, 0.8902779453060569, 0.8530902831045819, 0.8925788231922057, 0.08925788231922056, 0.7472280859044905, 0.7271319382231564, 0.3032746127804418, 0.6065492255608836, 0.8469091710244685, 0.07057576425203904, 0.8707314865587832, 0.9104491107136248, 0.8261420367900124, 0.8362666022163462, 0.06916817328149444, 0.6225135595334499, 0.27667269312597775, 0.6597748817486199, 0.6661718811526874, 0.29607639162341665, 0.07401909790585416, 0.9347448360404842, 0.14062231774766112, 0.7734227476121363, 0.07031115887383056, 0.9052579544872674, 0.9718612231217951, 0.016756227984858537, 0.31100456373022617, 0.34988013419650443, 0.15550228186511308, 0.07775114093255654, 0.07775114093255654, 0.808502016971966, 0.7155618311912278, 0.22017287113576242, 0.950022753387499, 0.4037547370489821, 0.5383396493986429, 0.8945375312513957, 0.05111643035722261, 0.04472687656256978, 0.7353252028725186, 0.923108870473409, 0.9676533181369109, 0.9604161720590219, 0.8231672127010369, 0.9283466949384487, 0.6241761642725749, 0.8170991429709294, 0.9332249907259224, 0.15509463773521376, 0.7754731886760687, 0.8337571157703612, 0.9451318619624698, 0.6241762463656502, 0.9587186915167235, 0.8406056043217721, 0.951542254686334, 0.9100187056320608, 0.16297072371857657, 0.6518828948743063, 0.5970012956752316, 0.11335467639403132, 0.15869654695164384, 0.022670935278806262, 0.10579769796776256, 0.8849456870122948, 0.8580681679931914, 0.9742809982548335, 0.02376295117694716, 0.7352738486771033, 0.8626904097865469, 0.9697924650424905, 0.9003167801877336, 0.920413691589949, 0.9928275838731524, 0.8128971202579149, 0.9333719762327688, 0.7636978808184399, 0.9424144908147021, 0.48326214725363215, 0.48326214725363215, 0.1875715732262745, 0.750286292905098, 0.7163021413622154, 0.35968049713292816, 0.599467495221547, 0.41758245605688254, 0.5567766080758434, 0.8391525408470986, 0.7772520883252322, 0.8774013588813864, 0.9755948224073551, 0.8775672691013415, 0.8948186204224762, 0.9451288177333366, 0.942373831943947, 0.8432552079272462, 0.39952703206329243, 0.05448095891772169, 0.23608415531012733, 0.23608415531012733, 0.07264127855696226, 0.891260288069416, 0.6479335112383998, 0.8383888447617583, 0.8967246492597528, 0.8974064264944627, 0.9855257549466936, 0.9709749370802202, 0.02044157762274148, 0.8733921474670483, 0.9427155544247777, 0.17522449918425462, 0.35044899836850923, 0.4672653311580123, 0.9915562346283657, 0.19964341605103167, 0.33273902675171946, 0.4658346374524072, 0.5469167392306883, 0.4375333913845506, 0.8268958350760884, 0.9858655890272778, 0.9765997569921521, 0.9857192706408585, 0.9783850246974923, 0.949439336761464, 0.041279971163541915, 0.8531057655659986, 0.13124704085630748, 0.8099012445354524, 0.905422249104491, 0.6496246601537985, 0.7905622420856645, 0.8515482857384616, 0.8996410847175035, 0.792659008119922, 0.808090428872624, 0.9424691276658763, 0.04010506926237772, 0.6427411776712659, 0.8020529224152463, 0.8546730041719188, 0.2232363453677263, 0.5580908634193158, 0.1860302878064386, 0.9513570941816982, 0.7788262223254732, 0.1947065555813683, 0.8543362014836425, 0.1220480287833775, 0.6015290935458945, 0.24061163741835778, 0.6439144421511429, 0.9458199960767509, 0.6972042486216717, 0.2988018208378593, 0.5962208546484083, 0.2293157133263109, 0.13758942799578655, 0.8816052948330652, 0.9737064981796263, 0.7026759475492403, 0.2529633411177265, 0.02810703790196961, 0.7905605213008582, 0.6659385638112825, 0.6666495220524769, 0.22221650735082563, 0.7360649730381806, 0.45538973986511255, 0.45538973986511255, 0.14544205569504426, 0.7272102784752212, 0.9808951767988642, 0.9487285568889153, 0.7929182674306516, 0.6242443488446633, 0.7735276473768576, 0.8550860025489284, 0.9057505590018922, 0.9049728298283626, 0.8032826827037018, 0.9542341334143956, 0.1439893598745997, 0.8639361592475981, 0.8127083771650812, 0.37593614788421464, 0.5639042218263219, 0.07518722957684293, 0.15903064756899932, 0.7951532378449966, 0.8537427221990731, 0.7897702984338166, 0.8982833319310647, 0.7524255295529121, 0.9776253983140292, 0.020261666286301123, 0.7882547728580974, 0.8571233755969279, 0.1360513294598298, 0.006802566472991491, 0.6659385638112825, 0.9466172823986678, 0.8252147962520552, 0.8656361382381486, 0.9797964724696094, 0.8971442204690564, 0.7023668304059146, 0.8080914848097134, 0.9759750233447771, 0.7602625625473273, 0.7875203610736579, 0.14766006770131085, 0.7330584551802511, 0.9324499079867355, 0.9487270579735622, 0.8128983760451789, 0.7825035040081753, 0.7906662373257101, 0.8460958080014289, 0.9489741468736651, 0.8912600924055063, 0.975082602582698, 0.9898672997526341, 0.7765928270674146, 0.20505540939420497, 0.004362881050940531, 0.004362881050940531, 0.008725762101881062, 0.9425575933426916, 0.8469662603602299, 0.7764098438046778, 0.9451288177333366, 0.9876796654597801, 0.9105848195910858, 0.7799832799711334, 0.017726892726616667, 0.19499581999278334, 0.422755597727186, 0.5636741303029147, 0.7842770080345896, 0.8913241743107712, 0.7995632645881174, 0.19989081614702936, 0.16830923142121815, 0.8415461571060907, 0.91696630470471, 0.9340743710854656, 0.7905612213954162, 0.4219655248752187, 0.5063586298502625, 0.9552452250785768, 0.5121672605052514, 0.42680605042104286, 0.7905619016591433, 0.904974706191918, 0.8767351563621084, 0.11906279901213818, 0.9538098715279842, 0.720933833819496, 0.6879216988649698, 0.8128971202579149, 0.7905619016591433, 0.7206617923658325, 0.08735294452919182, 0.17470588905838363, 0.9260867173131625, 0.0712374397933202, 0.7445305208088693, 0.5985284143744432, 0.1031945542024902, 0.14447237588348627, 0.06191673252149412, 0.08255564336199216, 0.8530902831045819, 0.7140350317246623, 0.9543998291393253, 0.937227244296035, 0.9439757806972847, 0.055527987099840276, 0.9426499680807997, 0.12367245931269477, 0.24734491862538954, 0.6183622965634739, 0.9694028808097652, 0.7924878531879886, 0.9830291452632417, 0.9170057640308295, 0.8394491014009762, 0.14893451799049578, 0.7476510063574878, 0.10680728662249826, 0.8859596266591763], \"Term\": [\"ability\", \"ability\", \"able\", \"absolutely\", \"access\", \"access\", \"activate\", \"actually\", \"add\", \"additional\", \"ago\", \"alarm\", \"alexa\", \"alexa\", \"alexa\", \"almost\", \"alone\", \"also\", \"also\", \"amazed\", \"amazing\", \"amazing\", \"amazing\", \"amazon\", \"amazon\", \"answer\", \"answer\", \"anywhere\", \"apart\", \"app\", \"app\", \"apple\", \"appliance\", \"area\", \"ask\", \"assistant\", \"audiophile\", \"avail\", \"back\", \"backyard\", \"base\", \"basement\", \"bass\", \"battery\", \"battery\", \"battery\", \"battery\", \"battery\", \"beach\", \"beat\", \"bedroom\", \"better\", \"big\", \"big\", \"blue\", \"bluetooth\", \"bluetooth\", \"bluetooth\", \"bonus\", \"bose\", \"bring\", \"build\", \"build\", \"button\", \"buy\", \"buy\", \"call\", \"camping\", \"carry\", \"carry\", \"case\", \"cell\", \"certain\", \"charge\", \"charge\", \"check\", \"clock\", \"command\", \"command\", \"command\", \"command\", \"compact\", \"compare\", \"computer\", \"connect\", \"connect\", \"connection\", \"connection\", \"consider\", \"continue\", \"control\", \"control\", \"control\", \"convenience\", \"convenient\", \"cooking\", \"cool\", \"cool\", \"cord\", \"cost\", \"cost\", \"couple\", \"course\", \"cover\", \"cylinder\", \"daily\", \"date\", \"daughter\", \"day\", \"day\", \"day\", \"decide\", \"decide\", \"deck\", \"definitely\", \"degree\", \"design\", \"development\", \"device\", \"device\", \"device\", \"different\", \"difficult\", \"directly\", \"disappoint\", \"dot\", \"dot\", \"downside\", \"drive\", \"drop\", \"dual\", \"durable\", \"early\", \"easily\", \"easily\", \"easy\", \"echo\", \"echo\", \"echo\", \"enable\", \"end\", \"enjoy\", \"enough\", \"enough\", \"entertain\", \"especially\", \"even\", \"even\", \"even\", \"even\", \"event\", \"everywhere\", \"exactly\", \"excellent\", \"expect\", \"expect\", \"extra\", \"fabric\", \"favorite\", \"favorite\", \"feature\", \"feel\", \"figure\", \"find\", \"find\", \"fire\", \"first\", \"follow\", \"form\", \"free\", \"friend\", \"friendly\", \"full\", \"fun\", \"functionality\", \"future\", \"game\", \"garage\", \"gathering\", \"get\", \"gift\", \"gift\", \"girlfriend\", \"give\", \"give\", \"give\", \"glad\", \"go\", \"go\", \"go\", \"good\", \"granddaughter\", \"great\", \"great\", \"guess\", \"hand\", \"hand\", \"hand\", \"handy\", \"happy\", \"hard\", \"hear\", \"help\", \"high\", \"highly\", \"hit\", \"hold\", \"hold\", \"hold\", \"hook\", \"hot\", \"hotspot\", \"however\", \"however\", \"huge\", \"hype\", \"ideal\", \"impressed\", \"instruction\", \"interest\", \"internet\", \"invest\", \"ipad\", \"item\", \"item\", \"job\", \"joke\", \"keep\", \"keep\", \"kid\", \"kid\", \"kitchen\", \"know\", \"knowledge\", \"lack\", \"last\", \"last\", \"last\", \"late\", \"life\", \"life\", \"life\", \"light\", \"like\", \"like\", \"like\", \"list\", \"listen\", \"listen\", \"little\", \"little\", \"little\", \"little\", \"little\", \"live\", \"long\", \"long\", \"lot\", \"loud\", \"loud\", \"love\", \"love\", \"love\", \"mainly\", \"manually\", \"many\", \"may\", \"maybe\", \"microphone\", \"mind\", \"minimal\", \"mobile\", \"mode\", \"mode\", \"mom\", \"moment\", \"money\", \"month\", \"mostly\", \"mother\", \"move\", \"movie\", \"movie\", \"music\", \"music\", \"music\", \"music\", \"music\", \"must\", \"nee\", \"need\", \"need\", \"nephew\", \"never\", \"new\", \"news\", \"next\", \"nice\", \"notice\", \"old\", \"online\", \"operate\", \"order\", \"order\", \"other\", \"other\", \"otherwise\", \"overall\", \"overall\", \"pair\", \"pair\", \"part\", \"personal\", \"personally\", \"phone\", \"physically\", \"pick\", \"pill\", \"place\", \"plan\", \"play\", \"play\", \"play\", \"play\", \"play\", \"playlist\", \"pleasantly\", \"pleased\", \"podcast\", \"point\", \"portability\", \"portable\", \"portable\", \"present\", \"press\", \"pretty\", \"pretty\", \"pretty\", \"price\", \"prime\", \"prime\", \"prime\", \"problem\", \"problem\", \"produce\", \"product\", \"purchase\", \"push\", \"put\", \"quality\", \"quality\", \"question\", \"question\", \"quite\", \"radio\", \"range\", \"rarely\", \"rate\", \"read\", \"ready\", \"real\", \"really\", \"really\", \"reason\", \"recent\", \"recognition\", \"recommend\", \"recommend\", \"recommend\", \"remember\", \"request\", \"request\", \"require\", \"require\", \"respond\", \"respond\", \"response\", \"return\", \"review\", \"review\", \"room\", \"room\", \"room\", \"run\", \"sale\", \"say\", \"say\", \"say\", \"science\", \"score\", \"search\", \"search\", \"second\", \"see\", \"see\", \"seem\", \"seem\", \"set\", \"several\", \"shopping\", \"short\", \"show\", \"side\", \"similar\", \"simple\", \"simply\", \"sit\", \"size\", \"size\", \"skill\", \"small\", \"small\", \"small\", \"smart\", \"smart\", \"software\", \"son\", \"song\", \"sooner\", \"sound\", \"sound\", \"source\", \"speaker\", \"speaker\", \"speaker\", \"sport\", \"spotify\", \"stand\", \"star\", \"start\", \"station\", \"step\", \"stereo\", \"still\", \"store\", \"stream\", \"stream\", \"streaming\", \"super\", \"support\", \"supposedly\", \"sure\", \"switch\", \"sync\", \"system\", \"table\", \"take\", \"talk\", \"tap\", \"tap\", \"tap\", \"tap\", \"tap\", \"technology\", \"tell\", \"terrible\", \"therefore\", \"think\", \"thought\", \"time\", \"time\", \"time\", \"timer\", \"timer\", \"tip\", \"tooth\", \"touch\", \"touch\", \"try\", \"try\", \"tub\", \"turn\", \"unable\", \"understand\", \"understand\", \"unit\", \"update\", \"update\", \"upgraded\", \"usage\", \"use\", \"use\", \"useful\", \"useless\", \"user\", \"vacation\", \"valid\", \"voice\", \"voice\", \"voice\", \"volume\", \"volume\", \"wait\", \"want\", \"want\", \"want\", \"want\", \"want\", \"watch\", \"water\", \"weather\", \"week\", \"well\", \"well\", \"wife\", \"wifi\", \"wifi\", \"wifi\", \"wish\", \"wonderful\", \"work\", \"worth\", \"would\", \"would\", \"year\", \"year\", \"yet\"]}, \"R\": 30, \"lambda.step\": 0.01, \"plot.opts\": {\"xlab\": \"PC1\", \"ylab\": \"PC2\"}, \"topic.order\": [1, 2, 5, 8, 7, 6, 10, 4, 9, 3]};\n",
       "\n",
       "function LDAvis_load_lib(url, callback){\n",
       "  var s = document.createElement('script');\n",
       "  s.src = url;\n",
       "  s.async = true;\n",
       "  s.onreadystatechange = s.onload = callback;\n",
       "  s.onerror = function(){console.warn(\"failed to load library \" + url);};\n",
       "  document.getElementsByTagName(\"head\")[0].appendChild(s);\n",
       "}\n",
       "\n",
       "if(typeof(LDAvis) !== \"undefined\"){\n",
       "   // already loaded: just create the visualization\n",
       "   !function(LDAvis){\n",
       "       new LDAvis(\"#\" + \"ldavis_el1021402554491589046334821331\", ldavis_el1021402554491589046334821331_data);\n",
       "   }(LDAvis);\n",
       "}else if(typeof define === \"function\" && define.amd){\n",
       "   // require.js is available: use it to load d3/LDAvis\n",
       "   require.config({paths: {d3: \"https://cdnjs.cloudflare.com/ajax/libs/d3/3.5.5/d3.min\"}});\n",
       "   require([\"d3\"], function(d3){\n",
       "      window.d3 = d3;\n",
       "      LDAvis_load_lib(\"https://cdn.rawgit.com/bmabey/pyLDAvis/files/ldavis.v1.0.0.js\", function(){\n",
       "        new LDAvis(\"#\" + \"ldavis_el1021402554491589046334821331\", ldavis_el1021402554491589046334821331_data);\n",
       "      });\n",
       "    });\n",
       "}else{\n",
       "    // require.js not available: dynamically load d3 & LDAvis\n",
       "    LDAvis_load_lib(\"https://cdnjs.cloudflare.com/ajax/libs/d3/3.5.5/d3.min.js\", function(){\n",
       "         LDAvis_load_lib(\"https://cdn.rawgit.com/bmabey/pyLDAvis/files/ldavis.v1.0.0.js\", function(){\n",
       "                 new LDAvis(\"#\" + \"ldavis_el1021402554491589046334821331\", ldavis_el1021402554491589046334821331_data);\n",
       "            })\n",
       "         });\n",
       "}\n",
       "</script>"
      ],
      "text/plain": [
       "PreparedData(topic_coordinates=              x         y  topics  cluster       Freq\n",
       "topic                                                \n",
       "0     -0.378720  0.072575       1        1  47.791919\n",
       "1     -0.111957 -0.295903       2        1  11.600061\n",
       "4     -0.095052  0.093667       3        1   8.026991\n",
       "7      0.058474  0.030566       4        1   6.027072\n",
       "6      0.044471  0.143279       5        1   5.825040\n",
       "5      0.072490 -0.019010       6        1   5.362704\n",
       "9      0.095858  0.017890       7        1   4.442575\n",
       "3      0.085391  0.010458       8        1   4.201646\n",
       "8      0.114591 -0.019798       9        1   3.774747\n",
       "2      0.114453 -0.033723      10        1   2.947245, topic_info=       Term        Freq       Total Category  logprob  loglift\n",
       "35      get   84.000000   84.000000  Default  30.0000  30.0000\n",
       "91      use  184.000000  184.000000  Default  29.0000  29.0000\n",
       "81      tap  229.000000  229.000000  Default  28.0000  28.0000\n",
       "168   great  221.000000  221.000000  Default  27.0000  27.0000\n",
       "78    sound  197.000000  197.000000  Default  26.0000  26.0000\n",
       "..      ...         ...         ...      ...      ...      ...\n",
       "778    form    1.672578    2.413845  Topic10  -5.0229   3.1574\n",
       "804   movie    4.179339    6.136071  Topic10  -4.1072   3.1403\n",
       "163  expect    3.547803    5.574128  Topic10  -4.2710   3.0725\n",
       "340    gift   13.531308   25.819524  Topic10  -2.9323   2.8782\n",
       "88    touch    2.542128   15.008193  Topic10  -4.6043   1.7487\n",
       "\n",
       "[444 rows x 6 columns], token_table=      Topic      Freq        Term\n",
       "term                             \n",
       "98        7  0.523095     ability\n",
       "98        8  0.418476     ability\n",
       "276       1  0.984241        able\n",
       "417      10  0.757069  absolutely\n",
       "229       3  0.884262      access\n",
       "...     ...       ...         ...\n",
       "97        1  0.839449       would\n",
       "97        5  0.148935       would\n",
       "142       2  0.747651        year\n",
       "142       7  0.106807        year\n",
       "677       7  0.885960         yet\n",
       "\n",
       "[517 rows x 3 columns], R=30, lambda_step=0.01, plot_opts={'xlab': 'PC1', 'ylab': 'PC2'}, topic_order=[1, 2, 5, 8, 7, 6, 10, 4, 9, 3])"
      ]
     },
     "execution_count": 40,
     "metadata": {
      "tags": []
     },
     "output_type": "execute_result"
    }
   ],
   "source": [
    "# visualize the topics\n",
    "pyLDAvis.enable_notebook()\n",
    "vis = pyLDAvis.gensim.prepare(lda_model, corpus, id2word)\n",
    "vis"
   ]
  },
  {
   "cell_type": "markdown",
   "metadata": {
    "id": "nWgYfJBW2I_I"
   },
   "source": [
    "## Hyperparameter Tuning - Number of Topics and Alpha\n",
    "\n",
    "Let's now tune the two main hyperparameters - number of topics and alpha. The strategy typically used is to tune these parameters such that the coherence score is maximised."
   ]
  },
  {
   "cell_type": "code",
   "execution_count": null,
   "metadata": {
    "id": "2sjcZFRF2I_I"
   },
   "outputs": [],
   "source": [
    "# compute coherence value at various values of alpha and num_topics\n",
    "def compute_coherence_values(dictionary, corpus, texts, num_topics_range, alpha_range):\n",
    "    \n",
    "    coherence_values = []\n",
    "    model_list = []\n",
    "    for alpha in alpha_range:\n",
    "        for num_topics in num_topics_range:\n",
    "            lda_model = gensim.models.ldamodel.LdaModel(corpus=corpus,\n",
    "                                               id2word=dictionary,\n",
    "                                               num_topics=num_topics, \n",
    "                                               alpha=alpha,\n",
    "                                               per_word_topics=True)\n",
    "            model_list.append(lda_model)\n",
    "            coherencemodel = CoherenceModel(model=lda_model, texts=texts, dictionary=dictionary, coherence='c_v')\n",
    "            coherence_values.append((alpha, num_topics, coherencemodel.get_coherence()))\n",
    "        \n",
    "\n",
    "    return model_list, coherence_values"
   ]
  },
  {
   "cell_type": "code",
   "execution_count": null,
   "metadata": {
    "id": "z-voqMj-2I_L"
   },
   "outputs": [],
   "source": [
    "# build models across a range of num_topics and alpha\n",
    "num_topics_range = [2, 6, 10, 15, 20]\n",
    "alpha_range = [0.01, 0.1, 1]\n",
    "model_list, coherence_values = compute_coherence_values(dictionary=id2word, \n",
    "                                                        corpus=corpus, \n",
    "                                                        texts=data_lemmatized, \n",
    "                                                        num_topics_range=num_topics_range, \n",
    "                                                        alpha_range=alpha_range)"
   ]
  },
  {
   "cell_type": "code",
   "execution_count": null,
   "metadata": {
    "id": "g3LsQ5pU2I_N",
    "outputId": "74573d24-f5d5-4144-9b9f-c662f5fd6653"
   },
   "outputs": [
    {
     "data": {
      "text/html": [
       "<div>\n",
       "<style scoped>\n",
       "    .dataframe tbody tr th:only-of-type {\n",
       "        vertical-align: middle;\n",
       "    }\n",
       "\n",
       "    .dataframe tbody tr th {\n",
       "        vertical-align: top;\n",
       "    }\n",
       "\n",
       "    .dataframe thead th {\n",
       "        text-align: right;\n",
       "    }\n",
       "</style>\n",
       "<table border=\"1\" class=\"dataframe\">\n",
       "  <thead>\n",
       "    <tr style=\"text-align: right;\">\n",
       "      <th></th>\n",
       "      <th>alpha</th>\n",
       "      <th>num_topics</th>\n",
       "      <th>coherence_value</th>\n",
       "    </tr>\n",
       "  </thead>\n",
       "  <tbody>\n",
       "    <tr>\n",
       "      <th>0</th>\n",
       "      <td>0.01</td>\n",
       "      <td>2</td>\n",
       "      <td>0.465229</td>\n",
       "    </tr>\n",
       "    <tr>\n",
       "      <th>1</th>\n",
       "      <td>0.01</td>\n",
       "      <td>6</td>\n",
       "      <td>0.454546</td>\n",
       "    </tr>\n",
       "    <tr>\n",
       "      <th>2</th>\n",
       "      <td>0.01</td>\n",
       "      <td>10</td>\n",
       "      <td>0.406792</td>\n",
       "    </tr>\n",
       "    <tr>\n",
       "      <th>3</th>\n",
       "      <td>0.01</td>\n",
       "      <td>15</td>\n",
       "      <td>0.431168</td>\n",
       "    </tr>\n",
       "    <tr>\n",
       "      <th>4</th>\n",
       "      <td>0.01</td>\n",
       "      <td>20</td>\n",
       "      <td>0.402189</td>\n",
       "    </tr>\n",
       "    <tr>\n",
       "      <th>5</th>\n",
       "      <td>0.10</td>\n",
       "      <td>2</td>\n",
       "      <td>0.459691</td>\n",
       "    </tr>\n",
       "    <tr>\n",
       "      <th>6</th>\n",
       "      <td>0.10</td>\n",
       "      <td>6</td>\n",
       "      <td>0.419994</td>\n",
       "    </tr>\n",
       "    <tr>\n",
       "      <th>7</th>\n",
       "      <td>0.10</td>\n",
       "      <td>10</td>\n",
       "      <td>0.438603</td>\n",
       "    </tr>\n",
       "    <tr>\n",
       "      <th>8</th>\n",
       "      <td>0.10</td>\n",
       "      <td>15</td>\n",
       "      <td>0.435700</td>\n",
       "    </tr>\n",
       "    <tr>\n",
       "      <th>9</th>\n",
       "      <td>0.10</td>\n",
       "      <td>20</td>\n",
       "      <td>0.439248</td>\n",
       "    </tr>\n",
       "    <tr>\n",
       "      <th>10</th>\n",
       "      <td>1.00</td>\n",
       "      <td>2</td>\n",
       "      <td>0.449877</td>\n",
       "    </tr>\n",
       "    <tr>\n",
       "      <th>11</th>\n",
       "      <td>1.00</td>\n",
       "      <td>6</td>\n",
       "      <td>0.473140</td>\n",
       "    </tr>\n",
       "    <tr>\n",
       "      <th>12</th>\n",
       "      <td>1.00</td>\n",
       "      <td>10</td>\n",
       "      <td>0.469619</td>\n",
       "    </tr>\n",
       "    <tr>\n",
       "      <th>13</th>\n",
       "      <td>1.00</td>\n",
       "      <td>15</td>\n",
       "      <td>0.469497</td>\n",
       "    </tr>\n",
       "    <tr>\n",
       "      <th>14</th>\n",
       "      <td>1.00</td>\n",
       "      <td>20</td>\n",
       "      <td>0.470033</td>\n",
       "    </tr>\n",
       "  </tbody>\n",
       "</table>\n",
       "</div>"
      ],
      "text/plain": [
       "    alpha  num_topics  coherence_value\n",
       "0    0.01           2         0.465229\n",
       "1    0.01           6         0.454546\n",
       "2    0.01          10         0.406792\n",
       "3    0.01          15         0.431168\n",
       "4    0.01          20         0.402189\n",
       "5    0.10           2         0.459691\n",
       "6    0.10           6         0.419994\n",
       "7    0.10          10         0.438603\n",
       "8    0.10          15         0.435700\n",
       "9    0.10          20         0.439248\n",
       "10   1.00           2         0.449877\n",
       "11   1.00           6         0.473140\n",
       "12   1.00          10         0.469619\n",
       "13   1.00          15         0.469497\n",
       "14   1.00          20         0.470033"
      ]
     },
     "execution_count": 116,
     "metadata": {
      "tags": []
     },
     "output_type": "execute_result"
    }
   ],
   "source": [
    "coherence_df = pd.DataFrame(coherence_values, columns=['alpha', 'num_topics', 'coherence_value'])\n",
    "coherence_df"
   ]
  },
  {
   "cell_type": "code",
   "execution_count": null,
   "metadata": {
    "id": "DRmzAt492I_P",
    "outputId": "2269c6fd-ee66-4b7c-f2a0-704785950e43",
    "scrolled": true
   },
   "outputs": [
    {
     "data": {
      "image/png": "[encoded data removed]",
      "text/plain": [
       "<Figure size 1152x432 with 3 Axes>"
      ]
     },
     "metadata": {
      "tags": []
     },
     "output_type": "display_data"
    }
   ],
   "source": [
    "# plot\n",
    "def plot_coherence(coherence_df, alpha_range, num_topics_range):\n",
    "    plt.figure(figsize=(16,6))\n",
    "\n",
    "    for i, val in enumerate(alpha_range):\n",
    "\n",
    "        # subplot 1/3/i\n",
    "        plt.subplot(1, 3, i+1)\n",
    "        alpha_subset = coherence_df[coherence_df['alpha']==val]\n",
    "\n",
    "        plt.plot(alpha_subset[\"num_topics\"], alpha_subset[\"coherence_value\"])\n",
    "        plt.xlabel('num_topics')\n",
    "        plt.ylabel('Coherence Value')\n",
    "        plt.title(\"alpha={0}\".format(val))\n",
    "        plt.ylim([0.30, 1])\n",
    "        plt.legend('coherence value', loc='upper left')\n",
    "        plt.xticks(num_topics_range)\n",
    "\n",
    "plot_coherence(coherence_df, alpha_range, num_topics_range)"
   ]
  },
  {
   "cell_type": "markdown",
   "metadata": {
    "id": "OZU3gxT32I_R"
   },
   "source": [
    "### Demonetisation Tweets\n",
    "\n",
    "Let's now try identifying topics in tweets related to a specific topic - demonetisation. The overall pipeline is the same, apart from someextra preprocessing steps."
   ]
  },
  {
   "cell_type": "code",
   "execution_count": null,
   "metadata": {
    "id": "iO-arD9S2I_S",
    "outputId": "39be0f8e-d5ba-4639-8bbd-1b7a977108c8"
   },
   "outputs": [
    {
     "name": "stdout",
     "output_type": "stream",
     "text": [
      "(14940, 16)\n"
     ]
    },
    {
     "data": {
      "text/html": [
       "<div>\n",
       "<style scoped>\n",
       "    .dataframe tbody tr th:only-of-type {\n",
       "        vertical-align: middle;\n",
       "    }\n",
       "\n",
       "    .dataframe tbody tr th {\n",
       "        vertical-align: top;\n",
       "    }\n",
       "\n",
       "    .dataframe thead th {\n",
       "        text-align: right;\n",
       "    }\n",
       "</style>\n",
       "<table border=\"1\" class=\"dataframe\">\n",
       "  <thead>\n",
       "    <tr style=\"text-align: right;\">\n",
       "      <th></th>\n",
       "      <th>Unnamed: 0</th>\n",
       "      <th>X</th>\n",
       "      <th>text</th>\n",
       "      <th>favorited</th>\n",
       "      <th>favoriteCount</th>\n",
       "      <th>replyToSN</th>\n",
       "      <th>created</th>\n",
       "      <th>truncated</th>\n",
       "      <th>replyToSID</th>\n",
       "      <th>id</th>\n",
       "      <th>replyToUID</th>\n",
       "      <th>statusSource</th>\n",
       "      <th>screenName</th>\n",
       "      <th>retweetCount</th>\n",
       "      <th>isRetweet</th>\n",
       "      <th>retweeted</th>\n",
       "    </tr>\n",
       "  </thead>\n",
       "  <tbody>\n",
       "    <tr>\n",
       "      <th>0</th>\n",
       "      <td>1</td>\n",
       "      <td>1</td>\n",
       "      <td>RT @rssurjewala: Critical question: Was PayTM ...</td>\n",
       "      <td>False</td>\n",
       "      <td>0</td>\n",
       "      <td>NaN</td>\n",
       "      <td>2016-11-23 18:40:30</td>\n",
       "      <td>False</td>\n",
       "      <td>NaN</td>\n",
       "      <td>8.014957e+17</td>\n",
       "      <td>NaN</td>\n",
       "      <td>&lt;a href=\"http://twitter.com/download/android\" ...</td>\n",
       "      <td>HASHTAGFARZIWAL</td>\n",
       "      <td>331</td>\n",
       "      <td>True</td>\n",
       "      <td>False</td>\n",
       "    </tr>\n",
       "    <tr>\n",
       "      <th>1</th>\n",
       "      <td>2</td>\n",
       "      <td>2</td>\n",
       "      <td>RT @Hemant_80: Did you vote on #Demonetization...</td>\n",
       "      <td>False</td>\n",
       "      <td>0</td>\n",
       "      <td>NaN</td>\n",
       "      <td>2016-11-23 18:40:29</td>\n",
       "      <td>False</td>\n",
       "      <td>NaN</td>\n",
       "      <td>8.014957e+17</td>\n",
       "      <td>NaN</td>\n",
       "      <td>&lt;a href=\"http://twitter.com/download/android\" ...</td>\n",
       "      <td>PRAMODKAUSHIK9</td>\n",
       "      <td>66</td>\n",
       "      <td>True</td>\n",
       "      <td>False</td>\n",
       "    </tr>\n",
       "    <tr>\n",
       "      <th>2</th>\n",
       "      <td>3</td>\n",
       "      <td>3</td>\n",
       "      <td>RT @roshankar: Former FinSec, RBI Dy Governor,...</td>\n",
       "      <td>False</td>\n",
       "      <td>0</td>\n",
       "      <td>NaN</td>\n",
       "      <td>2016-11-23 18:40:03</td>\n",
       "      <td>False</td>\n",
       "      <td>NaN</td>\n",
       "      <td>8.014955e+17</td>\n",
       "      <td>NaN</td>\n",
       "      <td>&lt;a href=\"http://twitter.com/download/android\" ...</td>\n",
       "      <td>rahulja13034944</td>\n",
       "      <td>12</td>\n",
       "      <td>True</td>\n",
       "      <td>False</td>\n",
       "    </tr>\n",
       "    <tr>\n",
       "      <th>3</th>\n",
       "      <td>4</td>\n",
       "      <td>4</td>\n",
       "      <td>RT @ANI_news: Gurugram (Haryana): Post office ...</td>\n",
       "      <td>False</td>\n",
       "      <td>0</td>\n",
       "      <td>NaN</td>\n",
       "      <td>2016-11-23 18:39:59</td>\n",
       "      <td>False</td>\n",
       "      <td>NaN</td>\n",
       "      <td>8.014955e+17</td>\n",
       "      <td>NaN</td>\n",
       "      <td>&lt;a href=\"http://twitter.com/download/android\" ...</td>\n",
       "      <td>deeptiyvd</td>\n",
       "      <td>338</td>\n",
       "      <td>True</td>\n",
       "      <td>False</td>\n",
       "    </tr>\n",
       "    <tr>\n",
       "      <th>4</th>\n",
       "      <td>5</td>\n",
       "      <td>5</td>\n",
       "      <td>RT @satishacharya: Reddy Wedding! @mail_today ...</td>\n",
       "      <td>False</td>\n",
       "      <td>0</td>\n",
       "      <td>NaN</td>\n",
       "      <td>2016-11-23 18:39:39</td>\n",
       "      <td>False</td>\n",
       "      <td>NaN</td>\n",
       "      <td>8.014954e+17</td>\n",
       "      <td>NaN</td>\n",
       "      <td>&lt;a href=\"http://cpimharyana.com\" rel=\"nofollow...</td>\n",
       "      <td>CPIMBadli</td>\n",
       "      <td>120</td>\n",
       "      <td>True</td>\n",
       "      <td>False</td>\n",
       "    </tr>\n",
       "  </tbody>\n",
       "</table>\n",
       "</div>"
      ],
      "text/plain": [
       "   Unnamed: 0  X                                               text  \\\n",
       "0           1  1  RT @rssurjewala: Critical question: Was PayTM ...   \n",
       "1           2  2  RT @Hemant_80: Did you vote on #Demonetization...   \n",
       "2           3  3  RT @roshankar: Former FinSec, RBI Dy Governor,...   \n",
       "3           4  4  RT @ANI_news: Gurugram (Haryana): Post office ...   \n",
       "4           5  5  RT @satishacharya: Reddy Wedding! @mail_today ...   \n",
       "\n",
       "   favorited  favoriteCount replyToSN              created  truncated  \\\n",
       "0      False              0       NaN  2016-11-23 18:40:30      False   \n",
       "1      False              0       NaN  2016-11-23 18:40:29      False   \n",
       "2      False              0       NaN  2016-11-23 18:40:03      False   \n",
       "3      False              0       NaN  2016-11-23 18:39:59      False   \n",
       "4      False              0       NaN  2016-11-23 18:39:39      False   \n",
       "\n",
       "   replyToSID            id  replyToUID  \\\n",
       "0         NaN  8.014957e+17         NaN   \n",
       "1         NaN  8.014957e+17         NaN   \n",
       "2         NaN  8.014955e+17         NaN   \n",
       "3         NaN  8.014955e+17         NaN   \n",
       "4         NaN  8.014954e+17         NaN   \n",
       "\n",
       "                                        statusSource       screenName  \\\n",
       "0  <a href=\"http://twitter.com/download/android\" ...  HASHTAGFARZIWAL   \n",
       "1  <a href=\"http://twitter.com/download/android\" ...   PRAMODKAUSHIK9   \n",
       "2  <a href=\"http://twitter.com/download/android\" ...  rahulja13034944   \n",
       "3  <a href=\"http://twitter.com/download/android\" ...        deeptiyvd   \n",
       "4  <a href=\"http://cpimharyana.com\" rel=\"nofollow...        CPIMBadli   \n",
       "\n",
       "   retweetCount  isRetweet  retweeted  \n",
       "0           331       True      False  \n",
       "1            66       True      False  \n",
       "2            12       True      False  \n",
       "3           338       True      False  \n",
       "4           120       True      False  "
      ]
     },
     "execution_count": 76,
     "metadata": {
      "tags": []
     },
     "output_type": "execute_result"
    }
   ],
   "source": [
    "df = pd.read_csv(\"demonetization-tweets.csv\", encoding = \"ISO-8859-1\")\n",
    "print(df.shape)\n",
    "df.head()"
   ]
  },
  {
   "cell_type": "code",
   "execution_count": null,
   "metadata": {
    "id": "UMITUQb52I_V",
    "outputId": "90fb99a4-855a-4e3f-f558-516747b0cf8d"
   },
   "outputs": [
    {
     "data": {
      "text/plain": [
       "'RT @centerofright: #DeMonetization - Ppl are ready to give @narendramodi the 50 Days he asked for in the war against corruption and black m\\x85'"
      ]
     },
     "execution_count": 77,
     "metadata": {
      "tags": []
     },
     "output_type": "execute_result"
    }
   ],
   "source": [
    "# see randomly chosen sample tweets\n",
    "df.text[random.randrange(len(df.text))]"
   ]
  },
  {
   "cell_type": "code",
   "execution_count": null,
   "metadata": {
    "id": "xgJGUBEd2I_X",
    "outputId": "5d1c1ab3-9a89-418a-93df-b1af3f88f969"
   },
   "outputs": [
    {
     "data": {
      "text/plain": [
       "0    RT @rssurjewala: Critical question: Was PayTM ...\n",
       "1    RT @Hemant_80: Did you vote on #Demonetization...\n",
       "2    RT @roshankar: Former FinSec, RBI Dy Governor,...\n",
       "3    RT @ANI_news: Gurugram (Haryana): Post office ...\n",
       "4    RT @satishacharya: Reddy Wedding! @mail_today ...\n",
       "5    @DerekScissors1: Indias #demonetization: #Bla...\n",
       "6    RT @gauravcsawant: Rs 40 lakh looted from a ba...\n",
       "7    RT @Joydeep_911: Calling all Nationalists to j...\n",
       "8    RT @sumitbhati2002: Many opposition leaders ar...\n",
       "9    National reform now destroyed even the essence...\n",
       "Name: text, dtype: object"
      ]
     },
     "execution_count": 78,
     "metadata": {
      "tags": []
     },
     "output_type": "execute_result"
    }
   ],
   "source": [
    "df.text[:10]"
   ]
  },
  {
   "cell_type": "markdown",
   "metadata": {
    "id": "ruyWqfMU2I_a"
   },
   "source": [
    "Note that many tweets have strings such as RT, @xyz, etc. Some have URLs, punctuation marks, smileys etc. The following code cleans the data to handle many of these issues."
   ]
  },
  {
   "cell_type": "code",
   "execution_count": null,
   "metadata": {
    "id": "AIrxx0Bm2I_a",
    "outputId": "546a5416-fa2a-462b-880d-1a10a6ea5f1e"
   },
   "outputs": [
    {
     "data": {
      "text/html": [
       "<div>\n",
       "<style scoped>\n",
       "    .dataframe tbody tr th:only-of-type {\n",
       "        vertical-align: middle;\n",
       "    }\n",
       "\n",
       "    .dataframe tbody tr th {\n",
       "        vertical-align: top;\n",
       "    }\n",
       "\n",
       "    .dataframe thead th {\n",
       "        text-align: right;\n",
       "    }\n",
       "</style>\n",
       "<table border=\"1\" class=\"dataframe\">\n",
       "  <thead>\n",
       "    <tr style=\"text-align: right;\">\n",
       "      <th></th>\n",
       "      <th>tweet</th>\n",
       "    </tr>\n",
       "  </thead>\n",
       "  <tbody>\n",
       "    <tr>\n",
       "      <th>0</th>\n",
       "      <td>rt : critical question: was paytm informed abo...</td>\n",
       "    </tr>\n",
       "    <tr>\n",
       "      <th>1</th>\n",
       "      <td>rt _80: did you vote on #demonetization on mod...</td>\n",
       "    </tr>\n",
       "    <tr>\n",
       "      <th>2</th>\n",
       "      <td>rt : former finsec rbi dy governor cbdt chair ...</td>\n",
       "    </tr>\n",
       "    <tr>\n",
       "      <th>3</th>\n",
       "      <td>rt _news: gurugram haryana: post office employ...</td>\n",
       "    </tr>\n",
       "    <tr>\n",
       "      <th>4</th>\n",
       "      <td>rt : reddy wedding! _today cartoon #demonetiza...</td>\n",
       "    </tr>\n",
       "    <tr>\n",
       "      <th>5</th>\n",
       "      <td>: indias #demonetization: #blackmoney a sympt...</td>\n",
       "    </tr>\n",
       "    <tr>\n",
       "      <th>6</th>\n",
       "      <td>rt : rs 40 lakh looted from a bank in kishtwar...</td>\n",
       "    </tr>\n",
       "    <tr>\n",
       "      <th>7</th>\n",
       "      <td>rt _911: calling all nationalists to join\\rwal...</td>\n",
       "    </tr>\n",
       "    <tr>\n",
       "      <th>8</th>\n",
       "      <td>rt : many opposition leaders are with  on the ...</td>\n",
       "    </tr>\n",
       "    <tr>\n",
       "      <th>9</th>\n",
       "      <td>national reform now destroyed even the essence...</td>\n",
       "    </tr>\n",
       "  </tbody>\n",
       "</table>\n",
       "</div>"
      ],
      "text/plain": [
       "                                               tweet\n",
       "0  rt : critical question: was paytm informed abo...\n",
       "1  rt _80: did you vote on #demonetization on mod...\n",
       "2  rt : former finsec rbi dy governor cbdt chair ...\n",
       "3  rt _news: gurugram haryana: post office employ...\n",
       "4  rt : reddy wedding! _today cartoon #demonetiza...\n",
       "5  : indias #demonetization: #blackmoney a sympt...\n",
       "6  rt : rs 40 lakh looted from a bank in kishtwar...\n",
       "7  rt _911: calling all nationalists to join\\rwal...\n",
       "8  rt : many opposition leaders are with  on the ...\n",
       "9  national reform now destroyed even the essence..."
      ]
     },
     "execution_count": 79,
     "metadata": {
      "tags": []
     },
     "output_type": "execute_result"
    }
   ],
   "source": [
    "# remove URLs\n",
    "def remove_URL(x):\n",
    "            return x.replace(r'https[a-zA-Z0-9]*', \"\", regex = True)\n",
    "\n",
    "\n",
    "# clean tweet text\n",
    "def clean_tweets(tweet_col):\n",
    "    \n",
    "    df = pd.DataFrame({'tweet':tweet_col})\n",
    "    \n",
    "    df['tweet'] = df['tweet'].replace(r'\\'|\\\"|\\,|\\.|\\?|\\+|\\-|\\/|\\=|\\(|\\)|\\n|\"', '', regex=True)\n",
    "    df['tweet'] = df['tweet'].replace(\"  \", \" \")\n",
    "    df['tweet'] = df['tweet'].replace(r'@[a-zA-Z0-9]*', '', regex=True)\n",
    "    df['tweet'] = remove_URL(df['tweet'])\n",
    "    df['tweet'] = df['tweet'].str.lower() \n",
    "    \n",
    "    return(df)\n",
    "\n",
    "cleaned_tweets = clean_tweets(df.text)\n",
    "cleaned_tweets[:10]"
   ]
  },
  {
   "cell_type": "markdown",
   "metadata": {
    "id": "Fn98UYYz2I_e"
   },
   "source": [
    "Since tweets often contain slang words such as *wat, rt, lol* etc, we can append the stopwords with a list of such custom words and remove them."
   ]
  },
  {
   "cell_type": "code",
   "execution_count": null,
   "metadata": {
    "id": "mQBRXPyy2I_f",
    "scrolled": false
   },
   "outputs": [],
   "source": [
    "words_remove = [\"ax\",\"i\",\"you\",\"edu\",\"s\",\"t\",\"m\",\"subject\",\"can\",\"lines\",\"re\",\"what\", \"there\",\n",
    "                    \"all\",\"we\",\"one\",\"the\",\"a\",\"an\",\"of\",\"or\",\"in\",\"for\",\"by\",\"on\",\"but\",\"is\",\"in\",\n",
    "                    \"a\",\"not\",\"with\",\"as\",\"was\",\"if\",\"they\",\"are\",\"this\",\"and\",\"it\",\"have\",\"from\",\"at\",\n",
    "                    \"my\",\"be\",\"by\",\"not\",\"that\",\"to\",\"from\",\"com\",\"org\",\"like\",\"likes\",\"so\",\"said\",\"from\",\n",
    "                    \"what\",\"told\",\"over\",\"more\",\"other\",\"have\",\"last\",\"with\",\"this\",\"that\",\"such\",\"when\",\n",
    "                    \"been\",\"says\",\"will\",\"also\",\"where\",\"why\",\"would\",\"today\", \"in\", \"on\", \"you\", \"r\", \"d\", \n",
    "                    \"u\", \"hw\",\"wat\", \"oly\", \"s\", \"b\", \"ht\", \"rt\", \"p\",\"the\",\"th\", \"lol\", ':']\n",
    "\n",
    "\n",
    "# remove stop words, punctuations \n",
    "stop_words = set(list(stopwords.words('english') + \n",
    "                      list(string.punctuation) +\n",
    "                      words_remove)) \n",
    "\n",
    "data_words = list(sent_to_words(cleaned_tweets.tweet.values.tolist(), deacc=False))\n",
    "\n",
    "\n",
    "# remove stopwords\n",
    "def remove_stopwords(texts, stop_words=stop_words):\n",
    "    return [[word for word in simple_preprocess(str(doc)) if word not in stop_words] for doc in texts]\n",
    "\n",
    "data_words_nostops = remove_stopwords(data_words)\n",
    "\n",
    "\n",
    "# spacy for lemmatization\n",
    "nlp = spacy.load('en', disable=['parser', 'ner'])\n",
    "data_lemmatized = lemmatization(data_words_nostops, allowed_postags=['NOUN', 'ADJ', 'VERB', 'ADV'])"
   ]
  },
  {
   "cell_type": "code",
   "execution_count": null,
   "metadata": {
    "id": "X4GOO1sL2I_h",
    "outputId": "51fc6dd9-9b42-48b8-e5e1-8bf97800309c"
   },
   "outputs": [
    {
     "data": {
      "text/plain": [
       "[['critical',\n",
       "  'question',\n",
       "  'paytm',\n",
       "  'inform',\n",
       "  'demonetization',\n",
       "  'edict',\n",
       "  'pm',\n",
       "  'clearly',\n",
       "  'fishy',\n",
       "  'require',\n",
       "  'full',\n",
       "  'disclosure',\n",
       "  'amp'],\n",
       " ['vote', 'demonetization', 'modi', 'survey', 'app'],\n",
       " ['former',\n",
       "  'finsec',\n",
       "  'rbi',\n",
       "  'governor',\n",
       "  'cbdt',\n",
       "  'chair',\n",
       "  'harvard',\n",
       "  'professor',\n",
       "  'lambaste',\n",
       "  'demonetization',\n",
       "  'aadmi',\n",
       "  'listen']]"
      ]
     },
     "execution_count": 81,
     "metadata": {
      "tags": []
     },
     "output_type": "execute_result"
    }
   ],
   "source": [
    "# sample lemmatized tweets\n",
    "data_lemmatized[:3]"
   ]
  },
  {
   "cell_type": "code",
   "execution_count": null,
   "metadata": {
    "id": "tSVgWftF2I_j"
   },
   "outputs": [],
   "source": [
    "# create dictionary and corpus\n",
    "id2word = corpora.Dictionary(data_lemmatized)\n",
    "texts = data_lemmatized\n",
    "corpus = [id2word.doc2bow(text) for text in texts]"
   ]
  },
  {
   "cell_type": "code",
   "execution_count": null,
   "metadata": {
    "id": "s8-IAGmE2I_m"
   },
   "outputs": [],
   "source": [
    "# build models across a range of num_topics and alpha\n",
    "num_topics_range = [2, 6, 10, 15]\n",
    "alpha_range = [0.01, 0.1, 1]\n",
    "model_list, coherence_values = compute_coherence_values(dictionary=id2word, \n",
    "                                                        corpus=corpus, \n",
    "                                                        texts=data_lemmatized, \n",
    "                                                        num_topics_range=num_topics_range, \n",
    "                                                        alpha_range=alpha_range)\n",
    "\n",
    "coherence_df = pd.DataFrame(coherence_values, columns=['alpha', 'num_topics', 'coherence_value'])\n",
    "coherence_df"
   ]
  },
  {
   "cell_type": "code",
   "execution_count": null,
   "metadata": {
    "id": "8iPA1wCn2I_p",
    "outputId": "990b202c-b5f8-4d71-ef3a-065c72a61ccf"
   },
   "outputs": [
    {
     "data": {
      "image/png": "[encoded data removed]",
      "text/plain": [
       "<Figure size 1152x432 with 3 Axes>"
      ]
     },
     "metadata": {
      "tags": []
     },
     "output_type": "display_data"
    }
   ],
   "source": [
    "# plot\n",
    "plot_coherence(coherence_df, alpha_range, num_topics_range)"
   ]
  },
  {
   "cell_type": "code",
   "execution_count": null,
   "metadata": {
    "id": "oS4lIdC32I_r"
   },
   "outputs": [],
   "source": [
    "# Build LDA model with alpha=0.1 and 10 topics\n",
    "lda_model = gensim.models.ldamodel.LdaModel(corpus=corpus,\n",
    "                                           id2word=id2word,\n",
    "                                           num_topics=10, \n",
    "                                           random_state=100,\n",
    "                                           update_every=1,\n",
    "                                           chunksize=100,\n",
    "                                           passes=10,\n",
    "                                           alpha=0.1,\n",
    "                                           per_word_topics=True)"
   ]
  },
  {
   "cell_type": "code",
   "execution_count": null,
   "metadata": {
    "id": "oHtKCUVs2I_t",
    "outputId": "914c19d4-dcc6-49cb-a3c5-627f30e59a27",
    "scrolled": false
   },
   "outputs": [
    {
     "name": "stdout",
     "output_type": "stream",
     "text": [
      "[(0,\n",
      "  '0.098*\"modi\" + 0.088*\"demonetization\" + 0.066*\"poor\" + 0.062*\"love\" + '\n",
      "  '0.062*\"quiet\" + 0.061*\"men\" + 0.061*\"prohibition\" + 0.061*\"tobaccogutkha\" + '\n",
      "  '0.061*\"engli\" + 0.050*\"implement\"'),\n",
      " (1,\n",
      "  '0.084*\"demonetization\" + 0.062*\"youtube\" + 0.059*\"people\" + 0.049*\"economy\" '\n",
      "  '+ 0.027*\"indian\" + 0.026*\"flag\" + 0.026*\"reinstate\" + 0.025*\"thus\" + '\n",
      "  '0.025*\"ge\" + 0.018*\"back\"'),\n",
      " (2,\n",
      "  '0.185*\"ed\" + 0.081*\"demonetization\" + 0.063*\"keep\" + 0.038*\"bc\" + '\n",
      "  '0.036*\"bf\" + 0.036*\"headline\" + 0.036*\"yearend\" + 0.033*\"wave\" + '\n",
      "  '0.028*\"index\" + 0.028*\"ad\"'),\n",
      " (3,\n",
      "  '0.112*\"ban\" + 0.091*\"find\" + 0.081*\"demonetization\" + 0.057*\"economic\" + '\n",
      "  '0.045*\"effect\" + 0.043*\"tcoe\" + 0.028*\"less\" + 0.027*\"system\" + '\n",
      "  '0.025*\"double\" + 0.024*\"already\"'),\n",
      " (4,\n",
      "  '0.085*\"demonetization\" + 0.077*\"pm\" + 0.052*\"due\" + 0.050*\"shortage\" + '\n",
      "  '0.048*\"ufe\" + 0.038*\"question\" + 0.036*\"end\" + 0.034*\"parliament\" + '\n",
      "  '0.033*\"coast\" + 0.033*\"fisherman\"'),\n",
      " (5,\n",
      "  '0.077*\"cash\" + 0.059*\"demonetization\" + 0.050*\"report\" + 0.050*\"supply\" + '\n",
      "  '0.049*\"blame\" + 0.046*\"lack\" + 0.018*\"atms\" + 0.017*\"post\" + 0.016*\"still\" '\n",
      "  '+ 0.013*\"payment\"'),\n",
      " (6,\n",
      "  '0.085*\"demonetization\" + 0.062*\"s\" + 0.059*\"staff\" + 0.057*\"yogi\" + '\n",
      "  '0.057*\"adityanath\" + 0.043*\"amp\" + 0.042*\"youtube\" + 0.026*\"price\" + '\n",
      "  '0.021*\"slip\" + 0.021*\"appear\"'),\n",
      " (7,\n",
      "  '0.140*\"india\" + 0.109*\"demonetization\" + 0.066*\"will\" + 0.053*\"dear\" + '\n",
      "  '0.050*\"actually\" + 0.041*\"make\" + 0.038*\"video\" + 0.035*\"there\" + '\n",
      "  '0.034*\"bypoll\" + 0.029*\"believe\"'),\n",
      " (8,\n",
      "  '0.107*\"good\" + 0.066*\"tco\" + 0.060*\"successful\" + 0.059*\"demonetization\" + '\n",
      "  '0.046*\"politicsit\" + 0.046*\"transparent\" + 0.042*\"get\" + 0.024*\"day\" + '\n",
      "  '0.012*\"rakshaksetc\" + 0.012*\"swachata\"'),\n",
      " (9,\n",
      "  '0.115*\"rich\" + 0.079*\"demonetization\" + 0.075*\"result\" + 0.028*\"cag\" + '\n",
      "  '0.028*\"audit\" + 0.028*\"royal\" + 0.028*\"goalpost\" + 0.020*\"corruption\" + '\n",
      "  '0.018*\"take\" + 0.016*\"lot\"')]\n"
     ]
    }
   ],
   "source": [
    "# print keywords \n",
    "pprint.pprint(lda_model.print_topics())\n",
    "doc_lda = lda_model[corpus]"
   ]
  },
  {
   "cell_type": "code",
   "execution_count": null,
   "metadata": {
    "id": "CNjIdlWz2I_v",
    "outputId": "eb180c24-3fca-406c-b0c7-e70f725c99aa"
   },
   "outputs": [
    {
     "name": "stdout",
     "output_type": "stream",
     "text": [
      "Coherence Score:  0.4645754680906517\n"
     ]
    }
   ],
   "source": [
    "# coherence score\n",
    "coherence_model_lda = CoherenceModel(model=lda_model, texts=data_lemmatized, dictionary=id2word, coherence='c_v')\n",
    "coherence_lda = coherence_model_lda.get_coherence()\n",
    "print('Coherence Score: ', coherence_lda)"
   ]
  },
  {
   "cell_type": "code",
   "execution_count": null,
   "metadata": {
    "id": "QbQ6SBlj2I_x",
    "outputId": "090705cf-b7cf-4b72-ab9c-33c65b35ce19"
   },
   "outputs": [
    {
     "data": {
      "text/html": [
       "\n",
       "<link rel=\"stylesheet\" type=\"text/css\" href=\"https://cdn.rawgit.com/bmabey/pyLDAvis/files/ldavis.v1.0.0.css\">\n",
       "\n",
       "\n",
       "<div id=\"ldavis_el989347172343603124293891\"></div>\n",
       "<script type=\"text/javascript\">\n",
       "\n",
       "var ldavis_el989347172343603124293891_data = {\"mdsDat\": {\"Freq\": [14.642657279968262, 13.439915657043457, 10.127768516540527, 9.871559143066406, 9.829673767089844, 9.50656509399414, 9.334724426269531, 8.173550605773926, 7.688958168029785, 7.384620666503906], \"cluster\": [1, 1, 1, 1, 1, 1, 1, 1, 1, 1], \"topics\": [1, 2, 3, 4, 5, 6, 7, 8, 9, 10], \"x\": [-0.053407754532371086, 0.06622017823473811, -0.12550885934303133, -0.11766072047319572, 0.27193158775011206, -0.09017605123437918, 0.2283249292743274, -0.07137344106681003, -0.026028318811465966, -0.0823215497979244], \"y\": [-0.009415978431527562, 0.0048471108273569884, -0.0033424136689939265, 0.016893814436681674, -0.27333408785306507, -0.014362076696438962, 0.3154798575131, -0.0057704751008925935, -0.021636045461061224, -0.009359705565159828]}, \"tinfo\": {\"Category\": [\"Default\", \"Default\", \"Default\", \"Default\", \"Default\", \"Default\", \"Default\", \"Default\", \"Default\", \"Default\", \"Default\", \"Default\", \"Default\", \"Default\", \"Default\", \"Default\", \"Default\", \"Default\", \"Default\", \"Default\", \"Default\", \"Default\", \"Default\", \"Default\", \"Default\", \"Default\", \"Default\", \"Default\", \"Default\", \"Default\", \"Topic1\", \"Topic1\", \"Topic1\", \"Topic1\", \"Topic1\", \"Topic1\", \"Topic1\", \"Topic1\", \"Topic1\", \"Topic1\", \"Topic1\", \"Topic1\", \"Topic1\", \"Topic1\", \"Topic1\", \"Topic1\", \"Topic1\", \"Topic1\", \"Topic1\", \"Topic1\", \"Topic1\", \"Topic1\", \"Topic1\", \"Topic1\", \"Topic1\", \"Topic1\", \"Topic1\", \"Topic1\", \"Topic1\", \"Topic1\", \"Topic1\", \"Topic1\", \"Topic2\", \"Topic2\", \"Topic2\", \"Topic2\", \"Topic2\", \"Topic2\", \"Topic2\", \"Topic2\", \"Topic2\", \"Topic2\", \"Topic2\", \"Topic2\", \"Topic2\", \"Topic2\", \"Topic2\", \"Topic2\", \"Topic2\", \"Topic2\", \"Topic2\", \"Topic2\", \"Topic2\", \"Topic2\", \"Topic2\", \"Topic2\", \"Topic2\", \"Topic2\", \"Topic2\", \"Topic2\", \"Topic2\", \"Topic2\", \"Topic2\", \"Topic2\", \"Topic3\", \"Topic3\", \"Topic3\", \"Topic3\", \"Topic3\", \"Topic3\", \"Topic3\", \"Topic3\", \"Topic3\", \"Topic3\", \"Topic3\", \"Topic3\", \"Topic3\", \"Topic3\", \"Topic3\", \"Topic3\", \"Topic3\", \"Topic3\", \"Topic3\", \"Topic3\", \"Topic3\", \"Topic3\", \"Topic3\", \"Topic3\", \"Topic3\", \"Topic3\", \"Topic3\", \"Topic3\", \"Topic3\", \"Topic3\", \"Topic3\", \"Topic3\", \"Topic3\", \"Topic3\", \"Topic4\", \"Topic4\", \"Topic4\", \"Topic4\", \"Topic4\", \"Topic4\", \"Topic4\", \"Topic4\", \"Topic4\", \"Topic4\", \"Topic4\", \"Topic4\", \"Topic4\", \"Topic4\", \"Topic4\", \"Topic4\", \"Topic4\", \"Topic4\", \"Topic4\", \"Topic4\", \"Topic4\", \"Topic4\", \"Topic4\", \"Topic4\", \"Topic4\", \"Topic4\", \"Topic4\", \"Topic4\", \"Topic4\", \"Topic4\", \"Topic4\", \"Topic4\", \"Topic4\", \"Topic4\", \"Topic4\", \"Topic4\", \"Topic5\", \"Topic5\", \"Topic5\", \"Topic5\", \"Topic5\", \"Topic5\", \"Topic5\", \"Topic5\", \"Topic5\", \"Topic5\", \"Topic5\", \"Topic5\", \"Topic5\", \"Topic5\", \"Topic5\", \"Topic5\", \"Topic5\", \"Topic5\", \"Topic5\", \"Topic5\", \"Topic5\", \"Topic5\", \"Topic5\", \"Topic5\", \"Topic5\", \"Topic5\", \"Topic5\", \"Topic5\", \"Topic5\", \"Topic5\", \"Topic5\", \"Topic5\", \"Topic5\", \"Topic5\", \"Topic5\", \"Topic6\", \"Topic6\", \"Topic6\", \"Topic6\", \"Topic6\", \"Topic6\", \"Topic6\", \"Topic6\", \"Topic6\", \"Topic6\", \"Topic6\", \"Topic6\", \"Topic6\", \"Topic6\", \"Topic6\", \"Topic6\", \"Topic6\", \"Topic6\", \"Topic6\", \"Topic6\", \"Topic6\", \"Topic6\", \"Topic6\", \"Topic6\", \"Topic6\", \"Topic6\", \"Topic6\", \"Topic6\", \"Topic6\", \"Topic6\", \"Topic6\", \"Topic6\", \"Topic6\", \"Topic7\", \"Topic7\", \"Topic7\", \"Topic7\", \"Topic7\", \"Topic7\", \"Topic7\", \"Topic7\", \"Topic7\", \"Topic7\", \"Topic7\", \"Topic7\", \"Topic7\", \"Topic7\", \"Topic7\", \"Topic7\", \"Topic7\", \"Topic7\", \"Topic7\", \"Topic7\", \"Topic7\", \"Topic7\", \"Topic7\", \"Topic7\", \"Topic7\", \"Topic7\", \"Topic7\", \"Topic7\", \"Topic7\", \"Topic7\", \"Topic7\", \"Topic7\", \"Topic7\", \"Topic7\", \"Topic8\", \"Topic8\", \"Topic8\", \"Topic8\", \"Topic8\", \"Topic8\", \"Topic8\", \"Topic8\", \"Topic8\", \"Topic8\", \"Topic8\", \"Topic8\", \"Topic8\", \"Topic8\", \"Topic8\", \"Topic8\", \"Topic8\", \"Topic8\", \"Topic8\", \"Topic8\", \"Topic8\", \"Topic8\", \"Topic8\", \"Topic8\", \"Topic8\", \"Topic8\", \"Topic8\", \"Topic8\", \"Topic8\", \"Topic8\", \"Topic8\", \"Topic8\", \"Topic9\", \"Topic9\", \"Topic9\", \"Topic9\", \"Topic9\", \"Topic9\", \"Topic9\", \"Topic9\", \"Topic9\", \"Topic9\", \"Topic9\", \"Topic9\", \"Topic9\", \"Topic9\", \"Topic9\", \"Topic9\", \"Topic9\", \"Topic9\", \"Topic9\", \"Topic9\", \"Topic9\", \"Topic9\", \"Topic9\", \"Topic9\", \"Topic9\", \"Topic9\", \"Topic9\", \"Topic9\", \"Topic9\", \"Topic9\", \"Topic9\", \"Topic9\", \"Topic9\", \"Topic10\", \"Topic10\", \"Topic10\", \"Topic10\", \"Topic10\", \"Topic10\", \"Topic10\", \"Topic10\", \"Topic10\", \"Topic10\", \"Topic10\", \"Topic10\", \"Topic10\", \"Topic10\", \"Topic10\", \"Topic10\", \"Topic10\", \"Topic10\", \"Topic10\", \"Topic10\", \"Topic10\", \"Topic10\", \"Topic10\", \"Topic10\", \"Topic10\", \"Topic10\", \"Topic10\", \"Topic10\", \"Topic10\", \"Topic10\", \"Topic10\", \"Topic10\", \"Topic10\", \"Topic10\"], \"Freq\": [2581.0, 2813.0, 1397.0, 1437.0, 1286.0, 1678.0, 1179.0, 1049.0, 1158.0, 1323.0, 1496.0, 908.0, 961.0, 1145.0, 1061.0, 915.0, 911.0, 902.0, 881.0, 1089.0, 902.0, 902.0, 902.0, 902.0, 864.0, 1041.0, 995.0, 837.0, 843.0, 833.0, 1144.8577880859375, 1088.979248046875, 1040.43994140625, 822.6402587890625, 776.5150146484375, 749.8045043945312, 589.5526733398438, 446.5619812011719, 387.1166076660156, 311.6402282714844, 305.4453430175781, 254.16592407226562, 230.3736114501953, 229.47067260742188, 226.00025939941406, 1671.8094482421875, 218.24429321289062, 216.95196533203125, 177.6071319580078, 176.59205627441406, 164.71304321289062, 730.6724243164062, 730.6724243164062, 147.23861694335938, 146.35963439941406, 140.44464111328125, 124.91877746582031, 124.91877746582031, 116.41987609863281, 101.30489349365234, 1849.0703125, 323.0931396484375, 2812.7021484375, 1322.6336669921875, 1060.6741943359375, 994.705078125, 831.2305908203125, 753.02587890625, 692.4407348632812, 686.1160888671875, 573.1423950195312, 496.2529296875, 489.5997314453125, 294.5767822265625, 247.77569580078125, 194.74188232421875, 138.60459899902344, 135.8746795654297, 132.5306854248047, 107.72698211669922, 106.87024688720703, 100.6495132446289, 96.76042175292969, 91.95433807373047, 84.8724365234375, 76.1977310180664, 75.18656921386719, 73.62742614746094, 70.90572357177734, 67.01571655273438, 65.94347381591797, 63.79676055908203, 2191.866455078125, 80.92933654785156, 1157.91552734375, 761.9449462890625, 751.9928588867188, 741.809326171875, 690.069580078125, 276.8832702636719, 251.94369506835938, 244.78244018554688, 199.1316680908203, 195.0126190185547, 188.0814971923828, 184.28074645996094, 174.51226806640625, 164.7298583984375, 120.20293426513672, 121.0868911743164, 113.02225494384766, 134.0330047607422, 108.46990203857422, 105.51048278808594, 103.10865783691406, 96.76806640625, 91.95858001708984, 90.60160827636719, 86.33367919921875, 85.94477081298828, 84.95866394042969, 82.29886627197266, 80.59590911865234, 75.6774673461914, 88.50655364990234, 83.90304565429688, 883.3182373046875, 181.15582275390625, 914.9334716796875, 863.173095703125, 842.4474487304688, 832.4783325195312, 389.16802978515625, 311.6680908203125, 312.29962158203125, 255.20169067382812, 307.8682556152344, 225.1531982421875, 187.47740173339844, 172.65255737304688, 152.78604125976562, 105.24459075927734, 91.32891845703125, 76.96333312988281, 74.42493438720703, 71.4486083984375, 70.30899810791016, 70.04736328125, 67.64436340332031, 66.2011947631836, 64.6615982055664, 63.201515197753906, 69.1882553100586, 295.57403564453125, 295.57403564453125, 54.43154525756836, 53.05741500854492, 51.33922576904297, 78.52900695800781, 629.3524169921875, 615.6884765625, 1251.646240234375, 117.78370666503906, 117.78369140625, 1436.522216796875, 960.4293823242188, 910.297607421875, 901.1493530273438, 725.812255859375, 900.9444580078125, 900.944580078125, 900.944580078125, 900.944580078125, 565.9300537109375, 539.830810546875, 486.47723388671875, 388.759765625, 190.41787719726562, 131.94216918945312, 111.62883758544922, 74.94447326660156, 70.40599060058594, 68.9535903930664, 67.37187194824219, 44.83120346069336, 44.158084869384766, 36.458526611328125, 38.618568420410156, 31.908823013305664, 30.350587844848633, 28.7978458404541, 27.4421329498291, 24.729915618896484, 24.380414962768555, 1290.7423095703125, 50.68338394165039, 28.2247314453125, 28.2247314453125, 28.2247314453125, 836.5668334960938, 688.106201171875, 385.3997802734375, 374.7740173339844, 369.7918395996094, 358.1593933105469, 355.29888916015625, 255.50271606445312, 221.7395782470703, 220.3677520751953, 216.17201232910156, 185.31942749023438, 215.94580078125, 173.10427856445312, 171.2937469482422, 136.3822479248047, 110.39056396484375, 100.74210357666016, 98.33609008789062, 94.93011474609375, 87.29901123046875, 72.26127624511719, 72.0184555053711, 64.9919204711914, 60.33515930175781, 188.40939331054688, 55.68798828125, 55.61578369140625, 53.718441009521484, 46.047420501708984, 186.7863006591797, 879.9041748046875, 1184.1268310546875, 2580.422119140625, 880.9530639648438, 526.4703369140625, 500.5057678222656, 498.9356384277344, 458.71173095703125, 386.6166687011719, 382.668701171875, 379.2616271972656, 356.3268737792969, 301.5512390136719, 251.7490234375, 251.67713928222656, 202.2191162109375, 201.3129119873047, 199.85691833496094, 199.8455047607422, 199.8455047607422, 197.1660919189453, 132.49501037597656, 114.44940948486328, 114.44940948486328, 107.01834869384766, 496.5635986328125, 96.19078826904297, 94.94447326660156, 76.03681945800781, 64.14714813232422, 55.522586822509766, 45.34562301635742, 83.2275619506836, 83.2275619506836, 1131.548095703125, 102.23932647705078, 1396.916259765625, 908.0573120117188, 344.6588439941406, 344.6588439941406, 238.69544982910156, 215.7021026611328, 200.42324829101562, 199.62205505371094, 196.4105987548828, 180.42869567871094, 156.08909606933594, 118.00485229492188, 115.22238159179688, 115.35242462158203, 104.87613677978516, 102.5587387084961, 88.06561279296875, 88.01470184326172, 84.65857696533203, 77.37239074707031, 340.58489990234375, 340.58489990234375, 165.0608673095703, 64.15753936767578, 57.333152770996094, 53.872474670410156, 52.784332275390625, 49.39740753173828, 46.97842788696289, 46.990116119384766, 110.17951202392578, 960.8013305664062, 1285.4512939453125, 1048.44775390625, 649.4624633789062, 515.9804077148438, 490.3728942871094, 316.770263671875, 312.7244873046875, 288.5225524902344, 275.12347412109375, 257.2939147949219, 150.2280731201172, 140.2270965576172, 131.77969360351562, 113.11335754394531, 107.59982299804688, 104.6099624633789, 99.94284057617188, 92.09927368164062, 72.39569091796875, 69.0910873413086, 65.74854278564453, 69.33464050292969, 63.70928192138672, 58.01073455810547, 55.543155670166016, 48.031288146972656, 48.020843505859375, 48.020843505859375, 46.39036560058594, 46.368289947509766, 53.32073974609375, 52.30328369140625, 925.5653076171875, 1178.4825439453125, 728.5984497070312, 657.1519775390625, 466.6407165527344, 265.35992431640625, 133.6503448486328, 133.6503448486328, 133.6503448486328, 133.6503448486328, 133.6503448486328, 119.6015853881836, 89.84012603759766, 90.03137969970703, 505.79736328125, 505.79736328125, 74.35296630859375, 70.02640533447266, 69.16351318359375, 66.72470092773438, 61.246063232421875, 62.934059143066406, 58.14715576171875, 56.1728515625, 54.26976776123047, 55.2360954284668, 49.47148895263672, 48.947505950927734, 47.782833099365234, 47.782833099365234, 46.330379486083984, 50.993072509765625, 50.993072509765625, 50.993072509765625, 651.0993041992188], \"Term\": [\"ed\", \"india\", \"rich\", \"modi\", \"ban\", \"pm\", \"good\", \"find\", \"cash\", \"will\", \"youtube\", \"result\", \"poor\", \"due\", \"dear\", \"s\", \"love\", \"quiet\", \"keep\", \"shortage\", \"tobaccogutkha\", \"prohibition\", \"men\", \"engli\", \"staff\", \"ufe\", \"actually\", \"people\", \"yogi\", \"adityanath\", \"due\", \"shortage\", \"ufe\", \"question\", \"end\", \"parliament\", \"go\", \"watch\", \"digital\", \"think\", \"month\", \"poverty\", \"feat\", \"tcolffzzfokf\", \"may\", \"pm\", \"idea\", \"look\", \"failure\", \"soon\", \"lose\", \"fisherman\", \"coast\", \"old\", \"claim\", \"late\", \"tcotaeysn\", \"ybf\", \"way\", \"require\", \"demonetization\", \"amp\", \"india\", \"will\", \"dear\", \"actually\", \"make\", \"video\", \"there\", \"bypoll\", \"believe\", \"not\", \"money\", \"black\", \"do\", \"free\", \"see\", \"fix\", \"year\", \"talk\", \"withdrawal\", \"mobile\", \"governance\", \"sir\", \"true\", \"crore\", \"want\", \"would\", \"oil\", \"change\", \"tcon\", \"could\", \"demonetization\", \"news\", \"cash\", \"report\", \"supply\", \"blame\", \"lack\", \"atms\", \"post\", \"still\", \"payment\", \"global\", \"mla\", \"mandate\", \"crunch\", \"bjp\", \"growth\", \"racism\", \"success\", \"pelter\", \"daily\", \"service\", \"hopefully\", \"pathetic\", \"strike\", \"exchange\", \"market\", \"aadhaar\", \"country\", \"tax\", \"currency\", \"charge\", \"motilal\", \"cia\", \"demonetization\", \"amp\", \"s\", \"staff\", \"yogi\", \"adityanath\", \"price\", \"appear\", \"slip\", \"loot\", \"percent\", \"shopping\", \"bank\", \"know\", \"dry\", \"rs\", \"grow\", \"night\", \"right\", \"real\", \"patel\", \"example\", \"hope\", \"scam\", \"estate\", \"fire\", \"adsensegate\", \"youtubeisdead\", \"offensive\", \"inspire\", \"include\", \"demon\", \"fast\", \"amp\", \"youtube\", \"demonetization\", \"formation\", \"subverting\", \"modi\", \"poor\", \"love\", \"quiet\", \"implement\", \"engli\", \"men\", \"prohibition\", \"tobaccogutkha\", \"impact\", \"close\", \"prove\", \"reflect\", \"govt\", \"stone\", \"vote\", \"print\", \"responsible\", \"grand\", \"modis\", \"set\", \"restriction\", \"wake\", \"drama\", \"rise\", \"security\", \"period\", \"thug\", \"reform\", \"national\", \"demonetization\", \"sanghis\", \"wwii\", \"japan\", \"hawaiian\", \"people\", \"economy\", \"indian\", \"flag\", \"reinstate\", \"thus\", \"ge\", \"back\", \"issue\", \"support\", \"young\", \"use\", \"turk\", \"can\", \"like\", \"run\", \"youtuber\", \"begin\", \"feel\", \"happen\", \"face\", \"fintech\", \"first\", \"move\", \"whole\", \"baseless\", \"cost\", \"product\", \"silence\", \"minister\", \"scot\", \"youtube\", \"demonetization\", \"ed\", \"keep\", \"bc\", \"bf\", \"headline\", \"wave\", \"index\", \"ad\", \"action\", \"kerala\", \"help\", \"contract\", \"iip\", \"industrial\", \"production\", \"consumer\", \"cpi\", \"whammy\", \"riffin\", \"come\", \"lpfv\", \"tcorlpk\", \"time\", \"yearend\", \"article\", \"crisis\", \"tcotyriiekziu\", \"mean\", \"team\", \"research\", \"cross\", \"finger\", \"demonetization\", \"news\", \"rich\", \"result\", \"audit\", \"cag\", \"corruption\", \"take\", \"lot\", \"join\", \"evm\", \"be\", \"banker\", \"even\", \"demonetisation\", \"poo\", \"medium\", \"fight\", \"exclusive\", \"waroncash\", \"call\", \"jnu\", \"goalpost\", \"royal\", \"give\", \"opportunity\", \"discuss\", \"benefit\", \"much\", \"great\", \"speech\", \"predict\", \"warming\", \"demonetization\", \"ban\", \"find\", \"economic\", \"effect\", \"tcoe\", \"less\", \"system\", \"double\", \"already\", \"note\", \"return\", \"yet\", \"must\", \"export\", \"normalcy\", \"well\", \"banerjee\", \"buy\", \"bill\", \"source\", \"read\", \"abhijit\", \"thank\", \"income\", \"overall\", \"prediction\", \"contrary\", \"doomsday\", \"level\", \"earlier\", \"oswal\", \"puthanpanam\", \"demonetization\", \"good\", \"tco\", \"successful\", \"get\", \"day\", \"diwasyoga\", \"drivesgau\", \"rakshaksetc\", \"stunt\", \"swachata\", \"rbi\", \"update\", \"surgical\", \"politicsit\", \"transparent\", \"need\", \"banking\", \"hear\", \"concern\", \"datum\", \"evanspiegel\", \"enough\", \"rule\", \"analysis\", \"partner\", \"stand\", \"informal\", \"fstd\", \"ntil\", \"mamata\", \"morgan\", \"wgdeaa\", \"revert\", \"demonetization\"], \"Total\": [2581.0, 2813.0, 1397.0, 1437.0, 1286.0, 1678.0, 1179.0, 1049.0, 1158.0, 1323.0, 1496.0, 908.0, 961.0, 1145.0, 1061.0, 915.0, 911.0, 902.0, 881.0, 1089.0, 902.0, 902.0, 902.0, 902.0, 864.0, 1041.0, 995.0, 837.0, 843.0, 833.0, 1145.6927490234375, 1089.8143310546875, 1041.27587890625, 823.47509765625, 777.349853515625, 750.6392822265625, 590.3878784179688, 447.3974914550781, 387.9515075683594, 312.4749755859375, 306.28021240234375, 255.00772094726562, 231.2090301513672, 230.3084716796875, 226.83506774902344, 1678.1995849609375, 219.0791473388672, 217.7867889404297, 178.44200134277344, 177.42759704589844, 165.54779052734375, 734.772216796875, 734.772216796875, 148.07443237304688, 147.1944122314453, 141.27952575683594, 125.75377655029297, 125.75377655029297, 117.25476837158203, 102.14007568359375, 12319.78515625, 1143.385498046875, 2813.572998046875, 1323.505615234375, 1061.544677734375, 995.5757446289062, 832.1015014648438, 753.8974609375, 693.312255859375, 686.988037109375, 574.0133666992188, 497.1236572265625, 490.4704895019531, 295.4475402832031, 248.64637756347656, 195.6143035888672, 139.47528076171875, 136.74615478515625, 133.4014129638672, 108.5979232788086, 107.74093627929688, 101.52117156982422, 97.63380432128906, 92.82514190673828, 85.74461364746094, 77.06851959228516, 76.05734252929688, 74.4986572265625, 71.77660369873047, 67.88660430908203, 66.81453704833984, 64.66757202148438, 12319.78515625, 183.97764587402344, 1158.7938232421875, 762.8232421875, 752.8734741210938, 742.6880493164062, 690.9510498046875, 277.7613830566406, 252.8218994140625, 245.66053771972656, 200.00979614257812, 195.8911590576172, 188.9759979248047, 185.16232299804688, 175.3905029296875, 165.60800170898438, 121.08108520507812, 121.97417449951172, 113.90050506591797, 135.0802459716797, 109.34811401367188, 106.38856506347656, 103.99174499511719, 97.65096282958984, 92.83696746826172, 91.48098754882812, 87.21188354492188, 86.8229751586914, 85.83708953857422, 83.177001953125, 81.47410583496094, 76.5557632446289, 90.37362670898438, 88.34525299072266, 12319.78515625, 1143.385498046875, 915.7902221679688, 864.0350952148438, 843.3043212890625, 833.703857421875, 390.0248718261719, 312.5251159667969, 313.16448974609375, 256.0584411621094, 309.11175537109375, 226.07415771484375, 188.33409118652344, 173.50933837890625, 153.64332580566406, 106.1012954711914, 92.18606567382812, 77.83039093017578, 75.28174591064453, 72.3052978515625, 71.16572570800781, 70.9043960571289, 68.50109100341797, 67.05809020996094, 65.51837158203125, 64.06394958496094, 70.13715362548828, 300.1756286621094, 300.1756286621094, 55.28831481933594, 53.914642333984375, 52.196937561035156, 81.62798309326172, 1143.385498046875, 1496.3233642578125, 12319.78515625, 191.8994903564453, 191.89947509765625, 1437.420654296875, 961.3280639648438, 911.1963500976562, 902.0585327148438, 726.7108764648438, 902.0767211914062, 902.0768432617188, 902.0768432617188, 902.0768432617188, 566.8291015625, 540.7332763671875, 487.3761291503906, 389.6661682128906, 191.31690979003906, 132.8416290283203, 112.52825927734375, 75.84364318847656, 71.30482482910156, 69.86670684814453, 68.43950653076172, 45.732173919677734, 45.05669403076172, 37.35808563232422, 39.703697204589844, 32.8117790222168, 31.24929428100586, 29.697628021240234, 28.342002868652344, 25.62995719909668, 25.27952766418457, 12319.78515625, 82.46607971191406, 38.24267578125, 38.24267578125, 38.24267578125, 837.4044799804688, 688.9440307617188, 386.2374572753906, 375.613037109375, 370.6322937011719, 359.0000915527344, 356.1396484375, 256.3404235839844, 222.57733154296875, 221.20545959472656, 217.00967407226562, 186.1571807861328, 216.92279052734375, 173.94215393066406, 172.1313934326172, 137.21986389160156, 111.22827911376953, 101.57984924316406, 99.17383575439453, 95.76782989501953, 88.13674926757812, 73.09933471679688, 72.85606384277344, 65.8295669555664, 61.17287063598633, 191.1561737060547, 56.52577590942383, 56.45419692993164, 54.59717559814453, 46.88505172729492, 190.67385864257812, 1496.3233642578125, 12319.78515625, 2581.32373046875, 881.8560791015625, 527.3721923828125, 501.4075927734375, 499.8377380371094, 459.6168212890625, 387.51849365234375, 383.5709228515625, 380.1640625, 357.2298889160156, 302.4531555175781, 252.65098571777344, 252.57911682128906, 203.12149047851562, 202.21514892578125, 200.75872802734375, 200.7474365234375, 200.7474365234375, 198.0679473876953, 133.39688110351562, 115.37151336669922, 115.37151336669922, 107.92046356201172, 500.9173583984375, 97.09266662597656, 95.8462905883789, 76.938720703125, 65.04907989501953, 56.42572784423828, 46.24777603149414, 100.89849853515625, 100.89849853515625, 12319.78515625, 183.97764587402344, 1397.75927734375, 908.90087890625, 345.5120849609375, 345.5120849609375, 239.53857421875, 216.54519653320312, 201.2664794921875, 200.46531677246094, 197.2538604736328, 181.27183532714844, 156.93728637695312, 118.84796142578125, 116.06549072265625, 116.22171020507812, 105.71926879882812, 103.40233612060547, 88.90886688232422, 88.85869598388672, 85.50171661376953, 78.2212905883789, 344.60675048828125, 344.60675048828125, 167.12098693847656, 65.00074005126953, 58.177467346191406, 54.71566390991211, 53.62742233276367, 50.24053192138672, 47.82158279418945, 47.836631774902344, 154.077392578125, 12319.78515625, 1286.3262939453125, 1049.3221435546875, 650.3370971679688, 516.8549194335938, 491.24798583984375, 317.645263671875, 313.5992126464844, 289.39837646484375, 275.99853515625, 258.1683349609375, 151.10302734375, 141.10231018066406, 132.65443420410156, 114.00332641601562, 108.48677825927734, 105.48445892333984, 100.81764221191406, 92.97384643554688, 73.27082061767578, 69.9731674194336, 66.62303161621094, 70.2601089477539, 64.58373260498047, 58.885162353515625, 56.41750717163086, 48.906497955322266, 48.89719772338867, 48.89719772338867, 47.26485824584961, 47.242916107177734, 56.217567443847656, 56.162235260009766, 12319.78515625, 1179.35888671875, 729.4747314453125, 658.0293579101562, 467.5170593261719, 266.23614501953125, 134.53094482421875, 134.53094482421875, 134.53094482421875, 134.53094482421875, 134.53094482421875, 120.47789001464844, 90.71643829345703, 90.91453552246094, 511.2469787597656, 511.2469787597656, 75.22921752929688, 70.90440368652344, 70.03973388671875, 67.60191345214844, 62.12226486206055, 63.83949661254883, 59.023353576660156, 57.04914093017578, 55.146034240722656, 56.145206451416016, 50.34777069091797, 49.823760986328125, 48.6591911315918, 48.6591911315918, 47.20661544799805, 52.96102523803711, 52.96102523803711, 52.96102523803711, 12319.78515625], \"loglift\": [30.0, 29.0, 28.0, 27.0, 26.0, 25.0, 24.0, 23.0, 22.0, 21.0, 20.0, 19.0, 18.0, 17.0, 16.0, 15.0, 14.0, 13.0, 12.0, 11.0, 10.0, 9.0, 8.0, 7.0, 6.0, 5.0, 4.0, 3.0, 2.0, 1.0, 1.9205000400543213, 1.9205000400543213, 1.9204000234603882, 1.920199990272522, 1.920199990272522, 1.9200999736785889, 1.919800043106079, 1.9193999767303467, 1.919100046157837, 1.9185999631881714, 1.9184999465942383, 1.9178999662399292, 1.9176000356674194, 1.9176000356674194, 1.9175000190734863, 1.9174000024795532, 1.9174000024795532, 1.9174000024795532, 1.9164999723434448, 1.9164999723434448, 1.916200041770935, 1.9155999422073364, 1.9155999422073364, 1.9155999422073364, 1.9155000448226929, 1.9153000116348267, 1.9146000146865845, 1.9146000146865845, 1.9141000509262085, 1.9129999876022339, 0.024700000882148743, 0.6574000120162964, 2.0065999031066895, 2.0062999725341797, 2.0060999393463135, 2.0060999393463135, 2.0058999061584473, 2.0058000087738037, 2.00570011138916, 2.00570011138916, 2.0053999423980713, 2.005199909210205, 2.005199909210205, 2.003999948501587, 2.0034000873565674, 2.002500057220459, 2.000699996948242, 2.000499963760376, 2.0004000663757324, 1.998900055885315, 1.9988000392913818, 1.9982999563217163, 1.9980000257492065, 1.997499942779541, 1.9967000484466553, 1.9955999851226807, 1.9953999519348145, 1.9952000379562378, 1.9946999549865723, 1.99399995803833, 1.9938000440597534, 1.993399977684021, 0.28049999475479126, 1.1857000589370728, 2.289099931716919, 2.2887001037597656, 2.2887001037597656, 2.2887001037597656, 2.288599967956543, 2.2867000102996826, 2.286400079727173, 2.28629994392395, 2.2855000495910645, 2.285399913787842, 2.285099983215332, 2.285099983215332, 2.284899950027466, 2.284600019454956, 2.282599925994873, 2.282599925994873, 2.282099962234497, 2.282099962234497, 2.2818000316619873, 2.281599998474121, 2.281399965286255, 2.2808001041412354, 2.280400037765503, 2.2802000045776367, 2.2797999382019043, 2.2797000408172607, 2.279599905014038, 2.2792999744415283, 2.279099941253662, 2.27839994430542, 2.2690000534057617, 2.238300085067749, -0.34540000557899475, 0.44749999046325684, 2.3145999908447266, 2.314500093460083, 2.314500093460083, 2.313999891281128, 2.3132998943328857, 2.3127999305725098, 2.312700033187866, 2.3122000694274902, 2.311500072479248, 2.3113999366760254, 2.311000108718872, 2.3106000423431396, 2.3099000453948975, 2.3073999881744385, 2.3062000274658203, 2.30430006980896, 2.3041000366210938, 2.3036000728607178, 2.3034000396728516, 2.3034000396728516, 2.3029000759124756, 2.3027000427246094, 2.302299976348877, 2.302000045776367, 2.3018999099731445, 2.300100088119507, 2.300100088119507, 2.2999000549316406, 2.299499988555908, 2.2988998889923096, 2.2767999172210693, 1.718500018119812, 1.4275000095367432, 0.02879999950528145, 1.8273999691009521, 1.8273999691009521, 2.3190999031066895, 2.3187999725341797, 2.3187999725341797, 2.3187999725341797, 2.31850004196167, 2.31850004196167, 2.31850004196167, 2.31850004196167, 2.31850004196167, 2.31820011138916, 2.3180999755859375, 2.3178999423980713, 2.3173999786376953, 2.3150999546051025, 2.312999963760376, 2.3117001056671143, 2.307800054550171, 2.3071000576019287, 2.3066000938415527, 2.303999900817871, 2.2999000549316406, 2.2995998859405518, 2.2953999042510986, 2.292099952697754, 2.2918999195098877, 2.290600061416626, 2.2890000343322754, 2.2874999046325684, 2.2839999198913574, 2.2834999561309814, 0.06379999965429306, 1.8329999446868896, 2.0160000324249268, 2.0160000324249268, 2.0160000324249268, 2.3522000312805176, 2.3519999980926514, 2.3510000705718994, 2.3510000705718994, 2.3508999347686768, 2.350800037384033, 2.350800037384033, 2.349900007247925, 2.349400043487549, 2.349400043487549, 2.349299907684326, 2.3487000465393066, 2.3487000465393066, 2.348400115966797, 2.348299980163574, 2.347100019454956, 2.345599889755249, 2.344899892807007, 2.3447000980377197, 2.344399929046631, 2.343600034713745, 2.3417000770568848, 2.341599941253662, 2.340399980545044, 2.339400053024292, 2.33870005607605, 2.3382999897003174, 2.338200092315674, 2.3369998931884766, 2.335200071334839, 2.3326001167297363, 1.8221999406814575, 0.010999999940395355, 2.3710999488830566, 2.3703999519348145, 2.3696999549865723, 2.3696000576019287, 2.3696000576019287, 2.369499921798706, 2.3691000938415527, 2.3691000938415527, 2.3691000938415527, 2.3689000606536865, 2.3684000968933105, 2.3678998947143555, 2.3678998947143555, 2.367000102996826, 2.367000102996826, 2.3668999671936035, 2.3668999671936035, 2.3668999671936035, 2.3668999671936035, 2.3645999431610107, 2.3633999824523926, 2.3633999824523926, 2.36299991607666, 2.3626999855041504, 2.3620998859405518, 2.361999988555908, 2.359600067138672, 2.3575000762939453, 2.355299949645996, 2.3517000675201416, 2.1789000034332275, 2.1789000034332275, -0.016200000420212746, 1.7839000225067139, 2.503700017929077, 2.5032999515533447, 2.501800060272217, 2.501800060272217, 2.500699996948242, 2.5004000663757324, 2.5000998973846436, 2.5000998973846436, 2.5, 2.4995999336242676, 2.498800039291382, 2.4971001148223877, 2.496999979019165, 2.496799945831299, 2.496299982070923, 2.4960999488830566, 2.4946999549865723, 2.4946999549865723, 2.4944000244140625, 2.4934000968933105, 2.492500066757202, 2.492500066757202, 2.4918999671936035, 2.4911999702453613, 2.4895999431610107, 2.4886999130249023, 2.4883999824523926, 2.487299919128418, 2.4865000247955322, 2.4863998889923096, 2.1689000129699707, -0.04690000042319298, 2.56469988822937, 2.5645999908447266, 2.563999891281128, 2.563699960708618, 2.5636000633239746, 2.5625998973846436, 2.5625998973846436, 2.5624001026153564, 2.5622000694274902, 2.562000036239624, 2.5596001148223877, 2.5592000484466553, 2.558799982070923, 2.557499885559082, 2.5571999549865723, 2.5571000576019287, 2.5566999912261963, 2.5559000968933105, 2.5534000396728516, 2.5527000427246094, 2.5522000789642334, 2.5520999431610107, 2.551800012588501, 2.5504000186920166, 2.549799919128418, 2.547300100326538, 2.547300100326538, 2.547300100326538, 2.5467000007629395, 2.5467000007629395, 2.512500047683716, 2.4941999912261963, -0.02319999970495701, 2.6050000190734863, 2.604599952697754, 2.6043999195098877, 2.6038999557495117, 2.6024999618530273, 2.5992000102996826, 2.5992000102996826, 2.5992000102996826, 2.5992000102996826, 2.5992000102996826, 2.5985000133514404, 2.596100091934204, 2.5959999561309814, 2.595099925994873, 2.595099925994873, 2.594099998474121, 2.5933001041412354, 2.5931999683380127, 2.5927000045776367, 2.591599941253662, 2.5915000438690186, 2.5908000469207764, 2.5903000831604004, 2.5897998809814453, 2.589400053024292, 2.588200092315674, 2.5880000591278076, 2.587599992752075, 2.587599992752075, 2.5869998931884766, 2.5678999423980713, 2.5678999423980713, 2.5678999423980713, -0.3345000147819519], \"logprob\": [30.0, 29.0, 28.0, 27.0, 26.0, 25.0, 24.0, 23.0, 22.0, 21.0, 20.0, 19.0, 18.0, 17.0, 16.0, 15.0, 14.0, 13.0, 12.0, 11.0, 10.0, 9.0, 8.0, 7.0, 6.0, 5.0, 4.0, 3.0, 2.0, 1.0, -2.947700023651123, -2.99780011177063, -3.0434000492095947, -3.2781999111175537, -3.335900068283081, -3.3708999156951904, -3.6113998889923096, -3.88919997215271, -4.0320000648498535, -4.248899936676025, -4.269000053405762, -4.4527997970581055, -4.55109977722168, -4.554999828338623, -4.570199966430664, -2.5690999031066895, -4.605100154876709, -4.611100196838379, -4.811200141906738, -4.81689977645874, -4.886600017547607, -3.3968000411987305, -3.3968000411987305, -4.998700141906738, -5.004700183868408, -5.045899868011475, -5.163099765777588, -5.163099765777588, -5.23360013961792, -5.372600078582764, -2.4683001041412354, -4.212800025939941, -1.9630999565124512, -2.7177000045776367, -2.9384000301361084, -3.0025999546051025, -3.1821000576019287, -3.280900001525879, -3.364799976348877, -3.374000072479248, -3.5539000034332275, -3.697999954223633, -3.7114999294281006, -4.2195000648498535, -4.392499923706055, -4.633399963378906, -4.973400115966797, -4.993299961090088, -5.018199920654297, -5.225399971008301, -5.233399868011475, -5.293399810791016, -5.332799911499023, -5.383800029754639, -5.463900089263916, -5.571700096130371, -5.585100173950195, -5.605999946594238, -5.643700122833252, -5.700099945068359, -5.716300010681152, -5.749300003051758, -2.2125000953674316, -5.511499881744385, -2.567699909210205, -2.9862000942230225, -2.9993999004364014, -3.013000011444092, -3.0852999687194824, -3.998500108718872, -4.092899799346924, -4.121699810028076, -4.328100204467773, -4.348999977111816, -4.385200023651123, -4.405600070953369, -4.460100173950195, -4.5177998542785645, -4.832900047302246, -4.8256001472473145, -4.894499778747559, -4.723999977111816, -4.9355998039245605, -4.9633002281188965, -4.986299991607666, -5.049799919128418, -5.100800037384033, -5.115600109100342, -5.163899898529053, -5.168399810791016, -5.179900169372559, -5.211699962615967, -5.232699871063232, -5.295599937438965, -5.138999938964844, -5.192399978637695, -2.838399887084961, -4.422699928283691, -2.777600049972534, -2.835900068283081, -2.8601999282836914, -2.8721001148223877, -3.632499933242798, -3.8545000553131104, -3.8524999618530273, -4.0543999671936035, -3.86680006980896, -4.179699897766113, -4.362800121307373, -4.445199966430664, -4.567399978637695, -4.940199851989746, -5.081999778747559, -5.2530999183654785, -5.2866997718811035, -5.327499866485596, -5.343599796295166, -5.347300052642822, -5.382199764251709, -5.403800010681152, -5.427299976348877, -5.450099945068359, -5.359600067138672, -3.907599925994873, -3.907599925994873, -5.5995001792907715, -5.625100135803223, -5.6579999923706055, -5.232999801635742, -3.1517999172210693, -3.1737000942230225, -2.4642999172210693, -4.827600002288818, -4.827600002288818, -2.322200059890747, -2.7248001098632812, -2.7785000801086426, -2.788599967956543, -3.0048999786376953, -2.788800001144409, -2.788800001144409, -2.788800001144409, -2.788800001144409, -3.2537999153137207, -3.3010001182556152, -3.4049999713897705, -3.629300117492676, -4.3429999351501465, -4.70989990234375, -4.876999855041504, -5.2754998207092285, -5.337900161743164, -5.358799934387207, -5.381999969482422, -5.789299964904785, -5.8043999671936035, -5.995999813079834, -5.938499927520752, -6.129300117492676, -6.1793999671936035, -6.231900215148926, -6.280099868774414, -6.384200096130371, -6.398399829864502, -2.42930006980896, -5.666600227355957, -6.251999855041504, -6.251999855041504, -6.251999855041504, -2.8294999599456787, -3.024899959564209, -3.6045000553131104, -3.632499933242798, -3.645900011062622, -3.677799940109253, -3.685800075531006, -4.015600204467773, -4.157299995422363, -4.16349983215332, -4.182700157165527, -4.336699962615967, -4.183800220489502, -4.404900074005127, -4.41540002822876, -4.6433000564575195, -4.854800224304199, -4.946199893951416, -4.970399856567383, -5.00570011138916, -5.0894999504089355, -5.278500080108643, -5.281899929046631, -5.384500026702881, -5.458899974822998, -4.320199966430664, -5.539000034332275, -5.540299892425537, -5.574999809265137, -5.729100227355957, -4.328800201416016, -2.7790000438690186, -2.4820001125335693, -1.6849000453948975, -2.7595999240875244, -3.274399995803833, -3.324899911880493, -3.3280999660491943, -3.412100076675415, -3.5831000804901123, -3.593400001525879, -3.602299928665161, -3.6647000312805176, -3.8315999507904053, -4.0121002197265625, -4.012400150299072, -4.231200218200684, -4.2357001304626465, -4.243000030517578, -4.243000030517578, -4.243000030517578, -4.256499767303467, -4.6539998054504395, -4.8003997802734375, -4.8003997802734375, -4.867599964141846, -3.3327999114990234, -4.9741997718811035, -4.987299919128418, -5.2093000411987305, -5.37939977645874, -5.523799896240234, -5.726200103759766, -5.11899995803833, -5.11899995803833, -2.509200096130371, -4.9131999015808105, -2.1656999588012695, -2.596400022506714, -3.565200090408325, -3.565200090408325, -3.932499885559082, -4.03380012512207, -4.1072998046875, -4.111299991607666, -4.127500057220459, -4.212399959564209, -4.3572998046875, -4.63700008392334, -4.660900115966797, -4.6596999168396, -4.754899978637695, -4.777299880981445, -4.929599761962891, -4.930200099945068, -4.969099998474121, -5.059100151062012, -3.5771000385284424, -3.5771000385284424, -4.301400184631348, -5.246399879455566, -5.358799934387207, -5.42110013961792, -5.441500186920166, -5.507800102233887, -5.558000087738037, -5.557799816131592, -4.705599784851074, -2.5399999618530273, -2.187700033187866, -2.3914999961853027, -2.870500087738037, -3.1005001068115234, -3.151400089263916, -3.588399887084961, -3.601300001144409, -3.68179988861084, -3.7293999195098877, -3.7964000701904297, -4.334400177001953, -4.403299808502197, -4.4654998779296875, -4.618199825286865, -4.6682000160217285, -4.696400165557861, -4.742000102996826, -4.823699951171875, -5.064499855041504, -5.111199855804443, -5.160799980163574, -5.107699871063232, -5.192299842834473, -5.285999774932861, -5.329400062561035, -5.474800109863281, -5.474999904632568, -5.474999904632568, -5.509500026702881, -5.510000228881836, -5.370299816131592, -5.389500141143799, -2.516200065612793, -2.2342000007629395, -2.715100049972534, -2.8183000087738037, -3.1607000827789307, -3.725100040435791, -4.410999774932861, -4.410999774932861, -4.410999774932861, -4.410999774932861, -4.410999774932861, -4.52209997177124, -4.808199882507324, -4.806099891662598, -3.0801000595092773, -3.0801000595092773, -4.997399806976318, -5.057300090789795, -5.069699764251709, -5.105599880218506, -5.191299915313721, -5.164100170135498, -5.243199825286865, -5.2778000831604, -5.312300205230713, -5.294600009918213, -5.404799938201904, -5.415500164031982, -5.439599990844727, -5.439599990844727, -5.470399856567383, -5.374499797821045, -5.374499797821045, -5.374499797821045, -2.8276000022888184]}, \"token.table\": {\"Topic\": [3, 9, 7, 2, 7, 4, 4, 9, 1, 3, 4, 8, 10, 4, 7, 3, 8, 6, 9, 9, 4, 8, 10, 2, 6, 10, 7, 8, 6, 2, 8, 7, 9, 3, 2, 3, 9, 2, 8, 8, 6, 3, 2, 3, 3, 6, 1, 5, 1, 5, 7, 9, 7, 10, 7, 7, 9, 8, 6, 2, 3, 7, 7, 2, 1, 7, 3, 3, 3, 10, 10, 2, 4, 8, 1, 2, 3, 4, 5, 6, 7, 8, 9, 10, 1, 8, 10, 2, 9, 9, 5, 10, 4, 1, 9, 9, 6, 7, 9, 1, 5, 10, 4, 10, 8, 8, 4, 3, 8, 9, 6, 1, 4, 6, 1, 6, 8, 9, 1, 7, 6, 4, 6, 1, 5, 7, 9, 2, 6, 3, 4, 5, 7, 2, 10, 6, 10, 7, 8, 3, 1, 1, 3, 6, 8, 9, 10, 2, 5, 5, 8, 4, 3, 6, 2, 3, 5, 6, 7, 10, 7, 4, 3, 1, 7, 5, 5, 4, 9, 7, 2, 6, 7, 10, 4, 6, 2, 3, 5, 6, 8, 8, 7, 7, 4, 3, 1, 9, 9, 6, 1, 4, 1, 8, 5, 7, 2, 10, 3, 3, 1, 7, 8, 5, 6, 3, 2, 5, 5, 2, 1, 9, 10, 3, 9, 6, 8, 9, 5, 10, 2, 7, 4, 9, 2, 9, 10, 2, 4, 7, 9, 2, 1, 8, 3, 9, 9, 1, 10, 4, 3, 3, 3, 6, 4, 5, 1, 6, 2, 5, 7, 9, 10, 8, 5, 3, 1, 8, 9, 4, 5, 6, 7, 5, 5, 3, 5, 6, 9, 1, 5, 3, 10, 10, 9, 4, 5, 5, 6, 3, 1, 7, 5, 5, 8, 9, 9, 10, 8, 7, 4, 5, 1, 3, 6, 8, 9, 4, 10, 6, 4, 1, 2, 3, 5, 6, 9, 4, 2, 6, 10, 5, 2, 3, 5, 4, 1, 6, 2, 4, 1, 9, 8, 4, 10, 3, 5, 3, 10, 3, 4, 5, 7, 3, 10, 3, 6, 10, 10, 9, 8, 2, 3, 10, 9, 1, 2, 7, 1, 7, 7, 9, 2, 1, 5, 6, 7, 5, 2, 5, 7, 9, 10, 2, 6, 1, 10, 6, 2, 5, 5, 2, 2, 3, 5, 8, 8, 1, 7, 1, 9, 9, 10, 7, 6, 2, 2, 2, 2, 3, 5, 6, 1, 2, 1, 3, 7, 9, 4, 6, 4, 6, 2, 4, 7, 9, 6], \"Freq\": [0.990521252155304, 0.9820650815963745, 0.9969379901885986, 0.9994217157363892, 0.998511552810669, 0.9979562759399414, 0.9837867021560669, 0.9963821172714233, 0.2824943959712982, 0.15830181539058685, 0.5501206517219543, 0.007871361449360847, 0.9792181849479675, 0.9983197450637817, 0.988746166229248, 0.9972588419914246, 0.9985178709030151, 0.9986720085144043, 0.9989688992500305, 0.9918898940086365, 0.9929163455963135, 0.9940276145935059, 0.987244725227356, 0.0052313245832920074, 0.9834890365600586, 0.0052313245832920074, 0.9973980784416199, 0.9929838180541992, 0.9942916631698608, 0.9982345700263977, 0.9869202971458435, 0.9991871118545532, 0.9826558232307434, 0.9963286519050598, 0.9984852075576782, 0.9990735650062561, 0.9895256161689758, 0.9985617995262146, 0.9985178709030151, 0.9941321015357971, 0.9945835471153259, 0.9993149638175964, 0.9869399070739746, 0.9927403926849365, 0.9508150815963745, 0.045276910066604614, 0.9918854832649231, 0.9986439347267151, 0.994866132736206, 0.0013609660090878606, 0.002721932018175721, 0.0013609660090878606, 0.9895283579826355, 0.9910961985588074, 0.9962207078933716, 0.9974233508110046, 0.9816513657569885, 0.9977515935897827, 0.9906984567642212, 0.9896768927574158, 0.990247905254364, 0.9962767362594604, 0.991170346736908, 0.9861354827880859, 0.16848614811897278, 0.8226088881492615, 0.9977735280990601, 0.9941809177398682, 0.9876713752746582, 0.9819346070289612, 0.9953569769859314, 0.9994869232177734, 0.9770688414573669, 0.9908199310302734, 0.1500837802886963, 0.17792518436908722, 0.07167332619428635, 0.10162515193223953, 0.10479079186916351, 0.09610557556152344, 0.09188471734523773, 0.07800460606813431, 0.07516364753246307, 0.052841830998659134, 0.9975473284721375, 0.9797607660293579, 0.9960533380508423, 0.9974004030227661, 0.9816513657569885, 0.9986234307289124, 0.9822762608528137, 0.9960533380508423, 0.9958128333091736, 0.9993953704833984, 0.973690927028656, 0.9979439973831177, 0.9986297488212585, 0.9994871616363525, 0.9983459115028381, 0.999549925327301, 0.9988064169883728, 0.9826619029045105, 0.9920881390571594, 0.9868499040603638, 0.9928651452064514, 0.9936434030532837, 0.9872448444366455, 0.994742214679718, 0.9897775650024414, 0.9911991357803345, 0.9871024489402771, 0.9975230097770691, 0.9678053855895996, 0.02450140193104744, 0.9947708249092102, 0.9881638288497925, 0.9961090087890625, 0.998740017414093, 0.16848614811897278, 0.8226088881492615, 0.9849610924720764, 0.9833923578262329, 0.9882499575614929, 0.994866132736206, 0.0013609660090878606, 0.002721932018175721, 0.0013609660090878606, 0.9945434927940369, 0.9983679056167603, 0.20844244956970215, 0.6149052381515503, 0.01563318446278572, 0.1615428924560547, 0.996859610080719, 0.9864528775215149, 0.9968000054359436, 0.9988940358161926, 0.005983688868582249, 0.9873086810112, 0.9954507350921631, 0.9993430376052856, 0.0029018584173172712, 0.0029018584173172712, 0.0029018584173172712, 0.9895337224006653, 0.0029018584173172712, 0.9988477826118469, 0.9935083389282227, 0.9931166172027588, 0.9875948429107666, 0.9753081202507019, 0.9871339797973633, 0.9910714030265808, 0.9919824004173279, 0.026148797944188118, 0.0784463956952095, 0.7321663498878479, 0.13074399530887604, 0.9983239769935608, 0.9851551055908203, 0.998501718044281, 0.9926849007606506, 0.9904632568359375, 0.9950741529464722, 0.997707188129425, 0.9985373020172119, 0.9990217685699463, 0.9830353856086731, 0.9849680066108704, 0.998661994934082, 0.9997963309288025, 0.9967961311340332, 0.994478702545166, 0.9834665060043335, 0.9766982197761536, 0.9974061250686646, 0.026148797944188118, 0.0784463956952095, 0.7321663498878479, 0.13074399530887604, 0.9843867421150208, 0.997678816318512, 0.9990292191505432, 0.9965571761131287, 0.997064471244812, 0.9986235499382019, 0.9909433126449585, 0.9979686141014099, 0.9732389450073242, 0.9934271574020386, 0.9963873624801636, 0.9958664178848267, 0.9966910481452942, 0.9937074780464172, 0.9986870288848877, 0.988112211227417, 0.9986762404441833, 0.9744396805763245, 0.993722677230835, 0.9861041307449341, 0.9963186383247375, 0.9838724732398987, 0.993196427822113, 0.9988062381744385, 0.9811229705810547, 0.9948353171348572, 0.9948663711547852, 0.9997073411941528, 0.9789667129516602, 0.9990407228469849, 0.9958201050758362, 0.01888180896639824, 0.9629722833633423, 0.9848005771636963, 0.011065174825489521, 0.9873982667922974, 0.9883003234863281, 0.9950666427612305, 0.9493848085403442, 0.9836603999137878, 0.44027087092399597, 0.5544151663780212, 0.9893307685852051, 0.9955130219459534, 0.9977396726608276, 0.9954745173454285, 0.9864528775215149, 0.003331382991746068, 0.9860894083976746, 0.003331382991746068, 0.006662765983492136, 0.9891802668571472, 0.992743968963623, 0.9846041798591614, 0.03557606786489487, 0.9427657723426819, 0.9925996661186218, 0.9991483688354492, 0.9796027541160583, 0.9836195707321167, 0.9933337569236755, 0.9949512481689453, 0.9920029044151306, 0.9995169639587402, 0.9964033961296082, 0.9765089750289917, 0.9963058233261108, 0.003575260052457452, 0.003912003710865974, 0.001956001855432987, 0.001956001855432987, 0.001956001855432987, 0.9897369146347046, 0.9894881248474121, 0.998618483543396, 0.9967491030693054, 0.9960482716560364, 0.9825106263160706, 0.981464684009552, 0.9973722696304321, 0.9888765215873718, 0.9919545650482178, 0.9939908385276794, 0.9988062381744385, 0.997176468372345, 0.017805559560656548, 0.017805559560656548, 0.035611119121313095, 0.9258890748023987, 0.999423086643219, 0.9988265633583069, 0.9920132756233215, 0.9960533380508423, 0.9960333704948425, 0.9906483888626099, 0.9819474220275879, 0.9982904195785522, 0.9754210710525513, 0.9982939958572388, 0.9989207983016968, 0.9888381361961365, 0.9730197787284851, 0.9817007780075073, 0.9765474796295166, 0.99900883436203, 0.9927001595497131, 0.01888180896639824, 0.9629722833633423, 0.9994567632675171, 0.9946081638336182, 0.9829739928245544, 0.97525954246521, 0.0029018584173172712, 0.0029018584173172712, 0.0029018584173172712, 0.9895337224006653, 0.0029018584173172712, 0.9896203279495239, 0.9816098809242249, 0.9911101460456848, 0.9991371035575867, 0.0485047921538353, 0.06063098832964897, 0.13338817656040192, 0.6184360980987549, 0.13338817656040192, 0.012126198038458824, 0.9842212796211243, 0.0052445572800934315, 0.980732262134552, 0.010489114560186863, 0.9600216746330261, 0.9965923428535461, 0.9963476657867432, 0.983989953994751, 0.9952486753463745, 0.9992527961730957, 0.9890621304512024, 0.9911108016967773, 0.9962815642356873, 0.9975900053977966, 0.9860922694206238, 0.9828198552131653, 0.9988020062446594, 0.97323077917099, 0.9973111748695374, 0.9936644434928894, 0.9909845590591431, 0.9960533380508423, 0.20844246447086334, 0.6149052977561951, 0.01563318446278572, 0.16154290735721588, 0.9920939207077026, 0.9984356760978699, 0.998839795589447, 0.9945505261421204, 0.9899407029151917, 0.9960533380508423, 0.9980892539024353, 0.9974822998046875, 0.9944941401481628, 0.9858494400978088, 0.9993492364883423, 0.9974595308303833, 0.9943186044692993, 0.9878090023994446, 0.988112211227417, 0.9940059185028076, 0.9877991080284119, 0.9924550652503967, 0.9909616112709045, 0.9981072545051575, 0.998479962348938, 0.9526496529579163, 0.9972142577171326, 0.9914709329605103, 0.9988062381744385, 0.003912003710865974, 0.001956001855432987, 0.001956001855432987, 0.001956001855432987, 0.9897369146347046, 0.9913159012794495, 0.9957460165023804, 0.9987747073173523, 0.9921024441719055, 0.9937838315963745, 0.9988095760345459, 0.9953055381774902, 0.9636468291282654, 0.9860981106758118, 0.05192195996642113, 0.22066833078861237, 0.006490244995802641, 0.7139269113540649, 0.9903363585472107, 0.999111533164978, 0.9986579418182373, 0.9892987608909607, 0.9954072833061218, 0.01888180896639824, 0.9629722833633423, 0.9962767362594604, 0.9808269739151001, 0.9996179938316345, 0.9931229948997498, 0.9933065176010132, 0.026148797944188118, 0.0784463956952095, 0.7321663498878479, 0.13074399530887604, 0.9940059185028076, 0.9969909191131592, 0.00199633720330894, 0.0059890118427574635, 0.9921796321868896, 0.9921878576278687, 0.9984533190727234, 0.9953473210334778, 0.41167572140693665, 0.5881081819534302, 0.003331382991746068, 0.9860894083976746, 0.003331382991746068, 0.006662765983492136, 0.9889571070671082], \"Term\": [\"aadhaar\", \"abhijit\", \"action\", \"actually\", \"ad\", \"adityanath\", \"adsensegate\", \"already\", \"amp\", \"amp\", \"amp\", \"amp\", \"analysis\", \"appear\", \"article\", \"atms\", \"audit\", \"back\", \"ban\", \"banerjee\", \"bank\", \"banker\", \"banking\", \"baseless\", \"baseless\", \"baseless\", \"bc\", \"be\", \"begin\", \"believe\", \"benefit\", \"bf\", \"bill\", \"bjp\", \"black\", \"blame\", \"buy\", \"bypoll\", \"cag\", \"call\", \"can\", \"cash\", \"change\", \"charge\", \"cia\", \"cia\", \"claim\", \"close\", \"coast\", \"coast\", \"coast\", \"coast\", \"come\", \"concern\", \"consumer\", \"contract\", \"contrary\", \"corruption\", \"cost\", \"could\", \"country\", \"cpi\", \"crisis\", \"crore\", \"cross\", \"cross\", \"crunch\", \"currency\", \"daily\", \"datum\", \"day\", \"dear\", \"demon\", \"demonetisation\", \"demonetization\", \"demonetization\", \"demonetization\", \"demonetization\", \"demonetization\", \"demonetization\", \"demonetization\", \"demonetization\", \"demonetization\", \"demonetization\", \"digital\", \"discuss\", \"diwasyoga\", \"do\", \"doomsday\", \"double\", \"drama\", \"drivesgau\", \"dry\", \"due\", \"earlier\", \"economic\", \"economy\", \"ed\", \"effect\", \"end\", \"engli\", \"enough\", \"estate\", \"evanspiegel\", \"even\", \"evm\", \"example\", \"exchange\", \"exclusive\", \"export\", \"face\", \"failure\", \"fast\", \"fast\", \"feat\", \"feel\", \"fight\", \"find\", \"finger\", \"finger\", \"fintech\", \"fire\", \"first\", \"fisherman\", \"fisherman\", \"fisherman\", \"fisherman\", \"fix\", \"flag\", \"formation\", \"formation\", \"formation\", \"formation\", \"free\", \"fstd\", \"ge\", \"get\", \"give\", \"give\", \"global\", \"go\", \"goalpost\", \"goalpost\", \"goalpost\", \"goalpost\", \"goalpost\", \"good\", \"governance\", \"govt\", \"grand\", \"great\", \"grow\", \"growth\", \"happen\", \"hawaiian\", \"hawaiian\", \"hawaiian\", \"hawaiian\", \"headline\", \"hear\", \"help\", \"hope\", \"hopefully\", \"idea\", \"iip\", \"impact\", \"implement\", \"include\", \"income\", \"index\", \"india\", \"indian\", \"industrial\", \"informal\", \"inspire\", \"issue\", \"japan\", \"japan\", \"japan\", \"japan\", \"jnu\", \"join\", \"keep\", \"kerala\", \"know\", \"lack\", \"late\", \"less\", \"level\", \"like\", \"look\", \"loot\", \"lose\", \"lot\", \"love\", \"lpfv\", \"make\", \"mamata\", \"mandate\", \"market\", \"may\", \"mean\", \"medium\", \"men\", \"minister\", \"mla\", \"mobile\", \"modi\", \"modis\", \"money\", \"month\", \"morgan\", \"morgan\", \"motilal\", \"motilal\", \"move\", \"much\", \"must\", \"national\", \"need\", \"news\", \"news\", \"night\", \"normalcy\", \"not\", \"note\", \"ntil\", \"offensive\", \"offensive\", \"offensive\", \"offensive\", \"oil\", \"old\", \"opportunity\", \"oswal\", \"oswal\", \"overall\", \"parliament\", \"partner\", \"patel\", \"pathetic\", \"payment\", \"pelter\", \"people\", \"percent\", \"period\", \"pm\", \"pm\", \"politicsit\", \"politicsit\", \"politicsit\", \"politicsit\", \"politicsit\", \"poo\", \"poor\", \"post\", \"poverty\", \"predict\", \"prediction\", \"price\", \"print\", \"product\", \"production\", \"prohibition\", \"prove\", \"puthanpanam\", \"puthanpanam\", \"puthanpanam\", \"puthanpanam\", \"question\", \"quiet\", \"racism\", \"rakshaksetc\", \"rbi\", \"read\", \"real\", \"reflect\", \"reform\", \"reinstate\", \"report\", \"require\", \"research\", \"responsible\", \"restriction\", \"result\", \"return\", \"revert\", \"revert\", \"rich\", \"riffin\", \"right\", \"rise\", \"royal\", \"royal\", \"royal\", \"royal\", \"royal\", \"rs\", \"rule\", \"run\", \"s\", \"sanghis\", \"sanghis\", \"sanghis\", \"sanghis\", \"sanghis\", \"sanghis\", \"scam\", \"scot\", \"scot\", \"scot\", \"security\", \"see\", \"service\", \"set\", \"shopping\", \"shortage\", \"silence\", \"sir\", \"slip\", \"soon\", \"source\", \"speech\", \"staff\", \"stand\", \"still\", \"stone\", \"strike\", \"stunt\", \"subverting\", \"subverting\", \"subverting\", \"subverting\", \"success\", \"successful\", \"supply\", \"support\", \"surgical\", \"swachata\", \"system\", \"take\", \"talk\", \"tax\", \"tco\", \"tcoe\", \"tcolffzzfokf\", \"tcon\", \"tcorlpk\", \"tcotaeysn\", \"tcotyriiekziu\", \"team\", \"thank\", \"there\", \"think\", \"thug\", \"thus\", \"time\", \"tobaccogutkha\", \"transparent\", \"transparent\", \"transparent\", \"transparent\", \"transparent\", \"true\", \"turk\", \"ufe\", \"update\", \"use\", \"video\", \"vote\", \"wake\", \"want\", \"warming\", \"warming\", \"warming\", \"warming\", \"waroncash\", \"watch\", \"wave\", \"way\", \"well\", \"wgdeaa\", \"wgdeaa\", \"whammy\", \"whole\", \"will\", \"withdrawal\", \"would\", \"wwii\", \"wwii\", \"wwii\", \"wwii\", \"ybf\", \"year\", \"yearend\", \"yearend\", \"yearend\", \"yet\", \"yogi\", \"young\", \"youtube\", \"youtube\", \"youtubeisdead\", \"youtubeisdead\", \"youtubeisdead\", \"youtubeisdead\", \"youtuber\"]}, \"R\": 30, \"lambda.step\": 0.01, \"plot.opts\": {\"xlab\": \"PC1\", \"ylab\": \"PC2\"}, \"topic.order\": [5, 8, 6, 7, 1, 2, 3, 10, 4, 9]};\n",
       "\n",
       "function LDAvis_load_lib(url, callback){\n",
       "  var s = document.createElement('script');\n",
       "  s.src = url;\n",
       "  s.async = true;\n",
       "  s.onreadystatechange = s.onload = callback;\n",
       "  s.onerror = function(){console.warn(\"failed to load library \" + url);};\n",
       "  document.getElementsByTagName(\"head\")[0].appendChild(s);\n",
       "}\n",
       "\n",
       "if(typeof(LDAvis) !== \"undefined\"){\n",
       "   // already loaded: just create the visualization\n",
       "   !function(LDAvis){\n",
       "       new LDAvis(\"#\" + \"ldavis_el989347172343603124293891\", ldavis_el989347172343603124293891_data);\n",
       "   }(LDAvis);\n",
       "}else if(typeof define === \"function\" && define.amd){\n",
       "   // require.js is available: use it to load d3/LDAvis\n",
       "   require.config({paths: {d3: \"https://cdnjs.cloudflare.com/ajax/libs/d3/3.5.5/d3.min\"}});\n",
       "   require([\"d3\"], function(d3){\n",
       "      window.d3 = d3;\n",
       "      LDAvis_load_lib(\"https://cdn.rawgit.com/bmabey/pyLDAvis/files/ldavis.v1.0.0.js\", function(){\n",
       "        new LDAvis(\"#\" + \"ldavis_el989347172343603124293891\", ldavis_el989347172343603124293891_data);\n",
       "      });\n",
       "    });\n",
       "}else{\n",
       "    // require.js not available: dynamically load d3 & LDAvis\n",
       "    LDAvis_load_lib(\"https://cdnjs.cloudflare.com/ajax/libs/d3/3.5.5/d3.min.js\", function(){\n",
       "         LDAvis_load_lib(\"https://cdn.rawgit.com/bmabey/pyLDAvis/files/ldavis.v1.0.0.js\", function(){\n",
       "                 new LDAvis(\"#\" + \"ldavis_el989347172343603124293891\", ldavis_el989347172343603124293891_data);\n",
       "            })\n",
       "         });\n",
       "}\n",
       "</script>"
      ],
      "text/plain": [
       "PreparedData(topic_coordinates=            Freq  cluster  topics         x         y\n",
       "topic                                                \n",
       "4      14.642657        1       1 -0.053408 -0.009416\n",
       "7      13.439916        1       2  0.066220  0.004847\n",
       "5      10.127769        1       3 -0.125509 -0.003342\n",
       "6       9.871559        1       4 -0.117661  0.016894\n",
       "0       9.829674        1       5  0.271932 -0.273334\n",
       "1       9.506565        1       6 -0.090176 -0.014362\n",
       "2       9.334724        1       7  0.228325  0.315480\n",
       "9       8.173551        1       8 -0.071373 -0.005770\n",
       "3       7.688958        1       9 -0.026028 -0.021636\n",
       "8       7.384621        1      10 -0.082322 -0.009360, topic_info=     Category         Freq            Term         Total  loglift  logprob\n",
       "term                                                                      \n",
       "97    Default  2581.000000              ed   2581.000000  30.0000  30.0000\n",
       "47    Default  2813.000000           india   2813.000000  29.0000  29.0000\n",
       "593   Default  1397.000000            rich   1397.000000  28.0000  28.0000\n",
       "14    Default  1437.000000            modi   1437.000000  27.0000  27.0000\n",
       "214   Default  1286.000000             ban   1286.000000  26.0000  26.0000\n",
       "10    Default  1678.000000              pm   1678.000000  25.0000  25.0000\n",
       "123   Default  1179.000000            good   1179.000000  24.0000  24.0000\n",
       "1146  Default  1049.000000            find   1049.000000  23.0000  23.0000\n",
       "28    Default  1158.000000            cash   1158.000000  22.0000  22.0000\n",
       "947   Default  1323.000000            will   1323.000000  21.0000  21.0000\n",
       "2212  Default  1496.000000         youtube   1496.000000  20.0000  20.0000\n",
       "206   Default   908.000000          result    908.000000  19.0000  19.0000\n",
       "170   Default   961.000000            poor    961.000000  18.0000  18.0000\n",
       "356   Default  1145.000000             due   1145.000000  17.0000  17.0000\n",
       "1129  Default  1061.000000            dear   1061.000000  16.0000  16.0000\n",
       "57    Default   915.000000               s    915.000000  15.0000  15.0000\n",
       "2241  Default   911.000000            love    911.000000  14.0000  14.0000\n",
       "2616  Default   902.000000           quiet    902.000000  13.0000  13.0000\n",
       "907   Default   881.000000            keep    881.000000  12.0000  12.0000\n",
       "330   Default  1089.000000        shortage   1089.000000  11.0000  11.0000\n",
       "9475  Default   902.000000   tobaccogutkha    902.000000  10.0000  10.0000\n",
       "9474  Default   902.000000     prohibition    902.000000   9.0000   9.0000\n",
       "9473  Default   902.000000             men    902.000000   8.0000   8.0000\n",
       "9472  Default   902.000000           engli    902.000000   7.0000   7.0000\n",
       "604   Default   864.000000           staff    864.000000   6.0000   6.0000\n",
       "6839  Default  1041.000000             ufe   1041.000000   5.0000   5.0000\n",
       "2156  Default   995.000000        actually    995.000000   4.0000   4.0000\n",
       "89    Default   837.000000          people    837.000000   3.0000   3.0000\n",
       "6929  Default   843.000000            yogi    843.000000   2.0000   2.0000\n",
       "8678  Default   833.000000      adityanath    833.000000   1.0000   1.0000\n",
       "...       ...          ...             ...           ...      ...      ...\n",
       "327   Topic10   265.359924             day    266.236145   2.6025  -3.7251\n",
       "7896  Topic10   133.650345       diwasyoga    134.530945   2.5992  -4.4110\n",
       "7897  Topic10   133.650345       drivesgau    134.530945   2.5992  -4.4110\n",
       "7898  Topic10   133.650345     rakshaksetc    134.530945   2.5992  -4.4110\n",
       "7899  Topic10   133.650345           stunt    134.530945   2.5992  -4.4110\n",
       "7900  Topic10   133.650345        swachata    134.530945   2.5992  -4.4110\n",
       "27    Topic10   119.601585             rbi    120.477890   2.5985  -4.5221\n",
       "1832  Topic10    89.840126          update     90.716438   2.5961  -4.8082\n",
       "663   Topic10    90.031380        surgical     90.914536   2.5960  -4.8061\n",
       "9387  Topic10   505.797363      politicsit    511.246979   2.5951  -3.0801\n",
       "9388  Topic10   505.797363     transparent    511.246979   2.5951  -3.0801\n",
       "193   Topic10    74.352966            need     75.229218   2.5941  -4.9974\n",
       "120   Topic10    70.026405         banking     70.904404   2.5933  -5.0573\n",
       "115   Topic10    69.163513            hear     70.039734   2.5932  -5.0697\n",
       "3523  Topic10    66.724701         concern     67.601913   2.5927  -5.1056\n",
       "1462  Topic10    61.246063           datum     62.122265   2.5916  -5.1913\n",
       "7067  Topic10    62.934059     evanspiegel     63.839497   2.5915  -5.1641\n",
       "189   Topic10    58.147156          enough     59.023354   2.5908  -5.2432\n",
       "931   Topic10    56.172852            rule     57.049141   2.5903  -5.2778\n",
       "3647  Topic10    54.269768        analysis     55.146034   2.5898  -5.3123\n",
       "2510  Topic10    55.236095         partner     56.145206   2.5894  -5.2946\n",
       "117   Topic10    49.471489           stand     50.347771   2.5882  -5.4048\n",
       "3055  Topic10    48.947506        informal     49.823761   2.5880  -5.4155\n",
       "6468  Topic10    47.782833            fstd     48.659191   2.5876  -5.4396\n",
       "6469  Topic10    47.782833            ntil     48.659191   2.5876  -5.4396\n",
       "1838  Topic10    46.330379          mamata     47.206615   2.5870  -5.4704\n",
       "8206  Topic10    50.993073          morgan     52.961025   2.5679  -5.3745\n",
       "8208  Topic10    50.993073          wgdeaa     52.961025   2.5679  -5.3745\n",
       "8207  Topic10    50.993073          revert     52.961025   2.5679  -5.3745\n",
       "3     Topic10   651.099304  demonetization  12319.785156  -0.3345  -2.8276\n",
       "\n",
       "[365 rows x 6 columns], token_table=      Topic      Freq           Term\n",
       "term                                \n",
       "4284      3  0.990521        aadhaar\n",
       "7806      9  0.982065        abhijit\n",
       "257       7  0.996938         action\n",
       "2156      2  0.999422       actually\n",
       "664       7  0.998512             ad\n",
       "8678      4  0.997956     adityanath\n",
       "7268      4  0.983787    adsensegate\n",
       "447       9  0.996382        already\n",
       "0         1  0.282494            amp\n",
       "0         3  0.158302            amp\n",
       "0         4  0.550121            amp\n",
       "0         8  0.007871            amp\n",
       "3647     10  0.979218       analysis\n",
       "2798      4  0.998320         appear\n",
       "2605      7  0.988746        article\n",
       "347       3  0.997259           atms\n",
       "8198      8  0.998518          audit\n",
       "1583      6  0.998672           back\n",
       "214       9  0.998969            ban\n",
       "1553      9  0.991890       banerjee\n",
       "51        4  0.992916           bank\n",
       "7122      8  0.994028         banker\n",
       "120      10  0.987245        banking\n",
       "4383      2  0.005231       baseless\n",
       "4383      6  0.983489       baseless\n",
       "4383     10  0.005231       baseless\n",
       "920       7  0.997398             bc\n",
       "582       8  0.992984             be\n",
       "1756      6  0.994292          begin\n",
       "2968      2  0.998235        believe\n",
       "...     ...       ...            ...\n",
       "381       1  0.999112          watch\n",
       "804       7  0.998658           wave\n",
       "500       1  0.989299            way\n",
       "862       9  0.995407           well\n",
       "8208      9  0.018882         wgdeaa\n",
       "8208     10  0.962972         wgdeaa\n",
       "7217      7  0.996277         whammy\n",
       "1459      6  0.980827          whole\n",
       "947       2  0.999618           will\n",
       "1207      2  0.993123     withdrawal\n",
       "875       2  0.993307          would\n",
       "9462      2  0.026149           wwii\n",
       "9462      3  0.078446           wwii\n",
       "9462      5  0.732166           wwii\n",
       "9462      6  0.130744           wwii\n",
       "9586      1  0.994006            ybf\n",
       "1529      2  0.996991           year\n",
       "9236      1  0.001996        yearend\n",
       "9236      3  0.005989        yearend\n",
       "9236      7  0.992180        yearend\n",
       "2468      9  0.992188            yet\n",
       "6929      4  0.998453           yogi\n",
       "5561      6  0.995347          young\n",
       "2212      4  0.411676        youtube\n",
       "2212      6  0.588108        youtube\n",
       "9793      2  0.003331  youtubeisdead\n",
       "9793      4  0.986089  youtubeisdead\n",
       "9793      7  0.003331  youtubeisdead\n",
       "9793      9  0.006663  youtubeisdead\n",
       "6062      6  0.988957       youtuber\n",
       "\n",
       "[407 rows x 3 columns], R=30, lambda_step=0.01, plot_opts={'xlab': 'PC1', 'ylab': 'PC2'}, topic_order=[5, 8, 6, 7, 1, 2, 3, 10, 4, 9])"
      ]
     },
     "execution_count": 96,
     "metadata": {
      "tags": []
     },
     "output_type": "execute_result"
    }
   ],
   "source": [
    "# Visualize the topics\n",
    "pyLDAvis.enable_notebook()\n",
    "vis = pyLDAvis.gensim.prepare(lda_model, corpus, id2word)\n",
    "vis"
   ]
  },
  {
   "cell_type": "markdown",
   "metadata": {
    "id": "nkarVRrI2I_z"
   },
   "source": [
    "### BBC News Dataset"
   ]
  },
  {
   "cell_type": "code",
   "execution_count": null,
   "metadata": {
    "id": "zylKKp9F2I_0",
    "scrolled": true
   },
   "outputs": [],
   "source": [
    "# reading the BBC news dataset\n",
    "\n",
    "data_folder = \"./bbc\"\n",
    "\n",
    "folders = [\"business\",\"entertainment\",\"politics\",\"sport\",\"tech\"]\n",
    "\n",
    "x = []\n",
    "y = []\n",
    "\n",
    "for i in folders:\n",
    "    files = os.listdir(data_folder + \"/\" + i)\n",
    "    for text_file in files:\n",
    "        file_path =  data_folder + \"/\" + i + \"/\" + text_file\n",
    "        with open(file_path, 'rb') as f:\n",
    "            data = f.read()\n",
    "#         data = ' '.join(data)\n",
    "        x.append(data)\n",
    "        y.append(i)\n",
    "\n",
    "\n",
    "data = {'news': x, 'type': y}       \n",
    "df = pd.DataFrame(data)\n",
    "df.to_csv('bbc_data.csv', index=False)"
   ]
  },
  {
   "cell_type": "code",
   "execution_count": null,
   "metadata": {
    "id": "238yX11N2I_2",
    "outputId": "a18aa827-a997-45f8-f747-831ea00820ac",
    "scrolled": true
   },
   "outputs": [
    {
     "data": {
      "text/html": [
       "<div>\n",
       "<style scoped>\n",
       "    .dataframe tbody tr th:only-of-type {\n",
       "        vertical-align: middle;\n",
       "    }\n",
       "\n",
       "    .dataframe tbody tr th {\n",
       "        vertical-align: top;\n",
       "    }\n",
       "\n",
       "    .dataframe thead th {\n",
       "        text-align: right;\n",
       "    }\n",
       "</style>\n",
       "<table border=\"1\" class=\"dataframe\">\n",
       "  <thead>\n",
       "    <tr style=\"text-align: right;\">\n",
       "      <th></th>\n",
       "      <th>news</th>\n",
       "      <th>type</th>\n",
       "    </tr>\n",
       "  </thead>\n",
       "  <tbody>\n",
       "    <tr>\n",
       "      <th>0</th>\n",
       "      <td>b'Ad sales boost Time Warner profit\\n\\nQuarter...</td>\n",
       "      <td>business</td>\n",
       "    </tr>\n",
       "    <tr>\n",
       "      <th>1</th>\n",
       "      <td>b'Dollar gains on Greenspan speech\\n\\nThe doll...</td>\n",
       "      <td>business</td>\n",
       "    </tr>\n",
       "    <tr>\n",
       "      <th>2</th>\n",
       "      <td>b'Yukos unit buyer faces loan claim\\n\\nThe own...</td>\n",
       "      <td>business</td>\n",
       "    </tr>\n",
       "    <tr>\n",
       "      <th>3</th>\n",
       "      <td>b'High fuel prices hit BA\\'s profits\\n\\nBritis...</td>\n",
       "      <td>business</td>\n",
       "    </tr>\n",
       "    <tr>\n",
       "      <th>4</th>\n",
       "      <td>b\"Pernod takeover talk lifts Domecq\\n\\nShares ...</td>\n",
       "      <td>business</td>\n",
       "    </tr>\n",
       "  </tbody>\n",
       "</table>\n",
       "</div>"
      ],
      "text/plain": [
       "                                                news      type\n",
       "0  b'Ad sales boost Time Warner profit\\n\\nQuarter...  business\n",
       "1  b'Dollar gains on Greenspan speech\\n\\nThe doll...  business\n",
       "2  b'Yukos unit buyer faces loan claim\\n\\nThe own...  business\n",
       "3  b'High fuel prices hit BA\\'s profits\\n\\nBritis...  business\n",
       "4  b\"Pernod takeover talk lifts Domecq\\n\\nShares ...  business"
      ]
     },
     "execution_count": 50,
     "metadata": {
      "tags": []
     },
     "output_type": "execute_result"
    }
   ],
   "source": [
    "df.head()"
   ]
  },
  {
   "cell_type": "code",
   "execution_count": null,
   "metadata": {
    "id": "uM09zajY2I_4",
    "outputId": "051ca6f7-5f2d-4b39-98bb-64b5e6c59ab9"
   },
   "outputs": [
    {
     "data": {
      "text/plain": [
       "sport            511\n",
       "business         510\n",
       "politics         417\n",
       "tech             401\n",
       "entertainment    386\n",
       "Name: type, dtype: int64"
      ]
     },
     "execution_count": 51,
     "metadata": {
      "tags": []
     },
     "output_type": "execute_result"
    }
   ],
   "source": [
    "df.type.astype('category').value_counts()"
   ]
  },
  {
   "cell_type": "code",
   "execution_count": null,
   "metadata": {
    "id": "1-yMkefd2I_6",
    "outputId": "117e26a7-db01-4766-86bd-d457345e6b62"
   },
   "outputs": [
    {
     "data": {
      "text/plain": [
       "(510, 2)"
      ]
     },
     "execution_count": 55,
     "metadata": {
      "tags": []
     },
     "output_type": "execute_result"
    }
   ],
   "source": [
    "# filter business articles\n",
    "df = df[df['type']=='business']\n",
    "df.shape"
   ]
  },
  {
   "cell_type": "code",
   "execution_count": null,
   "metadata": {
    "id": "GaDlKyqd2I_8"
   },
   "outputs": [],
   "source": [
    "# convert to list\n",
    "data = df['news'].values.tolist()\n",
    "data_words = list(sent_to_words(data))\n",
    "\n",
    "# remove stop words\n",
    "data_words_nostops = remove_stopwords(data_words)\n",
    "\n",
    "# lemmatize\n",
    "nlp = spacy.load('en', disable=['parser', 'ner'])\n",
    "data_lemmatized = lemmatization(data_words_nostops, allowed_postags=['NOUN', 'ADJ', 'VERB', 'ADV'])\n",
    "\n",
    "# create dictionary\n",
    "id2word = corpora.Dictionary(data_lemmatized)\n",
    "\n",
    "# create corpus\n",
    "texts = data_lemmatized\n",
    "\n",
    "# term document frequency\n",
    "corpus = [id2word.doc2bow(text) for text in texts]"
   ]
  },
  {
   "cell_type": "code",
   "execution_count": null,
   "metadata": {
    "id": "eipS0BdJ2JAA"
   },
   "outputs": [],
   "source": [
    "# Build LDA model\n",
    "lda_model = gensim.models.ldamodel.LdaModel(corpus=corpus,\n",
    "                                           id2word=id2word,\n",
    "                                           num_topics=20, \n",
    "                                           random_state=100,\n",
    "                                           update_every=1,\n",
    "                                           chunksize=100,\n",
    "                                           passes=10,\n",
    "                                           alpha='auto',\n",
    "                                           per_word_topics=True)"
   ]
  },
  {
   "cell_type": "code",
   "execution_count": null,
   "metadata": {
    "id": "APHwgJnh2JAD",
    "outputId": "37fee2f0-8304-4fad-86cc-cdadd7c52a17",
    "scrolled": true
   },
   "outputs": [
    {
     "name": "stdout",
     "output_type": "stream",
     "text": [
      "\n",
      "Coherence Score:  0.4798648900050903\n"
     ]
    }
   ],
   "source": [
    "# Compute coherence score\n",
    "coherence_model_lda = CoherenceModel(model=lda_model, texts=data_lemmatized, dictionary=id2word, coherence='c_v')\n",
    "coherence_lda = coherence_model_lda.get_coherence()\n",
    "print('\\nCoherence Score: ', coherence_lda)"
   ]
  },
  {
   "cell_type": "code",
   "execution_count": null,
   "metadata": {
    "id": "tDnYQsMa2JAI",
    "outputId": "bb3acf8f-32ee-4263-803c-028c53c77bf7",
    "scrolled": true
   },
   "outputs": [
    {
     "name": "stdout",
     "output_type": "stream",
     "text": [
      "[(0,\n",
      "  '0.103*\"china\" + 0.058*\"tariff\" + 0.046*\"trade\" + 0.028*\"country\" + '\n",
      "  '0.019*\"world\" + 0.016*\"aid\" + 0.014*\"organisation\" + 0.013*\"peace\" + '\n",
      "  '0.011*\"membership\" + 0.011*\"wto\"'),\n",
      " (1,\n",
      "  '0.030*\"india\" + 0.025*\"car\" + 0.025*\"sale\" + 0.021*\"rupee\" + '\n",
      "  '0.019*\"vehicle\" + 0.018*\"utility\" + 0.016*\"maruti\" + 0.015*\"company\" + '\n",
      "  '0.014*\"drug\" + 0.014*\"club\"'),\n",
      " (2,\n",
      "  '0.036*\"bank\" + 0.017*\"rate\" + 0.017*\"figure\" + 0.016*\"year\" + 0.016*\"rise\" '\n",
      "  '+ 0.015*\"market\" + 0.013*\"month\" + 0.012*\"december\" + 0.011*\"fall\" + '\n",
      "  '0.011*\"quarter\"'),\n",
      " (3,\n",
      "  '0.050*\"water\" + 0.026*\"government\" + 0.023*\"region\" + 0.020*\"economic\" + '\n",
      "  '0.014*\"country\" + 0.014*\"area\" + 0.013*\"report\" + 0.011*\"close\" + '\n",
      "  '0.011*\"fuel\" + 0.010*\"resort\"'),\n",
      " (4,\n",
      "  '0.024*\"firm\" + 0.024*\"lse\" + 0.021*\"boerse\" + 0.020*\"lvmh\" + '\n",
      "  '0.018*\"exchange\" + 0.016*\"london\" + 0.016*\"bid\" + 0.016*\"stock\" + '\n",
      "  '0.012*\"offer\" + 0.012*\"share\"'),\n",
      " (5,\n",
      "  '0.027*\"yukos\" + 0.017*\"deutsche\" + 0.015*\"oil\" + 0.015*\"russian\" + '\n",
      "  '0.012*\"company\" + 0.012*\"court\" + 0.011*\"russia\" + 0.011*\"firm\" + '\n",
      "  '0.011*\"bankruptcy\" + 0.011*\"gazprom\"'),\n",
      " (6,\n",
      "  '0.053*\"davos\" + 0.018*\"world\" + 0.018*\"brazilian\" + 0.017*\"wef\" + '\n",
      "  '0.013*\"alegre\" + 0.013*\"porto\" + 0.013*\"appearance\" + 0.012*\"mbeki\" + '\n",
      "  '0.012*\"demonstration\" + 0.012*\"abba\"'),\n",
      " (7,\n",
      "  '0.049*\"label\" + 0.042*\"group\" + 0.032*\"lacroix\" + 0.028*\"buy\" + '\n",
      "  '0.024*\"falic\" + 0.022*\"brand\" + 0.016*\"fiat\" + 0.016*\"couture\" + '\n",
      "  '0.016*\"flare\" + 0.013*\"loss\"'),\n",
      " (8,\n",
      "  '0.033*\"company\" + 0.026*\"executive\" + 0.021*\"mr\" + 0.017*\"firm\" + '\n",
      "  '0.016*\"charge\" + 0.016*\"former\" + 0.014*\"trial\" + 0.013*\"chief\" + '\n",
      "  '0.012*\"suez\" + 0.011*\"boss\"'),\n",
      " (9,\n",
      "  '0.027*\"dominate\" + 0.021*\"airline\" + 0.019*\"cancel\" + 0.017*\"china\" + '\n",
      "  '0.015*\"project\" + 0.015*\"iran\" + 0.014*\"turkey\" + 0.013*\"flight\" + '\n",
      "  '0.012*\"power\" + 0.009*\"reorganise\"'),\n",
      " (10,\n",
      "  '0.061*\"argentina\" + 0.039*\"aguas\" + 0.031*\"state\" + 0.027*\"gas\" + '\n",
      "  '0.025*\"argentine\" + 0.022*\"firm\" + 0.021*\"spain\" + 0.020*\"government\" + '\n",
      "  '0.019*\"investment\" + 0.016*\"oil\"'),\n",
      " (11,\n",
      "  '0.038*\"scrushy\" + 0.037*\"fraud\" + 0.030*\"healthsouth\" + 0.025*\"conspiracy\" '\n",
      "  '+ 0.023*\"worldcom\" + 0.016*\"ebber\" + 0.015*\"former\" + 0.012*\"earning\" + '\n",
      "  '0.011*\"saudi\" + 0.011*\"false\"'),\n",
      " (12,\n",
      "  '0.032*\"store\" + 0.022*\"steel\" + 0.021*\"cow\" + 0.017*\"clothing\" + '\n",
      "  '0.016*\"airbus\" + 0.016*\"aircraft\" + 0.015*\"shed\" + 0.013*\"plane\" + '\n",
      "  '0.012*\"trust\" + 0.011*\"wear\"'),\n",
      " (13,\n",
      "  '0.060*\"botin\" + 0.060*\"santander\" + 0.028*\"card\" + 0.024*\"payout\" + '\n",
      "  '0.020*\"payment\" + 0.017*\"xc\" + 0.017*\"hispano\" + 0.017*\"corcostegui\" + '\n",
      "  '0.016*\"complaint\" + 0.015*\"high\"'),\n",
      " (14,\n",
      "  '0.026*\"year\" + 0.023*\"price\" + 0.021*\"profit\" + 0.019*\"rise\" + '\n",
      "  '0.013*\"share\" + 0.013*\"report\" + 0.012*\"high\" + 0.011*\"increase\" + '\n",
      "  '0.011*\"analyst\" + 0.011*\"sale\"'),\n",
      " (15,\n",
      "  '0.021*\"economy\" + 0.020*\"year\" + 0.019*\"growth\" + 0.017*\"economic\" + '\n",
      "  '0.013*\"grow\" + 0.013*\"trade\" + 0.011*\"japan\" + 0.011*\"dollar\" + '\n",
      "  '0.011*\"figure\" + 0.010*\"low\"'),\n",
      " (16,\n",
      "  '0.013*\"company\" + 0.011*\"business\" + 0.010*\"make\" + 0.009*\"world\" + '\n",
      "  '0.009*\"new\" + 0.008*\"could\" + 0.008*\"country\" + 0.007*\"plan\" + 0.007*\"firm\" '\n",
      "  '+ 0.007*\"take\"'),\n",
      " (17,\n",
      "  '0.019*\"cairn\" + 0.019*\"update\" + 0.015*\"mae\" + 0.015*\"fannie\" + '\n",
      "  '0.015*\"rover\" + 0.009*\"nortel\" + 0.008*\"unilever\" + 0.007*\"bribe\" + '\n",
      "  '0.007*\"area\" + 0.007*\"rajasthan\"'),\n",
      " (18,\n",
      "  '0.021*\"glazer\" + 0.020*\"local\" + 0.016*\"ukraine\" + 0.014*\"report\" + '\n",
      "  '0.013*\"yushchenko\" + 0.012*\"fan\" + 0.011*\"viktor\" + 0.011*\"actually\" + '\n",
      "  '0.011*\"block\" + 0.011*\"use\"'),\n",
      " (19,\n",
      "  '0.037*\"food\" + 0.020*\"mining\" + 0.020*\"child\" + 0.020*\"kill\" + '\n",
      "  '0.014*\"village\" + 0.014*\"string\" + 0.011*\"bell\" + 0.010*\"natural\" + '\n",
      "  '0.009*\"mcdonald\" + 0.009*\"tonne\"')]\n"
     ]
    }
   ],
   "source": [
    "# print keywords \n",
    "pprint(lda_model.print_topics())\n",
    "doc_lda = lda_model[corpus]"
   ]
  },
  {
   "cell_type": "code",
   "execution_count": null,
   "metadata": {
    "id": "ywmwHP0w2JAL",
    "outputId": "2f9d6aa7-5985-4f89-d782-b6043ad5d657",
    "scrolled": true
   },
   "outputs": [
    {
     "data": {
      "text/html": [
       "\n",
       "<link rel=\"stylesheet\" type=\"text/css\" href=\"https://cdn.rawgit.com/bmabey/pyLDAvis/files/ldavis.v1.0.0.css\">\n",
       "\n",
       "\n",
       "<div id=\"ldavis_el959946345821365996495540\"></div>\n",
       "<script type=\"text/javascript\">\n",
       "\n",
       "var ldavis_el959946345821365996495540_data = {\"mdsDat\": {\"Freq\": [27.484670639038086, 13.856689453125, 11.671942710876465, 7.870288848876953, 6.564721584320068, 6.226864814758301, 5.107977390289307, 2.977449417114258, 2.7276928424835205, 2.0568342208862305, 2.0566630363464355, 1.7481555938720703, 1.662864327430725, 1.5042117834091187, 1.4668774604797363, 1.359322428703308, 1.1305193901062012, 0.9955475926399231, 0.7861042618751526, 0.744602382183075], \"cluster\": [1, 1, 1, 1, 1, 1, 1, 1, 1, 1, 1, 1, 1, 1, 1, 1, 1, 1, 1, 1], \"topics\": [1, 2, 3, 4, 5, 6, 7, 8, 9, 10, 11, 12, 13, 14, 15, 16, 17, 18, 19, 20], \"x\": [-0.23120008205026926, -0.2590249844032679, -0.24849633578326782, -0.24153170313303504, -0.0795030197457097, -0.11457547259732535, -0.09206721186230091, 0.007599951983725389, 0.024662652887387827, 0.1594698381326771, 0.12709291053740798, -0.03620965450494514, 0.11654939604423074, 0.06277964894893191, 0.12171006079456181, 0.09038761781031276, 0.16316511740865922, 0.08971204792875596, 0.16989679268899963, 0.16958242891447103], \"y\": [-0.107745484936988, 0.11048187894424281, 0.19014729221427729, 0.16869691704716352, -0.18121217952056273, -0.2170947412935849, -0.05851973335320138, -0.1475939282962136, 0.10652914193364336, 0.05254423923639964, 0.055089267760290224, -0.0953722604076857, 0.09646343519296006, -0.07690660222170674, 0.013026627634403, -0.06637861196018395, 0.042665484437758736, 0.02266563220632511, 0.03648485178495144, 0.056028773597711794]}, \"tinfo\": {\"Category\": [\"Default\", \"Default\", \"Default\", \"Default\", \"Default\", \"Default\", \"Default\", \"Default\", \"Default\", \"Default\", \"Default\", \"Default\", \"Default\", \"Default\", \"Default\", \"Default\", \"Default\", \"Default\", \"Default\", \"Default\", \"Default\", \"Default\", \"Default\", \"Default\", \"Default\", \"Default\", \"Default\", \"Default\", \"Default\", \"Default\", \"Topic1\", \"Topic1\", \"Topic1\", \"Topic1\", \"Topic1\", \"Topic1\", \"Topic1\", \"Topic1\", \"Topic1\", \"Topic1\", \"Topic1\", \"Topic1\", \"Topic1\", \"Topic1\", \"Topic1\", \"Topic1\", \"Topic1\", \"Topic1\", \"Topic1\", \"Topic1\", \"Topic1\", \"Topic1\", \"Topic1\", \"Topic1\", \"Topic1\", \"Topic1\", \"Topic1\", \"Topic1\", \"Topic1\", \"Topic1\", \"Topic1\", \"Topic1\", \"Topic1\", \"Topic1\", \"Topic1\", \"Topic1\", \"Topic1\", \"Topic1\", \"Topic1\", \"Topic1\", \"Topic1\", \"Topic1\", \"Topic1\", \"Topic1\", \"Topic1\", \"Topic1\", \"Topic1\", \"Topic1\", \"Topic1\", \"Topic1\", \"Topic1\", \"Topic1\", \"Topic1\", \"Topic1\", \"Topic1\", \"Topic1\", \"Topic1\", \"Topic1\", \"Topic1\", \"Topic1\", \"Topic1\", \"Topic1\", \"Topic1\", \"Topic1\", \"Topic1\", \"Topic1\", \"Topic1\", \"Topic1\", \"Topic1\", \"Topic1\", \"Topic1\", \"Topic1\", \"Topic1\", \"Topic2\", \"Topic2\", \"Topic2\", \"Topic2\", \"Topic2\", \"Topic2\", \"Topic2\", \"Topic2\", \"Topic2\", \"Topic2\", \"Topic2\", \"Topic2\", \"Topic2\", \"Topic2\", \"Topic2\", \"Topic2\", \"Topic2\", \"Topic2\", \"Topic2\", \"Topic2\", \"Topic2\", \"Topic2\", \"Topic2\", \"Topic2\", \"Topic2\", \"Topic2\", \"Topic2\", \"Topic2\", \"Topic2\", \"Topic2\", \"Topic2\", \"Topic2\", \"Topic2\", \"Topic2\", \"Topic2\", \"Topic2\", \"Topic2\", \"Topic2\", \"Topic2\", \"Topic2\", \"Topic2\", \"Topic2\", \"Topic2\", \"Topic2\", \"Topic2\", \"Topic2\", \"Topic2\", \"Topic2\", \"Topic2\", \"Topic2\", \"Topic2\", \"Topic2\", \"Topic2\", \"Topic2\", \"Topic2\", \"Topic2\", \"Topic2\", \"Topic2\", \"Topic2\", \"Topic2\", \"Topic2\", \"Topic2\", \"Topic2\", \"Topic2\", \"Topic2\", \"Topic2\", \"Topic3\", \"Topic3\", \"Topic3\", \"Topic3\", \"Topic3\", \"Topic3\", \"Topic3\", \"Topic3\", \"Topic3\", \"Topic3\", \"Topic3\", \"Topic3\", \"Topic3\", \"Topic3\", \"Topic3\", \"Topic3\", \"Topic3\", \"Topic3\", \"Topic3\", \"Topic3\", \"Topic3\", \"Topic3\", \"Topic3\", \"Topic3\", \"Topic3\", \"Topic3\", \"Topic3\", \"Topic3\", \"Topic3\", \"Topic3\", \"Topic3\", \"Topic3\", \"Topic3\", \"Topic3\", \"Topic3\", \"Topic3\", \"Topic3\", \"Topic3\", \"Topic3\", \"Topic3\", \"Topic3\", \"Topic3\", \"Topic3\", \"Topic3\", \"Topic3\", \"Topic3\", \"Topic3\", \"Topic3\", \"Topic3\", \"Topic3\", \"Topic3\", \"Topic3\", \"Topic3\", \"Topic3\", \"Topic3\", \"Topic3\", \"Topic3\", \"Topic3\", \"Topic3\", \"Topic3\", \"Topic3\", \"Topic3\", \"Topic3\", \"Topic3\", \"Topic4\", \"Topic4\", \"Topic4\", \"Topic4\", \"Topic4\", \"Topic4\", \"Topic4\", \"Topic4\", \"Topic4\", \"Topic4\", \"Topic4\", \"Topic4\", \"Topic4\", \"Topic4\", \"Topic4\", \"Topic4\", \"Topic4\", \"Topic4\", \"Topic4\", \"Topic4\", \"Topic4\", \"Topic4\", \"Topic4\", \"Topic4\", \"Topic4\", \"Topic4\", \"Topic4\", \"Topic4\", \"Topic4\", \"Topic4\", \"Topic4\", \"Topic4\", \"Topic4\", \"Topic4\", \"Topic4\", \"Topic4\", \"Topic4\", \"Topic4\", \"Topic4\", \"Topic4\", \"Topic4\", \"Topic4\", \"Topic4\", \"Topic4\", \"Topic4\", \"Topic4\", \"Topic4\", \"Topic4\", \"Topic4\", \"Topic4\", \"Topic4\", \"Topic4\", \"Topic4\", \"Topic4\", \"Topic4\", \"Topic4\", \"Topic4\", \"Topic4\", \"Topic5\", \"Topic5\", \"Topic5\", \"Topic5\", \"Topic5\", \"Topic5\", \"Topic5\", \"Topic5\", \"Topic5\", \"Topic5\", \"Topic5\", \"Topic5\", \"Topic5\", \"Topic5\", \"Topic5\", \"Topic5\", \"Topic5\", \"Topic5\", \"Topic5\", \"Topic5\", \"Topic5\", \"Topic5\", \"Topic5\", \"Topic5\", \"Topic5\", \"Topic5\", \"Topic5\", \"Topic5\", \"Topic5\", \"Topic5\", \"Topic5\", \"Topic5\", \"Topic5\", \"Topic5\", \"Topic5\", \"Topic5\", \"Topic5\", \"Topic5\", \"Topic5\", \"Topic5\", \"Topic5\", \"Topic5\", \"Topic5\", \"Topic5\", \"Topic5\", \"Topic5\", \"Topic5\", \"Topic5\", \"Topic5\", \"Topic5\", \"Topic5\", \"Topic5\", \"Topic6\", \"Topic6\", \"Topic6\", \"Topic6\", \"Topic6\", \"Topic6\", \"Topic6\", \"Topic6\", \"Topic6\", \"Topic6\", \"Topic6\", \"Topic6\", \"Topic6\", \"Topic6\", \"Topic6\", \"Topic6\", \"Topic6\", \"Topic6\", \"Topic6\", \"Topic6\", \"Topic6\", \"Topic6\", \"Topic6\", \"Topic6\", \"Topic6\", \"Topic6\", \"Topic6\", \"Topic6\", \"Topic6\", \"Topic6\", \"Topic6\", \"Topic6\", \"Topic6\", \"Topic6\", \"Topic6\", \"Topic6\", \"Topic6\", \"Topic6\", \"Topic6\", \"Topic6\", \"Topic6\", \"Topic6\", \"Topic6\", \"Topic6\", \"Topic6\", \"Topic6\", \"Topic6\", \"Topic6\", \"Topic6\", \"Topic6\", \"Topic6\", \"Topic6\", \"Topic6\", \"Topic6\", \"Topic6\", \"Topic6\", \"Topic6\", \"Topic6\", \"Topic6\", \"Topic6\", \"Topic7\", \"Topic7\", \"Topic7\", \"Topic7\", \"Topic7\", \"Topic7\", \"Topic7\", \"Topic7\", \"Topic7\", \"Topic7\", \"Topic7\", \"Topic7\", \"Topic7\", \"Topic7\", \"Topic7\", \"Topic7\", \"Topic7\", \"Topic7\", \"Topic7\", \"Topic7\", \"Topic7\", \"Topic7\", \"Topic7\", \"Topic7\", \"Topic7\", \"Topic7\", \"Topic7\", \"Topic7\", \"Topic7\", \"Topic7\", \"Topic7\", \"Topic7\", \"Topic7\", \"Topic7\", \"Topic7\", \"Topic7\", \"Topic7\", \"Topic7\", \"Topic7\", \"Topic7\", \"Topic7\", \"Topic7\", \"Topic7\", \"Topic7\", \"Topic7\", \"Topic7\", \"Topic7\", \"Topic7\", \"Topic8\", \"Topic8\", \"Topic8\", \"Topic8\", \"Topic8\", \"Topic8\", \"Topic8\", \"Topic8\", \"Topic8\", \"Topic8\", \"Topic8\", \"Topic8\", \"Topic8\", \"Topic8\", \"Topic8\", \"Topic8\", \"Topic8\", \"Topic8\", \"Topic8\", \"Topic8\", \"Topic8\", \"Topic8\", \"Topic8\", \"Topic8\", \"Topic8\", \"Topic8\", \"Topic8\", \"Topic8\", \"Topic8\", \"Topic8\", \"Topic8\", \"Topic8\", \"Topic8\", \"Topic8\", \"Topic8\", \"Topic8\", \"Topic8\", \"Topic8\", \"Topic8\", \"Topic8\", \"Topic8\", \"Topic8\", \"Topic8\", \"Topic8\", \"Topic8\", \"Topic8\", \"Topic8\", \"Topic8\", \"Topic8\", \"Topic8\", \"Topic8\", \"Topic8\", \"Topic8\", \"Topic8\", \"Topic9\", \"Topic9\", \"Topic9\", \"Topic9\", \"Topic9\", \"Topic9\", \"Topic9\", \"Topic9\", \"Topic9\", \"Topic9\", \"Topic9\", \"Topic9\", \"Topic9\", \"Topic9\", \"Topic9\", \"Topic9\", \"Topic9\", \"Topic9\", \"Topic9\", \"Topic9\", \"Topic9\", \"Topic9\", \"Topic9\", \"Topic9\", \"Topic9\", \"Topic9\", \"Topic9\", \"Topic9\", \"Topic9\", \"Topic9\", \"Topic9\", \"Topic9\", \"Topic9\", \"Topic9\", \"Topic9\", \"Topic9\", \"Topic9\", \"Topic9\", \"Topic9\", \"Topic9\", \"Topic9\", \"Topic9\", \"Topic9\", \"Topic9\", \"Topic9\", \"Topic9\", \"Topic9\", \"Topic9\", \"Topic9\", \"Topic9\", \"Topic9\", \"Topic9\", \"Topic9\", \"Topic9\", \"Topic9\", \"Topic9\", \"Topic10\", \"Topic10\", \"Topic10\", \"Topic10\", \"Topic10\", \"Topic10\", \"Topic10\", \"Topic10\", \"Topic10\", \"Topic10\", \"Topic10\", \"Topic10\", \"Topic10\", \"Topic10\", \"Topic10\", \"Topic10\", \"Topic10\", \"Topic10\", \"Topic10\", \"Topic10\", \"Topic10\", \"Topic10\", \"Topic10\", \"Topic10\", \"Topic10\", \"Topic10\", \"Topic10\", \"Topic10\", \"Topic10\", \"Topic10\", \"Topic10\", \"Topic10\", \"Topic10\", \"Topic10\", \"Topic10\", \"Topic10\", \"Topic10\", \"Topic10\", \"Topic10\", \"Topic10\", \"Topic10\", \"Topic11\", \"Topic11\", \"Topic11\", \"Topic11\", \"Topic11\", \"Topic11\", \"Topic11\", \"Topic11\", \"Topic11\", \"Topic11\", \"Topic11\", \"Topic11\", \"Topic11\", \"Topic11\", \"Topic11\", \"Topic11\", \"Topic11\", \"Topic11\", \"Topic11\", \"Topic11\", \"Topic11\", \"Topic11\", \"Topic11\", \"Topic11\", \"Topic11\", \"Topic11\", \"Topic11\", \"Topic11\", \"Topic11\", \"Topic11\", \"Topic11\", \"Topic11\", \"Topic11\", \"Topic11\", \"Topic11\", \"Topic11\", \"Topic11\", \"Topic11\", \"Topic11\", \"Topic11\", \"Topic11\", \"Topic11\", \"Topic11\", \"Topic11\", \"Topic12\", \"Topic12\", \"Topic12\", \"Topic12\", \"Topic12\", \"Topic12\", \"Topic12\", \"Topic12\", \"Topic12\", \"Topic12\", \"Topic12\", \"Topic12\", \"Topic12\", \"Topic12\", \"Topic12\", \"Topic12\", \"Topic12\", \"Topic12\", \"Topic12\", \"Topic12\", \"Topic12\", \"Topic12\", \"Topic12\", \"Topic12\", \"Topic12\", \"Topic12\", \"Topic12\", \"Topic12\", \"Topic12\", \"Topic12\", \"Topic12\", \"Topic12\", \"Topic12\", \"Topic12\", \"Topic12\", \"Topic12\", \"Topic12\", \"Topic12\", \"Topic12\", \"Topic12\", \"Topic12\", \"Topic12\", \"Topic12\", \"Topic12\", \"Topic12\", \"Topic12\", \"Topic12\", \"Topic12\", \"Topic12\", \"Topic12\", \"Topic12\", \"Topic12\", \"Topic12\", \"Topic13\", \"Topic13\", \"Topic13\", \"Topic13\", \"Topic13\", \"Topic13\", \"Topic13\", \"Topic13\", \"Topic13\", \"Topic13\", \"Topic13\", \"Topic13\", \"Topic13\", \"Topic13\", \"Topic13\", \"Topic13\", \"Topic13\", \"Topic13\", \"Topic13\", \"Topic13\", \"Topic13\", \"Topic13\", \"Topic13\", \"Topic13\", \"Topic13\", \"Topic13\", \"Topic13\", \"Topic13\", \"Topic13\", \"Topic13\", \"Topic13\", \"Topic13\", \"Topic13\", \"Topic13\", \"Topic13\", \"Topic13\", \"Topic13\", \"Topic13\", \"Topic13\", \"Topic13\", \"Topic13\", \"Topic13\", \"Topic13\", \"Topic13\", \"Topic13\", \"Topic13\", \"Topic14\", \"Topic14\", \"Topic14\", \"Topic14\", \"Topic14\", \"Topic14\", \"Topic14\", \"Topic14\", \"Topic14\", \"Topic14\", \"Topic14\", \"Topic14\", \"Topic14\", \"Topic14\", \"Topic14\", \"Topic14\", \"Topic14\", \"Topic14\", \"Topic14\", \"Topic14\", \"Topic14\", \"Topic14\", \"Topic14\", \"Topic14\", \"Topic14\", \"Topic14\", \"Topic14\", \"Topic14\", \"Topic14\", \"Topic14\", \"Topic14\", \"Topic14\", \"Topic14\", \"Topic14\", \"Topic14\", \"Topic14\", \"Topic14\", \"Topic14\", \"Topic14\", \"Topic14\", \"Topic14\", \"Topic14\", \"Topic14\", \"Topic14\", \"Topic14\", \"Topic14\", \"Topic14\", \"Topic14\", \"Topic15\", \"Topic15\", \"Topic15\", \"Topic15\", \"Topic15\", \"Topic15\", \"Topic15\", \"Topic15\", \"Topic15\", \"Topic15\", \"Topic15\", \"Topic15\", \"Topic15\", \"Topic15\", \"Topic15\", \"Topic15\", \"Topic15\", \"Topic15\", \"Topic15\", \"Topic15\", \"Topic15\", \"Topic15\", \"Topic15\", \"Topic15\", \"Topic15\", \"Topic15\", \"Topic15\", \"Topic15\", \"Topic15\", \"Topic15\", \"Topic15\", \"Topic15\", \"Topic15\", \"Topic15\", \"Topic15\", \"Topic15\", \"Topic15\", \"Topic15\", \"Topic15\", \"Topic15\", \"Topic15\", \"Topic15\", \"Topic15\", \"Topic15\", \"Topic16\", \"Topic16\", \"Topic16\", \"Topic16\", \"Topic16\", \"Topic16\", \"Topic16\", \"Topic16\", \"Topic16\", \"Topic16\", \"Topic16\", \"Topic16\", \"Topic16\", \"Topic16\", \"Topic16\", \"Topic16\", \"Topic16\", \"Topic16\", \"Topic16\", \"Topic16\", \"Topic16\", \"Topic16\", \"Topic16\", \"Topic16\", \"Topic16\", \"Topic16\", \"Topic16\", \"Topic16\", \"Topic16\", \"Topic16\", \"Topic16\", \"Topic16\", \"Topic16\", \"Topic16\", \"Topic16\", \"Topic16\", \"Topic16\", \"Topic16\", \"Topic16\", \"Topic16\", \"Topic16\", \"Topic16\", \"Topic16\", \"Topic16\", \"Topic16\", \"Topic17\", \"Topic17\", \"Topic17\", \"Topic17\", \"Topic17\", \"Topic17\", \"Topic17\", \"Topic17\", \"Topic17\", \"Topic17\", \"Topic17\", \"Topic17\", \"Topic17\", \"Topic17\", \"Topic17\", \"Topic17\", \"Topic17\", \"Topic17\", \"Topic17\", \"Topic17\", \"Topic17\", \"Topic17\", \"Topic17\", \"Topic17\", \"Topic17\", \"Topic17\", \"Topic17\", \"Topic17\", \"Topic17\", \"Topic17\", \"Topic17\", \"Topic17\", \"Topic17\", \"Topic17\", \"Topic17\", \"Topic17\", \"Topic17\", \"Topic17\", \"Topic17\", \"Topic18\", \"Topic18\", \"Topic18\", \"Topic18\", \"Topic18\", \"Topic18\", \"Topic18\", \"Topic18\", \"Topic18\", \"Topic18\", \"Topic18\", \"Topic18\", \"Topic18\", \"Topic18\", \"Topic18\", \"Topic18\", \"Topic18\", \"Topic18\", \"Topic18\", \"Topic18\", \"Topic18\", \"Topic18\", \"Topic18\", \"Topic18\", \"Topic18\", \"Topic18\", \"Topic18\", \"Topic18\", \"Topic18\", \"Topic18\", \"Topic18\", \"Topic18\", \"Topic18\", \"Topic18\", \"Topic18\", \"Topic18\", \"Topic18\", \"Topic18\", \"Topic18\", \"Topic18\", \"Topic18\", \"Topic18\", \"Topic18\", \"Topic18\", \"Topic18\", \"Topic19\", \"Topic19\", \"Topic19\", \"Topic19\", \"Topic19\", \"Topic19\", \"Topic19\", \"Topic19\", \"Topic19\", \"Topic19\", \"Topic19\", \"Topic19\", \"Topic19\", \"Topic19\", \"Topic19\", \"Topic19\", \"Topic19\", \"Topic19\", \"Topic19\", \"Topic19\", \"Topic19\", \"Topic19\", \"Topic19\", \"Topic19\", \"Topic19\", \"Topic19\", \"Topic19\", \"Topic19\", \"Topic19\", \"Topic19\", \"Topic19\", \"Topic19\", \"Topic19\", \"Topic19\", \"Topic19\", \"Topic19\", \"Topic19\", \"Topic19\", \"Topic19\", \"Topic19\", \"Topic19\", \"Topic20\", \"Topic20\", \"Topic20\", \"Topic20\", \"Topic20\", \"Topic20\", \"Topic20\", \"Topic20\", \"Topic20\", \"Topic20\", \"Topic20\", \"Topic20\", \"Topic20\", \"Topic20\", \"Topic20\", \"Topic20\", \"Topic20\", \"Topic20\", \"Topic20\", \"Topic20\", \"Topic20\", \"Topic20\", \"Topic20\", \"Topic20\", \"Topic20\", \"Topic20\", \"Topic20\", \"Topic20\", \"Topic20\", \"Topic20\", \"Topic20\", \"Topic20\", \"Topic20\", \"Topic20\"], \"Freq\": [262.0, 313.0, 248.0, 702.0, 293.0, 505.0, 358.0, 306.0, 296.0, 219.0, 280.0, 393.0, 883.0, 283.0, 334.0, 306.0, 383.0, 268.0, 421.0, 269.0, 126.0, 211.0, 236.0, 161.0, 139.0, 161.0, 348.0, 317.0, 97.0, 195.0, 130.46124267578125, 121.26058959960938, 71.29857635498047, 70.53766632080078, 59.191734313964844, 53.766441345214844, 91.74056243896484, 50.244415283203125, 51.793907165527344, 46.389015197753906, 46.30675506591797, 49.440155029296875, 46.61235809326172, 44.993221282958984, 44.479122161865234, 43.79572677612305, 42.50882339477539, 44.504451751708984, 41.94229507446289, 88.48037719726562, 41.103179931640625, 39.97822952270508, 170.9299774169922, 39.324073791503906, 38.234413146972656, 37.17631530761719, 36.559478759765625, 36.45585632324219, 38.16575622558594, 36.41547775268555, 58.32059860229492, 69.63034057617188, 138.6931610107422, 64.46772003173828, 85.34126281738281, 61.07209014892578, 175.1421356201172, 95.06703186035156, 116.76107025146484, 117.22039031982422, 70.54944610595703, 270.0999755859375, 143.38088989257812, 77.93171691894531, 91.09866333007812, 178.8494873046875, 124.73049926757812, 61.427757263183594, 255.85556030273438, 103.58679962158203, 226.80767822265625, 196.9543914794922, 176.28399658203125, 109.26603698730469, 87.01080322265625, 102.40131378173828, 192.0334930419922, 144.7666778564453, 219.996826171875, 129.50160217285156, 130.41586303710938, 322.165771484375, 127.07804870605469, 125.02883911132812, 130.6649169921875, 150.58102416992188, 176.5936279296875, 143.3944549560547, 141.55972290039062, 124.43885040283203, 126.29426574707031, 146.92279052734375, 117.80245208740234, 58.082157135009766, 53.342350006103516, 50.882320404052734, 45.09254837036133, 41.41440200805664, 40.17171096801758, 39.331321716308594, 33.03580856323242, 32.6798095703125, 32.001075744628906, 31.494871139526367, 26.236135482788086, 47.65156173706055, 25.436431884765625, 24.006505966186523, 23.847705841064453, 23.71868896484375, 23.379594802856445, 22.86359405517578, 21.895654678344727, 27.980268478393555, 20.981739044189453, 20.555864334106445, 19.814239501953125, 19.67510414123535, 19.598918914794922, 18.867290496826172, 49.1909294128418, 18.387418746948242, 18.311737060546875, 266.2190246582031, 80.76554870605469, 37.12155532836914, 45.900726318359375, 292.6164245605469, 44.04856872558594, 29.47183609008789, 61.988304138183594, 115.63833618164062, 42.892127990722656, 80.21398162841797, 242.8408203125, 143.99095153808594, 154.43521118164062, 71.532470703125, 158.75462341308594, 143.51239013671875, 158.13888549804688, 139.0308837890625, 323.673095703125, 107.28385925292969, 106.4981689453125, 100.49280548095703, 121.38033294677734, 142.38636779785156, 78.88469696044922, 104.62980651855469, 125.00055694580078, 99.5003890991211, 128.92648315429688, 93.8377914428711, 110.15255737304688, 91.06070709228516, 71.3099365234375, 87.89090728759766, 69.36351776123047, 87.90250396728516, 53.050838470458984, 50.78202819824219, 49.65443420410156, 44.03854751586914, 38.023597717285156, 33.409210205078125, 32.155792236328125, 30.214767456054688, 28.755821228027344, 26.913537979125977, 26.14604949951172, 25.68952751159668, 22.210826873779297, 86.70536804199219, 21.49161148071289, 23.024845123291016, 19.856958389282227, 19.484771728515625, 19.072826385498047, 18.782108306884766, 18.03736686706543, 17.65350341796875, 17.283626556396484, 17.117019653320312, 16.962467193603516, 16.798110961914062, 16.577943801879883, 16.56559181213379, 16.534751892089844, 54.78479766845703, 38.56242370605469, 42.72563552856445, 101.64862823486328, 38.65290832519531, 28.372743606567383, 95.53071594238281, 139.6395263671875, 221.26943969726562, 118.50704956054688, 34.61466598510742, 182.0436248779297, 118.24047088623047, 66.20040893554688, 197.64854431152344, 81.53221130371094, 135.17190551757812, 40.564247131347656, 44.334197998046875, 115.29872131347656, 109.01229858398438, 56.13579177856445, 72.49879455566406, 103.75870513916016, 210.8862762451172, 67.87747192382812, 79.08537292480469, 67.45796966552734, 78.55345153808594, 86.43135833740234, 51.59824752807617, 68.7466812133789, 66.86138153076172, 59.071468353271484, 64.46984100341797, 60.54103088378906, 53.47172546386719, 50.43334197998047, 48.48221969604492, 45.34436798095703, 40.21520233154297, 39.3675422668457, 38.01303482055664, 34.77729034423828, 31.501373291015625, 30.153934478759766, 29.291080474853516, 26.557781219482422, 24.629648208618164, 24.181367874145508, 23.108455657958984, 22.413198471069336, 22.04817008972168, 21.117502212524414, 19.920682907104492, 19.636920928955078, 19.636188507080078, 17.026092529296875, 16.46479606628418, 16.342233657836914, 16.08514976501465, 15.959403991699219, 15.904263496398926, 15.803189277648926, 255.22860717773438, 63.853214263916016, 28.0476016998291, 29.358957290649414, 38.26390075683594, 62.78908157348633, 118.28778839111328, 119.04885864257812, 82.86612701416016, 43.72258377075195, 43.22304916381836, 61.910831451416016, 70.94866180419922, 116.66851806640625, 77.98662567138672, 59.953128814697266, 109.67534637451172, 81.00291442871094, 91.94510650634766, 117.51361083984375, 67.02374267578125, 63.73136901855469, 50.844154357910156, 66.24983978271484, 63.98069381713867, 45.534976959228516, 49.139801025390625, 43.314605712890625, 161.0639190673828, 101.46478271484375, 87.141357421875, 63.491119384765625, 51.16486740112305, 41.46601486206055, 37.73958969116211, 36.219871520996094, 35.13410949707031, 30.780637741088867, 29.915849685668945, 26.32064437866211, 25.558523178100586, 23.734142303466797, 22.757843017578125, 21.265474319458008, 21.265474319458008, 21.118370056152344, 18.389728546142578, 18.024093627929688, 17.945947647094727, 16.427623748779297, 16.413175582885742, 15.477279663085938, 15.174912452697754, 14.615572929382324, 13.922143936157227, 12.83969783782959, 12.149724006652832, 12.016748428344727, 67.84113311767578, 63.898216247558594, 49.56766891479492, 69.09806060791016, 29.153514862060547, 58.431888580322266, 89.84536743164062, 24.887863159179688, 58.22103500366211, 43.41345977783203, 46.82695007324219, 56.696205139160156, 48.3599853515625, 57.903133392333984, 64.71582794189453, 38.16973114013672, 58.661338806152344, 69.9734878540039, 35.582313537597656, 37.41339874267578, 31.523767471313477, 30.3353214263916, 69.28939056396484, 31.28656578063965, 31.1850643157959, 29.905073165893555, 29.121477127075195, 25.9654541015625, 24.903209686279297, 24.16237449645996, 24.135238647460938, 22.837242126464844, 33.06466293334961, 19.317052841186523, 19.2956485748291, 19.248641967773438, 19.09554672241211, 17.90636444091797, 18.0972843170166, 17.627704620361328, 17.51073455810547, 17.050508499145508, 15.990897178649902, 15.916923522949219, 15.310859680175781, 15.145803451538086, 14.95230484008789, 14.391738891601562, 13.999616622924805, 91.42326354980469, 12.992740631103516, 12.488177299499512, 78.32588958740234, 58.161109924316406, 26.176034927368164, 90.245849609375, 116.54310607910156, 53.434932708740234, 145.85572814941406, 23.771930694580078, 31.77851676940918, 37.32709884643555, 60.561676025390625, 189.06900024414062, 24.563718795776367, 28.428621292114258, 58.95840835571289, 51.25625228881836, 57.99304962158203, 48.1750373840332, 74.77086639404297, 94.81485748291016, 55.47844314575195, 36.145172119140625, 38.97987747192383, 40.0599365234375, 31.924118041992188, 37.08005905151367, 47.24303436279297, 45.124298095703125, 32.04298782348633, 33.97269821166992, 138.28880310058594, 97.3932876586914, 86.88150024414062, 84.09973907470703, 64.85314178466797, 76.62443542480469, 61.26505661010742, 31.566099166870117, 116.74024963378906, 63.616703033447266, 27.473007202148438, 25.466716766357422, 25.45415496826172, 25.350095748901367, 24.838104248046875, 24.19814682006836, 21.38744354248047, 20.84419822692871, 19.479385375976562, 19.128616333007812, 18.650144577026367, 17.900346755981445, 17.830495834350586, 17.661409378051758, 17.150182723999023, 16.574270248413086, 15.732328414916992, 15.389921188354492, 15.389921188354492, 15.389921188354492, 50.470123291015625, 26.951400756835938, 42.974647521972656, 115.1336441040039, 42.779998779296875, 21.5488224029541, 19.530128479003906, 67.96073913574219, 39.28882598876953, 24.14570426940918, 55.56562423706055, 42.4359016418457, 28.626976013183594, 38.16094970703125, 28.327106475830078, 28.874454498291016, 31.757648468017578, 25.258296966552734, 65.23648834228516, 56.897762298583984, 53.035484313964844, 30.540172576904297, 26.783775329589844, 25.20458984375, 19.48076820373535, 17.848217010498047, 17.541675567626953, 17.121471405029297, 11.76986312866211, 10.938791275024414, 9.150497436523438, 8.099703788757324, 7.953833103179932, 7.8681721687316895, 7.624958515167236, 7.395004749298096, 7.312227249145508, 7.0147624015808105, 6.969627857208252, 6.800958156585693, 6.540205955505371, 6.45835542678833, 6.3565473556518555, 6.210677146911621, 6.03627872467041, 5.872727394104004, 5.641007900238037, 5.546083927154541, 28.792339324951172, 23.237468719482422, 7.884042739868164, 31.89542579650879, 43.50813674926758, 10.018695831298828, 19.804088592529297, 19.804088592529297, 48.00743103027344, 43.07461929321289, 19.8975830078125, 42.784645080566406, 65.65878295898438, 33.0689582824707, 30.69873809814453, 16.723796844482422, 23.068317413330078, 12.844120025634766, 32.540340423583984, 16.928773880004883, 27.17551612854004, 18.915348052978516, 16.407873153686523, 17.054738998413086, 125.24967956542969, 25.24668312072754, 23.99949073791504, 22.789398193359375, 21.61163902282715, 21.61163902282715, 21.61163902282715, 21.61163902282715, 21.61163902282715, 21.0859317779541, 18.96663475036621, 14.790117263793945, 14.319003105163574, 14.19801139831543, 13.647673606872559, 12.725604057312012, 12.68685245513916, 12.421646118164062, 12.332393646240234, 12.221870422363281, 11.863228797912598, 10.823099136352539, 10.823099136352539, 10.823099136352539, 10.823099136352539, 10.823099136352539, 10.823099136352539, 10.823099136352539, 10.823099136352539, 10.823099136352539, 10.823099136352539, 10.823099136352539, 10.823099136352539, 25.251266479492188, 57.218746185302734, 24.751422882080078, 33.5604133605957, 16.628583908081055, 20.511837005615234, 63.45170211791992, 50.53496551513672, 12.039325714111328, 13.181201934814453, 27.156251907348633, 26.586769104003906, 24.700037002563477, 34.81657409667969, 32.50263977050781, 22.851184844970703, 23.195354461669922, 17.466815948486328, 19.613157272338867, 20.12158203125, 18.44577407836914, 18.246795654296875, 19.266334533691406, 38.59295654296875, 29.851436614990234, 23.678741455078125, 21.868192672729492, 20.98670196533203, 20.19425392150879, 18.581327438354492, 18.26431655883789, 17.819307327270508, 17.776302337646484, 16.804183959960938, 15.864897727966309, 16.923717498779297, 15.264791488647461, 12.603249549865723, 10.745990753173828, 10.049546241760254, 9.896146774291992, 9.896146774291992, 9.320900917053223, 19.51486587524414, 9.120574951171875, 7.948171138763428, 16.75108528137207, 7.213624954223633, 6.631834506988525, 6.611907958984375, 5.89376163482666, 5.831720352172852, 5.518590450286865, 15.86008358001709, 36.97103500366211, 20.08576011657715, 11.520637512207031, 16.706501007080078, 14.689172744750977, 15.410447120666504, 15.60565185546875, 19.99585723876953, 26.0397891998291, 10.794397354125977, 35.53862762451172, 27.508771896362305, 25.276018142700195, 24.674489974975586, 17.016803741455078, 17.016801834106445, 16.539670944213867, 16.490575790405273, 15.857501983642578, 15.697408676147461, 15.50236988067627, 11.748014450073242, 11.021329879760742, 10.620793342590332, 10.143662452697754, 10.047222137451172, 50.174713134765625, 9.563222885131836, 9.540255546569824, 8.764893531799316, 8.570969581604004, 8.505650520324707, 8.171219825744629, 8.067914962768555, 14.773691177368164, 7.448079586029053, 7.17102575302124, 6.918893814086914, 6.773444175720215, 6.429904937744141, 14.777774810791016, 15.46727180480957, 28.458593368530273, 14.958434104919434, 40.0511474609375, 15.93674373626709, 16.39684295654297, 21.575698852539062, 16.945478439331055, 31.30046272277832, 14.483019828796387, 13.241320610046387, 13.145340919494629, 11.865803718566895, 97.17324829101562, 61.6268196105957, 39.18303298950195, 32.76010513305664, 24.7141056060791, 21.109725952148438, 19.01031494140625, 18.82473373413086, 18.501665115356445, 14.326271057128906, 13.767716407775879, 12.67902660369873, 8.897062301635742, 8.445974349975586, 8.321540832519531, 8.27542495727539, 7.358548641204834, 7.331988334655762, 7.193887710571289, 6.856391906738281, 6.793281078338623, 6.768773555755615, 6.3657660484313965, 6.317684173583984, 6.180189609527588, 6.180189609527588, 6.180189609527588, 6.180189609527588, 6.180189609527588, 6.180189609527588, 6.180189609527588, 6.180189609527588, 42.58761215209961, 20.881444931030273, 7.709931373596191, 15.099279403686523, 48.986183166503906, 17.353322982788086, 13.639906883239746, 29.58933448791504, 31.274633407592773, 25.8925838470459, 34.26050567626953, 20.22443962097168, 18.53753089904785, 15.652583122253418, 11.892326354980469, 17.212982177734375, 13.821086883544922, 13.72433853149414, 13.385248184204102, 14.764862060546875, 13.316200256347656, 87.15234375, 19.388944625854492, 17.054210662841797, 16.362010955810547, 12.802217483520508, 12.545052528381348, 12.284504890441895, 11.874947547912598, 10.66418743133545, 15.726055145263672, 8.212860107421875, 7.927818298339844, 7.095086097717285, 6.200221061706543, 6.034946918487549, 5.889027118682861, 5.545863628387451, 5.275191307067871, 5.195460796356201, 4.869442462921143, 4.673061847686768, 4.525448799133301, 4.439450740814209, 4.439450740814209, 4.365815162658691, 4.241096496582031, 4.132862091064453, 3.9570891857147217, 3.9030582904815674, 3.6450634002685547, 15.359091758728027, 156.0409698486328, 14.544412612915039, 15.39464282989502, 69.03856658935547, 20.937057495117188, 8.457610130310059, 13.72785472869873, 42.11393356323242, 24.11746597290039, 9.762431144714355, 28.30930519104004, 12.189461708068848, 9.548751831054688, 8.6087007522583, 6.190664768218994, 52.12692642211914, 41.70811462402344, 34.34929656982422, 22.45180892944336, 15.716123580932617, 12.78356647491455, 11.453078269958496, 11.337327003479004, 11.107834815979004, 10.765542984008789, 10.451702117919922, 10.451702117919922, 10.451702117919922, 10.451702117919922, 10.451702117919922, 10.451702117919922, 10.451702117919922, 9.150738716125488, 7.310618877410889, 5.822724342346191, 5.145488262176514, 4.663825511932373, 4.253515243530273, 4.075430870056152, 4.061830520629883, 3.892003297805786, 3.892003297805786, 3.8920035362243652, 3.862823486328125, 3.649790048599243, 15.371662139892578, 31.26752281188965, 49.9824104309082, 11.450539588928223, 9.671262741088867, 7.745307922363281, 15.940352439880371, 20.261533737182617, 9.006007194519043, 11.243768692016602, 14.396220207214355, 12.508631706237793, 10.744916915893555, 11.461671829223633, 12.428414344787598, 11.825979232788086, 11.463861465454102, 10.69992446899414, 29.731361389160156, 27.934919357299805, 22.080522537231445, 21.45367431640625, 21.30435562133789, 19.971786499023438, 17.383747100830078, 14.857024192810059, 14.143136978149414, 11.612293243408203, 11.378453254699707, 10.93149185180664, 9.238761901855469, 8.752176284790039, 7.831777572631836, 7.793947219848633, 7.195380210876465, 16.12338638305664, 6.363492012023926, 6.363492012023926, 5.5248003005981445, 5.398066520690918, 5.1519999504089355, 4.584907054901123, 4.438115119934082, 4.400616645812988, 4.27657413482666, 4.273118495941162, 4.092807769775391, 4.0413994789123535, 13.026512145996094, 9.983060836791992, 42.98922348022461, 10.512720108032227, 12.860434532165527, 13.298624992370605, 13.627524375915527, 13.624155044555664, 9.934670448303223, 10.46086597442627, 12.55799388885498, 11.55921459197998, 9.564969062805176, 8.247917175292969, 61.20891189575195, 39.11504364013672, 29.857913970947266, 19.509305953979492, 19.229251861572266, 19.22882652282715, 14.938323974609375, 13.82289981842041, 11.001465797424316, 10.250970840454102, 9.972123146057129, 9.972123146057129, 9.972123146057129, 9.972123146057129, 9.286357879638672, 9.286357879638672, 8.055505752563477, 5.998210430145264, 5.602083683013916, 5.134712219238281, 4.546632289886475, 4.240673542022705, 4.143817901611328, 9.83963680267334, 3.7162365913391113, 3.585448741912842, 3.585448741912842, 3.5447888374328613, 3.4580531120300293, 3.458052635192871, 15.128545761108398, 27.53885269165039, 52.076210021972656, 35.073760986328125, 11.571778297424316, 16.132768630981445, 14.390427589416504, 8.323326110839844, 9.654952049255371, 8.37692928314209, 13.53399658203125, 13.308366775512695, 14.342281341552734, 15.57568073272705, 10.830780029296875, 20.93592071533203, 20.638566970825195, 20.25368881225586, 14.756975173950195, 14.756976127624512, 11.243330001831055, 9.721631050109863, 9.531693458557129, 6.307733535766602, 6.194024562835693, 5.760007858276367, 37.64736557006836, 5.6836323738098145, 5.682372570037842, 5.48085355758667, 5.327549457550049, 5.210172653198242, 5.066192150115967, 4.841246128082275, 4.701153755187988, 4.6083855628967285, 4.318686485290527, 4.220963954925537, 4.220963954925537, 4.025804042816162, 3.8816394805908203, 3.8024516105651855, 3.5241518020629883, 3.5241518020629883, 3.482296943664551, 6.612619400024414, 9.879914283752441, 4.672825336456299, 5.1527934074401855, 5.2832465171813965, 5.992478370666504, 5.413228511810303, 4.259397983551025, 4.315890312194824, 54.466522216796875, 54.466522216796875, 21.536996841430664, 15.579401969909668, 15.579401969909668, 14.639941215515137, 12.172698020935059, 8.86123275756836, 25.066673278808594, 8.526045799255371, 7.801980972290039, 7.801980972290039, 7.801980972290039, 7.801980972290039, 7.801980972290039, 7.801980972290039, 7.801980972290039, 7.801980972290039, 7.801980972290039, 4.130038738250732, 3.819126844406128, 2.8704843521118164, 2.7016453742980957, 2.6453659534454346, 10.362046241760254, 2.5136091709136963, 2.2647807598114014, 2.238056182861328, 2.2004075050354004, 2.0692172050476074, 18.33201789855957, 7.801980972290039, 5.238111972808838, 9.13327407836914, 6.011154651641846, 15.640670776367188, 11.956820487976074, 7.305688381195068, 13.71967887878418, 13.002220153808594, 7.209803581237793, 7.759242534637451, 10.6548433303833, 7.4750823974609375, 7.792956352233887, 13.715331077575684, 13.531694412231445, 11.086809158325195, 10.916322708129883, 10.882939338684082, 6.25405216217041, 5.854879379272461, 5.365153789520264, 5.100966930389404, 4.8064961433410645, 4.579833507537842, 4.320427894592285, 3.985090494155884, 3.9369447231292725, 3.4495577812194824, 3.287701368331909, 3.190605401992798, 3.0608654022216797, 2.7019364833831787, 2.645270347595215, 2.4747841358184814, 2.4747838973999023, 2.4425389766693115, 2.3026208877563477, 2.3012940883636475, 2.2044174671173096, 2.202078104019165, 2.157883405685425, 2.071139097213745, 2.011470079421997, 2.011470079421997, 2.011470079421997, 4.249224662780762, 3.6496810913085938, 5.295698642730713, 3.5946762561798096, 3.082155704498291, 2.5097053050994873, 3.096020460128784, 2.6786646842956543, 2.5561976432800293, 35.772830963134766, 12.000018119812012, 11.84785270690918, 9.098295211791992, 9.098295211791992, 8.548270225524902, 7.998245716094971, 7.998245716094971, 7.998245716094971, 7.998245716094971, 7.998245716094971, 7.998245716094971, 7.448220729827881, 7.448220729827881, 7.448220729827881, 7.448220729827881, 7.448220729827881, 7.448220729827881, 7.448220729827881, 7.448220729827881, 7.448220729827881, 7.448220729827881, 7.448220729827881, 5.770478248596191, 4.994852542877197, 4.531096935272217, 4.3683576583862305, 3.690690040588379, 3.690690040588379, 3.6263792514801025, 7.448220729827881, 12.294713020324707, 6.176459312438965, 5.708369731903076], \"Term\": [\"china\", \"world\", \"trade\", \"company\", \"country\", \"firm\", \"bank\", \"state\", \"government\", \"group\", \"profit\", \"sale\", \"year\", \"economic\", \"make\", \"report\", \"price\", \"executive\", \"rise\", \"high\", \"water\", \"plan\", \"oil\", \"yukos\", \"india\", \"buy\", \"growth\", \"economy\", \"argentina\", \"mr\", \"leader\", \"board\", \"campaigner\", \"blair\", \"forum\", \"life\", \"focus\", \"concession\", \"decide\", \"citizen\", \"pension\", \"whose\", \"amount\", \"planning\", \"uk\", \"imf\", \"attend\", \"document\", \"conference\", \"french\", \"staff\", \"accept\", \"european\", \"creditor\", \"interview\", \"globalisation\", \"appear\", \"arrive\", \"difficult\", \"outsource\", \"return\", \"operation\", \"call\", \"support\", \"list\", \"union\", \"large\", \"debt\", \"fund\", \"issue\", \"evidence\", \"business\", \"many\", \"put\", \"want\", \"plan\", \"day\", \"standard\", \"make\", \"begin\", \"world\", \"could\", \"take\", \"minister\", \"south\", \"need\", \"country\", \"time\", \"new\", \"move\", \"people\", \"company\", \"president\", \"euro\", \"say\", \"may\", \"firm\", \"nthe\", \"government\", \"big\", \"state\", \"year\", \"expect\", \"algeria\", \"material\", \"quarterly\", \"raw\", \"heat\", \"surge\", \"swiss\", \"offset\", \"barrel\", \"carrier\", \"crude\", \"van\", \"fourth\", \"beat\", \"industrialise\", \"widely\", \"airway\", \"overtake\", \"unite\", \"definition\", \"pre\", \"nfigur\", \"quarry\", \"jet\", \"unlikely\", \"weaken\", \"balance\", \"net\", \"aviation\", \"trigger\", \"profit\", \"total\", \"performance\", \"index\", \"price\", \"boom\", \"industrial\", \"revenue\", \"demand\", \"jump\", \"fuel\", \"rise\", \"increase\", \"high\", \"level\", \"share\", \"analyst\", \"report\", \"fall\", \"year\", \"cut\", \"quarter\", \"xc\", \"cost\", \"sale\", \"hit\", \"low\", \"month\", \"bn\", \"market\", \"oil\", \"growth\", \"see\", \"consumer\", \"xa\", \"early\", \"deficit\", \"gdp\", \"surplus\", \"worry\", \"currency\", \"bush\", \"social\", \"unemployment\", \"anymore\", \"dipiazza\", \"factor\", \"feed\", \"steady\", \"direction\", \"yen\", \"paul\", \"upward\", \"age\", \"borrow\", \"neconomic\", \"consecutive\", \"labour\", \"nmore\", \"contraction\", \"cosmetic\", \"employment\", \"word\", \"frank\", \"classify\", \"climate\", \"import\", \"nchina\", \"trend\", \"export\", \"partner\", \"fifth\", \"survey\", \"grow\", \"economy\", \"japan\", \"fact\", \"economic\", \"dollar\", \"budget\", \"growth\", \"record\", \"trade\", \"manufacturer\", \"japanese\", \"figure\", \"low\", \"ahead\", \"economist\", \"rate\", \"year\", \"job\", \"strong\", \"account\", \"come\", \"month\", \"become\", \"china\", \"expect\", \"high\", \"christma\", \"contribution\", \"retail\", \"england\", \"on\", \"retailer\", \"pwc\", \"slowdown\", \"british\", \"manufacturing\", \"mortgage\", \"housing\", \"ons\", \"rubinsohn\", \"kong\", \"rapid\", \"hong\", \"optimism\", \"experience\", \"concerned\", \"banker\", \"palestinian\", \"governor\", \"hedge\", \"consistent\", \"eef\", \"lending\", \"nnet\", \"story\", \"gloomy\", \"bank\", \"november\", \"manufacture\", \"treasury\", \"mark\", \"sector\", \"figure\", \"rate\", \"december\", \"house\", \"output\", \"economist\", \"interest\", \"rise\", \"quarter\", \"service\", \"market\", \"fall\", \"month\", \"year\", \"nthe\", \"chief\", \"well\", \"price\", \"sale\", \"annual\", \"may\", \"strong\", \"yukos\", \"deutsche\", \"russian\", \"gazprom\", \"auction\", \"rosneft\", \"yugansk\", \"khodorkovsky\", \"poll\", \"yuganskneftegas\", \"breach\", \"tony\", \"suggestion\", \"florida\", \"participation\", \"lock\", \"testimony\", \"wal\", \"founder\", \"copper\", \"chapter\", \"mikhail\", \"pact\", \"moscow\", \"monopoly\", \"simply\", \"tie\", \"jurisdiction\", \"split\", \"evasion\", \"russia\", \"bankruptcy\", \"asset\", \"court\", \"protection\", \"bid\", \"oil\", \"telecom\", \"tax\", \"unit\", \"claim\", \"deal\", \"buy\", \"state\", \"firm\", \"back\", \"sale\", \"company\", \"sell\", \"group\", \"giant\", \"pay\", \"suez\", \"earn\", \"admit\", \"avoid\", \"criminal\", \"investigation\", \"allegation\", \"marsh\", \"officer\", \"practice\", \"employee\", \"convict\", \"prosecution\", \"agent\", \"unfair\", \"reputation\", \"successfully\", \"prison\", \"up\", \"putin\", \"assault\", \"ceo\", \"obligation\", \"client\", \"motivate\", \"raid\", \"broker\", \"charge\", \"settle\", \"pledge\", \"trial\", \"lawyer\", \"ms\", \"former\", \"mr\", \"contract\", \"executive\", \"defence\", \"prosecutor\", \"accuse\", \"boss\", \"company\", \"team\", \"scandal\", \"face\", \"statement\", \"court\", \"claim\", \"chief\", \"firm\", \"financial\", \"file\", \"case\", \"shareholder\", \"nmr\", \"top\", \"bank\", \"xa\", \"corporate\", \"new\", \"india\", \"rupee\", \"vehicle\", \"utility\", \"drug\", \"maruti\", \"indian\", \"carmaker\", \"car\", \"club\", \"ban\", \"funding\", \"vital\", \"province\", \"plant\", \"nindia\", \"corp\", \"efficient\", \"ford\", \"louis\", \"reliance\", \"hybrid\", \"seat\", \"violent\", \"partially\", \"suzuki\", \"fashion\", \"mahindra\", \"ndemand\", \"tractor\", \"sunday\", \"factory\", \"maker\", \"sale\", \"unit\", \"transport\", \"model\", \"company\", \"include\", \"cheap\", \"year\", \"new\", \"product\", \"market\", \"compare\", \"show\", \"firm\", \"xc\", \"lse\", \"boerse\", \"lvmh\", \"euronext\", \"tobacco\", \"duty\", \"wine\", \"accuracy\", \"exact\", \"gold\", \"promote\", \"inquiry\", \"restate\", \"advert\", \"school\", \"seifert\", \"district\", \"smoke\", \"representative\", \"anthony\", \"cigarette\", \"furse\", \"diageo\", \"clearstream\", \"journal\", \"suitor\", \"burst\", \"capitalisation\", \"amsterdam\", \"donaldson\", \"sec\", \"chain\", \"music\", \"enron\", \"london\", \"nasdaq\", \"sarbane\", \"oxley\", \"exchange\", \"bid\", \"cash\", \"stock\", \"firm\", \"offer\", \"shareholder\", \"purchase\", \"takeover\", \"richard\", \"share\", \"house\", \"market\", \"base\", \"talk\", \"xa\", \"water\", \"sri\", \"lanka\", \"disaster\", \"riot\", \"ndemonstrator\", \"watan\", \"dinar\", \"butane\", \"tsunami\", \"indonesia\", \"agence\", \"favourable\", \"presse\", \"reconstruction\", \"tourism\", \"aside\", \"afp\", \"primarily\", \"peso\", \"cooking\", \"remote\", \"nalgeria\", \"morocco\", \"kilometre\", \"resentment\", \"cook\", \"sidi\", \"canister\", \"bouira\", \"tiaret\", \"ammar\", \"algier\", \"resort\", \"region\", \"suffer\", \"area\", \"construction\", \"infrastructure\", \"government\", \"economic\", \"qanta\", \"road\", \"close\", \"fuel\", \"main\", \"country\", \"report\", \"number\", \"hit\", \"protest\", \"accord\", \"first\", \"public\", \"poor\", \"cost\", \"glazer\", \"ukraine\", \"yushchenko\", \"fan\", \"viktor\", \"actually\", \"faith\", \"globe\", \"mountain\", \"madrid\", \"town\", \"scare\", \"manchester\", \"launder\", \"military\", \"deccan\", \"tycoon\", \"aer\", \"lingus\", \"iraqi\", \"restore\", \"patient\", \"identify\", \"jose\", \"mandelson\", \"mcmanus\", \"phytopharm\", \"dozen\", \"feta\", \"walsh\", \"overturn\", \"local\", \"block\", \"elect\", \"proposal\", \"carry\", \"attack\", \"weekend\", \"use\", \"report\", \"france\", \"cancel\", \"iran\", \"turkey\", \"flight\", \"reorganise\", \"wake\", \"attendance\", \"arrival\", \"listen\", \"jacque\", \"dam\", \"frankfurt\", \"turkish\", \"peoplesoft\", \"cement\", \"airport\", \"dominate\", \"oracle\", \"pursue\", \"river\", \"gorge\", \"khatami\", \"fsa\", \"lira\", \"operator\", \"alitalia\", \"vodafone\", \"wembley\", \"yangtze\", \"carnival\", \"compensation\", \"passenger\", \"project\", \"video\", \"airline\", \"schedule\", \"air\", \"power\", \"delay\", \"china\", \"minute\", \"weather\", \"commission\", \"may\", \"argentina\", \"aguas\", \"argentine\", \"spain\", \"iraq\", \"possibility\", \"aire\", \"bueno\", \"vido\", \"suspend\", \"kirchner\", \"pesos\", \"complain\", \"discovery\", \"field\", \"medical\", \"tape\", \"coast\", \"samuel\", \"devaluation\", \"nestor\", \"exception\", \"extraction\", \"bolivia\", \"contractual\", \"clarin\", \"futurology\", \"impoverish\", \"renegotiate\", \"alto\", \"allegedly\", \"barcelona\", \"gas\", \"supply\", \"accelerate\", \"discussion\", \"state\", \"reject\", \"improvement\", \"investment\", \"government\", \"oil\", \"firm\", \"president\", \"add\", \"future\", \"fail\", \"increase\", \"meet\", \"week\", \"minister\", \"make\", \"demand\", \"tariff\", \"peace\", \"membership\", \"wto\", \"tense\", \"ntrade\", \"hiv\", \"textile\", \"wmc\", \"christian\", \"malaysia\", \"xstrata\", \"hundred\", \"lesotho\", \"ism\", \"garment\", \"item\", \"islamic\", \"provider\", \"bt\", \"largely\", \"quota\", \"respondent\", \"custom\", \"cheese\", \"bangladesh\", \"visitor\", \"rely\", \"ofcom\", \"taylor\", \"disease\", \"china\", \"thank\", \"subsidy\", \"trade\", \"organisation\", \"yuan\", \"develop\", \"country\", \"aid\", \"access\", \"world\", \"free\", \"nation\", \"export\", \"product\", \"scrushy\", \"healthsouth\", \"conspiracy\", \"ebber\", \"saudi\", \"mci\", \"sullivan\", \"lure\", \"orchestrate\", \"overstate\", \"vouch\", \"alabama\", \"relied\", \"nrichard\", \"deceive\", \"clinic\", \"alice\", \"arabia\", \"verizon\", \"qw\", \"inflate\", \"ebay\", \"sbc\", \"communication\", \"touch\", \"savoy\", \"ncci\", \"kse\", \"bernie\", \"advise\", \"false\", \"worldcom\", \"fraud\", \"commit\", \"wall\", \"participate\", \"earning\", \"former\", \"plead\", \"prosecutor\", \"boost\", \"currently\", \"federal\", \"know\", \"first\", \"expect\", \"profit\", \"service\", \"steel\", \"cow\", \"clothing\", \"airbus\", \"aircraft\", \"shed\", \"plane\", \"wear\", \"beef\", \"mitsubishi\", \"thousand\", \"boeing\", \"vivendi\", \"pakistan\", \"plastic\", \"ghosn\", \"atr\", \"trust\", \"ead\", \"bombardier\", \"dutch\", \"gift\", \"amf\", \"camus\", \"suv\", \"chicago\", \"ge\", \"introduction\", \"departure\", \"peugeot\", \"boe\", \"engine\", \"store\", \"nissan\", \"profitable\", \"air\", \"non\", \"order\", \"range\", \"open\", \"sale\", \"firm\", \"japan\", \"japanese\", \"label\", \"lacroix\", \"falic\", \"fiat\", \"couture\", \"flare\", \"foster\", \"parmalat\", \"southcorp\", \"champagne\", \"vuitton\", \"moet\", \"designer\", \"chandon\", \"unspecified\", \"nluxury\", \"anil\", \"ambani\", \"gm\", \"mukesh\", \"saab\", \"remove\", \"winemaker\", \"spot\", \"opel\", \"ashley\", \"murray\", \"alfa\", \"ipcl\", \"tanzi\", \"detail\", \"brand\", \"group\", \"buy\", \"found\", \"loss\", \"stake\", \"italian\", \"struggle\", \"source\", \"sell\", \"base\", \"plan\", \"make\", \"include\", \"mining\", \"child\", \"kill\", \"string\", \"village\", \"bell\", \"mcdonald\", \"tonne\", \"emergency\", \"canada\", \"contribute\", \"food\", \"slavery\", \"agriculture\", \"depend\", \"directly\", \"century\", \"recommend\", \"assist\", \"kraft\", \"assistance\", \"slave\", \"pharma\", \"cannabis\", \"qualify\", \"inform\", \"canal\", \"gw\", \"sativex\", \"cocoa\", \"space\", \"natural\", \"farmer\", \"disney\", \"programme\", \"use\", \"production\", \"deposit\", \"product\", \"santander\", \"botin\", \"payout\", \"corcostegui\", \"hispano\", \"complaint\", \"bonus\", \"convert\", \"card\", \"misuse\", \"banco\", \"emilio\", \"greet\", \"instrumental\", \"maria\", \"reconvene\", \"angel\", \"abbey\", \"amusategui\", \"computer\", \"axa\", \"pin\", \"chernin\", \"microsoft\", \"justice\", \"suisse\", \"supermarket\", \"lenovo\", \"baggage\", \"vendor\", \"payment\", \"chairmanship\", \"internet\", \"full\", \"video\", \"xc\", \"set\", \"credit\", \"high\", \"big\", \"step\", \"medium\", \"say\", \"start\", \"xa\", \"cairn\", \"update\", \"mae\", \"fannie\", \"rover\", \"nortel\", \"unilever\", \"bribe\", \"rajasthan\", \"gammell\", \"nlast\", \"franc\", \"yili\", \"author\", \"expectancy\", \"aston\", \"automotive\", \"extension\", \"restatement\", \"mac\", \"plasma\", \"toshitsune\", \"equally\", \"longbridge\", \"regular\", \"vantage\", \"lost\", \"freddie\", \"collection\", \"hoodia\", \"ariary\", \"cactus\", \"mini\", \"police\", \"area\", \"model\", \"old\", \"display\", \"important\", \"use\", \"almost\", \"davos\", \"brazilian\", \"wef\", \"porto\", \"alegre\", \"appearance\", \"mute\", \"warming\", \"mbeki\", \"thabo\", \"abba\", \"demonstration\", \"nclimate\", \"eve\", \"showbiz\", \"jolie\", \"converge\", \"ivory\", \"helicopter\", \"goodwill\", \"angelina\", \"refugee\", \"frontman\", \"beer\", \"brewer\", \"bat\", \"silva\", \"ssl\", \"villalba\", \"inbev\", \"chairmanship\", \"world\", \"chirac\", \"organisation\"], \"Total\": [262.0, 313.0, 248.0, 702.0, 293.0, 505.0, 358.0, 306.0, 296.0, 219.0, 280.0, 393.0, 883.0, 283.0, 334.0, 306.0, 383.0, 268.0, 421.0, 269.0, 126.0, 211.0, 236.0, 161.0, 139.0, 161.0, 348.0, 317.0, 97.0, 195.0, 131.22909545898438, 122.31476593017578, 72.06640625, 71.30684661865234, 59.959678649902344, 54.53425598144531, 93.0615005493164, 51.01229476928711, 52.58792495727539, 47.156829833984375, 47.07456970214844, 50.26011657714844, 47.38872528076172, 45.76106643676758, 45.2469367980957, 44.56367111206055, 43.276649475097656, 45.316864013671875, 42.71010971069336, 90.11295318603516, 41.87100601196289, 40.74616241455078, 174.21368408203125, 40.100852966308594, 39.002227783203125, 37.944129943847656, 37.32736587524414, 37.223670959472656, 38.971229553222656, 37.18455505371094, 59.652198791503906, 71.57710266113281, 144.6190643310547, 66.21965026855469, 88.2156982421875, 62.80695343017578, 190.0714874267578, 100.83136749267578, 125.43323516845703, 126.00225067138672, 74.24421691894531, 314.5337219238281, 159.34434509277344, 83.21746826171875, 99.99715423583984, 211.90203857421875, 142.41964721679688, 64.68172454833984, 334.500244140625, 120.3677978515625, 313.3060302734375, 267.7652587890625, 234.9430694580078, 131.33082580566406, 99.30363464355469, 124.9652099609375, 293.1606750488281, 199.89451599121094, 361.3813171386719, 174.90667724609375, 178.76219177246094, 702.7222900390625, 178.62509155273438, 175.3173828125, 191.2067413330078, 250.05670166015625, 505.6487121582031, 302.9403991699219, 296.63665771484375, 260.3005065917969, 306.27606201171875, 883.914306640625, 275.2080993652344, 58.8406867980957, 54.10088348388672, 51.64085006713867, 45.851078033447266, 42.17293167114258, 40.930294036865234, 40.0904426574707, 33.79438018798828, 33.43833923339844, 32.759605407714844, 32.25350570678711, 26.994667053222656, 49.03038787841797, 26.19502067565918, 24.765037536621094, 24.606609344482422, 24.47722053527832, 24.138126373291016, 23.62212562561035, 22.654186248779297, 28.975391387939453, 21.740270614624023, 21.314395904541016, 20.572771072387695, 20.433635711669922, 20.357450485229492, 19.625822067260742, 51.18806838989258, 19.145952224731445, 19.070268630981445, 280.1300964355469, 91.53519439697266, 40.568363189697266, 51.163726806640625, 383.7352294921875, 49.888851165771484, 32.05119323730469, 74.91655731201172, 153.89718627929688, 49.696929931640625, 107.52523803710938, 421.9382019042969, 230.70957946777344, 269.5583801269531, 102.00094604492188, 293.0993957519531, 257.045166015625, 306.8275451660156, 261.8414611816406, 883.914306640625, 189.11367797851562, 208.37966918945312, 193.9603729248047, 288.98199462890625, 393.3065490722656, 142.33120727539062, 241.11692810058594, 352.4870300292969, 252.97662353515625, 450.02587890625, 236.17767333984375, 348.1419982910156, 238.61817932128906, 132.897216796875, 324.44805908203125, 168.5063018798828, 88.67595672607422, 53.824275970458984, 51.55547332763672, 50.45418930053711, 44.8128776550293, 38.79705810546875, 34.182647705078125, 32.929229736328125, 30.988222122192383, 29.540456771850586, 27.687026977539062, 26.919490814208984, 26.462968826293945, 22.984268188476562, 89.94072723388672, 22.31879234313965, 23.920207977294922, 20.630399703979492, 20.25821304321289, 19.846267700195312, 19.556175231933594, 18.810810089111328, 18.426944732666016, 18.05706787109375, 17.890460968017578, 17.73601531982422, 17.571561813354492, 17.35138511657715, 17.339038848876953, 17.30819320678711, 57.780487060546875, 40.7988395690918, 45.458492279052734, 112.51021575927734, 41.89224624633789, 30.50367546081543, 120.00714874267578, 184.39883422851562, 317.9169006347656, 157.9368438720703, 39.27412414550781, 283.875732421875, 171.8919677734375, 89.13095092773438, 348.1419982910156, 117.35115051269531, 248.30067443847656, 49.85699462890625, 57.224609375, 234.3181915283203, 241.11692810058594, 87.74791717529297, 135.1412353515625, 254.449951171875, 883.914306640625, 122.56884002685547, 182.3580780029297, 150.04197692871094, 233.70668029785156, 352.4870300292969, 86.29283142089844, 262.12225341796875, 275.2080993652344, 269.5583801269531, 65.24677276611328, 61.31794738769531, 54.24864196777344, 51.21025848388672, 49.25913619995117, 46.121551513671875, 40.99211883544922, 40.14445877075195, 38.78995132446289, 35.554229736328125, 32.27829360961914, 30.930856704711914, 30.068002700805664, 27.33477210998535, 25.406570434570312, 24.958290100097656, 23.885377883911133, 23.190120697021484, 22.826332092285156, 21.894424438476562, 20.697607040405273, 20.413843154907227, 20.413110733032227, 17.803014755249023, 17.241718292236328, 17.119155883789062, 16.862071990966797, 16.736326217651367, 16.681190490722656, 16.580110549926758, 358.0681457519531, 77.77136993408203, 31.253185272216797, 35.403076171875, 49.736572265625, 93.71044158935547, 234.3181915283203, 254.449951171875, 166.829345703125, 69.92610168457031, 70.08712768554688, 135.1412353515625, 173.89459228515625, 421.9382019042969, 208.37966918945312, 129.48158264160156, 450.02587890625, 261.8414611816406, 352.4870300292969, 883.914306640625, 302.9403991699219, 274.4751281738281, 141.59812927246094, 383.7352294921875, 393.3065490722656, 113.7335205078125, 250.05670166015625, 182.3580780029297, 161.81910705566406, 102.22938537597656, 87.89654541015625, 64.24629974365234, 51.920040130615234, 42.221187591552734, 38.4947624206543, 36.97504425048828, 35.8892822265625, 31.535812377929688, 30.671024322509766, 27.07581901550293, 26.313697814941406, 24.489316940307617, 23.513017654418945, 22.020648956298828, 22.020648956298828, 21.873544692993164, 19.144906997680664, 18.779268264770508, 18.701122283935547, 17.182798385620117, 17.168350219726562, 16.232454299926758, 15.930088996887207, 15.370750427246094, 14.67732048034668, 13.594874382019043, 12.904900550842285, 12.77192497253418, 74.04594421386719, 78.46025085449219, 80.79517364501953, 141.15176391601562, 42.70747756958008, 121.03221130371094, 236.17767333984375, 34.28165817260742, 144.36215209960938, 90.24878692626953, 109.72285461425781, 179.8878936767578, 161.2290802001953, 306.27606201171875, 505.6487121582031, 114.56087493896484, 393.3065490722656, 702.7222900390625, 121.69281005859375, 219.96034240722656, 79.4300537109375, 124.95064544677734, 70.06465148925781, 32.06181716918945, 31.96031379699707, 30.680322647094727, 29.896730422973633, 26.740703582763672, 25.683361053466797, 24.937623977661133, 24.928260803222656, 23.612491607666016, 34.320499420166016, 20.092466354370117, 20.07090187072754, 20.02389144897461, 19.870798110961914, 18.681615829467773, 18.884510040283203, 18.4029541015625, 18.28598403930664, 17.82575798034668, 16.766145706176758, 16.69217300415039, 16.086111068725586, 15.92105484008789, 15.727572441101074, 15.166990280151367, 14.77486801147461, 96.52225494384766, 13.76799201965332, 13.263428688049316, 86.90845489501953, 66.17620086669922, 28.963502883911133, 112.28034210205078, 195.19190979003906, 76.3492202758789, 268.81622314453125, 28.05478858947754, 43.76462936401367, 55.945743560791016, 116.21723175048828, 702.7222900390625, 30.564882278442383, 38.56672668457031, 127.18370819091797, 108.9694595336914, 141.15176391601562, 109.72285461425781, 274.4751281738281, 505.6487121582031, 174.28387451171875, 68.7697525024414, 84.0611343383789, 128.06402587890625, 59.51482391357422, 109.53632354736328, 358.0681457519531, 324.44805908203125, 86.3973388671875, 361.3813171386719, 139.0603790283203, 98.16364288330078, 87.65185546875, 84.8700942993164, 65.62349700927734, 77.55835723876953, 62.03835678100586, 32.33788299560547, 119.72966003417969, 65.31219482421875, 28.243350982666016, 26.237060546875, 26.224498748779297, 26.12568473815918, 25.608448028564453, 24.968490600585938, 22.157787322998047, 21.61454200744629, 20.24972915649414, 19.89896011352539, 19.420490264892578, 18.670690536499023, 18.600839614868164, 18.43236541748047, 17.9205265045166, 17.344614028930664, 16.50267219543457, 16.160287857055664, 16.160287857055664, 16.160287857055664, 56.21957015991211, 30.870149612426758, 56.80845642089844, 393.3065490722656, 90.24878692626953, 28.8267879486084, 23.8572998046875, 702.7222900390625, 183.26170349121094, 46.48235321044922, 883.914306640625, 361.3813171386719, 94.26590728759766, 450.02587890625, 109.85723876953125, 135.63584899902344, 505.6487121582031, 193.9603729248047, 66.00486755371094, 57.66613006591797, 53.80385208129883, 31.308544158935547, 27.552146911621094, 25.973115921020508, 20.249290466308594, 18.616588592529297, 18.310047149658203, 17.889842987060547, 12.538236618041992, 11.707164764404297, 9.91887092590332, 8.868077278137207, 8.722206115722656, 8.636545181274414, 8.393331527709961, 8.163375854492188, 8.080601692199707, 7.7831339836120605, 7.737999439239502, 7.569329738616943, 7.308577537536621, 7.22672700881958, 7.1249189376831055, 6.979048728942871, 6.804653167724609, 6.641098976135254, 6.409379482269287, 6.314455509185791, 34.70114517211914, 28.13939094543457, 9.328457832336426, 47.57954406738281, 94.14573669433594, 13.457772254943848, 35.141658782958984, 35.141658782958984, 133.46421813964844, 121.03221130371094, 44.18003845214844, 166.8794403076172, 505.6487121582031, 143.94554138183594, 128.06402587890625, 41.31955337524414, 86.27793884277344, 24.87350082397461, 293.0993957519531, 69.92610168457031, 450.02587890625, 115.94879150390625, 90.46783447265625, 324.44805908203125, 126.03470611572266, 26.031400680541992, 24.784210205078125, 23.574115753173828, 22.397260665893555, 22.397260665893555, 22.397260665893555, 22.397260665893555, 22.397260665893555, 21.870651245117188, 19.751354217529297, 15.574836730957031, 15.103721618652344, 14.9827299118042, 14.432392120361328, 13.510322570800781, 13.47157096862793, 13.206430435180664, 13.117112159729004, 13.00658893585205, 12.647947311401367, 11.60793399810791, 11.60793399810791, 11.60793399810791, 11.60793399810791, 11.60793399810791, 11.60793399810791, 11.60793399810791, 11.60793399810791, 11.60793399810791, 11.60793399810791, 11.60793399810791, 11.60793399810791, 30.524080276489258, 81.95411682128906, 33.97216796875, 63.869285583496094, 22.348426818847656, 34.374176025390625, 296.63665771484375, 283.875732421875, 14.566174507141113, 18.071247100830078, 104.7779312133789, 107.52523803710938, 91.90714263916016, 293.1606750488281, 306.8275451660156, 121.5377426147461, 142.33120727539062, 51.42668533325195, 94.7923812866211, 163.78890991210938, 99.72544860839844, 105.91515350341797, 288.98199462890625, 39.47855758666992, 30.62357521057129, 24.45088005065918, 22.640331268310547, 21.758960723876953, 20.966392517089844, 19.353466033935547, 19.036455154418945, 18.591449737548828, 18.54844093322754, 17.576322555541992, 16.637428283691406, 17.763952255249023, 16.03693199157715, 13.375389099121094, 11.5181303024292, 10.821685791015625, 10.668286323547363, 10.668286323547363, 10.093040466308594, 21.148300170898438, 9.892714500427246, 8.72031021118164, 18.51275062561035, 7.985762596130371, 7.40397310256958, 7.384045600891113, 6.665899276733398, 6.603858470916748, 6.2907280921936035, 18.638444900512695, 55.4227409362793, 36.121036529541016, 19.46149444580078, 44.309165954589844, 34.95293426513672, 41.467315673828125, 44.0787239074707, 104.03555297851562, 306.8275451660156, 61.31690979003906, 36.31233215332031, 28.28247833251953, 26.049724578857422, 25.44869613647461, 17.790510177612305, 17.790510177612305, 17.313377380371094, 17.2642822265625, 16.631214141845703, 16.471115112304688, 16.276079177856445, 12.521722793579102, 11.795038223266602, 11.394501686096191, 10.917370796203613, 10.820931434631348, 54.06588363647461, 10.336931228637695, 10.313963890075684, 9.538601875305176, 9.344677925109863, 9.279358863830566, 8.944928169250488, 8.841623306274414, 16.287736892700195, 8.221787452697754, 7.944732666015625, 7.692601680755615, 7.547151565551758, 7.203612327575684, 18.026355743408203, 21.308900833129883, 47.799076080322266, 21.71877098083496, 103.79061126708984, 26.515968322753906, 39.67045974731445, 77.91342163085938, 47.58036804199219, 262.12225341796875, 37.22841262817383, 30.70025062561035, 55.45206832885742, 250.05670166015625, 97.97258758544922, 62.426151275634766, 39.982364654541016, 33.579490661621094, 25.51343536376953, 21.909072875976562, 19.80964469909668, 19.62406349182129, 19.300994873046875, 15.125602722167969, 14.567048072814941, 13.478358268737793, 9.696393966674805, 9.245306015014648, 9.120872497558594, 9.074756622314453, 8.157907485961914, 8.131319046020508, 7.995197296142578, 7.6557230949401855, 7.592612266540527, 7.5681047439575195, 7.165097236633301, 7.117015361785889, 6.979520797729492, 6.979520797729492, 6.979520797729492, 6.979520797729492, 6.979520797729492, 6.979520797729492, 6.979520797729492, 6.979520797729492, 64.49906921386719, 45.68040084838867, 9.955101013183594, 30.684555053710938, 306.27606201171875, 48.06595993041992, 33.883079528808594, 166.3518829345703, 296.63665771484375, 236.17767333984375, 505.6487121582031, 178.62509155273438, 164.47906494140625, 122.17986297607422, 48.6347541809082, 230.70957946777344, 94.28983306884766, 143.53176879882812, 131.33082580566406, 334.500244140625, 153.89718627929688, 87.93360900878906, 20.170209884643555, 17.83547019958496, 17.14327049255371, 13.583477020263672, 13.326312065124512, 13.065764427185059, 12.656207084655762, 11.445446968078613, 17.206083297729492, 8.994119644165039, 8.709077835083008, 7.876345634460449, 6.981480598449707, 6.816206455230713, 6.670286655426025, 6.327123165130615, 6.056450843811035, 5.976720333099365, 5.650701999664307, 5.454321384429932, 5.306708335876465, 5.220710277557373, 5.220710277557373, 5.1470746994018555, 5.022356033325195, 4.914121627807617, 4.738348960876465, 4.684317588806152, 4.426322937011719, 19.926355361938477, 262.12225341796875, 22.12920570373535, 24.60711097717285, 248.30067443847656, 55.88262176513672, 14.34135913848877, 33.49885940551758, 293.1606750488281, 108.44226837158203, 24.46007537841797, 313.3060302734375, 46.67091369628906, 44.70830154418945, 112.51021575927734, 94.26590728759766, 52.91281509399414, 42.49399948120117, 35.13518142700195, 23.237695693969727, 16.502010345458984, 13.569453239440918, 12.23896598815918, 12.123213768005371, 11.893721580505371, 11.551429748535156, 11.237588882446289, 11.237588882446289, 11.237588882446289, 11.237588882446289, 11.237588882446289, 11.237588882446289, 11.237588882446289, 9.936625480651855, 8.096505165100098, 6.608611106872559, 5.931375026702881, 5.44971227645874, 5.039402008056641, 4.8613176345825195, 4.84771728515625, 4.677890300750732, 4.677890300750732, 4.677890300750732, 4.648710250854492, 4.4356770515441895, 19.406652450561523, 48.89191818237305, 86.05646514892578, 21.5404109954834, 17.51842498779297, 14.451301574707031, 65.10002899169922, 112.28034210205078, 22.38827133178711, 43.76462936401367, 107.50544738769531, 79.53291320800781, 47.50100326538086, 74.66051483154297, 163.78890991210938, 275.2080993652344, 280.1300964355469, 129.48158264160156, 30.5065975189209, 28.710159301757812, 22.855762481689453, 22.228910446166992, 22.079593658447266, 20.74702262878418, 18.15898323059082, 15.632261276245117, 14.918374061584473, 12.387533187866211, 12.153690338134766, 11.7067289352417, 10.01400089263916, 9.527413368225098, 8.607014656066895, 8.569452285766602, 7.970619201660156, 17.924640655517578, 7.138729095458984, 7.138729095458984, 6.300037384033203, 6.173303604125977, 5.927237510681152, 5.360143661499023, 5.213352203369141, 5.175853729248047, 5.051811218261719, 5.048355579376221, 4.86804723739624, 4.816636085510254, 15.557406425476074, 12.275352478027344, 62.04436492919922, 14.401527404785156, 33.9650993347168, 39.67045974731445, 55.101383209228516, 70.91191101074219, 54.66278076171875, 68.89080810546875, 393.3065490722656, 505.6487121582031, 157.9368438720703, 57.224609375, 61.99846649169922, 39.904598236083984, 30.647470474243164, 20.298860549926758, 20.01880645751953, 20.019086837768555, 15.72787857055664, 14.612454414367676, 11.791020393371582, 11.040526390075684, 10.761677742004395, 10.761677742004395, 10.761677742004395, 10.761677742004395, 10.075912475585938, 10.075912475585938, 8.845060348510742, 6.787765026092529, 6.391638278961182, 5.924267292022705, 5.33618688583374, 5.030228137969971, 4.933372974395752, 11.89851188659668, 4.505791187286377, 4.375003337860107, 4.375003814697266, 4.334343433380127, 4.247607707977295, 4.247608184814453, 20.473886489868164, 55.94718551635742, 219.96034240722656, 161.2290802001953, 33.90206527709961, 65.41249084472656, 53.28524398803711, 20.548372268676758, 35.93269348144531, 25.923250198364258, 121.69281005859375, 115.94879150390625, 211.90203857421875, 334.500244140625, 183.26170349121094, 21.714614868164062, 21.417261123657227, 21.03238296508789, 15.53566837310791, 15.535669326782227, 12.022102355957031, 10.500324249267578, 10.310386657714844, 7.086427211761475, 6.972718238830566, 6.53870153427124, 42.77279281616211, 6.4623260498046875, 6.461066246032715, 6.259547233581543, 6.106243133544922, 5.988866329193115, 5.84488582611084, 5.619943141937256, 5.479847431182861, 5.387079238891602, 5.0973801612854, 4.99965763092041, 4.99965763092041, 4.804497718811035, 4.660333156585693, 4.581145286560059, 4.302845478057861, 4.302845478057861, 4.260990619659424, 8.340919494628906, 19.862154006958008, 6.563938617706299, 9.989044189453125, 23.53008270263672, 104.03555297851562, 119.99645233154297, 9.247016906738281, 94.26590728759766, 55.2607536315918, 55.2607536315918, 22.331222534179688, 16.373628616333008, 16.373628616333008, 15.434188842773438, 12.966924667358398, 9.6554594039917, 27.3370304107666, 9.320272445678711, 8.596207618713379, 8.596207618713379, 8.596207618713379, 8.596207618713379, 8.596207618713379, 8.596207618713379, 8.596207618713379, 8.596207618713379, 8.596207618713379, 4.924265384674072, 4.613353729248047, 3.6647109985351562, 3.4958720207214355, 3.4395925998687744, 13.537210464477539, 3.307835817337036, 3.059007406234741, 3.032282829284668, 2.994637966156006, 2.8634438514709473, 44.210174560546875, 16.020984649658203, 12.848505020141602, 44.66412353515625, 21.71877098083496, 193.9603729248047, 123.19556427001953, 38.799808502197266, 269.5583801269531, 260.3005065917969, 40.021785736083984, 52.16631317138672, 191.2067413330078, 76.35423278808594, 324.44805908203125, 14.496264457702637, 14.312627792358398, 11.867742538452148, 11.697256088256836, 11.663885116577148, 7.034985542297363, 6.635812759399414, 6.146087646484375, 5.881900787353516, 5.587430000305176, 5.360767364501953, 5.101375102996826, 4.766024112701416, 4.717878341674805, 4.230491638183594, 4.068634986877441, 3.9715964794158936, 3.841799020767212, 3.482870101928711, 3.426203966140747, 3.2557177543640137, 3.2557175159454346, 3.2234725952148438, 3.08355450630188, 3.0822277069091797, 2.985351085662842, 2.9830117225646973, 2.938817024230957, 2.8520727157592773, 2.7924036979675293, 2.7924036979675293, 2.7924036979675293, 7.412559509277344, 11.501262664794922, 63.869285583496094, 23.8572998046875, 13.422384262084961, 5.629947662353516, 29.688446044921875, 104.03555297851562, 37.108924865722656, 36.568172454833984, 12.795358657836914, 12.644099235534668, 9.893635749816895, 9.893635749816895, 9.343610763549805, 8.793585777282715, 8.793585777282715, 8.793585777282715, 8.793585777282715, 8.793585777282715, 8.793585777282715, 8.243560791015625, 8.243560791015625, 8.243560791015625, 8.243560791015625, 8.243560791015625, 8.243560791015625, 8.243560791015625, 8.243560791015625, 8.243560791015625, 8.243560791015625, 8.243560791015625, 6.5658183097839355, 5.790192604064941, 5.326438903808594, 5.163697719573975, 4.486030101776123, 4.486030101776123, 4.421719551086426, 16.020984649658203, 313.3060302734375, 27.072799682617188, 55.88262176513672], \"loglift\": [30.0, 29.0, 28.0, 27.0, 26.0, 25.0, 24.0, 23.0, 22.0, 21.0, 20.0, 19.0, 18.0, 17.0, 16.0, 15.0, 14.0, 13.0, 12.0, 11.0, 10.0, 9.0, 8.0, 7.0, 6.0, 5.0, 4.0, 3.0, 2.0, 1.0, 1.2856999635696411, 1.2828999757766724, 1.2807999849319458, 1.2806999683380127, 1.2786999940872192, 1.277400016784668, 1.2771999835968018, 1.2763999700546265, 1.2762999534606934, 1.2750999927520752, 1.2750999927520752, 1.2750999927520752, 1.274999976158142, 1.2746000289916992, 1.274399995803833, 1.2741999626159668, 1.2735999822616577, 1.2734999656677246, 1.2733999490737915, 1.273300051689148, 1.2730000019073486, 1.2725000381469727, 1.2725000381469727, 1.2719999551773071, 1.2717000246047974, 1.2711000442504883, 1.270799994468689, 1.2706999778747559, 1.2706999778747559, 1.2705999612808228, 1.2690000534057617, 1.2640000581741333, 1.2496999502182007, 1.2647000551223755, 1.2583999633789062, 1.2634999752044678, 1.2096999883651733, 1.232699990272522, 1.2199000120162964, 1.2193000316619873, 1.2404999732971191, 1.13919997215271, 1.1859999895095825, 1.2259000539779663, 1.1983000040054321, 1.121999979019165, 1.1589000225067139, 1.23989999294281, 1.0234999656677246, 1.1413999795913696, 0.968500018119812, 0.9843999743461609, 1.0042999982833862, 1.1075999736785889, 1.1593999862670898, 1.0923999547958374, 0.8684999942779541, 0.9689000248908997, 0.795199990272522, 0.9909999966621399, 0.9761999845504761, 0.5116000175476074, 0.9510999917984009, 0.953499972820282, 0.9107999801635742, 0.7843999862670898, 0.23960000276565552, 0.5436000227928162, 0.551800012588501, 0.5534999966621399, 0.4056999981403351, -0.5029000043869019, 0.4429999887943268, 1.9634000062942505, 1.9622999429702759, 1.9615999460220337, 1.9596999883651733, 1.958299994468689, 1.9577000141143799, 1.9572999477386475, 1.9536999464035034, 1.9535000324249268, 1.9529999494552612, 1.9526000022888184, 1.9479000568389893, 1.9479000568389893, 1.9470000267028809, 1.9452999830245972, 1.945099949836731, 1.9449000358581543, 1.9444999694824219, 1.9437999725341797, 1.9422999620437622, 1.941499948501587, 1.9408999681472778, 1.9401999711990356, 1.9387999773025513, 1.938599944114685, 1.9384000301361084, 1.937000036239624, 1.9365999698638916, 1.9359999895095825, 1.9357999563217163, 1.9255000352859497, 1.851199984550476, 1.8875999450683594, 1.867900013923645, 1.705299973487854, 1.8518999814987183, 1.8925000429153442, 1.7869999408721924, 1.690600037574768, 1.8291000127792358, 1.68340003490448, 1.4239000082015991, 1.5049999952316284, 1.4193999767303467, 1.6216000318527222, 1.3631999492645264, 1.3935999870300293, 1.313599944114685, 1.343400001525879, 0.9718000292778015, 1.409500002861023, 1.3051999807357788, 1.3187999725341797, 1.1089999675750732, 0.9603999853134155, 1.386199951171875, 1.1414999961853027, 0.9397000074386597, 1.0433000326156616, 0.7263000011444092, 1.0534000396728516, 0.8256999850273132, 1.013100028038025, 1.3538999557495117, 0.6704000234603882, 1.0887999534606934, 2.13919997215271, 2.133500099182129, 2.1328999996185303, 2.131999969482422, 2.1305999755859375, 2.1277999877929688, 2.1250998973846436, 2.1242001056671143, 2.1226999759674072, 2.1210999488830566, 2.1196000576019287, 2.118799924850464, 2.118299961090088, 2.113800048828125, 2.111299991607666, 2.1101999282836914, 2.109800100326538, 2.109800100326538, 2.109100103378296, 2.1082000732421875, 2.107599973678589, 2.1059999465942383, 2.10509991645813, 2.1041998863220215, 2.103800058364868, 2.1033999919891357, 2.1029999256134033, 2.102400064468384, 2.102299928665161, 2.102299928665161, 2.0947000980377197, 2.091599941253662, 2.0859999656677246, 2.0464999675750732, 2.067500114440918, 2.0755999088287354, 1.9198999404907227, 1.8698999881744385, 1.785599946975708, 1.86080002784729, 2.021699905395508, 1.7036999464035034, 1.773800015449524, 1.850600004196167, 1.5819000005722046, 1.7838000059127808, 1.5398999452590942, 1.9416999816894531, 1.892799973487854, 1.4387999773025513, 1.354200005531311, 1.701300024986267, 1.5252000093460083, 1.2509000301361084, 0.714900016784668, 1.5570000410079956, 1.3125, 1.3486000299453735, 1.0577000379562378, 0.7422999739646912, 1.6337000131607056, 0.8095999956130981, 0.7330999970436096, 0.6298999786376953, 2.530100107192993, 2.5292999744415283, 2.5276999473571777, 2.5267999172210693, 2.52620005607605, 2.525099992752075, 2.522900104522705, 2.5225000381469727, 2.5218000411987305, 2.5199999809265137, 2.517699956893921, 2.5165998935699463, 2.515899896621704, 2.513200044631958, 2.510999917984009, 2.510499954223633, 2.509000062942505, 2.507999897003174, 2.5074000358581543, 2.5058999061584473, 2.5037999153137207, 2.5032999515533447, 2.5032999515533447, 2.497499942779541, 2.496000051498413, 2.4955999851226807, 2.4948999881744385, 2.494499921798706, 2.4944000244140625, 2.4941000938415527, 2.2035000324249268, 2.344899892807007, 2.4339001178741455, 2.3548998832702637, 2.2797999382019043, 2.1415998935699463, 1.8585000038146973, 1.7825000286102295, 1.8423000574111938, 2.072499990463257, 2.0587000846862793, 1.7613999843597412, 1.6455999612808228, 1.256600022315979, 1.5592999458312988, 1.7720999717712402, 1.1303000450134277, 1.3688000440597534, 1.1983000040054321, 0.5242999792098999, 1.0335999727249146, 1.0819000005722046, 1.517799973487854, 0.7856000065803528, 0.7261000275611877, 1.6267000436782837, 0.9150999784469604, 1.104599952697754, 2.7188000679016113, 2.7160000801086426, 2.7147998809814453, 2.7116000652313232, 2.7088000774383545, 2.705399990081787, 2.7035999298095703, 2.7028000354766846, 2.702199935913086, 2.699199914932251, 2.698499917984009, 2.695199966430664, 2.6942999362945557, 2.6921000480651855, 2.6907999515533447, 2.6886000633239746, 2.6886000633239746, 2.6882998943328857, 2.683199882507324, 2.6823999881744385, 2.6821999549865723, 2.678499937057495, 2.678499937057495, 2.675800085067749, 2.6749000549316406, 2.673099994659424, 2.670599937438965, 2.666300058364868, 2.6631999015808105, 2.6624999046325684, 2.6359000205993652, 2.518199920654297, 2.2348999977111816, 2.009200096130371, 2.3417000770568848, 1.995300054550171, 1.7569999694824219, 2.4031999111175537, 1.8154000043869019, 1.9917000532150269, 1.871999979019165, 1.5687999725341797, 1.5192999839782715, 1.0577000379562378, 0.6675999760627747, 1.624400019645691, 0.8206999897956848, 0.41659998893737793, 1.4938000440597534, 0.9520000219345093, 1.799299955368042, 1.3078999519348145, 2.765199899673462, 2.751800060272217, 2.751699924468994, 2.750699996948242, 2.75, 2.7469000816345215, 2.745500087738037, 2.7446999549865723, 2.74399995803833, 2.7428998947143555, 2.739000082015991, 2.7369000911712646, 2.7369000911712646, 2.736799955368042, 2.7365000247955322, 2.7339000701904297, 2.7337000370025635, 2.733299970626831, 2.7330000400543213, 2.731800079345703, 2.7290000915527344, 2.7286999225616455, 2.726900100708008, 2.7263998985290527, 2.7256999015808105, 2.72379994392395, 2.722399950027466, 2.7219998836517334, 2.7183001041412354, 2.716099977493286, 2.672300100326538, 2.647200107574463, 2.675100088119507, 2.557800054550171, 2.2606000900268555, 2.4193999767303467, 2.164900064468384, 2.610599994659424, 2.4563000202178955, 2.3715999126434326, 2.124500036239624, 1.4634000062942505, 2.5576999187469482, 2.471299886703491, 2.007499933242798, 2.0220999717712402, 1.8868000507354736, 1.9531999826431274, 1.4759000539779663, 1.1023999452590942, 1.631600022315979, 2.1331000328063965, 2.0078001022338867, 1.6140999794006348, 2.15339994430542, 1.6930999755859375, 0.7508999705314636, 0.803600013256073, 1.7843999862670898, 0.41190001368522644, 2.9688000679016113, 2.9665000438690186, 2.9655001163482666, 2.9651999473571777, 2.962599992752075, 2.9623000621795654, 2.9618000984191895, 2.950200080871582, 2.9491000175476074, 2.9481000900268555, 2.946700096130371, 2.9446001052856445, 2.9446001052856445, 2.944200038909912, 2.9437999725341797, 2.943000078201294, 2.938999891281128, 2.9381000995635986, 2.9356000423431396, 2.9349000453948975, 2.9339001178741455, 2.9321999549865723, 2.9321000576019287, 2.9316000938415527, 2.9303998947143555, 2.9289000034332275, 2.9265999794006348, 2.92549991607666, 2.92549991607666, 2.92549991607666, 2.866499900817871, 2.838599920272827, 2.6953001022338867, 1.74590003490448, 2.2279000282287598, 2.6833999156951904, 2.774199962615967, 0.6383000016212463, 1.434399962425232, 2.3194000720977783, 0.20759999752044678, 0.8324000239372253, 1.7826000452041626, 0.5069000124931335, 1.61899995803833, 1.42739999294281, 0.20669999718666077, 0.9358999729156494, 3.5023999214172363, 3.500699996948242, 3.4997000694274902, 3.489300012588501, 3.48580002784729, 3.484100103378296, 3.475399971008301, 3.4719998836517334, 3.4711999893188477, 3.4702000617980957, 3.450900077819824, 3.446199893951416, 3.433500051498413, 3.4235000610351562, 3.4219000339508057, 3.4209001064300537, 3.418100118637085, 3.4151999950408936, 3.4142000675201416, 3.4102001190185547, 3.4094998836517334, 3.407099962234497, 3.4030001163482666, 3.401700019836426, 3.4000000953674316, 3.3975000381469727, 3.3942999839782715, 3.3910999298095703, 3.386399984359741, 3.384399890899658, 3.327399969100952, 3.322700023651123, 3.345900058746338, 3.1142001152038574, 2.7421998977661133, 3.2190001010894775, 2.9405999183654785, 2.9405999183654785, 2.4916000366210938, 2.4809999465942383, 2.716399908065796, 2.1530001163482666, 1.4726999998092651, 2.043299913406372, 2.0857999324798584, 2.609600067138672, 2.194999933242798, 2.8531999588012695, 1.316100001335144, 2.0957000255584717, 0.707099974155426, 1.7008999586105347, 1.8069000244140625, 0.5684000253677368, 3.5954999923706055, 3.5710999965667725, 3.569499969482422, 3.5678999423980713, 3.565999984741211, 3.565999984741211, 3.565999984741211, 3.565999984741211, 3.565999984741211, 3.565200090408325, 3.561199903488159, 3.549999952316284, 3.5483999252319336, 3.5478999614715576, 3.545799970626831, 3.5418999195098877, 3.5416998863220215, 3.5404999256134033, 3.5399999618530273, 3.5394999980926514, 3.5376999378204346, 3.5316998958587646, 3.5316998958587646, 3.5316998958587646, 3.5316998958587646, 3.5316998958587646, 3.5316998958587646, 3.5316998958587646, 3.5316998958587646, 3.5316998958587646, 3.5316998958587646, 3.5316998958587646, 3.5316998958587646, 3.412100076675415, 3.2423999309539795, 3.285099983215332, 2.958199977874756, 3.3060998916625977, 3.085400104522705, 2.059499979019165, 1.8758000135421753, 3.4112000465393066, 3.2862000465393066, 2.251499891281128, 2.204400062561035, 2.2876999378204346, 1.4710999727249146, 1.3566999435424805, 1.9305000305175781, 1.787500023841858, 2.521899938583374, 2.02620005607605, 1.5048999786376953, 1.9141000509262085, 1.8430999517440796, 0.8937000036239624, 3.861299991607666, 3.8585000038146973, 3.851900100708008, 3.849299907684326, 3.847899913787842, 3.8464999198913574, 3.8433001041412354, 3.842600107192993, 3.841599941253662, 3.8415000438690186, 3.839099884033203, 3.8364999294281006, 3.8355000019073486, 3.834700107574463, 3.82450008392334, 3.8145999908447266, 3.809999942779541, 3.8089001178741455, 3.8089001178741455, 3.8043999671936035, 3.8036000728607178, 3.8027000427246094, 3.791300058364868, 3.7839999198913574, 3.7822999954223633, 3.773900032043457, 3.7736001014709473, 3.7609000205993652, 3.759700059890747, 3.753000020980835, 3.722599983215332, 3.479099988937378, 3.297100067138672, 3.3596999645233154, 2.908600091934204, 3.0171000957489014, 2.8940999507904053, 2.8457000255584717, 2.234800100326538, 1.4172999858856201, 2.1470000743865967, 3.862499952316284, 3.856300115585327, 3.8538999557495117, 3.8531999588012695, 3.839600086212158, 3.839600086212158, 3.838399887084961, 3.838200092315674, 3.836400032043457, 3.8359999656677246, 3.835400104522705, 3.8203001022338867, 3.816200017929077, 3.813800096511841, 3.8106000423431396, 3.8099000453948975, 3.8094000816345215, 3.806299924850464, 3.8060998916625977, 3.799499988555908, 3.7976999282836914, 3.796999931335449, 3.793600082397461, 3.7925000190734863, 3.7864999771118164, 3.7853000164031982, 3.781599998474121, 3.77810001373291, 3.775899887084961, 3.7704999446868896, 3.6854000091552734, 3.563699960708618, 3.365499973297119, 3.511199951171875, 2.9319000244140625, 3.375, 3.0006000995635986, 2.600100040435791, 2.8517000675201416, 1.7589000463485718, 2.940000057220459, 3.0432000160217285, 2.4446001052856445, 0.8360999822616577, 4.038400173187256, 4.033699989318848, 4.026400089263916, 4.021900177001953, 4.014800071716309, 4.009399890899658, 4.00540018081665, 4.005000114440918, 4.004300117492676, 3.992300033569336, 3.9902000427246094, 3.9855000972747803, 3.960599899291992, 3.956199884414673, 3.954900026321411, 3.954400062561035, 3.94350004196167, 3.9430999755859375, 3.940999984741211, 3.936300039291382, 3.9354000091552734, 3.934999942779541, 3.928299903869629, 3.927500009536743, 3.924999952316284, 3.924999952316284, 3.924999952316284, 3.924999952316284, 3.924999952316284, 3.924999952316284, 3.924999952316284, 3.924999952316284, 3.631500005722046, 3.2637999057769775, 3.7909998893737793, 3.3375000953674316, 2.21370005607605, 3.0278000831604004, 3.136699914932251, 2.3199000358581543, 1.7969000339508057, 1.8359999656677246, 1.3547999858856201, 1.8681999444961548, 1.8636000156402588, 1.9917999505996704, 2.638200044631958, 1.4510999917984009, 2.1263999938964844, 1.6992000341415405, 1.7630000114440918, 0.9261999726295471, 1.5993000268936157, 4.087699890136719, 4.05709981918335, 4.051799774169922, 4.050000190734863, 4.037399768829346, 4.036200046539307, 4.034999847412109, 4.032899856567383, 4.025899887084961, 4.006700038909912, 4.005799770355225, 4.002600193023682, 3.9921998977661133, 3.9779999256134033, 3.974900007247925, 3.972100019454956, 3.9647998809814453, 3.9584999084472656, 3.9565000534057617, 3.9477999210357666, 3.941999912261963, 3.9374001026153564, 3.934499979019165, 3.934499979019165, 3.931999921798706, 3.9275999069213867, 3.9235000610351562, 3.9163999557495117, 3.9142000675201416, 3.902400016784668, 3.8362998962402344, 3.577899932861328, 3.6768999099731445, 3.6275999546051025, 2.816699981689453, 3.1149001121520996, 3.56850004196167, 3.2044999599456787, 2.1563000679016113, 2.5933001041412354, 3.178100109100342, 1.6926000118255615, 2.7541000843048096, 2.5529000759124756, 1.5263999700546265, 1.3736000061035156, 4.1819000244140625, 4.178199768066406, 4.174300193786621, 4.162499904632568, 4.148099899291992, 4.137199878692627, 4.130499839782715, 4.129899978637695, 4.128499984741211, 4.126399993896484, 4.1244001388549805, 4.1244001388549805, 4.1244001388549805, 4.1244001388549805, 4.1244001388549805, 4.1244001388549805, 4.1244001388549805, 4.114500045776367, 4.094799995422363, 4.070300102233887, 4.054800033569336, 4.041200160980225, 4.027400016784668, 4.020599842071533, 4.019999980926514, 4.013000011444092, 4.013000011444092, 4.013000011444092, 4.01170015335083, 4.0019001960754395, 3.9637999534606934, 3.7499001026153564, 3.653599977493286, 3.565000057220459, 3.602799892425537, 3.573199987411499, 2.789799928665161, 2.484600067138672, 3.28629994392395, 2.837899923324585, 2.186300039291382, 2.347100019454956, 2.710599899291992, 2.322999954223633, 1.618299961090088, 1.0497000217437744, 1.0008000135421753, 1.7036000490188599, 4.196300029754639, 4.194699764251709, 4.1875, 4.186500072479248, 4.186299800872803, 4.184000015258789, 4.178400039672852, 4.171199798583984, 4.168700218200684, 4.157400131225586, 4.156099796295166, 4.153500080108643, 4.141499996185303, 4.137199878692627, 4.127600193023682, 4.127200126647949, 4.119699954986572, 4.116099834442139, 4.107100009918213, 4.107100009918213, 4.090700149536133, 4.087800025939941, 4.081900119781494, 4.065800189971924, 4.060999870300293, 4.059800148010254, 4.0553998947143555, 4.055300235748291, 4.048600196838379, 4.046500205993652, 4.04449987411499, 4.0152997970581055, 3.85509991645813, 3.9072999954223633, 3.2509000301361084, 3.1291000843048096, 2.825000047683716, 2.5724000930786133, 2.516900062561035, 2.3371999263763428, 0.7778000235557556, 0.44369998574256897, 1.4178999662399292, 2.2850000858306885, 4.285399913787842, 4.278200149536133, 4.27209997177124, 4.258500099182129, 4.257900238037109, 4.257900238037109, 4.246699810028076, 4.242599964141846, 4.228899955749512, 4.223999977111816, 4.2220001220703125, 4.2220001220703125, 4.2220001220703125, 4.2220001220703125, 4.216599941253662, 4.216599941253662, 4.204699993133545, 4.174499988555908, 4.166299819946289, 4.155200004577637, 4.1381001472473145, 4.127399921417236, 4.123799800872803, 4.1082000732421875, 4.105500221252441, 4.0991997718811035, 4.0991997718811035, 4.097099781036377, 4.09250020980835, 4.09250020980835, 3.9955999851226807, 3.589400053024292, 2.8573999404907227, 2.7727999687194824, 3.223299980163574, 2.8982999324798584, 2.9890999794006348, 3.3945000171661377, 2.9839999675750732, 3.1684999465942383, 2.101900100708008, 2.1333999633789062, 1.605299949645996, 1.2312999963760376, 1.4696999788284302, 4.446000099182129, 4.445499897003174, 4.444799900054932, 4.431099891662598, 4.431099891662598, 4.415500164031982, 4.405399799346924, 4.4039998054504395, 4.366099834442139, 4.364099979400635, 4.3557000160217285, 4.354899883270264, 4.354100227355957, 4.354100227355957, 4.349599838256836, 4.346099853515625, 4.343200206756592, 4.3394999504089355, 4.3333001136779785, 4.32919979095459, 4.326399803161621, 4.316699981689453, 4.313199996948242, 4.313199996948242, 4.305699825286865, 4.299699783325195, 4.296199798583984, 4.282899856567383, 4.282899856567383, 4.280700206756592, 4.25029993057251, 3.7841999530792236, 4.1427001953125, 3.820499897003174, 2.988800048828125, 1.6282999515533447, 1.3839000463485718, 3.7072999477386475, 1.3986999988555908, 4.595200061798096, 4.595200061798096, 4.573400020599365, 4.559899806976318, 4.559899806976318, 4.55679988861084, 4.54640007019043, 4.523799896240234, 4.522900104522705, 4.520599842071533, 4.512700080871582, 4.512700080871582, 4.512700080871582, 4.512700080871582, 4.512700080871582, 4.512700080871582, 4.512700080871582, 4.512700080871582, 4.512700080871582, 4.433700084686279, 4.4207000732421875, 4.3653998374938965, 4.351900100708008, 4.347099781036377, 4.342299938201904, 4.335100173950195, 4.309000015258789, 4.3059000968933105, 4.301499843597412, 4.284800052642822, 3.729300022125244, 3.8901000022888184, 3.712399959564209, 3.02239990234375, 3.3250999450683594, 2.091900110244751, 2.2771999835968018, 2.9398999214172363, 1.631700038909912, 1.6129000186920166, 2.895699977874756, 2.7040998935699463, 1.7223000526428223, 2.285799980163574, 0.8806999921798706, 4.790500164031982, 4.789700031280518, 4.7778000831604, 4.776700019836426, 4.776500225067139, 4.7281999588012695, 4.720600128173828, 4.70989990234375, 4.703400135040283, 4.695300102233887, 4.688399791717529, 4.679699897766113, 4.666900157928467, 4.664899826049805, 4.6417999267578125, 4.632699966430664, 4.6269001960754395, 4.618599891662598, 4.591899871826172, 4.587200164794922, 4.571599960327148, 4.571599960327148, 4.568399906158447, 4.553800106048584, 4.553699970245361, 4.542600154876709, 4.542300224304199, 4.5370001792907715, 4.525899887084961, 4.5177998542785645, 4.5177998542785645, 4.5177998542785645, 4.289400100708008, 3.697999954223633, 2.3559000492095947, 2.953200101852417, 3.374500036239624, 4.037899971008301, 2.585200071334839, 1.186400055885315, 2.1705000400543213, 4.8780999183654785, 4.835899829864502, 4.835000038146973, 4.816299915313721, 4.816299915313721, 4.811100006103516, 4.805300235748291, 4.805300235748291, 4.805300235748291, 4.805300235748291, 4.805300235748291, 4.805300235748291, 4.798600196838379, 4.798600196838379, 4.798600196838379, 4.798600196838379, 4.798600196838379, 4.798600196838379, 4.798600196838379, 4.798600196838379, 4.798600196838379, 4.798600196838379, 4.798600196838379, 4.770999908447266, 4.752299785614014, 4.738399982452393, 4.732800006866455, 4.704899787902832, 4.704899787902832, 4.7017998695373535, 4.134200096130371, 1.6620999574661255, 3.422300100326538, 2.618799924850464], \"logprob\": [30.0, 29.0, 28.0, 27.0, 26.0, 25.0, 24.0, 23.0, 22.0, 21.0, 20.0, 19.0, 18.0, 17.0, 16.0, 15.0, 14.0, 13.0, 12.0, 11.0, 10.0, 9.0, 8.0, 7.0, 6.0, 5.0, 4.0, 3.0, 2.0, 1.0, -5.25629997253418, -5.329400062561035, -5.860499858856201, -5.871200084686279, -6.046599864959717, -6.1427001953125, -5.608399868011475, -6.2104997634887695, -6.180099964141846, -6.290299892425537, -6.292099952697754, -6.226600170135498, -6.2855000495910645, -6.320899963378906, -6.332399845123291, -6.347899913787842, -6.377699851989746, -6.3317999839782715, -6.39109992980957, -5.644599914550781, -6.411300182342529, -6.4390997886657715, -4.986100196838379, -6.455599784851074, -6.483699798583984, -6.51170015335083, -6.528500080108643, -6.531300067901611, -6.485499858856201, -6.532400131225586, -6.061399936676025, -5.884200096130371, -5.195099830627441, -5.96120023727417, -5.680699825286865, -6.0152997970581055, -4.9618000984191895, -5.572800159454346, -5.367300033569336, -5.36329984664917, -5.871099948883057, -4.528600215911865, -5.161900043487549, -5.771599769592285, -5.6153998374938965, -4.940800189971924, -5.301199913024902, -6.009500026702881, -4.582799911499023, -5.486999988555908, -4.7032999992370605, -4.844399929046631, -4.9552998542785645, -5.433599948883057, -5.661399841308594, -5.498499870300293, -4.869699954986572, -5.152299880981445, -4.733799934387207, -5.263700008392334, -5.256700038909912, -4.35230016708374, -5.282599925994873, -5.298799991607666, -5.254799842834473, -5.1128997802734375, -4.953499794006348, -5.161799907684326, -5.174699783325195, -5.303599834442139, -5.28879976272583, -5.137499809265137, -5.358399868011475, -5.38070011138916, -5.465799808502197, -5.513000011444092, -5.633800029754639, -5.718900203704834, -5.7494001388549805, -5.770500183105469, -5.944900035858154, -5.9558000564575195, -5.976799964904785, -5.992700099945068, -6.1753997802734375, -5.57859992980957, -6.206299781799316, -6.264200210571289, -6.2708001136779785, -6.276299953460693, -6.2906999588012695, -6.313000202178955, -6.356200218200684, -6.111000061035156, -6.398900032043457, -6.419400215148926, -6.456099987030029, -6.463200092315674, -6.467100143432617, -6.505099773406982, -5.546800136566162, -6.530900001525879, -6.534999847412109, -3.8582000732421875, -5.051000118255615, -5.8282999992370605, -5.616099834442139, -3.763700008392334, -5.657199859619141, -6.059100151062012, -5.3155999183654785, -4.6921000480651855, -5.683800220489502, -5.057799816131592, -3.9500999450683594, -4.472799777984619, -4.4028000831604, -5.172399997711182, -4.375199794769287, -4.476099967956543, -4.3790998458862305, -4.507800102233887, -3.6628000736236572, -4.767099857330322, -4.774400234222412, -4.832399845123291, -4.643599987030029, -4.484000205993652, -5.07450008392334, -4.792099952697754, -4.614200115203857, -4.842400074005127, -4.5833001136779785, -4.901000022888184, -4.740699768066406, -4.931000232696533, -5.17549991607666, -4.966400146484375, -5.203199863433838, -4.7947001457214355, -5.299699783325195, -5.343400001525879, -5.365900039672852, -5.485899925231934, -5.632699966430664, -5.7621002197265625, -5.8003997802734375, -5.862599849700928, -5.912099838256836, -5.978300094604492, -6.007299900054932, -6.024899959564209, -6.170400142669678, -4.8084001541137695, -6.2032999992370605, -6.134399890899658, -6.282400131225586, -6.301300048828125, -6.322700023651123, -6.3379998207092285, -6.378499984741211, -6.400000095367432, -6.421199798583984, -6.4309000968933105, -6.439899921417236, -6.449699878692627, -6.462900161743164, -6.463600158691406, -6.4654998779296875, -5.267499923706055, -5.61870002746582, -5.516200065612793, -4.649400234222412, -5.616300106048584, -5.92549991607666, -4.71150016784668, -4.331900119781494, -3.8715999126434326, -4.495999813079834, -5.7266998291015625, -4.066699981689453, -4.498199939727783, -5.0782999992370605, -3.984499931335449, -4.869999885559082, -4.3643999099731445, -5.5680999755859375, -5.4791998863220215, -4.523399829864502, -4.579500198364258, -5.243199825286865, -4.987400054931641, -4.628900051116943, -3.919600009918213, -5.053199768066406, -4.900400161743164, -5.0594000816345215, -4.907199859619141, -4.811600208282471, -5.327499866485596, -5.040500164031982, -5.068299770355225, -5.192200183868408, -4.710700035095215, -4.773499965667725, -4.89769983291626, -4.956200122833252, -4.995699882507324, -5.062600135803223, -5.182600021362305, -5.20389986038208, -5.238900184631348, -5.327899932861328, -5.426799774169922, -5.4704999923706055, -5.499599933624268, -5.597499847412109, -5.672900199890137, -5.691299915313721, -5.736700057983398, -5.767199993133545, -5.783599853515625, -5.8267998695373535, -5.8850998878479, -5.899400234222412, -5.899499893188477, -6.042099952697754, -6.0756001472473145, -6.083099842071533, -6.098999977111816, -6.106800079345703, -6.110300064086914, -6.116600036621094, -3.334700107574463, -4.720300197601318, -5.543000221252441, -5.497300148010254, -5.232399940490723, -4.737100124359131, -4.103700160980225, -4.097300052642822, -4.45959997177124, -5.098999977111816, -5.110499858856201, -4.751200199127197, -4.6149001121521, -4.117499828338623, -4.520299911499023, -4.783299922943115, -4.179299831390381, -4.482399940490723, -4.3557000160217285, -4.110300064086914, -4.671800136566162, -4.7221999168396, -4.9481000900268555, -4.6834001541137695, -4.718299865722656, -5.0584001541137695, -4.9822001457214355, -5.108399868011475, -3.6136999130249023, -4.075799942016602, -4.22790002822876, -4.544600009918213, -4.76039981842041, -4.970600128173828, -5.064799785614014, -5.105899810791016, -5.136300086975098, -5.268599987030029, -5.297100067138672, -5.425099849700928, -5.454500198364258, -5.528600215911865, -5.5706000328063965, -5.638400077819824, -5.638400077819824, -5.645299911499023, -5.783699989318848, -5.803800106048584, -5.80810022354126, -5.896500110626221, -5.89739990234375, -5.956099987030029, -5.975800037384033, -6.013400077819824, -6.061999797821045, -6.142899990081787, -6.198200225830078, -6.209199905395508, -4.478300094604492, -4.5381999015808105, -4.792099952697754, -4.45989990234375, -5.32289981842041, -4.627600193023682, -4.197400093078613, -5.481100082397461, -4.631199836730957, -4.924699783325195, -4.848999977111816, -4.657800197601318, -4.816800117492676, -4.63670015335083, -4.5254998207092285, -5.053400039672852, -4.623700141906738, -4.447400093078613, -5.123600006103516, -5.073400020599365, -5.244699954986572, -5.283199787139893, -4.404300212860107, -5.199399948120117, -5.202700138092041, -5.24459981918335, -5.271200180053711, -5.385900020599365, -5.427599906921387, -5.457799911499023, -5.459000110626221, -5.514200210571289, -5.144199848175049, -5.681600093841553, -5.682799816131592, -5.685200214385986, -5.69320011138916, -5.757500171661377, -5.7469000816345215, -5.773200035095215, -5.779799938201904, -5.80649995803833, -5.87060022354126, -5.87529993057251, -5.914100170135498, -5.924900054931641, -5.93779993057251, -5.97599983215332, -6.003600120544434, -4.127099990844727, -6.078199863433838, -6.1178998947143555, -4.281799793243408, -4.579400062561035, -5.377799987792969, -4.140100002288818, -3.884399890899658, -4.6641998291015625, -3.6600000858306885, -5.474100112915039, -5.183800220489502, -5.022900104522705, -4.539000034332275, -3.4005000591278076, -5.441400051116943, -5.295199871063232, -4.565800189971924, -4.7058000564575195, -4.582300186157227, -4.7677998542785645, -4.328199863433838, -4.090700149536133, -4.6265997886657715, -5.055099964141846, -4.979599952697754, -4.952300071716309, -5.179299831390381, -5.029600143432617, -4.787300109863281, -4.833199977874756, -5.175600051879883, -5.117099761962891, -3.515199899673462, -3.865799903869629, -3.9800000190734863, -4.012599945068359, -4.27239990234375, -4.1057000160217285, -4.329400062561035, -4.992499828338623, -3.6846001148223877, -4.2916998863220215, -5.131400108337402, -5.207200050354004, -5.207699775695801, -5.2118000984191895, -5.2322001457214355, -5.258299827575684, -5.381800174713135, -5.40749979019165, -5.475200176239014, -5.4934000968933105, -5.518700122833252, -5.559700012207031, -5.563700199127197, -5.573200225830078, -5.60260009765625, -5.63670015335083, -5.688799858093262, -5.710899829864502, -5.710899829864502, -5.710899829864502, -4.523200035095215, -5.1504998207092285, -4.684000015258789, -3.698499917984009, -4.688499927520752, -5.374199867248535, -5.472599983215332, -4.225599765777588, -4.773600101470947, -5.260499954223633, -4.427000045776367, -4.696599960327148, -5.090199947357178, -4.802800178527832, -5.1006999015808105, -5.081600189208984, -4.986400127410889, -5.215400218963623, -3.726799964904785, -3.863600015640259, -3.9339001178741455, -4.485799789428711, -4.617000102996826, -4.677800178527832, -4.935400009155273, -5.022900104522705, -5.040299892425537, -5.064499855041504, -5.439300060272217, -5.512499809265137, -5.690999984741211, -5.813000202178955, -5.831200122833252, -5.8420000076293945, -5.8734002113342285, -5.9039998054504395, -5.915299892425537, -5.9567999839782715, -5.9633002281188965, -5.987800121307373, -6.026899814605713, -6.0395002365112305, -6.055300235748291, -6.07859992980957, -6.10699987411499, -6.134500026702881, -6.174799919128418, -6.191699981689453, -4.5447001457214355, -4.759099960327148, -5.840000152587891, -4.442399978637695, -4.131899833679199, -5.600399971008301, -4.918900012969971, -4.918900012969971, -4.0335001945495605, -4.141900062561035, -4.9141998291015625, -4.14870023727417, -3.720400094985962, -4.406199932098389, -4.480599880218506, -5.0879998207092285, -4.76639986038208, -5.351900100708008, -4.422399997711182, -5.075799942016602, -4.602499961853027, -4.964900016784668, -5.107100009918213, -5.068399906158447, -2.9869000911712646, -4.588500022888184, -4.639200210571289, -4.690899848937988, -4.74399995803833, -4.74399995803833, -4.74399995803833, -4.74399995803833, -4.74399995803833, -4.768599987030029, -4.874499797821045, -5.123300075531006, -5.155600070953369, -5.164100170135498, -5.203700065612793, -5.273600101470947, -5.276700019836426, -5.297800064086914, -5.304999828338623, -5.314000129699707, -5.343800067901611, -5.435500144958496, -5.435500144958496, -5.435500144958496, -5.435500144958496, -5.435500144958496, -5.435500144958496, -5.435500144958496, -5.435500144958496, -5.435500144958496, -5.435500144958496, -5.435500144958496, -5.435500144958496, -4.5883002281188965, -3.7702999114990234, -4.60830020904541, -4.303899765014648, -5.006100177764893, -4.796199798583984, -3.6668999195098877, -3.8945999145507812, -5.328999996185303, -5.238399982452393, -4.515600204467773, -4.536799907684326, -4.610400199890137, -4.267099857330322, -4.335899829864502, -4.688199996948242, -4.673299789428711, -4.956900119781494, -4.841000080108643, -4.815400123596191, -4.902400016784668, -4.9131999015808105, -4.85890007019043, -3.8819000720977783, -4.138700008392334, -4.3703999519348145, -4.449900150299072, -4.491000175476074, -4.5295000076293945, -4.612800121307373, -4.630000114440918, -4.654600143432617, -4.657100200653076, -4.7133002281188965, -4.7708001136779785, -4.706200122833252, -4.8094000816345215, -5.000999927520752, -5.160399913787842, -5.227399826049805, -5.242800235748291, -5.242800235748291, -5.302700042724609, -4.563799858093262, -5.324399948120117, -5.461999893188477, -4.7164998054504395, -5.559000015258789, -5.64300012588501, -5.646100044250488, -5.761000156402588, -5.771599769592285, -5.8267998695373535, -4.771100044250488, -3.924799919128418, -4.534900188446045, -5.090799808502197, -4.719099998474121, -4.847799777984619, -4.799900054931641, -4.787300109863281, -4.539400100708008, -4.275300025939941, -5.155900001525879, -3.964200019836426, -4.220300197601318, -4.304999828338623, -4.329100131988525, -4.7006001472473145, -4.7006001472473145, -4.729100227355957, -4.732100009918213, -4.771200180053711, -4.781400203704834, -4.793900012969971, -5.071199893951416, -5.135000228881836, -5.171999931335449, -5.2179999351501465, -5.22760009765625, -3.61929988861084, -5.276899814605713, -5.279300212860107, -5.364099979400635, -5.386499881744385, -5.394100189208984, -5.434199810028076, -5.447000026702881, -4.8420000076293945, -5.526899814605713, -5.564799785614014, -5.600599765777588, -5.621799945831299, -5.673900127410889, -4.841700077056885, -4.79610013961792, -4.186399936676025, -4.829599857330322, -3.8447000980377197, -4.766200065612793, -4.737800121307373, -4.4633002281188965, -4.704800128936768, -4.09119987487793, -4.8618998527526855, -4.951499938964844, -4.958799839019775, -5.061200141906738, -2.795799970626831, -3.251199960708618, -3.7040998935699463, -3.8831000328063965, -4.164999961853027, -4.3225998878479, -4.427299976348877, -4.43720006942749, -4.454500198364258, -4.71019983291626, -4.75, -4.832399845123291, -5.186600208282471, -5.23859977722168, -5.253499984741211, -5.258999824523926, -5.376500129699707, -5.380099773406982, -5.399099826812744, -5.4471001625061035, -5.456399917602539, -5.460000038146973, -5.521399974822998, -5.5289998054504395, -5.551000118255615, -5.551000118255615, -5.551000118255615, -5.551000118255615, -5.551000118255615, -5.551000118255615, -5.551000118255615, -5.551000118255615, -3.620800018310547, -4.333499908447266, -5.329800128936768, -4.657700061798096, -3.480799913406372, -4.518499851226807, -4.759300231933594, -3.9848999977111816, -3.929500102996826, -4.1184000968933105, -3.8382999897003174, -4.3653998374938965, -4.452499866485596, -4.621699810028076, -4.896399974822998, -4.526700019836426, -4.746099948883057, -4.753200054168701, -4.778200149536133, -4.680099964141846, -4.783299922943115, -2.854599952697754, -4.357600212097168, -4.485899925231934, -4.527299880981445, -4.77269983291626, -4.793000221252441, -4.814000129699707, -4.847899913787842, -4.955399990081787, -4.566999912261963, -5.216599941253662, -5.2519001960754395, -5.3628997802734375, -5.497700214385986, -5.524700164794922, -5.549200057983398, -5.609300136566162, -5.659299850463867, -5.674499988555908, -5.739299774169922, -5.7804999351501465, -5.812600135803223, -5.8317999839782715, -5.8317999839782715, -5.848499774932861, -5.877500057220459, -5.903299808502197, -5.946800231933594, -5.9604997634887695, -6.028900146484375, -4.59060001373291, -2.272200107574463, -4.645100116729736, -4.5883002281188965, -3.087599992752075, -4.280799865722656, -5.18720006942749, -4.702899932861328, -3.581899881362915, -4.139400005340576, -5.043799877166748, -3.979099988937378, -4.821700096130371, -5.065899848937988, -5.16949987411499, -5.499300003051758, -3.268399953842163, -3.491300106048584, -3.685499906539917, -4.1107001304626465, -4.467299938201904, -4.673900127410889, -4.78380012512207, -4.793900012969971, -4.8144001960754395, -4.845699787139893, -4.87529993057251, -4.87529993057251, -4.87529993057251, -4.87529993057251, -4.87529993057251, -4.87529993057251, -4.87529993057251, -5.008200168609619, -5.232699871063232, -5.460299968719482, -5.583899974822998, -5.682199954986572, -5.7743000984191895, -5.8171000480651855, -5.820400238037109, -5.863100051879883, -5.863100051879883, -5.863100051879883, -5.87060022354126, -5.9274001121521, -4.489500045776367, -3.7795000076293945, -3.3104000091552734, -4.783999919891357, -4.952899932861328, -5.174900054931641, -4.453199863433838, -4.2133002281188965, -5.024099826812744, -4.802199840545654, -4.555099964141846, -4.6956000328063965, -4.847599983215332, -4.7829999923706055, -4.702000141143799, -4.751699924468994, -4.782800197601318, -4.851799964904785, -3.8046998977661133, -3.867000102996826, -4.102200031280518, -4.13100004196167, -4.138000011444092, -4.202600002288818, -4.341400146484375, -4.4984002113342285, -4.547699928283691, -4.744800090789795, -4.765200138092041, -4.805300235748291, -4.973499774932861, -5.027599811553955, -5.138700008392334, -5.143599987030029, -5.223499774932861, -4.416600227355957, -5.34630012512207, -5.34630012512207, -5.48769998550415, -5.510900020599365, -5.557499885559082, -5.674099922180176, -5.706699848175049, -5.715199947357178, -5.74370002746582, -5.74459981918335, -5.787700176239014, -5.800300121307373, -4.629899978637695, -4.895999908447266, -3.4358999729156494, -4.844299793243408, -4.6427001953125, -4.6092000007629395, -4.584799766540527, -4.585100173950195, -4.900899887084961, -4.849299907684326, -4.666500091552734, -4.7494001388549805, -4.938799858093262, -5.086900234222412, -3.006500005722046, -3.454200029373169, -3.724299907684326, -4.149899959564209, -4.164299964904785, -4.164299964904785, -4.416800022125244, -4.4944000244140625, -4.722700119018555, -4.793399810791016, -4.821000099182129, -4.821000099182129, -4.821000099182129, -4.821000099182129, -4.892199993133545, -4.892199993133545, -5.03439998626709, -5.3292999267578125, -5.397600173950195, -5.4847002029418945, -5.606400012969971, -5.676000118255615, -5.699100017547607, -4.8343000411987305, -5.808000087738037, -5.843900203704834, -5.843900203704834, -5.855299949645996, -5.880000114440918, -5.880000114440918, -4.404200077056885, -3.8052000999450684, -3.1679999828338623, -3.5632998943328857, -4.6722002029418945, -4.339900016784668, -4.45419979095459, -5.001699924468994, -4.853300094604492, -4.995299816131592, -4.515500068664551, -4.532400131225586, -4.457499980926514, -4.375, -4.738399982452393, -3.8949999809265137, -3.9093000888824463, -3.928100109100342, -4.244699954986572, -4.244699954986572, -4.51669979095459, -4.662099838256836, -4.68179988861084, -5.094699859619141, -5.1128997802734375, -5.185500144958496, -3.308199882507324, -5.198800086975098, -5.199100017547607, -5.235199928283691, -5.263500213623047, -5.285799980163574, -5.313899993896484, -5.359300136566162, -5.388599872589111, -5.408599853515625, -5.473499774932861, -5.496399879455566, -5.496399879455566, -5.543700218200684, -5.5802001953125, -5.600800037384033, -5.676799774169922, -5.676799774169922, -5.688700199127197, -5.047500133514404, -4.645899772644043, -5.394700050354004, -5.296899795532227, -5.271900177001953, -5.145899772644043, -5.247600078582764, -5.487299919128418, -5.474100112915039, -2.8117001056671143, -2.8117001056671143, -3.739500045776367, -4.063399791717529, -4.063399791717529, -4.125500202178955, -4.310100078582764, -4.627600193023682, -3.5878000259399414, -4.666200160980225, -4.754899978637695, -4.754899978637695, -4.754899978637695, -4.754899978637695, -4.754899978637695, -4.754899978637695, -4.754899978637695, -4.754899978637695, -4.754899978637695, -5.390999794006348, -5.469299793243408, -5.754799842834473, -5.815400123596191, -5.83650016784668, -4.471199989318848, -5.887599945068359, -5.991799831390381, -6.003699779510498, -6.020699977874756, -6.082099914550781, -3.900700092315674, -4.754899978637695, -5.153299808502197, -4.597400188446045, -5.015699863433838, -4.0594000816345215, -4.328000068664551, -4.8206000328063965, -4.190499782562256, -4.244200229644775, -4.833899974822998, -4.76039981842041, -4.443299770355225, -4.797699928283691, -4.756100177764893, -3.9546000957489014, -3.968100070953369, -4.167300224304199, -4.182799816131592, -4.1859002113342285, -4.7399001121521, -4.805799961090088, -4.893199920654297, -4.943699836730957, -5.0030999183654785, -5.051400184631348, -5.1097002029418945, -5.190499782562256, -5.202700138092041, -5.33489990234375, -5.382900238037109, -5.412899971008301, -5.454400062561035, -5.579100131988525, -5.600299835205078, -5.666900157928467, -5.666900157928467, -5.680099964141846, -5.738999843597412, -5.73960018157959, -5.782599925994873, -5.783699989318848, -5.803999900817871, -5.84499979019165, -5.874199867248535, -5.874199867248535, -5.874199867248535, -5.126399993896484, -5.278500080108643, -4.906199932098389, -5.293600082397461, -5.447500228881836, -5.652900218963623, -5.442999839782715, -5.587800025939941, -5.6346001625061035, -2.941699981689453, -4.033999919891357, -4.0467000007629395, -4.310800075531006, -4.310800075531006, -4.3730998039245605, -4.439599990844727, -4.439599990844727, -4.439599990844727, -4.439599990844727, -4.439599990844727, -4.439599990844727, -4.510900020599365, -4.510900020599365, -4.510900020599365, -4.510900020599365, -4.510900020599365, -4.510900020599365, -4.510900020599365, -4.510900020599365, -4.510900020599365, -4.510900020599365, -4.510900020599365, -4.76609992980957, -4.9105000495910645, -5.007900238037109, -5.04449987411499, -5.2129998207092285, -5.2129998207092285, -5.230599880218506, -4.510900020599365, -4.009699821472168, -4.6981000900268555, -4.776899814605713]}, \"token.table\": {\"Topic\": [20, 18, 7, 12, 1, 1, 5, 13, 1, 3, 4, 5, 9, 1, 2, 3, 5, 6, 14, 8, 1, 5, 6, 8, 14, 10, 1, 2, 3, 4, 6, 12, 13, 6, 8, 14, 10, 9, 3, 9, 6, 17, 12, 1, 2, 3, 5, 7, 1, 13, 10, 11, 15, 15, 15, 12, 2, 10, 11, 15, 11, 2, 14, 20, 16, 2, 9, 14, 11, 6, 12, 1, 2, 3, 7, 13, 19, 12, 16, 15, 9, 1, 8, 18, 1, 2, 3, 4, 5, 7, 18, 20, 16, 1, 2, 3, 4, 7, 8, 3, 1, 20, 14, 2, 3, 7, 9, 10, 17, 19, 12, 12, 19, 11, 1, 16, 9, 6, 1, 5, 6, 17, 17, 19, 15, 1, 2, 6, 10, 1, 11, 5, 19, 19, 2, 6, 18, 1, 2, 3, 4, 5, 18, 2, 7, 18, 13, 1, 4, 5, 6, 4, 1, 5, 14, 12, 2, 1, 2, 5, 7, 8, 15, 16, 20, 2, 1, 3, 5, 15, 20, 1, 3, 17, 14, 1, 5, 6, 8, 10, 1, 2, 3, 4, 6, 7, 8, 12, 18, 1, 5, 8, 10, 1, 2, 4, 5, 6, 8, 14, 1, 4, 15, 15, 8, 12, 15, 18, 2, 11, 14, 1, 2, 3, 7, 14, 3, 1, 6, 14, 18, 9, 1, 7, 16, 20, 5, 20, 19, 4, 6, 13, 1, 2, 3, 12, 8, 3, 1, 2, 3, 5, 6, 16, 9, 1, 2, 4, 5, 7, 8, 16, 19, 19, 1, 5, 1, 15, 17, 17, 11, 9, 17, 8, 7, 16, 4, 18, 7, 11, 2, 2, 6, 10, 1, 5, 6, 7, 8, 18, 1, 5, 8, 9, 11, 17, 6, 5, 8, 18, 18, 20, 16, 16, 5, 5, 6, 14, 1, 6, 7, 13, 18, 15, 1, 2, 3, 4, 5, 6, 7, 8, 14, 17, 1, 2, 3, 11, 12, 13, 1, 20, 9, 13, 4, 8, 1, 3, 5, 6, 8, 9, 12, 3, 8, 6, 3, 14, 1, 2, 5, 9, 15, 2, 7, 12, 17, 19, 1, 2, 3, 4, 5, 7, 12, 15, 1, 6, 8, 10, 11, 1, 14, 14, 1, 2, 5, 6, 7, 8, 12, 14, 2, 3, 4, 7, 7, 11, 12, 18, 18, 4, 1, 1, 3, 4, 14, 1, 9, 2, 3, 4, 7, 2, 3, 6, 3, 12, 17, 4, 20, 18, 6, 9, 9, 5, 18, 7, 1, 3, 6, 3, 1, 2, 3, 9, 1, 2, 3, 5, 6, 8, 12, 14, 1, 3, 9, 12, 13, 5, 6, 8, 14, 16, 15, 1, 4, 6, 9, 18, 1, 6, 2, 3, 1, 3, 4, 5, 6, 7, 14, 13, 1, 2, 3, 7, 11, 20, 1, 2, 5, 14, 1, 5, 7, 8, 12, 15, 1, 2, 4, 10, 14, 2, 3, 4, 5, 8, 1, 3, 6, 3, 2, 1, 11, 1, 2, 3, 7, 8, 12, 20, 15, 17, 5, 17, 16, 3, 7, 16, 5, 12, 1, 7, 13, 8, 1, 9, 3, 3, 17, 9, 12, 1, 12, 7, 10, 13, 6, 17, 7, 19, 8, 1, 1, 2, 3, 8, 5, 11, 8, 10, 7, 15, 8, 15, 1, 2, 4, 5, 6, 6, 1, 2, 14, 14, 14, 1, 2, 3, 4, 9, 3, 4, 2, 3, 4, 9, 4, 7, 3, 10, 17, 18, 6, 15, 3, 3, 15, 4, 3, 8, 19, 1, 2, 3, 7, 8, 1, 2, 11, 5, 20, 1, 3, 8, 12, 1, 3, 8, 1, 2, 6, 7, 8, 1, 2, 3, 4, 7, 14, 19, 4, 2, 3, 13, 19, 12, 1, 2, 4, 6, 7, 14, 3, 5, 13, 3, 7, 13, 1, 4, 12, 10, 16, 2, 3, 4, 6, 14, 10, 19, 7, 17, 7, 9, 3, 8, 14, 3, 10, 16, 12, 3, 18, 3, 4, 5, 6, 8, 1, 3, 4, 6, 1, 2, 5, 6, 7, 8, 12, 14, 15, 16, 1, 2, 4, 7, 9, 14, 16, 11, 5, 1, 2, 8, 12, 17, 7, 6, 12, 14, 1, 16, 1, 16, 5, 2, 3, 19, 1, 2, 10, 12, 3, 11, 5, 6, 14, 18, 19, 1, 8, 13, 1, 2, 20, 11, 2, 9, 1, 2, 8, 18, 1, 5, 8, 18, 7, 8, 1, 2, 3, 6, 12, 12, 19, 13, 5, 12, 5, 3, 15, 15, 1, 2, 5, 6, 7, 8, 15, 10, 1, 10, 4, 16, 8, 20, 11, 1, 2, 3, 5, 8, 9, 12, 4, 18, 1, 2, 5, 6, 7, 8, 13, 15, 16, 2, 3, 4, 7, 12, 2, 3, 4, 17, 14, 2, 4, 20, 1, 2, 3, 4, 6, 18, 18, 1, 2, 3, 7, 9, 13, 4, 19, 1, 4, 8, 4, 13, 7, 10, 1, 3, 12, 5, 12, 18, 19, 12, 1, 2, 12, 20, 1, 2, 3, 5, 6, 7, 8, 16, 1, 2, 3, 4, 7, 12, 2, 3, 7, 7, 9, 2, 6, 2, 14, 17, 1, 9, 8, 18, 1, 2, 3, 4, 5, 6, 12, 8, 13, 18, 1, 15, 6, 1, 2, 4, 5, 7, 12, 16, 16, 11, 12, 10, 13, 13, 1, 12, 1, 2, 16, 13, 20, 11, 2, 3, 15, 3, 7, 15, 2, 1, 3, 15, 20, 9, 10, 8, 2, 7, 5, 1, 18, 11, 5, 17, 9, 12, 1, 5, 6, 7, 14, 4, 17, 14, 16, 3, 16, 9, 1, 2, 3, 5, 7, 13, 10, 5, 6, 1, 4, 18, 13, 2, 3, 4, 8, 1, 10, 11, 1, 7, 11, 1, 5, 10, 17, 5, 1, 2, 8, 19, 1, 3, 7, 16, 19, 7, 1, 2, 3, 4, 7, 8, 14, 8, 19, 10, 19, 7, 1, 2, 3, 5, 9, 17, 1, 2, 4, 6, 7, 8, 12, 16, 2, 3, 7, 15, 16, 13, 10, 10, 3, 4, 3, 7, 4, 1, 3, 8, 18, 2, 3, 4, 1, 2, 3, 4, 6, 7, 8, 13, 6, 7, 2, 1, 2, 3, 4, 5, 9, 11, 20, 17, 14, 10, 12, 1, 7, 12, 18, 1, 7, 8, 12, 14, 13, 18, 5, 10, 7, 19, 17, 1, 2, 9, 12, 4, 11, 18, 15, 7, 19, 16, 5, 1, 2, 3, 4, 6, 7, 9, 4, 5, 6, 10, 1, 3, 4, 5, 8, 1, 5, 6, 6, 8, 16, 16, 1, 8, 20, 9, 3, 8, 1, 3, 13, 5, 12, 17, 14, 3, 11, 20, 7, 9, 3, 1, 2, 3, 5, 9, 17, 12, 2, 3, 1, 2, 3, 4, 6, 7, 8, 11, 15, 18, 2, 7, 7, 15, 19, 16, 3, 1, 4, 5, 6, 12, 4, 1, 2, 3, 4, 6, 10, 15, 19, 3, 4, 14, 1, 2, 3, 4, 5, 6, 7, 8, 16, 18, 13, 1, 2, 3, 4, 6, 7, 9, 6, 13, 1, 5, 7, 8, 12, 6, 2, 2, 3, 5, 12, 3, 7, 19, 4, 4, 16, 1, 15, 1, 15, 5, 11, 4, 11, 14, 2, 3, 5, 6, 9, 10, 11, 15, 3, 4, 13, 17, 20, 2, 4, 1, 14, 2, 5, 10, 3, 8, 5, 15, 4, 16, 7, 6, 14, 5, 3, 15, 2, 11, 15, 10, 3, 1, 5, 6, 7, 11, 6, 7, 18, 18, 13, 1, 1, 3, 7, 9, 10, 11, 2, 3, 9, 12, 15, 17, 10, 18, 1, 7, 16, 15, 1, 7, 19, 15, 6, 14, 6, 12, 19, 5, 1, 2, 9, 20, 12, 1, 2, 9, 11, 6, 2, 1, 3, 6, 9, 12, 9, 1, 2, 4, 6, 14, 9, 6, 2, 3, 4, 7, 13, 17, 2, 3, 5, 7, 17, 2, 7, 14, 1, 5, 15, 1, 17, 1, 5, 9, 11, 12, 17, 8, 1, 10, 6, 6, 14, 1, 5, 11, 14, 1, 9, 13, 7, 1, 2, 7, 8, 9, 10, 1, 4, 5, 8, 17, 11, 1, 4, 6, 4, 2, 9, 17, 2, 2, 3, 4, 2, 13, 14, 6, 19, 1, 2, 7, 13, 15, 4, 2, 3, 4, 2, 17, 9, 18, 1, 2, 3, 4, 20, 2, 3, 4, 9, 19, 1, 5, 8, 12, 7, 14, 13, 9, 16, 12, 11, 1, 2, 4, 9, 10, 17, 8, 6, 9, 7, 9, 13, 8, 19, 6, 10, 4, 4, 1, 5, 1, 2, 7, 14, 1, 8, 9, 1, 2, 3, 4, 7, 9, 12, 11, 9, 10, 5, 19, 4, 7, 2, 5, 13, 5, 16, 2, 4, 5, 7, 15, 12, 18, 3, 8, 17, 14, 14, 1, 3, 5, 8, 18, 14, 1, 6, 10, 1, 11, 8, 14, 7, 6, 8, 1, 2, 3, 4, 1, 2, 3, 4, 5, 7, 8, 1, 5, 7, 16, 1, 2, 3, 4, 6, 14, 18, 1, 3, 4, 6, 10, 11, 18, 6, 1, 2, 5, 6, 7, 8, 14, 16, 1, 5, 6, 8, 15, 2, 3, 4, 7, 20, 9, 20, 5, 17, 17, 4, 8, 3, 1, 5, 16, 1, 3, 4, 7, 16, 17, 18, 12, 5, 3, 16, 9, 20, 1, 1, 5, 11, 16, 1, 3, 1, 2, 3, 4, 5, 6, 18, 1, 2, 3, 5, 7, 9, 11, 12, 1, 3, 4, 6, 7, 8, 11, 3, 15, 1, 18, 1, 2, 8, 4, 15, 4, 17, 2, 3, 4, 1, 2, 16, 9, 13, 6, 6, 6, 7, 9, 5, 18, 8, 14, 7, 11, 18, 2, 12, 1, 2, 2, 3, 1, 3, 4, 12, 15, 7, 2, 1, 2, 3, 5, 6, 9, 10, 1, 5, 8, 1, 8, 16, 12, 13, 1, 2, 3, 5, 6, 9, 13, 1, 6, 7, 5, 14, 13, 5, 13, 20, 2, 4, 13, 15, 9, 5, 1, 2, 3, 4, 11, 8, 17, 5, 1, 3, 6, 7, 17, 19, 1, 2, 18, 14, 9, 10, 7, 1, 3, 13, 7, 11, 3, 4, 2, 3, 6, 14, 2, 7, 15, 9, 11, 11, 10, 1, 10, 3, 6, 19, 1, 13, 5, 6, 7, 2, 2, 16, 6, 19, 3, 1, 5, 6, 7, 10, 17, 19, 7, 2, 19, 7, 18, 14, 11, 18, 12, 10, 17, 20, 7, 13, 7, 15, 11, 14, 16, 11, 5, 8, 9, 14, 10, 1, 12, 20, 9, 9, 2, 15, 2, 11, 1, 2, 4, 5, 9, 12, 14, 1, 10, 20, 1, 2, 3, 4, 5, 7, 11, 1, 2, 8, 16, 13, 3, 1, 2, 3, 13, 20, 6, 14, 3, 13, 1, 2, 3, 4, 5, 6, 8, 18, 1, 2, 4, 6, 7, 8, 18, 13, 11, 1, 2, 3, 4, 5, 6, 7, 3, 15, 19, 11, 13, 5, 5, 5, 10], \"Freq\": [0.9097540378570557, 0.9306429624557495, 0.1004510149359703, 0.8036081194877625, 0.9816875457763672, 0.2044147402048111, 0.3679465353488922, 0.4088294804096222, 0.24263553321361542, 0.3481292426586151, 0.1160430833697319, 0.09494433552026749, 0.2109874188899994, 0.019994404166936874, 0.22660325467586517, 0.4465416967868805, 0.053318411111831665, 0.19994404911994934, 0.04665360972285271, 0.9668796062469482, 0.01787446066737175, 0.12512122094631195, 0.6613550782203674, 0.05362338200211525, 0.12512122094631195, 0.9539075493812561, 0.3647880554199219, 0.2796708643436432, 0.16415463387966156, 0.030399005860090256, 0.024319203570485115, 0.11551622301340103, 0.024319203570485115, 0.9699529409408569, 0.9021121263504028, 0.9017788767814636, 0.9373576641082764, 0.9086482524871826, 0.969443142414093, 0.9630919694900513, 0.9488664865493774, 0.92863929271698, 0.9931735396385193, 0.04558512941002846, 0.15954793989658356, 0.6381917595863342, 0.09117025882005692, 0.056981410831213, 0.7746056914329529, 0.2213159203529358, 0.22686906158924103, 0.4033227860927582, 0.32769975066185, 0.944715678691864, 0.951104462146759, 0.959128737449646, 0.46246957778930664, 0.07707826048135757, 0.38539132475852966, 0.06744348257780075, 0.9241348505020142, 0.980503499507904, 0.8898705840110779, 0.9096757173538208, 0.9228618144989014, 0.985712468624115, 0.9476277232170105, 0.8898705840110779, 0.851396381855011, 0.9733928442001343, 0.859657883644104, 0.3772677481174469, 0.21558156609535217, 0.10779078304767609, 0.18863387405872345, 0.02694769576191902, 0.08084308356046677, 0.859657883644104, 0.8839433789253235, 0.8435633182525635, 0.9476277232170105, 0.9917970895767212, 0.9361280798912048, 0.9306429624557495, 0.05057476833462715, 0.5602128505706787, 0.18673761188983917, 0.05446513742208481, 0.10503990203142166, 0.03890366852283478, 0.9306429624557495, 0.849147617816925, 0.9044596552848816, 0.3429068326950073, 0.2286045402288437, 0.017584964632987976, 0.40445420145988464, 0.008792482316493988, 0.899380624294281, 0.9681097269058228, 0.9912298917770386, 0.9632250666618347, 0.9057400822639465, 0.23485466837882996, 0.04697093367576599, 0.04697093367576599, 0.5323372483253479, 0.04697093367576599, 0.015656977891921997, 0.07828488945960999, 0.9900728464126587, 0.9754300713539124, 0.7162288427352905, 0.9267688989639282, 0.9671265482902527, 0.9142850041389465, 0.9649950861930847, 0.9543039798736572, 0.09901581704616547, 0.6188488602638245, 0.28467047214508057, 0.8896887302398682, 0.9281467199325562, 0.7373480200767517, 0.8782253861427307, 0.1205768883228302, 0.3858460485935211, 0.09646151214838028, 0.3617306649684906, 0.9936074018478394, 0.9818996787071228, 0.9822796583175659, 0.8478387594223022, 0.7553637623786926, 0.9401465058326721, 0.9778254628181458, 0.8670482039451599, 0.27932748198509216, 0.21822458505630493, 0.026186950504779816, 0.13966374099254608, 0.3317013680934906, 0.6678603887557983, 0.9681122899055481, 0.955977201461792, 0.9306429624557495, 0.7964389324188232, 0.06981911510229111, 0.7121549248695374, 0.08099017292261124, 0.13125993311405182, 0.9662953019142151, 0.14019837975502014, 0.8156996369361877, 0.025490613654255867, 0.859657883644104, 0.9868910908699036, 0.37085336446762085, 0.094869464635849, 0.1724899411201477, 0.025873491540551186, 0.16386544704437256, 0.05174698308110237, 0.11211846023797989, 0.9387134909629822, 0.9543798565864563, 0.32447654008865356, 0.6025993227958679, 0.06953068822622299, 0.9384400844573975, 0.913823664188385, 0.864018440246582, 0.13292591273784637, 0.9149814248085022, 0.860453724861145, 0.05783584341406822, 0.4792112708091736, 0.09088489413261414, 0.35527732968330383, 0.008262263610959053, 0.47637248039245605, 0.169035404920578, 0.1421433985233307, 0.057625703513622284, 0.019208567216992378, 0.06915084272623062, 0.007683427073061466, 0.003841713536530733, 0.04994227737188339, 0.9956968426704407, 0.30453169345855713, 0.11073879152536392, 0.553693950176239, 0.3636699616909027, 0.3952934443950653, 0.0079058688133955, 0.1106821671128273, 0.031623475253582, 0.051388148218393326, 0.03952934592962265, 0.9892509579658508, 0.12855613231658936, 0.8356148600578308, 0.9396305084228516, 0.9884485006332397, 0.8430500030517578, 0.8404857516288757, 0.9254314303398132, 0.8819605708122253, 0.0601336769759655, 0.040089115500450134, 0.06511297821998596, 0.44648900628089905, 0.14882966876029968, 0.21394264698028564, 0.13022595643997192, 0.9378911852836609, 0.39581048488616943, 0.5248791575431824, 0.07744118571281433, 0.9771853685379028, 0.9476277232170105, 0.089369997382164, 0.3932279944419861, 0.5004720091819763, 0.9378400444984436, 0.9781218767166138, 0.8635291457176208, 0.8135256767272949, 0.9796351790428162, 0.9475550055503845, 0.8848457932472229, 0.23560839891433716, 0.011219447478652, 0.7404835224151611, 0.9681990742683411, 0.8817495703697205, 0.9794557094573975, 0.8584135174751282, 0.05086895078420639, 0.025434475392103195, 0.019075855612754822, 0.015896547585725784, 0.025434475392103195, 0.9822629690170288, 0.26049891114234924, 0.04961884021759033, 0.031011775135993958, 0.297713041305542, 0.10544003546237946, 0.04341648519039154, 0.2170824259519577, 0.7162288427352905, 0.9657660722732544, 0.9611457586288452, 0.03457358852028847, 0.985202431678772, 0.9328108429908752, 0.8604965806007385, 0.8731440901756287, 0.9913987517356873, 0.9476277232170105, 0.8000547885894775, 0.9034649133682251, 0.9772014617919922, 0.016704298555850983, 0.07316083461046219, 0.9145104289054871, 0.9895514845848083, 0.8329154253005981, 0.9768127202987671, 0.45775842666625977, 0.11443960666656494, 0.42914852499961853, 0.0951688289642334, 0.29740259051322937, 0.4639480710029602, 0.02379220724105835, 0.07137662172317505, 0.0475844144821167, 0.3847891688346863, 0.06790397316217422, 0.4526931345462799, 0.0905386283993721, 0.9159714579582214, 0.8348825573921204, 0.9585331082344055, 0.07107474654912949, 0.8173595666885376, 0.07107474654912949, 0.4993450939655304, 0.4369269609451294, 0.9057539105415344, 0.9292231202125549, 0.9625090956687927, 0.010360305197536945, 0.942787766456604, 0.03108091466128826, 0.4517843425273895, 0.02151354029774666, 0.5163249969482422, 0.7771404385566711, 0.8581550121307373, 0.7728193402290344, 0.3169686198234558, 0.06557971239089966, 0.06557971239089966, 0.23317231237888336, 0.02550322189927101, 0.2732487916946411, 0.01457326952368021, 0.0036433173809200525, 0.007286634761840105, 0.9805175065994263, 0.015260054729878902, 0.0038150136824697256, 0.2632359564304352, 0.11826542764902115, 0.0038150136824697256, 0.595142126083374, 0.7387488484382629, 0.22162465751171112, 0.05811898037791252, 0.9299036860466003, 0.9808914065361023, 0.9046266078948975, 0.9754684567451477, 0.009113871492445469, 0.4283519685268402, 0.4374658465385437, 0.06379710137844086, 0.05468323081731796, 0.859657883644104, 0.9804465174674988, 0.8302513957023621, 0.9421486258506775, 0.9821937680244446, 0.8898705840110779, 0.2767758369445801, 0.41993576288223267, 0.038175977766513824, 0.25768783688545227, 0.9625581502914429, 0.015311076305806637, 0.9799088835716248, 0.8608689308166504, 0.7040616273880005, 0.7012444138526917, 0.4535599946975708, 0.004278867971152067, 0.33803054690361023, 0.09841395914554596, 0.029952075332403183, 0.0470675453543663, 0.004278867971152067, 0.01711547188460827, 0.4869070053100586, 0.18033592402935028, 0.018033592030405998, 0.054100777953863144, 0.23443670570850372, 0.4178193211555481, 0.5106680393218994, 0.8228222131729126, 0.4582180082798004, 0.04980630427598953, 0.09961260855197906, 0.2689540386199951, 0.09676653146743774, 0.008538223803043365, 0.008538223803043365, 0.00711518619209528, 0.22756807506084442, 0.39141708612442017, 0.11833539605140686, 0.2548762261867523, 0.11094865947961807, 0.8321149349212646, 0.9281800985336304, 0.9718683958053589, 0.812303900718689, 0.9591482877731323, 0.980155885219574, 0.983373761177063, 0.9715601205825806, 0.9279817342758179, 0.9676910042762756, 0.22372940182685852, 0.7606799602508545, 0.5342474579811096, 0.1203937903046608, 0.2558368146419525, 0.08277073502540588, 0.03929313272237778, 0.24885649979114532, 0.6941786408424377, 0.941459596157074, 0.859657883644104, 0.9176133871078491, 0.9948147535324097, 0.849147617816925, 0.9321151375770569, 0.9456280469894409, 0.9476277232170105, 0.9487705826759338, 0.958503782749176, 0.977181077003479, 0.947748064994812, 0.6134448051452637, 0.011574430391192436, 0.37038177251815796, 0.9502270817756653, 0.397948682308197, 0.41871121525764465, 0.11073353886604309, 0.06574804335832596, 0.7357190251350403, 0.0037346144672483206, 0.14191535115242004, 0.022407686337828636, 0.04481537267565727, 0.03361152857542038, 0.0037346144672483206, 0.014938457868993282, 0.6549309492111206, 0.0648108720779419, 0.11938845366239548, 0.013644394464790821, 0.14326614141464233, 0.48883554339408875, 0.41090524196624756, 0.03542286530137062, 0.0637611597776413, 0.9491075277328491, 0.9752645492553711, 0.3092798888683319, 0.25773322582244873, 0.20618657767772675, 0.025773322209715843, 0.18041326105594635, 0.9725478887557983, 0.9700057506561279, 0.9611358046531677, 0.9818606376647949, 0.44006937742233276, 0.05029364302754402, 0.2011745721101761, 0.07544046640396118, 0.03772023320198059, 0.02514682151377201, 0.1634543389081955, 0.7661792635917664, 0.40716251730918884, 0.5657972693443298, 0.010575649328529835, 0.010575649328529835, 0.9830377101898193, 0.9844626784324646, 0.8776878714561462, 0.042129017412662506, 0.07021503150463104, 0.007021503057330847, 0.5058706402778625, 0.316864013671875, 0.07782624661922455, 0.038913123309612274, 0.038913123309612274, 0.027795089408755302, 0.9421671032905579, 0.0099175488576293, 0.0396701954305172, 0.9550161361694336, 0.8898705840110779, 0.15584787726402283, 0.20380108058452606, 0.49751439690589905, 0.09590639173984528, 0.03596489503979683, 0.9888201355934143, 0.1425781548023224, 0.8554689288139343, 0.9923772215843201, 0.9711229205131531, 0.6305121183395386, 0.35729020833969116, 0.051982756704092026, 0.7537499666213989, 0.025991378352046013, 0.06497844308614731, 0.019493533298373222, 0.08447197824716568, 0.9097540378570557, 0.821684718132019, 0.7987798452377319, 0.4325719475746155, 0.4325719475746155, 0.9292231202125549, 0.19537082314491272, 0.04884270578622818, 0.7326405644416809, 0.987974226474762, 0.9143486618995667, 0.2388141006231308, 0.3283693790435791, 0.4179246723651886, 0.9577786922454834, 0.975078284740448, 0.9822629690170288, 0.9817045331001282, 0.9571764469146729, 0.8188340663909912, 0.9756463766098022, 0.8653039932250977, 0.4888452887535095, 0.4888452887535095, 0.05018479377031326, 0.1505543738603592, 0.7527718544006348, 0.40043872594833374, 0.5005483627319336, 0.35524308681488037, 0.5328646302223206, 0.9531376361846924, 0.9930078387260437, 0.21525147557258606, 0.08726411312818527, 0.6864776611328125, 0.011635215021669865, 0.05548785626888275, 0.9247975945472717, 0.9502006769180298, 0.9001036286354065, 0.9904989004135132, 0.9523752927780151, 0.962533712387085, 0.8404857516288757, 0.3857422471046448, 0.4094802439212799, 0.17210039496421814, 0.011868991889059544, 0.011868991889059544, 0.9668821692466736, 0.07680488377809525, 0.6605219841003418, 0.24577562510967255, 0.9174796342849731, 0.9467375874519348, 0.014090672135353088, 0.1373840570449829, 0.6411256194114685, 0.028181344270706177, 0.17965607345104218, 0.5327759385108948, 0.4587792754173279, 0.1604192852973938, 0.6951501965522766, 0.13525547087192535, 0.006290952209383249, 0.934625506401062, 0.9715681076049805, 0.35968461632728577, 0.6166021823883057, 0.846688985824585, 0.9306429624557495, 0.961524486541748, 0.029137104749679565, 0.9585016369819641, 0.16292810440063477, 0.8146405816078186, 0.9763668775558472, 0.3152615427970886, 0.6725579500198364, 0.620448887348175, 0.7129926085472107, 0.051335468888282776, 0.228157639503479, 0.005703940987586975, 0.9901450276374817, 0.9815531969070435, 0.01148015446960926, 0.00574007723480463, 0.9395607709884644, 0.849147617816925, 0.9563034176826477, 0.04040718823671341, 0.9830668568611145, 0.9249343276023865, 0.6218895316123962, 0.007492645177990198, 0.3596469461917877, 0.37944138050079346, 0.02604009583592415, 0.5431219935417175, 0.022320080548524857, 0.02604009583592415, 0.4287664592266083, 0.20348238945007324, 0.24345213174819946, 0.05813782289624214, 0.025435298681259155, 0.04360336810350418, 0.7091374397277832, 0.9637991786003113, 0.017776163294911385, 0.9065843224525452, 0.07999273389577866, 0.7808841466903687, 0.8373926877975464, 0.2830551266670227, 0.12580227851867676, 0.06290113925933838, 0.46389588713645935, 0.023587927222251892, 0.03931321203708649, 0.8911719918251038, 0.07638616859912872, 0.025462057441473007, 0.9751859903335571, 0.8746313452720642, 0.09718126058578491, 0.6579657196998596, 0.08224571496248245, 0.24673713743686676, 0.9817363023757935, 0.978873610496521, 0.5308555960655212, 0.1565832942724228, 0.3093474805355072, 0.15458616614341736, 0.7729308009147644, 0.9717172384262085, 0.940391480922699, 0.15234754979610443, 0.7617377638816833, 0.9695399403572083, 0.9269238710403442, 0.6526178121566772, 0.10526093095541, 0.23157405853271484, 0.9658429622650146, 0.9085597395896912, 0.985276997089386, 0.8771090507507324, 0.9179221987724304, 0.03278293460607529, 0.4907856285572052, 0.5035887360572815, 0.34899064898490906, 0.5234859585762024, 0.11633021384477615, 0.5680387616157532, 0.03442659229040146, 0.07459095120429993, 0.31557708978652954, 0.350045382976532, 0.021754233166575432, 0.12854774296283722, 0.18787746131420135, 0.06328504532575607, 0.1305253952741623, 0.06724035739898682, 0.013843602500855923, 0.023731891065835953, 0.015821261331439018, 0.3602197468280792, 0.36632516980171204, 0.0427379347383976, 0.024421676993370056, 0.12210839241743088, 0.07326503098011017, 0.9490942358970642, 0.9823685884475708, 0.9800191521644592, 0.988593578338623, 0.010745582170784473, 0.09351739287376404, 0.02337934821844101, 0.8884152173995972, 0.938284158706665, 0.8015650510787964, 0.008906278759241104, 0.17812557518482208, 0.9839946031570435, 0.9537205100059509, 0.6489280462265015, 0.35396072268486023, 0.9401978254318237, 0.9789847135543823, 0.020395515486598015, 0.7841023206710815, 0.26093944907188416, 0.44033530354499817, 0.1793958693742752, 0.11416100710630417, 0.9797488451004028, 0.9583345651626587, 0.11620277166366577, 0.25564610958099365, 0.5810138583183289, 0.04648111015558243, 0.6805459260940552, 0.578518807888031, 0.1499863564968109, 0.25711944699287415, 0.9765521883964539, 0.01109718345105648, 0.849147617816925, 0.8943615555763245, 0.744011402130127, 0.25110384821891785, 0.13433600962162018, 0.5821226835250854, 0.06716800481081009, 0.20150400698184967, 0.9327671527862549, 0.007972368970513344, 0.03986184298992157, 0.015944737941026688, 0.9528506398200989, 0.9247846603393555, 0.6465877294540405, 0.032738618552684784, 0.180062398314476, 0.008184654638171196, 0.13095447421073914, 0.859657883644104, 0.8948658108711243, 0.8995115756988525, 0.32558608055114746, 0.6666762828826904, 0.9806012511253357, 0.9846857786178589, 0.7917952537536621, 0.9335485696792603, 0.12589693069458008, 0.21402478218078613, 0.40287017822265625, 0.12589693069458008, 0.08812785148620605, 0.025179386138916016, 0.8099390864372253, 0.9878780245780945, 0.9751178622245789, 0.9455541968345642, 0.9650116562843323, 0.9387264847755432, 0.9502598643302917, 0.849147617816925, 0.9631150364875793, 0.47870010137557983, 0.030340148136019707, 0.030340148136019707, 0.10113382339477539, 0.040453530848026276, 0.2123810350894928, 0.10450495034456253, 0.9797624945640564, 0.9306429624557495, 0.38643330335617065, 0.022731371223926544, 0.1682121455669403, 0.0045462739653885365, 0.07728666067123413, 0.06819411367177963, 0.0045462739653885365, 0.027277644723653793, 0.23640625178813934, 0.032538168132305145, 0.7592238783836365, 0.10846055299043655, 0.059653304517269135, 0.04338422045111656, 0.3159630298614502, 0.5687334537506104, 0.11489564925432205, 0.9296174049377441, 0.9883748292922974, 0.9721875786781311, 0.9548944234848022, 0.849147617816925, 0.011129314079880714, 0.5713047981262207, 0.21887652575969696, 0.09645406156778336, 0.04451725631952286, 0.0519368015229702, 0.977181077003479, 0.2037501186132431, 0.5550433993339539, 0.04918106272816658, 0.0210775975137949, 0.1615949124097824, 0.918430745601654, 0.9629322290420532, 0.7162288427352905, 0.12870730459690094, 0.6292356848716736, 0.24311380088329315, 0.9699052572250366, 0.8887370228767395, 0.964077889919281, 0.9173985719680786, 0.9873513579368591, 0.9518784284591675, 0.03461376205086708, 0.5389301776885986, 0.3031482398509979, 0.06736627221107483, 0.10104940831661224, 0.859657883644104, 0.02951325662434101, 0.5607518553733826, 0.41318559646606445, 0.904625415802002, 0.4638175666332245, 0.08730684220790863, 0.12004690617322922, 0.043653421103954315, 0.005456677637994289, 0.2128104269504547, 0.005456677637994289, 0.06002345308661461, 0.0953579843044281, 0.6241613626480103, 0.04767899215221405, 0.07368571311235428, 0.08235462009906769, 0.07368571311235428, 0.8990744352340698, 0.09772548824548721, 0.9923746585845947, 0.9832626581192017, 0.9619593620300293, 0.9048025012016296, 0.062400173395872116, 0.9691081643104553, 0.842974841594696, 0.8583077192306519, 0.37819087505340576, 0.610923707485199, 0.9395955801010132, 0.9306429624557495, 0.06900732219219208, 0.32778477668762207, 0.10926159471273422, 0.40829330682754517, 0.05175549164414406, 0.005750610027462244, 0.028753049671649933, 0.38915032148361206, 0.15566013753414154, 0.38915032148361206, 0.9743033051490784, 0.7923372387886047, 0.9723005294799805, 0.396749347448349, 0.12623842060565948, 0.0060113538056612015, 0.15629519522190094, 0.09618166089057922, 0.18034060299396515, 0.03606812283396721, 0.7062799334526062, 0.9900122284889221, 0.9798758625984192, 0.8917035460472107, 0.8255659937858582, 0.8802550435066223, 0.9285548329353333, 0.06349092721939087, 0.4379909038543701, 0.09733130782842636, 0.38932523131370544, 0.9482982754707336, 0.849147617816925, 0.9713975191116333, 0.1836176961660385, 0.7534657120704651, 0.0633164495229721, 0.7688999772071838, 0.06989999860525131, 0.13979999721050262, 0.9721587896347046, 0.4079340100288391, 0.5547902584075928, 0.02447604201734066, 0.849147617816925, 0.054016824811697006, 0.9182860255241394, 0.8421148657798767, 0.8652445673942566, 0.12073180079460144, 0.9562427401542664, 0.1477409303188324, 0.7387046217918396, 0.9698945879936218, 0.9736296534538269, 0.9509146213531494, 0.9476277232170105, 0.9610732197761536, 0.6295161247253418, 0.08036376535892487, 0.09375772625207901, 0.04018188267946243, 0.147333562374115, 0.9839974045753479, 0.9124341607093811, 0.8550863265991211, 0.9838953018188477, 0.9568966031074524, 0.9773309826850891, 0.9683584570884705, 0.9207062125205994, 0.010522357188165188, 0.021044714376330376, 0.04208942875266075, 0.005261178594082594, 0.9167042970657349, 0.9353410005569458, 0.10577820986509323, 0.8764480352401733, 0.9906339645385742, 0.9488750696182251, 0.6595690846443176, 0.8594165444374084, 0.705875813961029, 0.2254881113767624, 0.04901915416121483, 0.029411491006612778, 0.990203320980072, 0.9373576641082764, 0.9048112034797668, 0.9635473489761353, 0.02267170138657093, 0.9620464444160461, 0.10825881361961365, 0.14434507489204407, 0.6675959825515747, 0.054129406809806824, 0.9536503553390503, 0.16994927823543549, 0.36114221811294556, 0.4673605263233185, 0.6486021280288696, 0.5809288024902344, 0.015287600457668304, 0.15287600457668304, 0.24460160732269287, 0.6704633235931396, 0.9548237919807434, 0.06635784357786179, 0.43547335267066956, 0.45206281542778015, 0.04147365316748619, 0.004147365223616362, 0.9847758412361145, 0.9073501825332642, 0.9850595593452454, 0.8756046295166016, 0.9704319834709167, 0.926882266998291, 0.9282012581825256, 0.16320820152759552, 0.2176109403371811, 0.14144711196422577, 0.19584985077381134, 0.27201366424560547, 0.0217610951513052, 0.7653208374977112, 0.05082208663225174, 0.011958138085901737, 0.026905810460448265, 0.0328848771750927, 0.020926741883158684, 0.04484301805496216, 0.04783255234360695, 0.03520602732896805, 0.0704120546579361, 0.7569295763969421, 0.10561808198690414, 0.017603013664484024, 0.8894700407981873, 0.9569942355155945, 0.8765599727630615, 0.06399347633123398, 0.8959086537361145, 0.8223519921302795, 0.1805163025856018, 0.9844117164611816, 0.897427499294281, 0.08158431947231293, 0.01255143340677023, 0.9306429624557495, 0.18095336854457855, 0.040211860090494156, 0.7640253305435181, 0.2466524839401245, 0.2866501808166504, 0.06666283309459686, 0.24443039298057556, 0.002222094452008605, 0.08443959057331085, 0.05999654904007912, 0.00888837780803442, 0.9624012112617493, 0.9928008317947388, 0.9796512722969055, 0.6038630604743958, 0.011997278779745102, 0.08798004686832428, 0.1959555596113205, 0.04399002343416214, 0.00399909308180213, 0.04798911511898041, 0.9097540378570557, 0.9523515701293945, 0.9580341577529907, 0.9454383254051208, 0.8815663456916809, 0.6709310412406921, 0.057508375495672226, 0.11501675099134445, 0.153355672955513, 0.7529973983764648, 0.01060559693723917, 0.07423917949199677, 0.14847835898399353, 0.01060559693723917, 0.9531568288803101, 0.8721963167190552, 0.9311637878417969, 0.9719343185424805, 0.26981234550476074, 0.5396246910095215, 0.9670906066894531, 0.8299651145935059, 0.03045743517577648, 0.03045743517577648, 0.0989866629242897, 0.5909464955329895, 0.37605684995651245, 0.9656370282173157, 0.9687158465385437, 0.8383178114891052, 0.16766357421875, 0.9292231202125549, 0.9416143298149109, 0.08510951697826385, 0.3546229898929596, 0.24398060142993927, 0.2610025107860565, 0.025532854720950127, 0.028369838371872902, 0.9476277232170105, 0.9913783073425293, 0.924074649810791, 0.9537390470504761, 0.9681869745254517, 0.7432535290718079, 0.1772373765707016, 0.06860801577568054, 0.005717334803193808, 0.005717334803193808, 0.373990923166275, 0.025615815073251724, 0.5994101166725159, 0.897681474685669, 0.06905242055654526, 0.8439862132072449, 0.9142849445343018, 0.10719885677099228, 0.8575908541679382, 0.9097540378570557, 0.9476277232170105, 0.2229195088148117, 0.7430650591850281, 0.49207863211631775, 0.26840654015541077, 0.22367210686206818, 0.4027760624885559, 0.10069401562213898, 0.5034700632095337, 0.8550863265991211, 0.9559095501899719, 0.049021001905202866, 0.849147617816925, 0.9282012581825256, 0.9822629690170288, 0.9573588371276855, 0.8162271976470947, 0.08002227544784546, 0.032008908689022064, 0.024006681516766548, 0.024006681516766548, 0.024006681516766548, 0.9219488501548767, 0.9572543501853943, 0.01953580230474472, 0.60877525806427, 0.03043876215815544, 0.09685060381889343, 0.008301480673253536, 0.09408344328403473, 0.11622072756290436, 0.00276716030202806, 0.016602961346507072, 0.00553432060405612, 0.013835800811648369, 0.9659493565559387, 0.9612115025520325, 0.20831124484539032, 0.7638078927993774, 0.9327023029327393, 0.8932193517684937, 0.9768304228782654, 0.3864583373069763, 0.016802536323666573, 0.016802536323666573, 0.5376811623573303, 0.033605072647333145, 0.9560043215751648, 0.290373831987381, 0.05444509536027908, 0.2359287440776825, 0.05444509536027908, 0.03629672899842262, 0.07259345799684525, 0.25407710671424866, 0.8528802394866943, 0.1671566218137741, 0.8229249119758606, 0.8898705840110779, 0.472040057182312, 0.023106856271624565, 0.1650489717721939, 0.22116561233997345, 0.019805876538157463, 0.026407834142446518, 0.019805876538157463, 0.019805876538157463, 0.023106856271624565, 0.0066019585356116295, 0.9755136966705322, 0.18101373314857483, 0.04113948345184326, 0.36202746629714966, 0.13164635002613068, 0.03291158750653267, 0.057595279067754745, 0.18924163281917572, 0.9324814677238464, 0.8539130687713623, 0.5696598887443542, 0.131994366645813, 0.02778828702867031, 0.2292533665895462, 0.034735359251499176, 0.962762713432312, 0.9764937162399292, 0.3980054557323456, 0.11008661240339279, 0.38106903433799744, 0.11008661240339279, 0.3725120723247528, 0.29800963401794434, 0.22350724041461945, 0.9744385480880737, 0.9644804000854492, 0.8877463936805725, 0.841912031173706, 0.14515724778175354, 0.9779663681983948, 0.013970947824418545, 0.061395883560180664, 0.92093825340271, 0.9486798644065857, 0.9674050807952881, 0.9248576760292053, 0.2820400595664978, 0.04230600968003273, 0.1269180327653885, 0.02820400707423687, 0.21153004467487335, 0.02820400707423687, 0.09871402382850647, 0.19742804765701294, 0.23263046145439148, 0.2505251169204712, 0.3757876753807068, 0.017894649878144264, 0.10736790299415588, 0.3709668219089508, 0.6135220527648926, 0.968143880367279, 0.9522630572319031, 0.9528494477272034, 0.10730508714914322, 0.8584406971931458, 0.4268438220024109, 0.5691251158714294, 0.9319474101066589, 0.9446425437927246, 0.9797273278236389, 0.9580868482589722, 0.9486328363418579, 0.4151875078678131, 0.5535833835601807, 0.9781815409660339, 0.9309598803520203, 0.07161229848861694, 0.14078624546527863, 0.7039312124252319, 0.09385748952627182, 0.9097604155540466, 0.9409111142158508, 0.512202262878418, 0.24009479582309723, 0.22408847510814667, 0.01600632071495056, 0.00800316035747528, 0.3392884135246277, 0.22619228065013885, 0.4071460962295532, 0.9851677417755127, 0.9419832825660706, 0.9771730303764343, 0.7272230982780457, 0.0391581691801548, 0.13985060155391693, 0.0783163383603096, 0.00559402396902442, 0.9653778672218323, 0.9120407700538635, 0.07394924759864807, 0.9226093292236328, 0.964509129524231, 0.8304551243782043, 0.8000547885894775, 0.947989821434021, 0.8186184167861938, 0.8447299599647522, 0.08494491130113602, 0.06606826186180115, 0.9361757636070251, 0.9833686947822571, 0.976240336894989, 0.6143038868904114, 0.929474413394928, 0.5806611776351929, 0.4019961953163147, 0.9047434329986572, 0.6086288094520569, 0.34778788685798645, 0.9752215147018433, 0.4248683750629425, 0.39654383063316345, 0.16994735598564148, 0.9096757173538208, 0.9585070013999939, 0.2438604235649109, 0.3337037265300751, 0.14118234813213348, 0.28236469626426697, 0.9740607142448425, 0.966337263584137, 0.710986316204071, 0.12316298484802246, 0.016794953495264053, 0.027991587296128273, 0.11196634918451309, 0.9344091415405273, 0.010423853993415833, 0.7635473012924194, 0.17199358344078064, 0.046907342970371246, 0.005211926996707916, 0.914835512638092, 0.9781038165092468, 0.36068183183670044, 0.0636497363448143, 0.15912432968616486, 0.3076403737068176, 0.0636497363448143, 0.042433157563209534, 0.36667749285697937, 0.23334023356437683, 0.22500665485858917, 0.12500369548797607, 0.04166789725422859, 0.9495587944984436, 0.007139539811760187, 0.03926746919751167, 0.5593977570533752, 0.058883972465991974, 0.3827458322048187, 0.7649781703948975, 0.21249394118785858, 0.20920906960964203, 0.08368362486362457, 0.020920906215906143, 0.5857853889465332, 0.020920906215906143, 0.041841812431812286, 0.957072377204895, 0.6093547344207764, 0.38366779685020447, 0.9466440677642822, 0.7311840653419495, 0.2513445317745209, 0.21073593199253082, 0.6790379881858826, 0.07024531066417694, 0.046830207109451294, 0.641690194606781, 0.33056768774986267, 0.8365792036056519, 0.9569126963615417, 0.19052308797836304, 0.42115628719329834, 0.07019271701574326, 0.11030283570289612, 0.18049556016921997, 0.02005506120622158, 0.3388226330280304, 0.09680646657943726, 0.12100808322429657, 0.41142749786376953, 0.024201616644859314, 0.9695593118667603, 0.9373031854629517, 0.0600835382938385, 0.953676164150238, 0.9757973551750183, 0.1373044103384018, 0.8238264322280884, 0.8325532078742981, 0.9852495789527893, 0.5086868405342102, 0.11037544906139374, 0.3743167519569397, 0.9875902533531189, 0.9422036409378052, 0.9079063534736633, 0.9230571985244751, 0.8500653505325317, 0.5854074954986572, 0.12805788218975067, 0.0914699137210846, 0.01829398423433304, 0.1829398274421692, 0.9616043567657471, 0.12183142453432083, 0.4087247848510742, 0.46767547726631165, 0.9814382195472717, 0.8554487228393555, 0.9700401425361633, 0.9306429624557495, 0.017042865976691246, 0.18747153878211975, 0.698757529258728, 0.08521433174610138, 0.849147617816925, 0.08541364967823029, 0.19523119926452637, 0.012201949954032898, 0.6955111026763916, 0.6488813161849976, 0.22885218262672424, 0.22885218262672424, 0.16643795371055603, 0.35368064045906067, 0.9783481359481812, 0.8898705840110779, 0.8441758751869202, 0.9476277232170105, 0.795192539691925, 0.859657883644104, 0.9555656313896179, 0.24443697929382324, 0.514947235584259, 0.03585075959563255, 0.10755227506160736, 0.08473815768957138, 0.013036639429628849, 0.8662721514701843, 0.9635140895843506, 0.9476277232170105, 0.16380509734153748, 0.8190255165100098, 0.7661792635917664, 0.9073613286018372, 0.8613585829734802, 0.04728512465953827, 0.9457024931907654, 0.9769830107688904, 0.9756826758384705, 0.9723027944564819, 0.01676384173333645, 0.08008910715579987, 0.8275874257087708, 0.06674092262983322, 0.013348184525966644, 0.4422377049922943, 0.522644579410553, 0.9822629690170288, 0.011850076727569103, 0.5759137272834778, 0.09954064339399338, 0.27729180455207825, 0.004740030504763126, 0.0071100457571446896, 0.023700153455138206, 0.9435344934463501, 0.7193748354911804, 0.22134609520435333, 0.9710764288902283, 0.9430819749832153, 0.9877528548240662, 0.9881458878517151, 0.027010256424546242, 0.9183487296104431, 0.054020512849092484, 0.989799976348877, 0.9369986653327942, 0.3610415458679199, 0.16272294521331787, 0.15001021325588226, 0.2923927903175354, 0.03305309638381004, 0.8755255937576294, 0.9771853685379028, 0.4268438220024109, 0.5691251158714294, 0.9296174049377441, 0.9695788621902466, 0.8550863265991211, 0.6851223111152649, 0.172588050365448, 0.06275929510593414, 0.020919764414429665, 0.057529352605342865, 0.7937449812889099, 0.23336178064346313, 0.7260144352912903, 0.9616870880126953, 0.37713125348091125, 0.603410005569458, 0.9171991348266602, 0.9827486872673035, 0.9676982760429382, 0.14408746361732483, 0.8357073068618774, 0.0960405245423317, 0.22409455478191376, 0.010671169497072697, 0.6722836494445801, 0.2556385397911072, 0.3813624083995819, 0.17601341009140015, 0.09219750016927719, 0.05448034033179283, 0.03771715983748436, 0.9262962937355042, 0.44374027848243713, 0.29582685232162476, 0.14791342616081238, 0.1150437742471695, 0.2703087031841278, 0.06950795650482178, 0.04633863642811775, 0.4633863568305969, 0.05406174436211586, 0.0849541649222374, 0.015446212142705917, 0.40585875511169434, 0.2597496211528778, 0.14610916376113892, 0.040585875511169434, 0.040585875511169434, 0.008117175661027431, 0.09740610420703888, 0.9442190527915955, 0.15694335103034973, 0.542478084564209, 0.01705905981361866, 0.044353555887937546, 0.07847167551517487, 0.11258979141712189, 0.027294494211673737, 0.020470870658755302, 0.2576836049556732, 0.1874062567949295, 0.3123437762260437, 0.2420664131641388, 0.9639937281608582, 0.14008095860481262, 0.3391433656215668, 0.3022799789905548, 0.21380777657032013, 0.849147617816925, 0.9476277232170105, 0.7746387124061584, 0.9758794903755188, 0.7847168445587158, 0.9284582734107971, 0.9714915156364441, 0.8574883937835693, 0.9654021263122559, 0.5014803409576416, 0.11572623252868652, 0.30860328674316406, 0.8761008381843567, 0.02014024928212166, 0.060420747846364975, 0.030210373923182487, 0.9329133033752441, 0.8392360210418701, 0.11989086121320724, 0.9827427268028259, 0.9298793077468872, 0.08404412120580673, 0.8404412269592285, 0.9603785872459412, 0.8916569948196411, 0.9791978597640991, 0.2064361423254013, 0.39410534501075745, 0.11260153353214264, 0.2627369165420532, 0.9430793523788452, 0.030920635908842087, 0.4714866280555725, 0.2619370222091675, 0.07858110219240189, 0.052387405186891556, 0.026193702593445778, 0.013096851296722889, 0.0916779562830925, 0.41139355301856995, 0.09795084595680237, 0.11101096123456955, 0.18937164545059204, 0.016325142234563828, 0.009795084595680237, 0.003265028353780508, 0.15998639166355133, 0.2018914371728897, 0.009176882915198803, 0.1651839017868042, 0.468021035194397, 0.04588441550731659, 0.05506129935383797, 0.05506129935383797, 0.9825050234794617, 0.9833938479423523, 0.7995645403862, 0.1749047338962555, 0.4674032926559448, 0.2696557343006134, 0.257671058177948, 0.29011499881744385, 0.6930524706840515, 0.9591641426086426, 0.9655200839042664, 0.32353928685188293, 0.43321359157562256, 0.23579980432987213, 0.6957452297210693, 0.027829809114336967, 0.2782980799674988, 0.3251092731952667, 0.609579861164093, 0.9531621336936951, 0.9848047494888306, 0.1766151636838913, 0.08830758184194565, 0.7358965277671814, 0.9880785346031189, 0.9069374203681946, 0.85971599817276, 0.8987687230110168, 0.8893700242042542, 0.08893699944019318, 0.6538068652153015, 0.5253894329071045, 0.45971575379371643, 0.9664804935455322, 0.015101257711648941, 0.9772712588310242, 0.9892257452011108, 0.024998510256409645, 0.7999523282051086, 0.1666567325592041, 0.9255829453468323, 0.7672606706619263, 0.9801313281059265, 0.9728004336357117, 0.7491176724433899, 0.06810160726308823, 0.038307152688503265, 0.06384525448083878, 0.04681985452771187, 0.017025401815772057, 0.012769050896167755, 0.4752083718776703, 0.24339941143989563, 0.2665803134441376, 0.8069166541099548, 0.17685844004154205, 0.7062798142433167, 0.8580631613731384, 0.989382803440094, 0.18010260164737701, 0.2701539099216461, 0.08312427997589111, 0.4017673432826996, 0.04156213998794556, 0.01385404635220766, 0.9036846160888672, 0.09815185517072678, 0.81793212890625, 0.09815185517072678, 0.7292529344558716, 0.2625310719013214, 0.9570450782775879, 0.9536503553390503, 0.9481513500213623, 0.9097540378570557, 0.22594575583934784, 0.0903782993555069, 0.6778372526168823, 0.9050748944282532, 0.9476277232170105, 0.9538525938987732, 0.7253825664520264, 0.08504485338926315, 0.07003694027662277, 0.10505540668964386, 0.010005276650190353, 0.9799599051475525, 0.9698957204818726, 0.9602664113044739, 0.4016932249069214, 0.1917172223329544, 0.3377874791622162, 0.04564695805311203, 0.009129391983151436, 0.6143038868904114, 0.08739807456731796, 0.8849055171012878, 0.02184951864182949, 0.8251306414604187, 0.9622272253036499, 0.9672102928161621, 0.9282012581825256, 0.17317713797092438, 0.5436956882476807, 0.2778888940811157, 0.7631790041923523, 0.24282969534397125, 0.14123067259788513, 0.8191378712654114, 0.0439961813390255, 0.9459178447723389, 0.8974961042404175, 0.09205088019371033, 0.943877637386322, 0.055789124220609665, 0.8926259875297546, 0.9601908922195435, 0.9597030282020569, 0.9325955510139465, 0.924070417881012, 0.9724414944648743, 0.9796373844146729, 0.9717810153961182, 0.9561769962310791, 0.9041846394538879, 0.9712300300598145, 0.015921803191304207, 0.47646069526672363, 0.03324144333600998, 0.47646069526672363, 0.9736634492874146, 0.9787783622741699, 0.8932193517684937, 0.9843604564666748, 0.9781572222709656, 0.9615300893783569, 0.42293232679367065, 0.2306903749704361, 0.019224196672439575, 0.04806049168109894, 0.19224196672439575, 0.057672593742609024, 0.028836296871304512, 0.989747941493988, 0.9631531834602356, 0.6699379682540894, 0.9925631284713745, 0.6984596252441406, 0.8645705580711365, 0.6906468272209167, 0.2762587368488312, 0.9844052195549011, 0.9651196002960205, 0.9655200242996216, 0.8916569948196411, 0.976543128490448, 0.8139806389808655, 0.9533070921897888, 0.8987416625022888, 0.8810868859291077, 0.8898705840110779, 0.9292231202125549, 0.9555656313896179, 0.9600638747215271, 0.22833102941513062, 0.22833102941513062, 0.5708275437355042, 0.9537846446037292, 0.9100258946418762, 0.08000227808952332, 0.9097540378570557, 0.9822629690170288, 0.9917902946472168, 0.9824413061141968, 0.9595540761947632, 0.5537413954734802, 0.42344930768013, 0.6549072861671448, 0.1045064777135849, 0.05573679134249687, 0.006967098917812109, 0.06967099010944366, 0.09753938019275665, 0.006967098917812109, 0.6352270841598511, 0.3629869222640991, 0.9490593075752258, 0.3036763370037079, 0.11299584060907364, 0.16949376463890076, 0.3601742386817932, 0.02824896015226841, 0.014124480076134205, 0.9099652171134949, 0.974928081035614, 0.9753476977348328, 0.9383044838905334, 0.8108043074607849, 0.9610808491706848, 0.9674723148345947, 0.7245312333106995, 0.05745181441307068, 0.08617772161960602, 0.08936949074268341, 0.03830121085047722, 0.3477057218551636, 0.6340516209602356, 0.9909979701042175, 0.9333108067512512, 0.3606124222278595, 0.2712298631668091, 0.02465725876390934, 0.08013609051704407, 0.04623236134648323, 0.13869708776474, 0.05239667743444443, 0.02465725876390934, 0.08249107748270035, 0.5155692100524902, 0.04640123248100281, 0.08249107748270035, 0.12889230251312256, 0.056712616235017776, 0.08249107748270035, 0.9185817837715149, 0.9275022149085999, 0.16630572080612183, 0.36655136942863464, 0.2387109249830246, 0.13349710404872894, 0.003393994178622961, 0.029414616525173187, 0.06335455924272537, 0.9673036932945251, 0.03335529938340187, 0.839273989200592, 0.3486419916152954, 0.5578271746635437, 0.9871472716331482, 0.983009397983551, 0.9949381351470947, 0.9815597534179688], \"Term\": [\"abba\", \"abbey\", \"accelerate\", \"accelerate\", \"accept\", \"access\", \"access\", \"access\", \"accord\", \"accord\", \"accord\", \"accord\", \"accord\", \"account\", \"account\", \"account\", \"account\", \"account\", \"account\", \"accuracy\", \"accuse\", \"accuse\", \"accuse\", \"accuse\", \"accuse\", \"actually\", \"add\", \"add\", \"add\", \"add\", \"add\", \"add\", \"add\", \"admit\", \"advert\", \"advise\", \"aer\", \"afp\", \"age\", \"agence\", \"agent\", \"agriculture\", \"aguas\", \"ahead\", \"ahead\", \"ahead\", \"ahead\", \"ahead\", \"aid\", \"aid\", \"air\", \"air\", \"air\", \"airbus\", \"aircraft\", \"aire\", \"airline\", \"airline\", \"airline\", \"airline\", \"airport\", \"airway\", \"alabama\", \"alegre\", \"alfa\", \"algeria\", \"algier\", \"alice\", \"alitalia\", \"allegation\", \"allegedly\", \"almost\", \"almost\", \"almost\", \"almost\", \"almost\", \"almost\", \"alto\", \"ambani\", \"amf\", \"ammar\", \"amount\", \"amsterdam\", \"amusategui\", \"analyst\", \"analyst\", \"analyst\", \"analyst\", \"analyst\", \"analyst\", \"angel\", \"angelina\", \"anil\", \"annual\", \"annual\", \"annual\", \"annual\", \"annual\", \"anthony\", \"anymore\", \"appear\", \"appearance\", \"arabia\", \"area\", \"area\", \"area\", \"area\", \"area\", \"area\", \"area\", \"argentina\", \"argentine\", \"ariary\", \"arrival\", \"arrive\", \"ashley\", \"aside\", \"assault\", \"asset\", \"asset\", \"asset\", \"assist\", \"assistance\", \"aston\", \"atr\", \"attack\", \"attack\", \"attack\", \"attack\", \"attend\", \"attendance\", \"auction\", \"author\", \"automotive\", \"aviation\", \"avoid\", \"axa\", \"back\", \"back\", \"back\", \"back\", \"back\", \"baggage\", \"balance\", \"ban\", \"banco\", \"bangladesh\", \"bank\", \"bank\", \"bank\", \"bank\", \"banker\", \"bankruptcy\", \"bankruptcy\", \"bankruptcy\", \"barcelona\", \"barrel\", \"base\", \"base\", \"base\", \"base\", \"base\", \"base\", \"base\", \"bat\", \"beat\", \"become\", \"become\", \"become\", \"beef\", \"beer\", \"begin\", \"begin\", \"bell\", \"bernie\", \"bid\", \"bid\", \"bid\", \"bid\", \"bid\", \"big\", \"big\", \"big\", \"big\", \"big\", \"big\", \"big\", \"big\", \"big\", \"blair\", \"block\", \"block\", \"block\", \"bn\", \"bn\", \"bn\", \"bn\", \"bn\", \"bn\", \"bn\", \"board\", \"boe\", \"boe\", \"boeing\", \"boerse\", \"bolivia\", \"bombardier\", \"bonus\", \"boom\", \"boom\", \"boom\", \"boost\", \"boost\", \"boost\", \"boost\", \"boost\", \"borrow\", \"boss\", \"boss\", \"boss\", \"botin\", \"bouira\", \"brand\", \"brand\", \"brand\", \"brazilian\", \"breach\", \"brewer\", \"bribe\", \"british\", \"broker\", \"bt\", \"budget\", \"budget\", \"budget\", \"bueno\", \"burst\", \"bush\", \"business\", \"business\", \"business\", \"business\", \"business\", \"business\", \"butane\", \"buy\", \"buy\", \"buy\", \"buy\", \"buy\", \"buy\", \"buy\", \"cactus\", \"cairn\", \"call\", \"call\", \"campaigner\", \"camus\", \"canada\", \"canal\", \"cancel\", \"canister\", \"cannabis\", \"capitalisation\", \"car\", \"car\", \"card\", \"card\", \"carmaker\", \"carnival\", \"carrier\", \"carry\", \"carry\", \"carry\", \"case\", \"case\", \"case\", \"case\", \"case\", \"case\", \"cash\", \"cash\", \"cash\", \"cash\", \"cement\", \"century\", \"ceo\", \"chain\", \"chain\", \"chain\", \"chairmanship\", \"chairmanship\", \"champagne\", \"chandon\", \"chapter\", \"charge\", \"charge\", \"charge\", \"cheap\", \"cheap\", \"cheap\", \"cheese\", \"chernin\", \"chicago\", \"chief\", \"chief\", \"chief\", \"chief\", \"chief\", \"chief\", \"chief\", \"chief\", \"chief\", \"child\", \"china\", \"china\", \"china\", \"china\", \"china\", \"china\", \"chirac\", \"chirac\", \"christian\", \"christian\", \"christma\", \"cigarette\", \"citizen\", \"claim\", \"claim\", \"claim\", \"claim\", \"claim\", \"clarin\", \"classify\", \"clearstream\", \"client\", \"climate\", \"clinic\", \"close\", \"close\", \"close\", \"close\", \"clothing\", \"club\", \"club\", \"coast\", \"cocoa\", \"collection\", \"come\", \"come\", \"come\", \"come\", \"come\", \"come\", \"come\", \"come\", \"commission\", \"commission\", \"commission\", \"commission\", \"commission\", \"commit\", \"commit\", \"communication\", \"company\", \"company\", \"company\", \"company\", \"company\", \"company\", \"company\", \"company\", \"compare\", \"compare\", \"compare\", \"compare\", \"compensation\", \"compensation\", \"complain\", \"complaint\", \"computer\", \"concerned\", \"concession\", \"conference\", \"consecutive\", \"consistent\", \"conspiracy\", \"construction\", \"construction\", \"consumer\", \"consumer\", \"consumer\", \"consumer\", \"contract\", \"contract\", \"contract\", \"contraction\", \"contractual\", \"contribute\", \"contribution\", \"converge\", \"convert\", \"convict\", \"cook\", \"cooking\", \"copper\", \"corcostegui\", \"corp\", \"corporate\", \"corporate\", \"corporate\", \"cosmetic\", \"cost\", \"cost\", \"cost\", \"cost\", \"could\", \"could\", \"could\", \"could\", \"could\", \"could\", \"could\", \"could\", \"country\", \"country\", \"country\", \"country\", \"country\", \"court\", \"court\", \"court\", \"court\", \"couture\", \"cow\", \"credit\", \"credit\", \"credit\", \"credit\", \"credit\", \"creditor\", \"criminal\", \"crude\", \"currency\", \"currently\", \"currently\", \"currently\", \"currently\", \"currently\", \"currently\", \"currently\", \"custom\", \"cut\", \"cut\", \"cut\", \"cut\", \"dam\", \"davos\", \"day\", \"day\", \"day\", \"day\", \"deal\", \"deal\", \"deal\", \"deal\", \"deal\", \"deal\", \"debt\", \"debt\", \"debt\", \"deccan\", \"deceive\", \"december\", \"december\", \"december\", \"december\", \"december\", \"decide\", \"defence\", \"defence\", \"deficit\", \"definition\", \"delay\", \"delay\", \"demand\", \"demand\", \"demand\", \"demand\", \"demand\", \"demand\", \"demonstration\", \"departure\", \"depend\", \"deposit\", \"deposit\", \"designer\", \"detail\", \"detail\", \"detail\", \"deutsche\", \"devaluation\", \"develop\", \"develop\", \"develop\", \"diageo\", \"difficult\", \"dinar\", \"dipiazza\", \"direction\", \"directly\", \"disaster\", \"discovery\", \"discussion\", \"discussion\", \"disease\", \"disease\", \"disease\", \"disney\", \"disney\", \"display\", \"display\", \"district\", \"document\", \"dollar\", \"dollar\", \"dollar\", \"dollar\", \"dominate\", \"dominate\", \"donaldson\", \"dozen\", \"drug\", \"dutch\", \"duty\", \"ead\", \"early\", \"early\", \"early\", \"early\", \"early\", \"earn\", \"earning\", \"earning\", \"earning\", \"ebay\", \"ebber\", \"economic\", \"economic\", \"economic\", \"economic\", \"economic\", \"economist\", \"economist\", \"economy\", \"economy\", \"economy\", \"economy\", \"eef\", \"efficient\", \"elect\", \"elect\", \"emergency\", \"emilio\", \"employee\", \"employee\", \"employment\", \"engine\", \"engine\", \"england\", \"enron\", \"enron\", \"equally\", \"euro\", \"euro\", \"euro\", \"euro\", \"euronext\", \"european\", \"european\", \"european\", \"evasion\", \"eve\", \"evidence\", \"evidence\", \"exact\", \"exception\", \"exchange\", \"exchange\", \"exchange\", \"executive\", \"executive\", \"executive\", \"executive\", \"executive\", \"expect\", \"expect\", \"expect\", \"expect\", \"expect\", \"expect\", \"expectancy\", \"experience\", \"export\", \"export\", \"export\", \"extension\", \"extraction\", \"face\", \"face\", \"face\", \"face\", \"face\", \"face\", \"fact\", \"fact\", \"fact\", \"factor\", \"factory\", \"factory\", \"fail\", \"fail\", \"fail\", \"faith\", \"falic\", \"fall\", \"fall\", \"fall\", \"false\", \"false\", \"fan\", \"fannie\", \"farmer\", \"farmer\", \"fashion\", \"favourable\", \"federal\", \"federal\", \"federal\", \"feed\", \"feta\", \"fiat\", \"field\", \"fifth\", \"fifth\", \"figure\", \"figure\", \"file\", \"file\", \"file\", \"financial\", \"financial\", \"financial\", \"financial\", \"firm\", \"firm\", \"firm\", \"firm\", \"firm\", \"firm\", \"firm\", \"firm\", \"firm\", \"firm\", \"first\", \"first\", \"first\", \"first\", \"first\", \"first\", \"flare\", \"flight\", \"florida\", \"focus\", \"focus\", \"food\", \"food\", \"food\", \"ford\", \"former\", \"former\", \"former\", \"forum\", \"foster\", \"found\", \"found\", \"founder\", \"fourth\", \"fourth\", \"franc\", \"france\", \"france\", \"france\", \"france\", \"frank\", \"frankfurt\", \"fraud\", \"fraud\", \"fraud\", \"fraud\", \"freddie\", \"free\", \"free\", \"free\", \"french\", \"french\", \"frontman\", \"fsa\", \"fuel\", \"fuel\", \"full\", \"full\", \"full\", \"full\", \"fund\", \"fund\", \"fund\", \"fund\", \"funding\", \"furse\", \"future\", \"future\", \"future\", \"future\", \"future\", \"futurology\", \"gammell\", \"garment\", \"gas\", \"gas\", \"gazprom\", \"gdp\", \"ge\", \"ghosn\", \"giant\", \"giant\", \"giant\", \"giant\", \"giant\", \"giant\", \"gift\", \"glazer\", \"globalisation\", \"globe\", \"gloomy\", \"gm\", \"gold\", \"goodwill\", \"gorge\", \"government\", \"government\", \"government\", \"government\", \"government\", \"government\", \"government\", \"governor\", \"greet\", \"group\", \"group\", \"group\", \"group\", \"group\", \"group\", \"group\", \"group\", \"group\", \"grow\", \"grow\", \"grow\", \"grow\", \"grow\", \"growth\", \"growth\", \"growth\", \"gw\", \"healthsouth\", \"heat\", \"hedge\", \"helicopter\", \"high\", \"high\", \"high\", \"high\", \"high\", \"high\", \"hispano\", \"hit\", \"hit\", \"hit\", \"hit\", \"hit\", \"hiv\", \"hong\", \"hoodia\", \"house\", \"house\", \"house\", \"housing\", \"hundred\", \"hybrid\", \"identify\", \"imf\", \"import\", \"import\", \"important\", \"important\", \"important\", \"important\", \"impoverish\", \"improvement\", \"improvement\", \"improvement\", \"inbev\", \"include\", \"include\", \"include\", \"include\", \"include\", \"include\", \"include\", \"include\", \"increase\", \"increase\", \"increase\", \"increase\", \"increase\", \"increase\", \"index\", \"index\", \"india\", \"indian\", \"indonesia\", \"industrial\", \"industrial\", \"industrialise\", \"inflate\", \"inform\", \"infrastructure\", \"infrastructure\", \"inquiry\", \"instrumental\", \"interest\", \"interest\", \"interest\", \"interest\", \"interest\", \"interest\", \"interest\", \"internet\", \"internet\", \"internet\", \"interview\", \"introduction\", \"investigation\", \"investment\", \"investment\", \"investment\", \"investment\", \"investment\", \"investment\", \"investment\", \"ipcl\", \"iran\", \"iraq\", \"iraqi\", \"islamic\", \"ism\", \"issue\", \"issue\", \"italian\", \"italian\", \"italian\", \"item\", \"ivory\", \"jacque\", \"japan\", \"japan\", \"japan\", \"japanese\", \"japanese\", \"japanese\", \"jet\", \"job\", \"job\", \"job\", \"jolie\", \"jose\", \"jose\", \"journal\", \"jump\", \"jump\", \"jurisdiction\", \"justice\", \"justice\", \"khatami\", \"khodorkovsky\", \"kill\", \"kilometre\", \"kirchner\", \"know\", \"know\", \"know\", \"know\", \"know\", \"kong\", \"kraft\", \"kse\", \"label\", \"labour\", \"lacroix\", \"lanka\", \"large\", \"large\", \"large\", \"large\", \"large\", \"largely\", \"launder\", \"lawyer\", \"lawyer\", \"leader\", \"lending\", \"lenovo\", \"lesotho\", \"level\", \"level\", \"level\", \"level\", \"life\", \"lingus\", \"lira\", \"list\", \"list\", \"listen\", \"local\", \"local\", \"local\", \"local\", \"lock\", \"london\", \"london\", \"london\", \"longbridge\", \"loss\", \"loss\", \"loss\", \"loss\", \"lost\", \"louis\", \"low\", \"low\", \"low\", \"low\", \"low\", \"lse\", \"lure\", \"lvmh\", \"mac\", \"madrid\", \"mae\", \"mahindra\", \"main\", \"main\", \"main\", \"main\", \"main\", \"main\", \"make\", \"make\", \"make\", \"make\", \"make\", \"make\", \"make\", \"make\", \"maker\", \"maker\", \"maker\", \"maker\", \"maker\", \"malaysia\", \"manchester\", \"mandelson\", \"manufacture\", \"manufacture\", \"manufacturer\", \"manufacturer\", \"manufacturing\", \"many\", \"many\", \"many\", \"maria\", \"mark\", \"mark\", \"mark\", \"market\", \"market\", \"market\", \"market\", \"market\", \"market\", \"market\", \"market\", \"marsh\", \"maruti\", \"material\", \"may\", \"may\", \"may\", \"may\", \"may\", \"may\", \"may\", \"mbeki\", \"mcdonald\", \"mci\", \"mcmanus\", \"medical\", \"medium\", \"medium\", \"medium\", \"medium\", \"meet\", \"meet\", \"meet\", \"meet\", \"meet\", \"membership\", \"microsoft\", \"mikhail\", \"military\", \"mini\", \"mini\", \"mining\", \"minister\", \"minister\", \"minister\", \"minister\", \"minute\", \"minute\", \"misuse\", \"mitsubishi\", \"model\", \"model\", \"moet\", \"monopoly\", \"month\", \"month\", \"month\", \"month\", \"month\", \"month\", \"morocco\", \"mortgage\", \"moscow\", \"motivate\", \"mountain\", \"move\", \"move\", \"move\", \"move\", \"move\", \"mr\", \"mr\", \"mr\", \"ms\", \"ms\", \"mukesh\", \"murray\", \"music\", \"music\", \"mute\", \"nalgeria\", \"nasdaq\", \"nasdaq\", \"nation\", \"nation\", \"nation\", \"natural\", \"natural\", \"natural\", \"ncci\", \"nchina\", \"nchina\", \"nclimate\", \"ndemand\", \"ndemonstrator\", \"neconomic\", \"need\", \"need\", \"need\", \"need\", \"need\", \"need\", \"nestor\", \"net\", \"net\", \"new\", \"new\", \"new\", \"new\", \"new\", \"new\", \"new\", \"new\", \"new\", \"new\", \"nfigur\", \"nindia\", \"nissan\", \"nissan\", \"nlast\", \"nluxury\", \"nmore\", \"nmr\", \"nmr\", \"nmr\", \"nmr\", \"nmr\", \"nnet\", \"non\", \"non\", \"non\", \"non\", \"non\", \"non\", \"non\", \"nortel\", \"november\", \"november\", \"nrichard\", \"nthe\", \"nthe\", \"nthe\", \"nthe\", \"nthe\", \"nthe\", \"nthe\", \"nthe\", \"nthe\", \"nthe\", \"ntrade\", \"number\", \"number\", \"number\", \"number\", \"number\", \"number\", \"number\", \"obligation\", \"ofcom\", \"offer\", \"offer\", \"offer\", \"offer\", \"offer\", \"officer\", \"offset\", \"oil\", \"oil\", \"oil\", \"oil\", \"old\", \"old\", \"old\", \"on\", \"ons\", \"opel\", \"open\", \"open\", \"operation\", \"operation\", \"operator\", \"operator\", \"optimism\", \"oracle\", \"orchestrate\", \"order\", \"order\", \"order\", \"order\", \"order\", \"order\", \"order\", \"order\", \"organisation\", \"organisation\", \"organisation\", \"organisation\", \"organisation\", \"output\", \"output\", \"outsource\", \"overstate\", \"overtake\", \"overturn\", \"overturn\", \"oxley\", \"oxley\", \"pact\", \"pakistan\", \"palestinian\", \"parmalat\", \"partially\", \"participate\", \"participate\", \"participation\", \"partner\", \"partner\", \"passenger\", \"passenger\", \"passenger\", \"patient\", \"paul\", \"pay\", \"pay\", \"pay\", \"pay\", \"pay\", \"payment\", \"payment\", \"payment\", \"payout\", \"peace\", \"pension\", \"people\", \"people\", \"people\", \"people\", \"people\", \"peoplesoft\", \"performance\", \"performance\", \"peso\", \"pesos\", \"peugeot\", \"pharma\", \"phytopharm\", \"pin\", \"plan\", \"plan\", \"plan\", \"plane\", \"planning\", \"plant\", \"plasma\", \"plastic\", \"plead\", \"plead\", \"pledge\", \"police\", \"police\", \"poll\", \"poor\", \"poor\", \"poor\", \"porto\", \"possibility\", \"power\", \"power\", \"power\", \"power\", \"practice\", \"pre\", \"president\", \"president\", \"president\", \"president\", \"president\", \"presse\", \"price\", \"price\", \"price\", \"price\", \"price\", \"primarily\", \"prison\", \"product\", \"product\", \"product\", \"product\", \"product\", \"product\", \"production\", \"production\", \"production\", \"production\", \"production\", \"profit\", \"profit\", \"profit\", \"profitable\", \"profitable\", \"profitable\", \"programme\", \"programme\", \"project\", \"project\", \"project\", \"project\", \"project\", \"project\", \"promote\", \"proposal\", \"proposal\", \"prosecution\", \"prosecutor\", \"prosecutor\", \"protection\", \"protection\", \"protection\", \"protection\", \"protest\", \"protest\", \"provider\", \"province\", \"public\", \"public\", \"public\", \"public\", \"public\", \"public\", \"purchase\", \"purchase\", \"purchase\", \"purchase\", \"purchase\", \"pursue\", \"put\", \"put\", \"putin\", \"pwc\", \"qanta\", \"qanta\", \"qualify\", \"quarry\", \"quarter\", \"quarter\", \"quarter\", \"quarterly\", \"quota\", \"qw\", \"raid\", \"rajasthan\", \"range\", \"range\", \"range\", \"range\", \"range\", \"rapid\", \"rate\", \"rate\", \"rate\", \"raw\", \"recommend\", \"reconstruction\", \"reconvene\", \"record\", \"record\", \"record\", \"record\", \"refugee\", \"region\", \"region\", \"region\", \"region\", \"regular\", \"reject\", \"reject\", \"reject\", \"reject\", \"reliance\", \"relied\", \"rely\", \"remote\", \"remove\", \"renegotiate\", \"reorganise\", \"report\", \"report\", \"report\", \"report\", \"report\", \"report\", \"representative\", \"reputation\", \"resentment\", \"resort\", \"resort\", \"respondent\", \"restate\", \"restatement\", \"restore\", \"restore\", \"retail\", \"retailer\", \"return\", \"return\", \"revenue\", \"revenue\", \"revenue\", \"revenue\", \"richard\", \"richard\", \"riot\", \"rise\", \"rise\", \"rise\", \"rise\", \"rise\", \"rise\", \"rise\", \"river\", \"road\", \"road\", \"rosneft\", \"rover\", \"rubinsohn\", \"rupee\", \"russia\", \"russia\", \"russia\", \"russian\", \"saab\", \"sale\", \"sale\", \"sale\", \"sale\", \"sale\", \"samuel\", \"santander\", \"sarbane\", \"sarbane\", \"sativex\", \"saudi\", \"savoy\", \"say\", \"say\", \"say\", \"say\", \"say\", \"sbc\", \"scandal\", \"scandal\", \"scare\", \"schedule\", \"schedule\", \"school\", \"scrushy\", \"seat\", \"sec\", \"sec\", \"sector\", \"sector\", \"sector\", \"sector\", \"see\", \"see\", \"see\", \"see\", \"see\", \"see\", \"seifert\", \"sell\", \"sell\", \"sell\", \"sell\", \"service\", \"service\", \"service\", \"service\", \"service\", \"service\", \"service\", \"set\", \"set\", \"set\", \"set\", \"set\", \"set\", \"set\", \"settle\", \"share\", \"share\", \"share\", \"share\", \"share\", \"share\", \"share\", \"share\", \"shareholder\", \"shareholder\", \"shareholder\", \"shareholder\", \"shed\", \"show\", \"show\", \"show\", \"show\", \"showbiz\", \"sidi\", \"silva\", \"simply\", \"slave\", \"slavery\", \"slowdown\", \"smoke\", \"social\", \"source\", \"source\", \"source\", \"south\", \"south\", \"south\", \"south\", \"southcorp\", \"space\", \"space\", \"spain\", \"split\", \"spot\", \"spot\", \"sri\", \"ssl\", \"staff\", \"stake\", \"stake\", \"stake\", \"stake\", \"standard\", \"standard\", \"start\", \"start\", \"start\", \"start\", \"start\", \"start\", \"start\", \"state\", \"state\", \"state\", \"state\", \"state\", \"state\", \"state\", \"state\", \"statement\", \"statement\", \"statement\", \"statement\", \"statement\", \"statement\", \"statement\", \"steady\", \"steel\", \"step\", \"step\", \"stock\", \"stock\", \"stock\", \"store\", \"store\", \"story\", \"string\", \"strong\", \"strong\", \"strong\", \"struggle\", \"struggle\", \"struggle\", \"subsidy\", \"subsidy\", \"successfully\", \"suez\", \"suffer\", \"suffer\", \"suffer\", \"suggestion\", \"suisse\", \"suitor\", \"sullivan\", \"sunday\", \"sunday\", \"supermarket\", \"supply\", \"supply\", \"support\", \"support\", \"surge\", \"surplus\", \"survey\", \"survey\", \"survey\", \"suspend\", \"suv\", \"suzuki\", \"swiss\", \"take\", \"take\", \"take\", \"take\", \"take\", \"take\", \"take\", \"takeover\", \"takeover\", \"takeover\", \"talk\", \"talk\", \"tanzi\", \"tape\", \"tariff\", \"tax\", \"tax\", \"tax\", \"tax\", \"tax\", \"tax\", \"taylor\", \"team\", \"team\", \"team\", \"telecom\", \"telecom\", \"tense\", \"testimony\", \"textile\", \"thabo\", \"thank\", \"thank\", \"thank\", \"thousand\", \"tiaret\", \"tie\", \"time\", \"time\", \"time\", \"time\", \"time\", \"tobacco\", \"tonne\", \"tony\", \"top\", \"top\", \"top\", \"top\", \"top\", \"toshitsune\", \"total\", \"total\", \"total\", \"touch\", \"tourism\", \"town\", \"tractor\", \"trade\", \"trade\", \"trade\", \"transport\", \"transport\", \"treasury\", \"treasury\", \"trend\", \"trend\", \"trial\", \"trial\", \"trigger\", \"trust\", \"trust\", \"tsunami\", \"turkey\", \"turkish\", \"tycoon\", \"uk\", \"ukraine\", \"unemployment\", \"unfair\", \"unilever\", \"union\", \"union\", \"unit\", \"unit\", \"unit\", \"unite\", \"unlikely\", \"unspecified\", \"up\", \"update\", \"upward\", \"use\", \"use\", \"use\", \"use\", \"use\", \"use\", \"use\", \"utility\", \"van\", \"vantage\", \"vehicle\", \"vendor\", \"verizon\", \"video\", \"video\", \"vido\", \"viktor\", \"village\", \"villalba\", \"violent\", \"visitor\", \"vital\", \"vivendi\", \"vodafone\", \"vouch\", \"vuitton\", \"wake\", \"wal\", \"wall\", \"wall\", \"wall\", \"walsh\", \"want\", \"want\", \"warming\", \"watan\", \"water\", \"weaken\", \"wear\", \"weather\", \"weather\", \"week\", \"week\", \"week\", \"week\", \"week\", \"week\", \"week\", \"weekend\", \"weekend\", \"wef\", \"well\", \"well\", \"well\", \"well\", \"well\", \"well\", \"wembley\", \"whose\", \"widely\", \"wine\", \"winemaker\", \"wmc\", \"word\", \"world\", \"world\", \"world\", \"world\", \"world\", \"worldcom\", \"worldcom\", \"worry\", \"wto\", \"xa\", \"xa\", \"xa\", \"xa\", \"xa\", \"xa\", \"xa\", \"xa\", \"xc\", \"xc\", \"xc\", \"xc\", \"xc\", \"xc\", \"xc\", \"xstrata\", \"yangtze\", \"year\", \"year\", \"year\", \"year\", \"year\", \"year\", \"year\", \"yen\", \"yen\", \"yili\", \"yuan\", \"yuan\", \"yugansk\", \"yuganskneftegas\", \"yukos\", \"yushchenko\"]}, \"R\": 30, \"lambda.step\": 0.01, \"plot.opts\": {\"xlab\": \"PC1\", \"ylab\": \"PC2\"}, \"topic.order\": [17, 15, 16, 3, 6, 9, 2, 5, 4, 19, 10, 11, 1, 12, 13, 8, 20, 14, 18, 7]};\n",
       "\n",
       "function LDAvis_load_lib(url, callback){\n",
       "  var s = document.createElement('script');\n",
       "  s.src = url;\n",
       "  s.async = true;\n",
       "  s.onreadystatechange = s.onload = callback;\n",
       "  s.onerror = function(){console.warn(\"failed to load library \" + url);};\n",
       "  document.getElementsByTagName(\"head\")[0].appendChild(s);\n",
       "}\n",
       "\n",
       "if(typeof(LDAvis) !== \"undefined\"){\n",
       "   // already loaded: just create the visualization\n",
       "   !function(LDAvis){\n",
       "       new LDAvis(\"#\" + \"ldavis_el959946345821365996495540\", ldavis_el959946345821365996495540_data);\n",
       "   }(LDAvis);\n",
       "}else if(typeof define === \"function\" && define.amd){\n",
       "   // require.js is available: use it to load d3/LDAvis\n",
       "   require.config({paths: {d3: \"https://cdnjs.cloudflare.com/ajax/libs/d3/3.5.5/d3.min\"}});\n",
       "   require([\"d3\"], function(d3){\n",
       "      window.d3 = d3;\n",
       "      LDAvis_load_lib(\"https://cdn.rawgit.com/bmabey/pyLDAvis/files/ldavis.v1.0.0.js\", function(){\n",
       "        new LDAvis(\"#\" + \"ldavis_el959946345821365996495540\", ldavis_el959946345821365996495540_data);\n",
       "      });\n",
       "    });\n",
       "}else{\n",
       "    // require.js not available: dynamically load d3 & LDAvis\n",
       "    LDAvis_load_lib(\"https://cdnjs.cloudflare.com/ajax/libs/d3/3.5.5/d3.min.js\", function(){\n",
       "         LDAvis_load_lib(\"https://cdn.rawgit.com/bmabey/pyLDAvis/files/ldavis.v1.0.0.js\", function(){\n",
       "                 new LDAvis(\"#\" + \"ldavis_el959946345821365996495540\", ldavis_el959946345821365996495540_data);\n",
       "            })\n",
       "         });\n",
       "}\n",
       "</script>"
      ],
      "text/plain": [
       "PreparedData(topic_coordinates=            Freq  cluster  topics         x         y\n",
       "topic                                                \n",
       "16     27.484671        1       1 -0.231200 -0.107745\n",
       "14     13.856689        1       2 -0.259025  0.110482\n",
       "15     11.671943        1       3 -0.248496  0.190147\n",
       "2       7.870289        1       4 -0.241532  0.168697\n",
       "5       6.564722        1       5 -0.079503 -0.181212\n",
       "8       6.226865        1       6 -0.114575 -0.217095\n",
       "1       5.107977        1       7 -0.092067 -0.058520\n",
       "4       2.977449        1       8  0.007600 -0.147594\n",
       "3       2.727693        1       9  0.024663  0.106529\n",
       "18      2.056834        1      10  0.159470  0.052544\n",
       "9       2.056663        1      11  0.127093  0.055089\n",
       "10      1.748156        1      12 -0.036210 -0.095372\n",
       "0       1.662864        1      13  0.116549  0.096463\n",
       "11      1.504212        1      14  0.062780 -0.076907\n",
       "12      1.466877        1      15  0.121710  0.013027\n",
       "7       1.359322        1      16  0.090388 -0.066379\n",
       "19      1.130519        1      17  0.163165  0.042665\n",
       "13      0.995548        1      18  0.089712  0.022666\n",
       "17      0.786104        1      19  0.169897  0.036485\n",
       "6       0.744602        1      20  0.169582  0.056029, topic_info=     Category        Freq           Term       Total  loglift  logprob\n",
       "term                                                                  \n",
       "174   Default  262.000000          china  262.000000  30.0000  30.0000\n",
       "470   Default  313.000000          world  313.000000  29.0000  29.0000\n",
       "273   Default  248.000000          trade  248.000000  28.0000  28.0000\n",
       "28    Default  702.000000        company  702.000000  27.0000  27.0000\n",
       "674   Default  293.000000        country  293.000000  26.0000  26.0000\n",
       "55    Default  505.000000           firm  505.000000  25.0000  25.0000\n",
       "167   Default  358.000000           bank  358.000000  24.0000  24.0000\n",
       "461   Default  306.000000          state  306.000000  23.0000  23.0000\n",
       "204   Default  296.000000     government  296.000000  22.0000  22.0000\n",
       "317   Default  219.000000          group  219.000000  21.0000  21.0000\n",
       "114   Default  280.000000         profit  280.000000  20.0000  20.0000\n",
       "130   Default  393.000000           sale  393.000000  19.0000  19.0000\n",
       "159   Default  883.000000           year  883.000000  18.0000  18.0000\n",
       "559   Default  283.000000       economic  283.000000  17.0000  17.0000\n",
       "227   Default  334.000000           make  334.000000  16.0000  16.0000\n",
       "120   Default  306.000000         report  306.000000  15.0000  15.0000\n",
       "248   Default  383.000000          price  383.000000  14.0000  14.0000\n",
       "48    Default  268.000000      executive  268.000000  13.0000  13.0000\n",
       "129   Default  421.000000           rise  421.000000  12.0000  12.0000\n",
       "72    Default  269.000000           high  269.000000  11.0000  11.0000\n",
       "1978  Default  126.000000          water  126.000000  10.0000  10.0000\n",
       "1045  Default  211.000000           plan  211.000000   9.0000   9.0000\n",
       "338   Default  236.000000            oil  236.000000   8.0000   8.0000\n",
       "373   Default  161.000000          yukos  161.000000   7.0000   7.0000\n",
       "690   Default  139.000000          india  139.000000   6.0000   6.0000\n",
       "172   Default  161.000000            buy  161.000000   5.0000   5.0000\n",
       "70    Default  348.000000         growth  348.000000   4.0000   4.0000\n",
       "561   Default  317.000000        economy  317.000000   3.0000   3.0000\n",
       "3211  Default   97.000000      argentina   97.000000   2.0000   2.0000\n",
       "699   Default  195.000000             mr  195.000000   1.0000   1.0000\n",
       "...       ...         ...            ...         ...      ...      ...\n",
       "8627  Topic20    9.098295         alegre    9.893636   4.8163  -4.3108\n",
       "8628  Topic20    8.548270     appearance    9.343611   4.8111  -4.3731\n",
       "8644  Topic20    7.998246           mute    8.793586   4.8053  -4.4396\n",
       "8661  Topic20    7.998246        warming    8.793586   4.8053  -4.4396\n",
       "8643  Topic20    7.998246          mbeki    8.793586   4.8053  -4.4396\n",
       "8658  Topic20    7.998246          thabo    8.793586   4.8053  -4.4396\n",
       "8626  Topic20    7.998246           abba    8.793586   4.8053  -4.4396\n",
       "8635  Topic20    7.998246  demonstration    8.793586   4.8053  -4.4396\n",
       "8805  Topic20    7.448221       nclimate    8.243561   4.7986  -4.5109\n",
       "8799  Topic20    7.448221            eve    8.243561   4.7986  -4.5109\n",
       "8807  Topic20    7.448221        showbiz    8.243561   4.7986  -4.5109\n",
       "8804  Topic20    7.448221          jolie    8.243561   4.7986  -4.5109\n",
       "8798  Topic20    7.448221       converge    8.243561   4.7986  -4.5109\n",
       "8803  Topic20    7.448221          ivory    8.243561   4.7986  -4.5109\n",
       "8802  Topic20    7.448221     helicopter    8.243561   4.7986  -4.5109\n",
       "8801  Topic20    7.448221       goodwill    8.243561   4.7986  -4.5109\n",
       "8796  Topic20    7.448221       angelina    8.243561   4.7986  -4.5109\n",
       "8806  Topic20    7.448221        refugee    8.243561   4.7986  -4.5109\n",
       "8800  Topic20    7.448221       frontman    8.243561   4.7986  -4.5109\n",
       "2151  Topic20    5.770478           beer    6.565818   4.7710  -4.7661\n",
       "3020  Topic20    4.994853         brewer    5.790193   4.7523  -4.9105\n",
       "5706  Topic20    4.531097            bat    5.326439   4.7384  -5.0079\n",
       "6420  Topic20    4.368358          silva    5.163698   4.7328  -5.0445\n",
       "7531  Topic20    3.690690            ssl    4.486030   4.7049  -5.2130\n",
       "7195  Topic20    3.690690       villalba    4.486030   4.7049  -5.2130\n",
       "4153  Topic20    3.626379          inbev    4.421720   4.7018  -5.2306\n",
       "8797  Topic20    7.448221   chairmanship   16.020985   4.1342  -4.5109\n",
       "470   Topic20   12.294713          world  313.306030   1.6621  -4.0097\n",
       "8633  Topic20    6.176459         chirac   27.072800   3.4223  -4.6981\n",
       "706   Topic20    5.708370   organisation   55.882622   2.6188  -4.7769\n",
       "\n",
       "[1041 rows x 6 columns], token_table=      Topic      Freq             Term\n",
       "term                                  \n",
       "8626     20  0.909754             abba\n",
       "8809     18  0.930643            abbey\n",
       "3555      7  0.100451       accelerate\n",
       "3555     12  0.803608       accelerate\n",
       "1929      1  0.981688           accept\n",
       "1289      1  0.204415           access\n",
       "1289      5  0.367947           access\n",
       "1289     13  0.408829           access\n",
       "1676      1  0.242636           accord\n",
       "1676      3  0.348129           accord\n",
       "1676      4  0.116043           accord\n",
       "1676      5  0.094944           accord\n",
       "1676      9  0.210987           accord\n",
       "0         1  0.019994          account\n",
       "0         2  0.226603          account\n",
       "0         3  0.446542          account\n",
       "0         5  0.053318          account\n",
       "0         6  0.199944          account\n",
       "0        14  0.046654          account\n",
       "5495      8  0.966880         accuracy\n",
       "775       1  0.017874           accuse\n",
       "775       5  0.125121           accuse\n",
       "775       6  0.661355           accuse\n",
       "775       8  0.053623           accuse\n",
       "775      14  0.125121           accuse\n",
       "4391     10  0.953908         actually\n",
       "602       1  0.364788              add\n",
       "602       2  0.279671              add\n",
       "602       3  0.164155              add\n",
       "602       4  0.030399              add\n",
       "...     ...       ...              ...\n",
       "370       4  0.080136               xa\n",
       "370       5  0.046232               xa\n",
       "370       6  0.138697               xa\n",
       "370       8  0.052397               xa\n",
       "370      18  0.024657               xa\n",
       "371       1  0.082491               xc\n",
       "371       2  0.515569               xc\n",
       "371       4  0.046401               xc\n",
       "371       6  0.082491               xc\n",
       "371       7  0.128892               xc\n",
       "371       8  0.056713               xc\n",
       "371      18  0.082491               xc\n",
       "4024     13  0.918582          xstrata\n",
       "4813     11  0.927502          yangtze\n",
       "159       1  0.166306             year\n",
       "159       2  0.366551             year\n",
       "159       3  0.238711             year\n",
       "159       4  0.133497             year\n",
       "159       5  0.003394             year\n",
       "159       6  0.029415             year\n",
       "159       7  0.063355             year\n",
       "600       3  0.967304              yen\n",
       "600      15  0.033355              yen\n",
       "7221     19  0.839274             yili\n",
       "1226     11  0.348642             yuan\n",
       "1226     13  0.557827             yuan\n",
       "372       5  0.987147          yugansk\n",
       "3163      5  0.983009  yuganskneftegas\n",
       "373       5  0.994938            yukos\n",
       "4263     10  0.981560       yushchenko\n",
       "\n",
       "[1796 rows x 3 columns], R=30, lambda_step=0.01, plot_opts={'xlab': 'PC1', 'ylab': 'PC2'}, topic_order=[17, 15, 16, 3, 6, 9, 2, 5, 4, 19, 10, 11, 1, 12, 13, 8, 20, 14, 18, 7])"
      ]
     },
     "execution_count": 60,
     "metadata": {
      "tags": []
     },
     "output_type": "execute_result"
    }
   ],
   "source": [
    "# Visualize the topics\n",
    "pyLDAvis.enable_notebook()\n",
    "vis = pyLDAvis.gensim.prepare(lda_model, corpus, id2word)\n",
    "vis"
   ]
  },
  {
   "cell_type": "markdown",
   "metadata": {
    "id": "aSZTwDRx2JAQ"
   },
   "source": [
    "## Amazon Cell Phones and Accessories Reviews (Ignore)\n"
   ]
  },
  {
   "cell_type": "code",
   "execution_count": null,
   "metadata": {
    "id": "qRKeNGEs2JAQ"
   },
   "outputs": [],
   "source": [
    "# all electronic products\n",
    "import pandas as pd\n",
    "import gzip\n",
    "\n",
    "def parse(path):\n",
    "  g = gzip.open(path, 'rb')\n",
    "  for l in g:\n",
    "    yield eval(l)\n",
    "\n",
    "def getDF(path):\n",
    "    i = 0\n",
    "    df = {}\n",
    "    for d in parse(path):\n",
    "        df[i] = d\n",
    "        i += 1\n",
    "    return pd.DataFrame.from_dict(df, orient='index')\n",
    "\n",
    "df = getDF('reviews_Cell_Phones_and_Accessories_5.json.gz')"
   ]
  },
  {
   "cell_type": "code",
   "execution_count": null,
   "metadata": {
    "id": "ARn52VQ-2JAT",
    "outputId": "e9fd3d72-a592-4fe0-cef4-bcda4ede6511"
   },
   "outputs": [
    {
     "data": {
      "text/plain": [
       "(194439, 9)"
      ]
     },
     "execution_count": 253,
     "metadata": {
      "tags": []
     },
     "output_type": "execute_result"
    }
   ],
   "source": [
    "df.shape"
   ]
  },
  {
   "cell_type": "code",
   "execution_count": null,
   "metadata": {
    "id": "qssm6Cb72JAW",
    "outputId": "b1e68134-8418-4e17-bdb3-222ab483709b"
   },
   "outputs": [
    {
     "data": {
      "text/html": [
       "<div>\n",
       "<style scoped>\n",
       "    .dataframe tbody tr th:only-of-type {\n",
       "        vertical-align: middle;\n",
       "    }\n",
       "\n",
       "    .dataframe tbody tr th {\n",
       "        vertical-align: top;\n",
       "    }\n",
       "\n",
       "    .dataframe thead th {\n",
       "        text-align: right;\n",
       "    }\n",
       "</style>\n",
       "<table border=\"1\" class=\"dataframe\">\n",
       "  <thead>\n",
       "    <tr style=\"text-align: right;\">\n",
       "      <th></th>\n",
       "      <th>reviewerID</th>\n",
       "      <th>asin</th>\n",
       "      <th>reviewerName</th>\n",
       "      <th>helpful</th>\n",
       "      <th>reviewText</th>\n",
       "      <th>overall</th>\n",
       "      <th>summary</th>\n",
       "      <th>unixReviewTime</th>\n",
       "      <th>reviewTime</th>\n",
       "    </tr>\n",
       "  </thead>\n",
       "  <tbody>\n",
       "    <tr>\n",
       "      <th>0</th>\n",
       "      <td>A30TL5EWN6DFXT</td>\n",
       "      <td>120401325X</td>\n",
       "      <td>christina</td>\n",
       "      <td>[0, 0]</td>\n",
       "      <td>They look good and stick good! I just don't li...</td>\n",
       "      <td>4.0</td>\n",
       "      <td>Looks Good</td>\n",
       "      <td>1400630400</td>\n",
       "      <td>05 21, 2014</td>\n",
       "    </tr>\n",
       "    <tr>\n",
       "      <th>1</th>\n",
       "      <td>ASY55RVNIL0UD</td>\n",
       "      <td>120401325X</td>\n",
       "      <td>emily l.</td>\n",
       "      <td>[0, 0]</td>\n",
       "      <td>These stickers work like the review says they ...</td>\n",
       "      <td>5.0</td>\n",
       "      <td>Really great product.</td>\n",
       "      <td>1389657600</td>\n",
       "      <td>01 14, 2014</td>\n",
       "    </tr>\n",
       "    <tr>\n",
       "      <th>2</th>\n",
       "      <td>A2TMXE2AFO7ONB</td>\n",
       "      <td>120401325X</td>\n",
       "      <td>Erica</td>\n",
       "      <td>[0, 0]</td>\n",
       "      <td>These are awesome and make my phone look so st...</td>\n",
       "      <td>5.0</td>\n",
       "      <td>LOVE LOVE LOVE</td>\n",
       "      <td>1403740800</td>\n",
       "      <td>06 26, 2014</td>\n",
       "    </tr>\n",
       "    <tr>\n",
       "      <th>3</th>\n",
       "      <td>AWJ0WZQYMYFQ4</td>\n",
       "      <td>120401325X</td>\n",
       "      <td>JM</td>\n",
       "      <td>[4, 4]</td>\n",
       "      <td>Item arrived in great time and was in perfect ...</td>\n",
       "      <td>4.0</td>\n",
       "      <td>Cute!</td>\n",
       "      <td>1382313600</td>\n",
       "      <td>10 21, 2013</td>\n",
       "    </tr>\n",
       "    <tr>\n",
       "      <th>4</th>\n",
       "      <td>ATX7CZYFXI1KW</td>\n",
       "      <td>120401325X</td>\n",
       "      <td>patrice m rogoza</td>\n",
       "      <td>[2, 3]</td>\n",
       "      <td>awesome! stays on, and looks great. can be use...</td>\n",
       "      <td>5.0</td>\n",
       "      <td>leopard home button sticker for iphone 4s</td>\n",
       "      <td>1359849600</td>\n",
       "      <td>02 3, 2013</td>\n",
       "    </tr>\n",
       "    <tr>\n",
       "      <th>5</th>\n",
       "      <td>APX47D16JOP7H</td>\n",
       "      <td>120401325X</td>\n",
       "      <td>RLH</td>\n",
       "      <td>[1, 2]</td>\n",
       "      <td>These make using the home button easy. My daug...</td>\n",
       "      <td>3.0</td>\n",
       "      <td>Cute</td>\n",
       "      <td>1381536000</td>\n",
       "      <td>10 12, 2013</td>\n",
       "    </tr>\n",
       "    <tr>\n",
       "      <th>6</th>\n",
       "      <td>A1JVVYYO7G56DS</td>\n",
       "      <td>120401325X</td>\n",
       "      <td>Tyler Evans</td>\n",
       "      <td>[0, 0]</td>\n",
       "      <td>Came just as described.. It doesn't come unstu...</td>\n",
       "      <td>5.0</td>\n",
       "      <td>best thing ever..</td>\n",
       "      <td>1377129600</td>\n",
       "      <td>08 22, 2013</td>\n",
       "    </tr>\n",
       "    <tr>\n",
       "      <th>7</th>\n",
       "      <td>A6FGO4TBZ3QFZ</td>\n",
       "      <td>3998899561</td>\n",
       "      <td>Abdullah Albyati</td>\n",
       "      <td>[1, 2]</td>\n",
       "      <td>it worked for the first week then it only char...</td>\n",
       "      <td>1.0</td>\n",
       "      <td>not a good Idea</td>\n",
       "      <td>1384992000</td>\n",
       "      <td>11 21, 2013</td>\n",
       "    </tr>\n",
       "    <tr>\n",
       "      <th>8</th>\n",
       "      <td>A2JWEDW5FSVB0F</td>\n",
       "      <td>3998899561</td>\n",
       "      <td>Adam</td>\n",
       "      <td>[2, 3]</td>\n",
       "      <td>Good case, solid build. Protects phone all aro...</td>\n",
       "      <td>5.0</td>\n",
       "      <td>Solid Case</td>\n",
       "      <td>1380067200</td>\n",
       "      <td>09 25, 2013</td>\n",
       "    </tr>\n",
       "    <tr>\n",
       "      <th>9</th>\n",
       "      <td>A8AJS1DW7L3JJ</td>\n",
       "      <td>3998899561</td>\n",
       "      <td>Agata Majchrzak</td>\n",
       "      <td>[1, 1]</td>\n",
       "      <td>This is a fantastic case. Very stylish and pro...</td>\n",
       "      <td>5.0</td>\n",
       "      <td>Perfect Case</td>\n",
       "      <td>1396483200</td>\n",
       "      <td>04 3, 2014</td>\n",
       "    </tr>\n",
       "  </tbody>\n",
       "</table>\n",
       "</div>"
      ],
      "text/plain": [
       "       reviewerID        asin      reviewerName helpful  \\\n",
       "0  A30TL5EWN6DFXT  120401325X         christina  [0, 0]   \n",
       "1   ASY55RVNIL0UD  120401325X          emily l.  [0, 0]   \n",
       "2  A2TMXE2AFO7ONB  120401325X             Erica  [0, 0]   \n",
       "3   AWJ0WZQYMYFQ4  120401325X                JM  [4, 4]   \n",
       "4   ATX7CZYFXI1KW  120401325X  patrice m rogoza  [2, 3]   \n",
       "5   APX47D16JOP7H  120401325X               RLH  [1, 2]   \n",
       "6  A1JVVYYO7G56DS  120401325X       Tyler Evans  [0, 0]   \n",
       "7   A6FGO4TBZ3QFZ  3998899561  Abdullah Albyati  [1, 2]   \n",
       "8  A2JWEDW5FSVB0F  3998899561              Adam  [2, 3]   \n",
       "9   A8AJS1DW7L3JJ  3998899561   Agata Majchrzak  [1, 1]   \n",
       "\n",
       "                                          reviewText  overall  \\\n",
       "0  They look good and stick good! I just don't li...      4.0   \n",
       "1  These stickers work like the review says they ...      5.0   \n",
       "2  These are awesome and make my phone look so st...      5.0   \n",
       "3  Item arrived in great time and was in perfect ...      4.0   \n",
       "4  awesome! stays on, and looks great. can be use...      5.0   \n",
       "5  These make using the home button easy. My daug...      3.0   \n",
       "6  Came just as described.. It doesn't come unstu...      5.0   \n",
       "7  it worked for the first week then it only char...      1.0   \n",
       "8  Good case, solid build. Protects phone all aro...      5.0   \n",
       "9  This is a fantastic case. Very stylish and pro...      5.0   \n",
       "\n",
       "                                     summary  unixReviewTime   reviewTime  \n",
       "0                                 Looks Good      1400630400  05 21, 2014  \n",
       "1                      Really great product.      1389657600  01 14, 2014  \n",
       "2                             LOVE LOVE LOVE      1403740800  06 26, 2014  \n",
       "3                                      Cute!      1382313600  10 21, 2013  \n",
       "4  leopard home button sticker for iphone 4s      1359849600   02 3, 2013  \n",
       "5                                       Cute      1381536000  10 12, 2013  \n",
       "6                          best thing ever..      1377129600  08 22, 2013  \n",
       "7                            not a good Idea      1384992000  11 21, 2013  \n",
       "8                                 Solid Case      1380067200  09 25, 2013  \n",
       "9                               Perfect Case      1396483200   04 3, 2014  "
      ]
     },
     "execution_count": 254,
     "metadata": {
      "tags": []
     },
     "output_type": "execute_result"
    }
   ],
   "source": [
    "df.head(10)"
   ]
  },
  {
   "cell_type": "code",
   "execution_count": null,
   "metadata": {
    "id": "AAoUmgj62JAX",
    "outputId": "7cf7e29d-8ad2-4175-ea35-63508cf864f5"
   },
   "outputs": [
    {
     "ename": "KeyboardInterrupt",
     "evalue": "",
     "output_type": "error",
     "traceback": [
      "\u001b[0;31m---------------------------------------------------------------------------\u001b[0m",
      "\u001b[0;31mKeyboardInterrupt\u001b[0m                         Traceback (most recent call last)",
      "\u001b[0;32m<ipython-input-255-3b1c19b9b264>\u001b[0m in \u001b[0;36m<module>\u001b[0;34m()\u001b[0m\n\u001b[1;32m      8\u001b[0m \u001b[0;31m# lemmatize\u001b[0m\u001b[0;34m\u001b[0m\u001b[0;34m\u001b[0m\u001b[0m\n\u001b[1;32m      9\u001b[0m \u001b[0mnlp\u001b[0m \u001b[0;34m=\u001b[0m \u001b[0mspacy\u001b[0m\u001b[0;34m.\u001b[0m\u001b[0mload\u001b[0m\u001b[0;34m(\u001b[0m\u001b[0;34m'en'\u001b[0m\u001b[0;34m,\u001b[0m \u001b[0mdisable\u001b[0m\u001b[0;34m=\u001b[0m\u001b[0;34m[\u001b[0m\u001b[0;34m'parser'\u001b[0m\u001b[0;34m,\u001b[0m \u001b[0;34m'ner'\u001b[0m\u001b[0;34m]\u001b[0m\u001b[0;34m)\u001b[0m\u001b[0;34m\u001b[0m\u001b[0m\n\u001b[0;32m---> 10\u001b[0;31m \u001b[0mdata_lemmatized\u001b[0m \u001b[0;34m=\u001b[0m \u001b[0mlemmatization\u001b[0m\u001b[0;34m(\u001b[0m\u001b[0mdata_words_nostops\u001b[0m\u001b[0;34m,\u001b[0m \u001b[0mallowed_postags\u001b[0m\u001b[0;34m=\u001b[0m\u001b[0;34m[\u001b[0m\u001b[0;34m'NOUN'\u001b[0m\u001b[0;34m,\u001b[0m \u001b[0;34m'ADJ'\u001b[0m\u001b[0;34m,\u001b[0m \u001b[0;34m'VERB'\u001b[0m\u001b[0;34m,\u001b[0m \u001b[0;34m'ADV'\u001b[0m\u001b[0;34m]\u001b[0m\u001b[0;34m)\u001b[0m\u001b[0;34m\u001b[0m\u001b[0m\n\u001b[0m\u001b[1;32m     11\u001b[0m \u001b[0;34m\u001b[0m\u001b[0m\n\u001b[1;32m     12\u001b[0m \u001b[0;31m# create dictionary\u001b[0m\u001b[0;34m\u001b[0m\u001b[0;34m\u001b[0m\u001b[0m\n",
      "\u001b[0;32m<ipython-input-238-3ce8f5d8fd62>\u001b[0m in \u001b[0;36mlemmatization\u001b[0;34m(texts, allowed_postags)\u001b[0m\n\u001b[1;32m      7\u001b[0m     \u001b[0mtexts_out\u001b[0m \u001b[0;34m=\u001b[0m \u001b[0;34m[\u001b[0m\u001b[0;34m]\u001b[0m\u001b[0;34m\u001b[0m\u001b[0m\n\u001b[1;32m      8\u001b[0m     \u001b[0;32mfor\u001b[0m \u001b[0msent\u001b[0m \u001b[0;32min\u001b[0m \u001b[0mtexts\u001b[0m\u001b[0;34m:\u001b[0m\u001b[0;34m\u001b[0m\u001b[0m\n\u001b[0;32m----> 9\u001b[0;31m         \u001b[0mdoc\u001b[0m \u001b[0;34m=\u001b[0m \u001b[0mnlp\u001b[0m\u001b[0;34m(\u001b[0m\u001b[0;34m\" \"\u001b[0m\u001b[0;34m.\u001b[0m\u001b[0mjoin\u001b[0m\u001b[0;34m(\u001b[0m\u001b[0msent\u001b[0m\u001b[0;34m)\u001b[0m\u001b[0;34m)\u001b[0m\u001b[0;34m\u001b[0m\u001b[0m\n\u001b[0m\u001b[1;32m     10\u001b[0m         \u001b[0mtexts_out\u001b[0m\u001b[0;34m.\u001b[0m\u001b[0mappend\u001b[0m\u001b[0;34m(\u001b[0m\u001b[0;34m[\u001b[0m\u001b[0mtoken\u001b[0m\u001b[0;34m.\u001b[0m\u001b[0mlemma_\u001b[0m \u001b[0;32mfor\u001b[0m \u001b[0mtoken\u001b[0m \u001b[0;32min\u001b[0m \u001b[0mdoc\u001b[0m \u001b[0;32mif\u001b[0m \u001b[0mtoken\u001b[0m\u001b[0;34m.\u001b[0m\u001b[0mpos_\u001b[0m \u001b[0;32min\u001b[0m \u001b[0mallowed_postags\u001b[0m\u001b[0;34m]\u001b[0m\u001b[0;34m)\u001b[0m\u001b[0;34m\u001b[0m\u001b[0m\n\u001b[1;32m     11\u001b[0m     \u001b[0;32mreturn\u001b[0m \u001b[0mtexts_out\u001b[0m\u001b[0;34m\u001b[0m\u001b[0m\n",
      "\u001b[0;32m~/Documents/Learning_NLP/py36_env/lib/python3.6/site-packages/spacy/language.py\u001b[0m in \u001b[0;36m__call__\u001b[0;34m(self, text, disable)\u001b[0m\n\u001b[1;32m    350\u001b[0m             \u001b[0;32mif\u001b[0m \u001b[0;32mnot\u001b[0m \u001b[0mhasattr\u001b[0m\u001b[0;34m(\u001b[0m\u001b[0mproc\u001b[0m\u001b[0;34m,\u001b[0m \u001b[0;34m'__call__'\u001b[0m\u001b[0;34m)\u001b[0m\u001b[0;34m:\u001b[0m\u001b[0;34m\u001b[0m\u001b[0m\n\u001b[1;32m    351\u001b[0m                 \u001b[0;32mraise\u001b[0m \u001b[0mValueError\u001b[0m\u001b[0;34m(\u001b[0m\u001b[0mErrors\u001b[0m\u001b[0;34m.\u001b[0m\u001b[0mE003\u001b[0m\u001b[0;34m.\u001b[0m\u001b[0mformat\u001b[0m\u001b[0;34m(\u001b[0m\u001b[0mcomponent\u001b[0m\u001b[0;34m=\u001b[0m\u001b[0mtype\u001b[0m\u001b[0;34m(\u001b[0m\u001b[0mproc\u001b[0m\u001b[0;34m)\u001b[0m\u001b[0;34m,\u001b[0m \u001b[0mname\u001b[0m\u001b[0;34m=\u001b[0m\u001b[0mname\u001b[0m\u001b[0;34m)\u001b[0m\u001b[0;34m)\u001b[0m\u001b[0;34m\u001b[0m\u001b[0m\n\u001b[0;32m--> 352\u001b[0;31m             \u001b[0mdoc\u001b[0m \u001b[0;34m=\u001b[0m \u001b[0mproc\u001b[0m\u001b[0;34m(\u001b[0m\u001b[0mdoc\u001b[0m\u001b[0;34m)\u001b[0m\u001b[0;34m\u001b[0m\u001b[0m\n\u001b[0m\u001b[1;32m    353\u001b[0m             \u001b[0;32mif\u001b[0m \u001b[0mdoc\u001b[0m \u001b[0;32mis\u001b[0m \u001b[0;32mNone\u001b[0m\u001b[0;34m:\u001b[0m\u001b[0;34m\u001b[0m\u001b[0m\n\u001b[1;32m    354\u001b[0m                 \u001b[0;32mraise\u001b[0m \u001b[0mValueError\u001b[0m\u001b[0;34m(\u001b[0m\u001b[0mErrors\u001b[0m\u001b[0;34m.\u001b[0m\u001b[0mE005\u001b[0m\u001b[0;34m.\u001b[0m\u001b[0mformat\u001b[0m\u001b[0;34m(\u001b[0m\u001b[0mname\u001b[0m\u001b[0;34m=\u001b[0m\u001b[0mname\u001b[0m\u001b[0;34m)\u001b[0m\u001b[0;34m)\u001b[0m\u001b[0;34m\u001b[0m\u001b[0m\n",
      "\u001b[0;32mpipeline.pyx\u001b[0m in \u001b[0;36mspacy.pipeline.Tagger.__call__\u001b[0;34m()\u001b[0m\n",
      "\u001b[0;32mpipeline.pyx\u001b[0m in \u001b[0;36mspacy.pipeline.Tagger.predict\u001b[0;34m()\u001b[0m\n",
      "\u001b[0;32m~/Documents/Learning_NLP/py36_env/lib/python3.6/site-packages/thinc/neural/_classes/model.py\u001b[0m in \u001b[0;36m__call__\u001b[0;34m(self, x)\u001b[0m\n\u001b[1;32m    159\u001b[0m             \u001b[0mMust\u001b[0m \u001b[0mmatch\u001b[0m \u001b[0mexpected\u001b[0m \u001b[0mshape\u001b[0m\u001b[0;34m\u001b[0m\u001b[0m\n\u001b[1;32m    160\u001b[0m         '''\n\u001b[0;32m--> 161\u001b[0;31m         \u001b[0;32mreturn\u001b[0m \u001b[0mself\u001b[0m\u001b[0;34m.\u001b[0m\u001b[0mpredict\u001b[0m\u001b[0;34m(\u001b[0m\u001b[0mx\u001b[0m\u001b[0;34m)\u001b[0m\u001b[0;34m\u001b[0m\u001b[0m\n\u001b[0m\u001b[1;32m    162\u001b[0m \u001b[0;34m\u001b[0m\u001b[0m\n\u001b[1;32m    163\u001b[0m     \u001b[0;32mdef\u001b[0m \u001b[0mpipe\u001b[0m\u001b[0;34m(\u001b[0m\u001b[0mself\u001b[0m\u001b[0;34m,\u001b[0m \u001b[0mstream\u001b[0m\u001b[0;34m,\u001b[0m \u001b[0mbatch_size\u001b[0m\u001b[0;34m=\u001b[0m\u001b[0;36m128\u001b[0m\u001b[0;34m)\u001b[0m\u001b[0;34m:\u001b[0m\u001b[0;34m\u001b[0m\u001b[0m\n",
      "\u001b[0;32m~/Documents/Learning_NLP/py36_env/lib/python3.6/site-packages/thinc/api.py\u001b[0m in \u001b[0;36mpredict\u001b[0;34m(self, X)\u001b[0m\n\u001b[1;32m     53\u001b[0m     \u001b[0;32mdef\u001b[0m \u001b[0mpredict\u001b[0m\u001b[0;34m(\u001b[0m\u001b[0mself\u001b[0m\u001b[0;34m,\u001b[0m \u001b[0mX\u001b[0m\u001b[0;34m)\u001b[0m\u001b[0;34m:\u001b[0m\u001b[0;34m\u001b[0m\u001b[0m\n\u001b[1;32m     54\u001b[0m         \u001b[0;32mfor\u001b[0m \u001b[0mlayer\u001b[0m \u001b[0;32min\u001b[0m \u001b[0mself\u001b[0m\u001b[0;34m.\u001b[0m\u001b[0m_layers\u001b[0m\u001b[0;34m:\u001b[0m\u001b[0;34m\u001b[0m\u001b[0m\n\u001b[0;32m---> 55\u001b[0;31m             \u001b[0mX\u001b[0m \u001b[0;34m=\u001b[0m \u001b[0mlayer\u001b[0m\u001b[0;34m(\u001b[0m\u001b[0mX\u001b[0m\u001b[0;34m)\u001b[0m\u001b[0;34m\u001b[0m\u001b[0m\n\u001b[0m\u001b[1;32m     56\u001b[0m         \u001b[0;32mreturn\u001b[0m \u001b[0mX\u001b[0m\u001b[0;34m\u001b[0m\u001b[0m\n\u001b[1;32m     57\u001b[0m \u001b[0;34m\u001b[0m\u001b[0m\n",
      "\u001b[0;32m~/Documents/Learning_NLP/py36_env/lib/python3.6/site-packages/thinc/neural/_classes/model.py\u001b[0m in \u001b[0;36m__call__\u001b[0;34m(self, x)\u001b[0m\n\u001b[1;32m    159\u001b[0m             \u001b[0mMust\u001b[0m \u001b[0mmatch\u001b[0m \u001b[0mexpected\u001b[0m \u001b[0mshape\u001b[0m\u001b[0;34m\u001b[0m\u001b[0m\n\u001b[1;32m    160\u001b[0m         '''\n\u001b[0;32m--> 161\u001b[0;31m         \u001b[0;32mreturn\u001b[0m \u001b[0mself\u001b[0m\u001b[0;34m.\u001b[0m\u001b[0mpredict\u001b[0m\u001b[0;34m(\u001b[0m\u001b[0mx\u001b[0m\u001b[0;34m)\u001b[0m\u001b[0;34m\u001b[0m\u001b[0m\n\u001b[0m\u001b[1;32m    162\u001b[0m \u001b[0;34m\u001b[0m\u001b[0m\n\u001b[1;32m    163\u001b[0m     \u001b[0;32mdef\u001b[0m \u001b[0mpipe\u001b[0m\u001b[0;34m(\u001b[0m\u001b[0mself\u001b[0m\u001b[0;34m,\u001b[0m \u001b[0mstream\u001b[0m\u001b[0;34m,\u001b[0m \u001b[0mbatch_size\u001b[0m\u001b[0;34m=\u001b[0m\u001b[0;36m128\u001b[0m\u001b[0;34m)\u001b[0m\u001b[0;34m:\u001b[0m\u001b[0;34m\u001b[0m\u001b[0m\n",
      "\u001b[0;32m~/Documents/Learning_NLP/py36_env/lib/python3.6/site-packages/thinc/api.py\u001b[0m in \u001b[0;36mpredict\u001b[0;34m(seqs_in)\u001b[0m\n\u001b[1;32m    291\u001b[0m     \u001b[0;32mdef\u001b[0m \u001b[0mpredict\u001b[0m\u001b[0;34m(\u001b[0m\u001b[0mseqs_in\u001b[0m\u001b[0;34m)\u001b[0m\u001b[0;34m:\u001b[0m\u001b[0;34m\u001b[0m\u001b[0m\n\u001b[1;32m    292\u001b[0m         \u001b[0mlengths\u001b[0m \u001b[0;34m=\u001b[0m \u001b[0mlayer\u001b[0m\u001b[0;34m.\u001b[0m\u001b[0mops\u001b[0m\u001b[0;34m.\u001b[0m\u001b[0masarray\u001b[0m\u001b[0;34m(\u001b[0m\u001b[0;34m[\u001b[0m\u001b[0mlen\u001b[0m\u001b[0;34m(\u001b[0m\u001b[0mseq\u001b[0m\u001b[0;34m)\u001b[0m \u001b[0;32mfor\u001b[0m \u001b[0mseq\u001b[0m \u001b[0;32min\u001b[0m \u001b[0mseqs_in\u001b[0m\u001b[0;34m]\u001b[0m\u001b[0;34m)\u001b[0m\u001b[0;34m\u001b[0m\u001b[0m\n\u001b[0;32m--> 293\u001b[0;31m         \u001b[0mX\u001b[0m \u001b[0;34m=\u001b[0m \u001b[0mlayer\u001b[0m\u001b[0;34m(\u001b[0m\u001b[0mlayer\u001b[0m\u001b[0;34m.\u001b[0m\u001b[0mops\u001b[0m\u001b[0;34m.\u001b[0m\u001b[0mflatten\u001b[0m\u001b[0;34m(\u001b[0m\u001b[0mseqs_in\u001b[0m\u001b[0;34m,\u001b[0m \u001b[0mpad\u001b[0m\u001b[0;34m=\u001b[0m\u001b[0mpad\u001b[0m\u001b[0;34m)\u001b[0m\u001b[0;34m)\u001b[0m\u001b[0;34m\u001b[0m\u001b[0m\n\u001b[0m\u001b[1;32m    294\u001b[0m         \u001b[0;32mreturn\u001b[0m \u001b[0mlayer\u001b[0m\u001b[0;34m.\u001b[0m\u001b[0mops\u001b[0m\u001b[0;34m.\u001b[0m\u001b[0munflatten\u001b[0m\u001b[0;34m(\u001b[0m\u001b[0mX\u001b[0m\u001b[0;34m,\u001b[0m \u001b[0mlengths\u001b[0m\u001b[0;34m,\u001b[0m \u001b[0mpad\u001b[0m\u001b[0;34m=\u001b[0m\u001b[0mpad\u001b[0m\u001b[0;34m)\u001b[0m\u001b[0;34m\u001b[0m\u001b[0m\n\u001b[1;32m    295\u001b[0m \u001b[0;34m\u001b[0m\u001b[0m\n",
      "\u001b[0;32m~/Documents/Learning_NLP/py36_env/lib/python3.6/site-packages/thinc/neural/_classes/model.py\u001b[0m in \u001b[0;36m__call__\u001b[0;34m(self, x)\u001b[0m\n\u001b[1;32m    159\u001b[0m             \u001b[0mMust\u001b[0m \u001b[0mmatch\u001b[0m \u001b[0mexpected\u001b[0m \u001b[0mshape\u001b[0m\u001b[0;34m\u001b[0m\u001b[0m\n\u001b[1;32m    160\u001b[0m         '''\n\u001b[0;32m--> 161\u001b[0;31m         \u001b[0;32mreturn\u001b[0m \u001b[0mself\u001b[0m\u001b[0;34m.\u001b[0m\u001b[0mpredict\u001b[0m\u001b[0;34m(\u001b[0m\u001b[0mx\u001b[0m\u001b[0;34m)\u001b[0m\u001b[0;34m\u001b[0m\u001b[0m\n\u001b[0m\u001b[1;32m    162\u001b[0m \u001b[0;34m\u001b[0m\u001b[0m\n\u001b[1;32m    163\u001b[0m     \u001b[0;32mdef\u001b[0m \u001b[0mpipe\u001b[0m\u001b[0;34m(\u001b[0m\u001b[0mself\u001b[0m\u001b[0;34m,\u001b[0m \u001b[0mstream\u001b[0m\u001b[0;34m,\u001b[0m \u001b[0mbatch_size\u001b[0m\u001b[0;34m=\u001b[0m\u001b[0;36m128\u001b[0m\u001b[0;34m)\u001b[0m\u001b[0;34m:\u001b[0m\u001b[0;34m\u001b[0m\u001b[0m\n",
      "\u001b[0;32m~/Documents/Learning_NLP/py36_env/lib/python3.6/site-packages/thinc/api.py\u001b[0m in \u001b[0;36mpredict\u001b[0;34m(self, X)\u001b[0m\n\u001b[1;32m     53\u001b[0m     \u001b[0;32mdef\u001b[0m \u001b[0mpredict\u001b[0m\u001b[0;34m(\u001b[0m\u001b[0mself\u001b[0m\u001b[0;34m,\u001b[0m \u001b[0mX\u001b[0m\u001b[0;34m)\u001b[0m\u001b[0;34m:\u001b[0m\u001b[0;34m\u001b[0m\u001b[0m\n\u001b[1;32m     54\u001b[0m         \u001b[0;32mfor\u001b[0m \u001b[0mlayer\u001b[0m \u001b[0;32min\u001b[0m \u001b[0mself\u001b[0m\u001b[0;34m.\u001b[0m\u001b[0m_layers\u001b[0m\u001b[0;34m:\u001b[0m\u001b[0;34m\u001b[0m\u001b[0m\n\u001b[0;32m---> 55\u001b[0;31m             \u001b[0mX\u001b[0m \u001b[0;34m=\u001b[0m \u001b[0mlayer\u001b[0m\u001b[0;34m(\u001b[0m\u001b[0mX\u001b[0m\u001b[0;34m)\u001b[0m\u001b[0;34m\u001b[0m\u001b[0m\n\u001b[0m\u001b[1;32m     56\u001b[0m         \u001b[0;32mreturn\u001b[0m \u001b[0mX\u001b[0m\u001b[0;34m\u001b[0m\u001b[0m\n\u001b[1;32m     57\u001b[0m \u001b[0;34m\u001b[0m\u001b[0m\n",
      "\u001b[0;32m~/Documents/Learning_NLP/py36_env/lib/python3.6/site-packages/thinc/neural/_classes/resnet.py\u001b[0m in \u001b[0;36m__call__\u001b[0;34m(self, X)\u001b[0m\n\u001b[1;32m     13\u001b[0m \u001b[0;34m\u001b[0m\u001b[0m\n\u001b[1;32m     14\u001b[0m     \u001b[0;32mdef\u001b[0m \u001b[0m__call__\u001b[0m\u001b[0;34m(\u001b[0m\u001b[0mself\u001b[0m\u001b[0;34m,\u001b[0m \u001b[0mX\u001b[0m\u001b[0;34m)\u001b[0m\u001b[0;34m:\u001b[0m\u001b[0;34m\u001b[0m\u001b[0m\n\u001b[0;32m---> 15\u001b[0;31m         \u001b[0;32mreturn\u001b[0m \u001b[0mX\u001b[0m \u001b[0;34m+\u001b[0m \u001b[0mself\u001b[0m\u001b[0;34m.\u001b[0m\u001b[0m_layers\u001b[0m\u001b[0;34m[\u001b[0m\u001b[0;36m0\u001b[0m\u001b[0;34m]\u001b[0m\u001b[0;34m(\u001b[0m\u001b[0mX\u001b[0m\u001b[0;34m)\u001b[0m\u001b[0;34m\u001b[0m\u001b[0m\n\u001b[0m\u001b[1;32m     16\u001b[0m \u001b[0;34m\u001b[0m\u001b[0m\n\u001b[1;32m     17\u001b[0m     \u001b[0;32mdef\u001b[0m \u001b[0mbegin_update\u001b[0m\u001b[0;34m(\u001b[0m\u001b[0mself\u001b[0m\u001b[0;34m,\u001b[0m \u001b[0mX\u001b[0m\u001b[0;34m,\u001b[0m \u001b[0mdrop\u001b[0m\u001b[0;34m=\u001b[0m\u001b[0;36m0.\u001b[0m\u001b[0;34m)\u001b[0m\u001b[0;34m:\u001b[0m\u001b[0;34m\u001b[0m\u001b[0m\n",
      "\u001b[0;32m~/Documents/Learning_NLP/py36_env/lib/python3.6/site-packages/thinc/neural/_classes/model.py\u001b[0m in \u001b[0;36m__call__\u001b[0;34m(self, x)\u001b[0m\n\u001b[1;32m    159\u001b[0m             \u001b[0mMust\u001b[0m \u001b[0mmatch\u001b[0m \u001b[0mexpected\u001b[0m \u001b[0mshape\u001b[0m\u001b[0;34m\u001b[0m\u001b[0m\n\u001b[1;32m    160\u001b[0m         '''\n\u001b[0;32m--> 161\u001b[0;31m         \u001b[0;32mreturn\u001b[0m \u001b[0mself\u001b[0m\u001b[0;34m.\u001b[0m\u001b[0mpredict\u001b[0m\u001b[0;34m(\u001b[0m\u001b[0mx\u001b[0m\u001b[0;34m)\u001b[0m\u001b[0;34m\u001b[0m\u001b[0m\n\u001b[0m\u001b[1;32m    162\u001b[0m \u001b[0;34m\u001b[0m\u001b[0m\n\u001b[1;32m    163\u001b[0m     \u001b[0;32mdef\u001b[0m \u001b[0mpipe\u001b[0m\u001b[0;34m(\u001b[0m\u001b[0mself\u001b[0m\u001b[0;34m,\u001b[0m \u001b[0mstream\u001b[0m\u001b[0;34m,\u001b[0m \u001b[0mbatch_size\u001b[0m\u001b[0;34m=\u001b[0m\u001b[0;36m128\u001b[0m\u001b[0;34m)\u001b[0m\u001b[0;34m:\u001b[0m\u001b[0;34m\u001b[0m\u001b[0m\n",
      "\u001b[0;32m~/Documents/Learning_NLP/py36_env/lib/python3.6/site-packages/thinc/api.py\u001b[0m in \u001b[0;36mpredict\u001b[0;34m(self, X)\u001b[0m\n\u001b[1;32m     53\u001b[0m     \u001b[0;32mdef\u001b[0m \u001b[0mpredict\u001b[0m\u001b[0;34m(\u001b[0m\u001b[0mself\u001b[0m\u001b[0;34m,\u001b[0m \u001b[0mX\u001b[0m\u001b[0;34m)\u001b[0m\u001b[0;34m:\u001b[0m\u001b[0;34m\u001b[0m\u001b[0m\n\u001b[1;32m     54\u001b[0m         \u001b[0;32mfor\u001b[0m \u001b[0mlayer\u001b[0m \u001b[0;32min\u001b[0m \u001b[0mself\u001b[0m\u001b[0;34m.\u001b[0m\u001b[0m_layers\u001b[0m\u001b[0;34m:\u001b[0m\u001b[0;34m\u001b[0m\u001b[0m\n\u001b[0;32m---> 55\u001b[0;31m             \u001b[0mX\u001b[0m \u001b[0;34m=\u001b[0m \u001b[0mlayer\u001b[0m\u001b[0;34m(\u001b[0m\u001b[0mX\u001b[0m\u001b[0;34m)\u001b[0m\u001b[0;34m\u001b[0m\u001b[0m\n\u001b[0m\u001b[1;32m     56\u001b[0m         \u001b[0;32mreturn\u001b[0m \u001b[0mX\u001b[0m\u001b[0;34m\u001b[0m\u001b[0m\n\u001b[1;32m     57\u001b[0m \u001b[0;34m\u001b[0m\u001b[0m\n",
      "\u001b[0;32m~/Documents/Learning_NLP/py36_env/lib/python3.6/site-packages/thinc/neural/_classes/model.py\u001b[0m in \u001b[0;36m__call__\u001b[0;34m(self, x)\u001b[0m\n\u001b[1;32m    159\u001b[0m             \u001b[0mMust\u001b[0m \u001b[0mmatch\u001b[0m \u001b[0mexpected\u001b[0m \u001b[0mshape\u001b[0m\u001b[0;34m\u001b[0m\u001b[0m\n\u001b[1;32m    160\u001b[0m         '''\n\u001b[0;32m--> 161\u001b[0;31m         \u001b[0;32mreturn\u001b[0m \u001b[0mself\u001b[0m\u001b[0;34m.\u001b[0m\u001b[0mpredict\u001b[0m\u001b[0;34m(\u001b[0m\u001b[0mx\u001b[0m\u001b[0;34m)\u001b[0m\u001b[0;34m\u001b[0m\u001b[0m\n\u001b[0m\u001b[1;32m    162\u001b[0m \u001b[0;34m\u001b[0m\u001b[0m\n\u001b[1;32m    163\u001b[0m     \u001b[0;32mdef\u001b[0m \u001b[0mpipe\u001b[0m\u001b[0;34m(\u001b[0m\u001b[0mself\u001b[0m\u001b[0;34m,\u001b[0m \u001b[0mstream\u001b[0m\u001b[0;34m,\u001b[0m \u001b[0mbatch_size\u001b[0m\u001b[0;34m=\u001b[0m\u001b[0;36m128\u001b[0m\u001b[0;34m)\u001b[0m\u001b[0;34m:\u001b[0m\u001b[0;34m\u001b[0m\u001b[0m\n",
      "\u001b[0;32m~/Documents/Learning_NLP/py36_env/lib/python3.6/site-packages/thinc/neural/_classes/layernorm.py\u001b[0m in \u001b[0;36mpredict\u001b[0;34m(self, X)\u001b[0m\n\u001b[1;32m     42\u001b[0m \u001b[0;34m\u001b[0m\u001b[0m\n\u001b[1;32m     43\u001b[0m     \u001b[0;32mdef\u001b[0m \u001b[0mpredict\u001b[0m\u001b[0;34m(\u001b[0m\u001b[0mself\u001b[0m\u001b[0;34m,\u001b[0m \u001b[0mX\u001b[0m\u001b[0;34m)\u001b[0m\u001b[0;34m:\u001b[0m\u001b[0;34m\u001b[0m\u001b[0m\n\u001b[0;32m---> 44\u001b[0;31m         \u001b[0mX\u001b[0m \u001b[0;34m=\u001b[0m \u001b[0mself\u001b[0m\u001b[0;34m.\u001b[0m\u001b[0mchild\u001b[0m\u001b[0;34m.\u001b[0m\u001b[0mpredict\u001b[0m\u001b[0;34m(\u001b[0m\u001b[0mX\u001b[0m\u001b[0;34m)\u001b[0m\u001b[0;34m\u001b[0m\u001b[0m\n\u001b[0m\u001b[1;32m     45\u001b[0m         \u001b[0mN\u001b[0m\u001b[0;34m,\u001b[0m \u001b[0mmu\u001b[0m\u001b[0;34m,\u001b[0m \u001b[0mvar\u001b[0m \u001b[0;34m=\u001b[0m \u001b[0m_get_moments\u001b[0m\u001b[0;34m(\u001b[0m\u001b[0mself\u001b[0m\u001b[0;34m.\u001b[0m\u001b[0mops\u001b[0m\u001b[0;34m,\u001b[0m \u001b[0mX\u001b[0m\u001b[0;34m)\u001b[0m\u001b[0;34m\u001b[0m\u001b[0m\n\u001b[1;32m     46\u001b[0m         \u001b[0mXh\u001b[0m \u001b[0;34m=\u001b[0m \u001b[0m_forward\u001b[0m\u001b[0;34m(\u001b[0m\u001b[0mself\u001b[0m\u001b[0;34m.\u001b[0m\u001b[0mops\u001b[0m\u001b[0;34m,\u001b[0m \u001b[0mX\u001b[0m\u001b[0;34m,\u001b[0m \u001b[0mmu\u001b[0m\u001b[0;34m,\u001b[0m \u001b[0mvar\u001b[0m\u001b[0;34m)\u001b[0m\u001b[0;34m\u001b[0m\u001b[0m\n",
      "\u001b[0;32m~/Documents/Learning_NLP/py36_env/lib/python3.6/site-packages/thinc/neural/_classes/maxout.py\u001b[0m in \u001b[0;36mpredict\u001b[0;34m(self, X__BI)\u001b[0m\n\u001b[1;32m     58\u001b[0m     \u001b[0;32mdef\u001b[0m \u001b[0mpredict\u001b[0m\u001b[0;34m(\u001b[0m\u001b[0mself\u001b[0m\u001b[0;34m,\u001b[0m \u001b[0mX__BI\u001b[0m\u001b[0;34m)\u001b[0m\u001b[0;34m:\u001b[0m\u001b[0;34m\u001b[0m\u001b[0m\n\u001b[1;32m     59\u001b[0m         \u001b[0mW\u001b[0m \u001b[0;34m=\u001b[0m \u001b[0mself\u001b[0m\u001b[0;34m.\u001b[0m\u001b[0mW\u001b[0m\u001b[0;34m.\u001b[0m\u001b[0mreshape\u001b[0m\u001b[0;34m(\u001b[0m\u001b[0;34m(\u001b[0m\u001b[0mself\u001b[0m\u001b[0;34m.\u001b[0m\u001b[0mnO\u001b[0m \u001b[0;34m*\u001b[0m \u001b[0mself\u001b[0m\u001b[0;34m.\u001b[0m\u001b[0mnP\u001b[0m\u001b[0;34m,\u001b[0m \u001b[0mself\u001b[0m\u001b[0;34m.\u001b[0m\u001b[0mnI\u001b[0m\u001b[0;34m)\u001b[0m\u001b[0;34m)\u001b[0m\u001b[0;34m\u001b[0m\u001b[0m\n\u001b[0;32m---> 60\u001b[0;31m         \u001b[0mX__BOP\u001b[0m \u001b[0;34m=\u001b[0m \u001b[0mself\u001b[0m\u001b[0;34m.\u001b[0m\u001b[0mops\u001b[0m\u001b[0;34m.\u001b[0m\u001b[0mbatch_dot\u001b[0m\u001b[0;34m(\u001b[0m\u001b[0mX__BI\u001b[0m\u001b[0;34m,\u001b[0m \u001b[0mW\u001b[0m\u001b[0;34m)\u001b[0m\u001b[0;34m\u001b[0m\u001b[0m\n\u001b[0m\u001b[1;32m     61\u001b[0m         \u001b[0mX__BOP\u001b[0m \u001b[0;34m+=\u001b[0m \u001b[0mself\u001b[0m\u001b[0;34m.\u001b[0m\u001b[0mb\u001b[0m\u001b[0;34m.\u001b[0m\u001b[0mreshape\u001b[0m\u001b[0;34m(\u001b[0m\u001b[0;34m(\u001b[0m\u001b[0mself\u001b[0m\u001b[0;34m.\u001b[0m\u001b[0mnO\u001b[0m\u001b[0;34m*\u001b[0m\u001b[0mself\u001b[0m\u001b[0;34m.\u001b[0m\u001b[0mnP\u001b[0m\u001b[0;34m,\u001b[0m\u001b[0;34m)\u001b[0m\u001b[0;34m)\u001b[0m\u001b[0;34m\u001b[0m\u001b[0m\n\u001b[1;32m     62\u001b[0m         \u001b[0mX__BOP\u001b[0m \u001b[0;34m=\u001b[0m \u001b[0mX__BOP\u001b[0m\u001b[0;34m.\u001b[0m\u001b[0mreshape\u001b[0m\u001b[0;34m(\u001b[0m\u001b[0;34m(\u001b[0m\u001b[0mX__BOP\u001b[0m\u001b[0;34m.\u001b[0m\u001b[0mshape\u001b[0m\u001b[0;34m[\u001b[0m\u001b[0;36m0\u001b[0m\u001b[0;34m]\u001b[0m\u001b[0;34m,\u001b[0m \u001b[0mself\u001b[0m\u001b[0;34m.\u001b[0m\u001b[0mnO\u001b[0m\u001b[0;34m,\u001b[0m \u001b[0mself\u001b[0m\u001b[0;34m.\u001b[0m\u001b[0mnP\u001b[0m\u001b[0;34m)\u001b[0m\u001b[0;34m)\u001b[0m\u001b[0;34m\u001b[0m\u001b[0m\n",
      "\u001b[0;31mKeyboardInterrupt\u001b[0m: "
     ]
    }
   ],
   "source": [
    "# convert to list\n",
    "data = df['reviewText'].values.tolist()\n",
    "data_words = list(sent_to_words(data))\n",
    "\n",
    "# remove stop words\n",
    "data_words_nostops = remove_stopwords(data_words)\n",
    "\n",
    "# lemmatize\n",
    "nlp = spacy.load('en', disable=['parser', 'ner'])\n",
    "data_lemmatized = lemmatization(data_words_nostops, allowed_postags=['NOUN', 'ADJ', 'VERB', 'ADV'])\n",
    "\n",
    "# create dictionary\n",
    "id2word = corpora.Dictionary(data_lemmatized)\n",
    "\n",
    "# create corpus\n",
    "texts = data_lemmatized\n",
    "\n",
    "# term document frequency\n",
    "corpus = [id2word.doc2bow(text) for text in texts]"
   ]
  },
  {
   "cell_type": "code",
   "execution_count": null,
   "metadata": {
    "id": "SEa6xlXN2JAa"
   },
   "outputs": [],
   "source": [
    "# Build LDA model\n",
    "lda_model = gensim.models.ldamodel.LdaModel(corpus=corpus,\n",
    "                                           id2word=id2word,\n",
    "                                           num_topics=10, \n",
    "                                           random_state=100,\n",
    "                                           update_every=1,\n",
    "                                           chunksize=100,\n",
    "                                           passes=10,\n",
    "                                           alpha='auto',\n",
    "                                           per_word_topics=True)"
   ]
  }
 ],
 "metadata": {
  "colab": {
   "name": "LDA+Demonstration+_+Python.ipynb",
   "provenance": []
  },
  "kernelspec": {
   "display_name": "Python 3 (ipykernel)",
   "language": "python",
   "name": "python3"
  },
  "language_info": {
   "codemirror_mode": {
    "name": "ipython",
    "version": 3
   },
   "file_extension": ".py",
   "mimetype": "text/x-python",
   "name": "python",
   "nbconvert_exporter": "python",
   "pygments_lexer": "ipython3",
   "version": "3.9.7"
  }
 },
 "nbformat": 4,
 "nbformat_minor": 1
}
