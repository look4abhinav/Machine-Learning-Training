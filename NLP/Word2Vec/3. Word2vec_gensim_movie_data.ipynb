{
 "cells": [
  {
   "cell_type": "markdown",
   "metadata": {
    "id": "C2WAFZueaivk"
   },
   "source": [
    "### Load Gensim Library"
   ]
  },
  {
   "cell_type": "code",
   "execution_count": 13,
   "metadata": {
    "executionInfo": {
     "elapsed": 5,
     "status": "ok",
     "timestamp": 1628407129934,
     "user": {
      "displayName": "Sayan Dey",
      "photoUrl": "https://lh3.googleusercontent.com/a-/AOh14GgqVHJ9o6-7idGiRbNNd4iVc1VjzvuPnwmAnvEtD6U=s64",
      "userId": "03603580465490055794"
     },
     "user_tz": -330
    },
    "id": "WWg3i_ryddsA"
   },
   "outputs": [],
   "source": [
    "#!pip install gensim"
   ]
  },
  {
   "cell_type": "code",
   "execution_count": 14,
   "metadata": {
    "executionInfo": {
     "elapsed": 1316,
     "status": "ok",
     "timestamp": 1628407131246,
     "user": {
      "displayName": "Sayan Dey",
      "photoUrl": "https://lh3.googleusercontent.com/a-/AOh14GgqVHJ9o6-7idGiRbNNd4iVc1VjzvuPnwmAnvEtD6U=s64",
      "userId": "03603580465490055794"
     },
     "user_tz": -330
    },
    "id": "iSrla7q8aivn"
   },
   "outputs": [],
   "source": [
    "import gensim\n",
    "import warnings\n",
    "warnings.filterwarnings('ignore')"
   ]
  },
  {
   "cell_type": "code",
   "execution_count": 15,
   "metadata": {
    "executionInfo": {
     "elapsed": 2,
     "status": "ok",
     "timestamp": 1628407131246,
     "user": {
      "displayName": "Sayan Dey",
      "photoUrl": "https://lh3.googleusercontent.com/a-/AOh14GgqVHJ9o6-7idGiRbNNd4iVc1VjzvuPnwmAnvEtD6U=s64",
      "userId": "03603580465490055794"
     },
     "user_tz": -330
    },
    "id": "D6HqQQL4aivq"
   },
   "outputs": [],
   "source": [
    "import logging\n",
    "logging.basicConfig(format='%(asctime)s : %(levelname)s : %(message)s', \n",
    "                    level=logging.INFO)"
   ]
  },
  {
   "cell_type": "markdown",
   "metadata": {
    "id": "rOTbE9ZPaivu"
   },
   "source": [
    "### Load Text Data\n",
    "\n",
    "Data can be downloaded from https://www.kaggle.com/c/word2vec-nlp-tutorial/data"
   ]
  },
  {
   "cell_type": "code",
   "execution_count": 16,
   "metadata": {
    "colab": {
     "base_uri": "https://localhost:8080/"
    },
    "executionInfo": {
     "elapsed": 20137,
     "status": "ok",
     "timestamp": 1628407151381,
     "user": {
      "displayName": "Sayan Dey",
      "photoUrl": "https://lh3.googleusercontent.com/a-/AOh14GgqVHJ9o6-7idGiRbNNd4iVc1VjzvuPnwmAnvEtD6U=s64",
      "userId": "03603580465490055794"
     },
     "user_tz": -330
    },
    "id": "oHi3q9cPKijF",
    "outputId": "26410b7b-8cb2-4402-80e9-929b2144b346"
   },
   "outputs": [],
   "source": [
    "#This is needed only if you have uploaded data to Google drive\n",
    "#from google.colab import drive\n",
    "#drive.mount('/gdrive')"
   ]
  },
  {
   "cell_type": "code",
   "execution_count": 17,
   "metadata": {
    "colab": {
     "base_uri": "https://localhost:8080/",
     "height": 222
    },
    "executionInfo": {
     "elapsed": 4719,
     "status": "ok",
     "timestamp": 1628407156096,
     "user": {
      "displayName": "Sayan Dey",
      "photoUrl": "https://lh3.googleusercontent.com/a-/AOh14GgqVHJ9o6-7idGiRbNNd4iVc1VjzvuPnwmAnvEtD6U=s64",
      "userId": "03603580465490055794"
     },
     "user_tz": -330
    },
    "id": "sxDRNQv9aivw",
    "outputId": "5ca4001e-d5e2-4d47-df6a-6a0d75e296eb",
    "scrolled": true
   },
   "outputs": [
    {
     "name": "stdout",
     "output_type": "stream",
     "text": [
      "Number of examples in Dataset:  (50000, 2)\n"
     ]
    },
    {
     "data": {
      "text/html": [
       "<div>\n",
       "<style scoped>\n",
       "    .dataframe tbody tr th:only-of-type {\n",
       "        vertical-align: middle;\n",
       "    }\n",
       "\n",
       "    .dataframe tbody tr th {\n",
       "        vertical-align: top;\n",
       "    }\n",
       "\n",
       "    .dataframe thead th {\n",
       "        text-align: right;\n",
       "    }\n",
       "</style>\n",
       "<table border=\"1\" class=\"dataframe\">\n",
       "  <thead>\n",
       "    <tr style=\"text-align: right;\">\n",
       "      <th></th>\n",
       "      <th>id</th>\n",
       "      <th>review</th>\n",
       "    </tr>\n",
       "  </thead>\n",
       "  <tbody>\n",
       "    <tr>\n",
       "      <th>0</th>\n",
       "      <td>\"9999_0\"</td>\n",
       "      <td>\"Watching Time Chasers, it obvious that it was...</td>\n",
       "    </tr>\n",
       "    <tr>\n",
       "      <th>1</th>\n",
       "      <td>\"45057_0\"</td>\n",
       "      <td>\"I saw this film about 20 years ago and rememb...</td>\n",
       "    </tr>\n",
       "    <tr>\n",
       "      <th>2</th>\n",
       "      <td>\"15561_0\"</td>\n",
       "      <td>\"Minor Spoilers&lt;br /&gt;&lt;br /&gt;In New York, Joan B...</td>\n",
       "    </tr>\n",
       "    <tr>\n",
       "      <th>3</th>\n",
       "      <td>\"7161_0\"</td>\n",
       "      <td>\"I went to see this film with a great deal of ...</td>\n",
       "    </tr>\n",
       "    <tr>\n",
       "      <th>4</th>\n",
       "      <td>\"43971_0\"</td>\n",
       "      <td>\"Yes, I agree with everyone on this site this ...</td>\n",
       "    </tr>\n",
       "  </tbody>\n",
       "</table>\n",
       "</div>"
      ],
      "text/plain": [
       "          id                                             review\n",
       "0   \"9999_0\"  \"Watching Time Chasers, it obvious that it was...\n",
       "1  \"45057_0\"  \"I saw this film about 20 years ago and rememb...\n",
       "2  \"15561_0\"  \"Minor Spoilers<br /><br />In New York, Joan B...\n",
       "3   \"7161_0\"  \"I went to see this film with a great deal of ...\n",
       "4  \"43971_0\"  \"Yes, I agree with everyone on this site this ..."
      ]
     },
     "execution_count": 17,
     "metadata": {},
     "output_type": "execute_result"
    }
   ],
   "source": [
    "import pandas as pd\n",
    "\n",
    "#change file path to point to where you have stored the zip file.\n",
    "#df = pd.read_csv('/gdrive/My Drive/Statistical NLP AIML/unlabeledTrainData.tsv.zip', header=0, delimiter=\"\\t\", quoting=3)\n",
    "df = pd.read_csv('unlabeledTrainData.tsv.zip', header=0, delimiter=\"\\t\", quoting=3)\n",
    "print('Number of examples in Dataset: ', df.shape)\n",
    "df.head()"
   ]
  },
  {
   "cell_type": "markdown",
   "metadata": {
    "id": "j1DHNFNsaivy"
   },
   "source": [
    "### Function to Clean up data"
   ]
  },
  {
   "cell_type": "code",
   "execution_count": 18,
   "metadata": {
    "executionInfo": {
     "elapsed": 1159,
     "status": "ok",
     "timestamp": 1628407208860,
     "user": {
      "displayName": "Sayan Dey",
      "photoUrl": "https://lh3.googleusercontent.com/a-/AOh14GgqVHJ9o6-7idGiRbNNd4iVc1VjzvuPnwmAnvEtD6U=s64",
      "userId": "03603580465490055794"
     },
     "user_tz": -330
    },
    "id": "PJf9rUeLaiv0"
   },
   "outputs": [],
   "source": [
    "import re, string\n",
    "\n",
    "def clean_str(string):\n",
    "  \"\"\"\n",
    "  String cleaning before vectorization\n",
    "  \"\"\"\n",
    "  try:    \n",
    "    string = re.sub(r'^https?:\\/\\/<>.*[\\r\\n]*', '', string, flags=re.MULTILINE)\n",
    "    string = re.sub(r\"[^A-Za-z]\", \" \", string)         \n",
    "    words = string.strip().lower().split()    \n",
    "    words = [w for w in words if len(w)>=1]\n",
    "    return \" \".join(words)\t\n",
    "  except:\n",
    "    return \"\""
   ]
  },
  {
   "cell_type": "markdown",
   "metadata": {
    "id": "ON-JT9fPaiv2"
   },
   "source": [
    "### Clean the Data using routine above"
   ]
  },
  {
   "cell_type": "code",
   "execution_count": 19,
   "metadata": {
    "colab": {
     "base_uri": "https://localhost:8080/",
     "height": 204
    },
    "executionInfo": {
     "elapsed": 6775,
     "status": "ok",
     "timestamp": 1628407219727,
     "user": {
      "displayName": "Sayan Dey",
      "photoUrl": "https://lh3.googleusercontent.com/a-/AOh14GgqVHJ9o6-7idGiRbNNd4iVc1VjzvuPnwmAnvEtD6U=s64",
      "userId": "03603580465490055794"
     },
     "user_tz": -330
    },
    "id": "iVOxnQg3aiv4",
    "outputId": "09b362d1-e1cf-4eb9-fd2a-810ff66593b4",
    "scrolled": false
   },
   "outputs": [
    {
     "data": {
      "text/html": [
       "<div>\n",
       "<style scoped>\n",
       "    .dataframe tbody tr th:only-of-type {\n",
       "        vertical-align: middle;\n",
       "    }\n",
       "\n",
       "    .dataframe tbody tr th {\n",
       "        vertical-align: top;\n",
       "    }\n",
       "\n",
       "    .dataframe thead th {\n",
       "        text-align: right;\n",
       "    }\n",
       "</style>\n",
       "<table border=\"1\" class=\"dataframe\">\n",
       "  <thead>\n",
       "    <tr style=\"text-align: right;\">\n",
       "      <th></th>\n",
       "      <th>id</th>\n",
       "      <th>review</th>\n",
       "      <th>clean_review</th>\n",
       "    </tr>\n",
       "  </thead>\n",
       "  <tbody>\n",
       "    <tr>\n",
       "      <th>0</th>\n",
       "      <td>\"9999_0\"</td>\n",
       "      <td>\"Watching Time Chasers, it obvious that it was...</td>\n",
       "      <td>watching time chasers it obvious that it was m...</td>\n",
       "    </tr>\n",
       "    <tr>\n",
       "      <th>1</th>\n",
       "      <td>\"45057_0\"</td>\n",
       "      <td>\"I saw this film about 20 years ago and rememb...</td>\n",
       "      <td>i saw this film about years ago and remember i...</td>\n",
       "    </tr>\n",
       "    <tr>\n",
       "      <th>2</th>\n",
       "      <td>\"15561_0\"</td>\n",
       "      <td>\"Minor Spoilers&lt;br /&gt;&lt;br /&gt;In New York, Joan B...</td>\n",
       "      <td>minor spoilers br br in new york joan barnard ...</td>\n",
       "    </tr>\n",
       "    <tr>\n",
       "      <th>3</th>\n",
       "      <td>\"7161_0\"</td>\n",
       "      <td>\"I went to see this film with a great deal of ...</td>\n",
       "      <td>i went to see this film with a great deal of e...</td>\n",
       "    </tr>\n",
       "    <tr>\n",
       "      <th>4</th>\n",
       "      <td>\"43971_0\"</td>\n",
       "      <td>\"Yes, I agree with everyone on this site this ...</td>\n",
       "      <td>yes i agree with everyone on this site this mo...</td>\n",
       "    </tr>\n",
       "  </tbody>\n",
       "</table>\n",
       "</div>"
      ],
      "text/plain": [
       "          id                                             review  \\\n",
       "0   \"9999_0\"  \"Watching Time Chasers, it obvious that it was...   \n",
       "1  \"45057_0\"  \"I saw this film about 20 years ago and rememb...   \n",
       "2  \"15561_0\"  \"Minor Spoilers<br /><br />In New York, Joan B...   \n",
       "3   \"7161_0\"  \"I went to see this film with a great deal of ...   \n",
       "4  \"43971_0\"  \"Yes, I agree with everyone on this site this ...   \n",
       "\n",
       "                                        clean_review  \n",
       "0  watching time chasers it obvious that it was m...  \n",
       "1  i saw this film about years ago and remember i...  \n",
       "2  minor spoilers br br in new york joan barnard ...  \n",
       "3  i went to see this film with a great deal of e...  \n",
       "4  yes i agree with everyone on this site this mo...  "
      ]
     },
     "execution_count": 19,
     "metadata": {},
     "output_type": "execute_result"
    }
   ],
   "source": [
    "df['clean_review'] = df['review'].apply(clean_str)\n",
    "df.head()"
   ]
  },
  {
   "cell_type": "code",
   "execution_count": 20,
   "metadata": {
    "colab": {
     "base_uri": "https://localhost:8080/"
    },
    "executionInfo": {
     "elapsed": 475,
     "status": "ok",
     "timestamp": 1628407256498,
     "user": {
      "displayName": "Sayan Dey",
      "photoUrl": "https://lh3.googleusercontent.com/a-/AOh14GgqVHJ9o6-7idGiRbNNd4iVc1VjzvuPnwmAnvEtD6U=s64",
      "userId": "03603580465490055794"
     },
     "user_tz": -330
    },
    "id": "03dGFF2WUBcW",
    "outputId": "8be2b4c8-5844-431c-bedd-b7b2d3d070e1",
    "scrolled": true
   },
   "outputs": [
    {
     "data": {
      "text/plain": [
       "['watching',\n",
       " 'time',\n",
       " 'chasers',\n",
       " 'it',\n",
       " 'obvious',\n",
       " 'that',\n",
       " 'it',\n",
       " 'was',\n",
       " 'made',\n",
       " 'by',\n",
       " 'a',\n",
       " 'bunch',\n",
       " 'of',\n",
       " 'friends',\n",
       " 'maybe',\n",
       " 'they',\n",
       " 'were',\n",
       " 'sitting',\n",
       " 'around',\n",
       " 'one',\n",
       " 'day',\n",
       " 'in',\n",
       " 'film',\n",
       " 'school',\n",
       " 'and',\n",
       " 'said',\n",
       " 'hey',\n",
       " 'let',\n",
       " 's',\n",
       " 'pool',\n",
       " 'our',\n",
       " 'money',\n",
       " 'together',\n",
       " 'and',\n",
       " 'make',\n",
       " 'a',\n",
       " 'really',\n",
       " 'bad',\n",
       " 'movie',\n",
       " 'or',\n",
       " 'something',\n",
       " 'like',\n",
       " 'that',\n",
       " 'what',\n",
       " 'ever',\n",
       " 'they',\n",
       " 'said',\n",
       " 'they',\n",
       " 'still',\n",
       " 'ended',\n",
       " 'up',\n",
       " 'making',\n",
       " 'a',\n",
       " 'really',\n",
       " 'bad',\n",
       " 'movie',\n",
       " 'dull',\n",
       " 'story',\n",
       " 'bad',\n",
       " 'script',\n",
       " 'lame',\n",
       " 'acting',\n",
       " 'poor',\n",
       " 'cinematography',\n",
       " 'bottom',\n",
       " 'of',\n",
       " 'the',\n",
       " 'barrel',\n",
       " 'stock',\n",
       " 'music',\n",
       " 'etc',\n",
       " 'all',\n",
       " 'corners',\n",
       " 'were',\n",
       " 'cut',\n",
       " 'except',\n",
       " 'the',\n",
       " 'one',\n",
       " 'that',\n",
       " 'would',\n",
       " 'have',\n",
       " 'prevented',\n",
       " 'this',\n",
       " 'film',\n",
       " 's',\n",
       " 'release',\n",
       " 'life',\n",
       " 's',\n",
       " 'like',\n",
       " 'that']"
      ]
     },
     "execution_count": 20,
     "metadata": {},
     "output_type": "execute_result"
    }
   ],
   "source": [
    "df['clean_review'][0].split(' ')"
   ]
  },
  {
   "cell_type": "markdown",
   "metadata": {
    "id": "LJJyLx1Vaiv7"
   },
   "source": [
    "### Convert Review to a Word List"
   ]
  },
  {
   "cell_type": "code",
   "execution_count": 21,
   "metadata": {
    "colab": {
     "base_uri": "https://localhost:8080/"
    },
    "executionInfo": {
     "elapsed": 1290,
     "status": "ok",
     "timestamp": 1628407262328,
     "user": {
      "displayName": "Sayan Dey",
      "photoUrl": "https://lh3.googleusercontent.com/a-/AOh14GgqVHJ9o6-7idGiRbNNd4iVc1VjzvuPnwmAnvEtD6U=s64",
      "userId": "03603580465490055794"
     },
     "user_tz": -330
    },
    "id": "5jEV1hl0aiv8",
    "outputId": "cf3c6a04-6b49-4c49-b7c3-c0755e16f83a",
    "scrolled": true
   },
   "outputs": [
    {
     "name": "stdout",
     "output_type": "stream",
     "text": [
      "50000\n",
      "['watching', 'time', 'chasers', 'it', 'obvious', 'that', 'it', 'was', 'made', 'by', 'a', 'bunch', 'of', 'friends', 'maybe', 'they', 'were', 'sitting', 'around', 'one', 'day', 'in', 'film', 'school', 'and', 'said', 'hey', 'let', 's', 'pool', 'our', 'money', 'together', 'and', 'make', 'a', 'really', 'bad', 'movie', 'or', 'something', 'like', 'that', 'what', 'ever', 'they', 'said', 'they', 'still', 'ended', 'up', 'making', 'a', 'really', 'bad', 'movie', 'dull', 'story', 'bad', 'script', 'lame', 'acting', 'poor', 'cinematography', 'bottom', 'of', 'the', 'barrel', 'stock', 'music', 'etc', 'all', 'corners', 'were', 'cut', 'except', 'the', 'one', 'that', 'would', 'have', 'prevented', 'this', 'film', 's', 'release', 'life', 's', 'like', 'that']\n"
     ]
    }
   ],
   "source": [
    "#List to hold all words in each review\n",
    "documents = []\n",
    "\n",
    "#Iterate over each review\n",
    "for doc in df['clean_review']:\n",
    "    documents.append(doc.split(' '))\n",
    "\n",
    "print(len(documents))\n",
    "print(documents[0])"
   ]
  },
  {
   "cell_type": "code",
   "execution_count": 22,
   "metadata": {
    "colab": {
     "base_uri": "https://localhost:8080/"
    },
    "executionInfo": {
     "elapsed": 765,
     "status": "ok",
     "timestamp": 1628407276950,
     "user": {
      "displayName": "Sayan Dey",
      "photoUrl": "https://lh3.googleusercontent.com/a-/AOh14GgqVHJ9o6-7idGiRbNNd4iVc1VjzvuPnwmAnvEtD6U=s64",
      "userId": "03603580465490055794"
     },
     "user_tz": -330
    },
    "id": "Ts4vsy8MFOpF",
    "outputId": "93356946-e5d4-4e95-c134-31b1a37c6f0d"
   },
   "outputs": [
    {
     "name": "stdout",
     "output_type": "stream",
     "text": [
      "90\n"
     ]
    }
   ],
   "source": [
    "print(len(documents[0]))"
   ]
  },
  {
   "cell_type": "code",
   "execution_count": 23,
   "metadata": {
    "colab": {
     "base_uri": "https://localhost:8080/"
    },
    "executionInfo": {
     "elapsed": 682,
     "status": "ok",
     "timestamp": 1628407290640,
     "user": {
      "displayName": "Sayan Dey",
      "photoUrl": "https://lh3.googleusercontent.com/a-/AOh14GgqVHJ9o6-7idGiRbNNd4iVc1VjzvuPnwmAnvEtD6U=s64",
      "userId": "03603580465490055794"
     },
     "user_tz": -330
    },
    "id": "O3D6hiEAcRkf",
    "outputId": "79941b95-d007-4bf4-c1f2-d05d3ab32985"
   },
   "outputs": [
    {
     "data": {
      "text/plain": [
       "82"
      ]
     },
     "execution_count": 23,
     "metadata": {},
     "output_type": "execute_result"
    }
   ],
   "source": [
    "len(documents[1])"
   ]
  },
  {
   "cell_type": "markdown",
   "metadata": {
    "id": "EHhZ8ncUaiv_"
   },
   "source": [
    "### Build the Model"
   ]
  },
  {
   "cell_type": "code",
   "execution_count": 25,
   "metadata": {
    "colab": {
     "base_uri": "https://localhost:8080/"
    },
    "executionInfo": {
     "elapsed": 407455,
     "status": "ok",
     "timestamp": 1623568015875,
     "user": {
      "displayName": "Sayan Dey",
      "photoUrl": "https://lh3.googleusercontent.com/a-/AOh14GgqVHJ9o6-7idGiRbNNd4iVc1VjzvuPnwmAnvEtD6U=s64",
      "userId": "03603580465490055794"
     },
     "user_tz": -330
    },
    "id": "KsB8HpGwaiwA",
    "outputId": "f5a5c8e8-1e7d-4430-e4f2-b6d2a53c5a07",
    "scrolled": false
   },
   "outputs": [
    {
     "name": "stderr",
     "output_type": "stream",
     "text": [
      "2021-11-11 11:52:47,434 : INFO : collecting all words and their counts\n",
      "2021-11-11 11:52:47,435 : INFO : PROGRESS: at sentence #0, processed 0 words, keeping 0 word types\n",
      "2021-11-11 11:52:48,222 : INFO : PROGRESS: at sentence #10000, processed 2399440 words, keeping 51654 word types\n",
      "2021-11-11 11:52:48,982 : INFO : PROGRESS: at sentence #20000, processed 4835846 words, keeping 69077 word types\n",
      "2021-11-11 11:52:49,845 : INFO : PROGRESS: at sentence #30000, processed 7267977 words, keeping 81515 word types\n",
      "2021-11-11 11:52:50,634 : INFO : PROGRESS: at sentence #40000, processed 9669772 words, keeping 91685 word types\n",
      "2021-11-11 11:52:51,442 : INFO : collected 100479 word types from a corpus of 12084660 raw words and 50000 sentences\n",
      "2021-11-11 11:52:51,444 : INFO : Creating a fresh vocabulary\n",
      "2021-11-11 11:52:51,815 : INFO : Word2Vec lifecycle event {'msg': 'effective_min_count=5 retains 39730 unique words (39.54060052349247%% of original 100479, drops 60749)', 'datetime': '2021-11-11T11:52:51.815121', 'gensim': '4.1.2', 'python': '3.8.5 (default, Sep  3 2020, 21:29:08) [MSC v.1916 64 bit (AMD64)]', 'platform': 'Windows-10-10.0.22000-SP0', 'event': 'prepare_vocab'}\n",
      "2021-11-11 11:52:51,817 : INFO : Word2Vec lifecycle event {'msg': 'effective_min_count=5 leaves 11985689 word corpus (99.1810195735751%% of original 12084660, drops 98971)', 'datetime': '2021-11-11T11:52:51.817128', 'gensim': '4.1.2', 'python': '3.8.5 (default, Sep  3 2020, 21:29:08) [MSC v.1916 64 bit (AMD64)]', 'platform': 'Windows-10-10.0.22000-SP0', 'event': 'prepare_vocab'}\n",
      "2021-11-11 11:52:52,433 : INFO : deleting the raw counts dictionary of 100479 items\n",
      "2021-11-11 11:52:52,439 : INFO : sample=0.001 downsamples 49 most-common words\n",
      "2021-11-11 11:52:52,445 : INFO : Word2Vec lifecycle event {'msg': 'downsampling leaves estimated 8901252.199361648 word corpus (74.3%% of prior 11985689)', 'datetime': '2021-11-11T11:52:52.445986', 'gensim': '4.1.2', 'python': '3.8.5 (default, Sep  3 2020, 21:29:08) [MSC v.1916 64 bit (AMD64)]', 'platform': 'Windows-10-10.0.22000-SP0', 'event': 'prepare_vocab'}\n",
      "2021-11-11 11:52:53,182 : INFO : estimated required memory for 39730 words and 300 dimensions: 115217000 bytes\n",
      "2021-11-11 11:52:53,183 : INFO : resetting layer weights\n",
      "2021-11-11 11:52:53,495 : INFO : Word2Vec lifecycle event {'update': False, 'trim_rule': 'None', 'datetime': '2021-11-11T11:52:53.495730', 'gensim': '4.1.2', 'python': '3.8.5 (default, Sep  3 2020, 21:29:08) [MSC v.1916 64 bit (AMD64)]', 'platform': 'Windows-10-10.0.22000-SP0', 'event': 'build_vocab'}\n",
      "2021-11-11 11:52:53,499 : INFO : Word2Vec lifecycle event {'msg': 'training model with 6 workers on 39730 vocabulary and 300 features, using sg=0 hs=0 sample=0.001 negative=5 window=5 shrink_windows=True', 'datetime': '2021-11-11T11:52:53.499719', 'gensim': '4.1.2', 'python': '3.8.5 (default, Sep  3 2020, 21:29:08) [MSC v.1916 64 bit (AMD64)]', 'platform': 'Windows-10-10.0.22000-SP0', 'event': 'train'}\n",
      "2021-11-11 11:52:54,718 : INFO : EPOCH 1 - PROGRESS: at 2.52% examples, 204195 words/s, in_qsize 11, out_qsize 0\n",
      "2021-11-11 11:52:55,745 : INFO : EPOCH 1 - PROGRESS: at 5.05% examples, 210975 words/s, in_qsize 12, out_qsize 0\n",
      "2021-11-11 11:52:56,783 : INFO : EPOCH 1 - PROGRESS: at 8.46% examples, 235915 words/s, in_qsize 11, out_qsize 0\n",
      "2021-11-11 11:52:57,868 : INFO : EPOCH 1 - PROGRESS: at 11.48% examples, 238884 words/s, in_qsize 12, out_qsize 3\n",
      "2021-11-11 11:52:58,878 : INFO : EPOCH 1 - PROGRESS: at 15.45% examples, 259159 words/s, in_qsize 11, out_qsize 0\n",
      "2021-11-11 11:52:59,878 : INFO : EPOCH 1 - PROGRESS: at 19.10% examples, 269553 words/s, in_qsize 11, out_qsize 0\n",
      "2021-11-11 11:53:00,898 : INFO : EPOCH 1 - PROGRESS: at 23.37% examples, 283443 words/s, in_qsize 9, out_qsize 2\n",
      "2021-11-11 11:53:01,932 : INFO : EPOCH 1 - PROGRESS: at 28.15% examples, 299585 words/s, in_qsize 11, out_qsize 0\n",
      "2021-11-11 11:53:02,945 : INFO : EPOCH 1 - PROGRESS: at 32.81% examples, 311939 words/s, in_qsize 10, out_qsize 1\n",
      "2021-11-11 11:53:03,952 : INFO : EPOCH 1 - PROGRESS: at 37.52% examples, 322868 words/s, in_qsize 11, out_qsize 0\n",
      "2021-11-11 11:53:04,953 : INFO : EPOCH 1 - PROGRESS: at 43.64% examples, 342779 words/s, in_qsize 11, out_qsize 0\n",
      "2021-11-11 11:53:06,098 : INFO : EPOCH 1 - PROGRESS: at 48.29% examples, 344932 words/s, in_qsize 11, out_qsize 0\n",
      "2021-11-11 11:53:07,269 : INFO : EPOCH 1 - PROGRESS: at 50.82% examples, 331828 words/s, in_qsize 12, out_qsize 1\n",
      "2021-11-11 11:53:08,306 : INFO : EPOCH 1 - PROGRESS: at 53.76% examples, 326207 words/s, in_qsize 10, out_qsize 1\n",
      "2021-11-11 11:53:09,396 : INFO : EPOCH 1 - PROGRESS: at 57.29% examples, 323909 words/s, in_qsize 12, out_qsize 1\n",
      "2021-11-11 11:53:10,401 : INFO : EPOCH 1 - PROGRESS: at 61.89% examples, 329160 words/s, in_qsize 11, out_qsize 0\n",
      "2021-11-11 11:53:11,416 : INFO : EPOCH 1 - PROGRESS: at 65.82% examples, 330316 words/s, in_qsize 11, out_qsize 0\n",
      "2021-11-11 11:53:12,437 : INFO : EPOCH 1 - PROGRESS: at 69.02% examples, 327340 words/s, in_qsize 11, out_qsize 0\n",
      "2021-11-11 11:53:13,469 : INFO : EPOCH 1 - PROGRESS: at 71.66% examples, 322048 words/s, in_qsize 11, out_qsize 0\n",
      "2021-11-11 11:53:14,569 : INFO : EPOCH 1 - PROGRESS: at 74.84% examples, 318540 words/s, in_qsize 12, out_qsize 1\n",
      "2021-11-11 11:53:15,593 : INFO : EPOCH 1 - PROGRESS: at 77.91% examples, 316221 words/s, in_qsize 10, out_qsize 1\n",
      "2021-11-11 11:53:16,602 : INFO : EPOCH 1 - PROGRESS: at 82.56% examples, 319936 words/s, in_qsize 11, out_qsize 0\n",
      "2021-11-11 11:53:17,601 : INFO : EPOCH 1 - PROGRESS: at 87.01% examples, 322926 words/s, in_qsize 11, out_qsize 0\n",
      "2021-11-11 11:53:18,615 : INFO : EPOCH 1 - PROGRESS: at 91.77% examples, 326879 words/s, in_qsize 11, out_qsize 0\n",
      "2021-11-11 11:53:19,624 : INFO : EPOCH 1 - PROGRESS: at 95.39% examples, 326687 words/s, in_qsize 11, out_qsize 0\n",
      "2021-11-11 11:53:20,520 : INFO : worker thread finished; awaiting finish of 5 more threads\n",
      "2021-11-11 11:53:20,550 : INFO : worker thread finished; awaiting finish of 4 more threads\n",
      "2021-11-11 11:53:20,559 : INFO : worker thread finished; awaiting finish of 3 more threads\n",
      "2021-11-11 11:53:20,566 : INFO : worker thread finished; awaiting finish of 2 more threads\n",
      "2021-11-11 11:53:20,568 : INFO : worker thread finished; awaiting finish of 1 more threads\n",
      "2021-11-11 11:53:20,579 : INFO : worker thread finished; awaiting finish of 0 more threads\n",
      "2021-11-11 11:53:20,581 : INFO : EPOCH - 1 : training on 12084660 raw words (8901835 effective words) took 27.0s, 330164 effective words/s\n",
      "2021-11-11 11:53:21,623 : INFO : EPOCH 2 - PROGRESS: at 2.83% examples, 249382 words/s, in_qsize 11, out_qsize 0\n",
      "2021-11-11 11:53:22,713 : INFO : EPOCH 2 - PROGRESS: at 6.25% examples, 265153 words/s, in_qsize 11, out_qsize 0\n",
      "2021-11-11 11:53:23,771 : INFO : EPOCH 2 - PROGRESS: at 10.56% examples, 295910 words/s, in_qsize 11, out_qsize 0\n",
      "2021-11-11 11:53:24,776 : INFO : EPOCH 2 - PROGRESS: at 14.87% examples, 315051 words/s, in_qsize 12, out_qsize 0\n",
      "2021-11-11 11:53:25,806 : INFO : EPOCH 2 - PROGRESS: at 19.68% examples, 334384 words/s, in_qsize 11, out_qsize 0\n",
      "2021-11-11 11:53:26,816 : INFO : EPOCH 2 - PROGRESS: at 24.14% examples, 344138 words/s, in_qsize 12, out_qsize 3\n",
      "2021-11-11 11:53:27,897 : INFO : EPOCH 2 - PROGRESS: at 28.89% examples, 351634 words/s, in_qsize 11, out_qsize 0\n",
      "2021-11-11 11:53:28,910 : INFO : EPOCH 2 - PROGRESS: at 33.78% examples, 361046 words/s, in_qsize 11, out_qsize 0\n",
      "2021-11-11 11:53:29,946 : INFO : EPOCH 2 - PROGRESS: at 37.94% examples, 361186 words/s, in_qsize 11, out_qsize 0\n",
      "2021-11-11 11:53:30,954 : INFO : EPOCH 2 - PROGRESS: at 42.16% examples, 362969 words/s, in_qsize 11, out_qsize 0\n",
      "2021-11-11 11:53:31,969 : INFO : EPOCH 2 - PROGRESS: at 47.19% examples, 370584 words/s, in_qsize 11, out_qsize 0\n",
      "2021-11-11 11:53:32,975 : INFO : EPOCH 2 - PROGRESS: at 52.24% examples, 376265 words/s, in_qsize 11, out_qsize 0\n",
      "2021-11-11 11:53:33,988 : INFO : EPOCH 2 - PROGRESS: at 56.35% examples, 375431 words/s, in_qsize 12, out_qsize 1\n",
      "2021-11-11 11:53:34,996 : INFO : EPOCH 2 - PROGRESS: at 60.93% examples, 377887 words/s, in_qsize 10, out_qsize 1\n",
      "2021-11-11 11:53:36,005 : INFO : EPOCH 2 - PROGRESS: at 64.99% examples, 377068 words/s, in_qsize 9, out_qsize 2\n"
     ]
    },
    {
     "name": "stderr",
     "output_type": "stream",
     "text": [
      "2021-11-11 11:53:37,018 : INFO : EPOCH 2 - PROGRESS: at 69.86% examples, 379797 words/s, in_qsize 8, out_qsize 3\n",
      "2021-11-11 11:53:38,049 : INFO : EPOCH 2 - PROGRESS: at 74.66% examples, 381798 words/s, in_qsize 11, out_qsize 0\n",
      "2021-11-11 11:53:39,062 : INFO : EPOCH 2 - PROGRESS: at 79.32% examples, 382791 words/s, in_qsize 11, out_qsize 0\n",
      "2021-11-11 11:53:40,080 : INFO : EPOCH 2 - PROGRESS: at 83.85% examples, 383565 words/s, in_qsize 10, out_qsize 1\n",
      "2021-11-11 11:53:41,081 : INFO : EPOCH 2 - PROGRESS: at 88.75% examples, 385668 words/s, in_qsize 11, out_qsize 0\n",
      "2021-11-11 11:53:42,112 : INFO : EPOCH 2 - PROGRESS: at 93.44% examples, 386700 words/s, in_qsize 11, out_qsize 0\n",
      "2021-11-11 11:53:43,122 : INFO : EPOCH 2 - PROGRESS: at 98.16% examples, 388220 words/s, in_qsize 11, out_qsize 0\n",
      "2021-11-11 11:53:43,429 : INFO : worker thread finished; awaiting finish of 5 more threads\n",
      "2021-11-11 11:53:43,446 : INFO : worker thread finished; awaiting finish of 4 more threads\n",
      "2021-11-11 11:53:43,449 : INFO : worker thread finished; awaiting finish of 3 more threads\n",
      "2021-11-11 11:53:43,486 : INFO : worker thread finished; awaiting finish of 2 more threads\n",
      "2021-11-11 11:53:43,491 : INFO : worker thread finished; awaiting finish of 1 more threads\n",
      "2021-11-11 11:53:43,537 : INFO : worker thread finished; awaiting finish of 0 more threads\n",
      "2021-11-11 11:53:43,543 : INFO : EPOCH - 2 : training on 12084660 raw words (8901424 effective words) took 22.9s, 388145 effective words/s\n",
      "2021-11-11 11:53:44,560 : INFO : EPOCH 3 - PROGRESS: at 4.09% examples, 366243 words/s, in_qsize 11, out_qsize 0\n",
      "2021-11-11 11:53:45,576 : INFO : EPOCH 3 - PROGRESS: at 8.76% examples, 383442 words/s, in_qsize 11, out_qsize 0\n",
      "2021-11-11 11:53:46,682 : INFO : EPOCH 3 - PROGRESS: at 12.68% examples, 357049 words/s, in_qsize 12, out_qsize 1\n",
      "2021-11-11 11:53:47,743 : INFO : EPOCH 3 - PROGRESS: at 17.40% examples, 366914 words/s, in_qsize 12, out_qsize 0\n",
      "2021-11-11 11:53:48,850 : INFO : EPOCH 3 - PROGRESS: at 22.07% examples, 367660 words/s, in_qsize 12, out_qsize 4\n",
      "2021-11-11 11:53:49,876 : INFO : EPOCH 3 - PROGRESS: at 27.09% examples, 379040 words/s, in_qsize 11, out_qsize 0\n",
      "2021-11-11 11:53:50,884 : INFO : EPOCH 3 - PROGRESS: at 31.69% examples, 383127 words/s, in_qsize 11, out_qsize 0\n",
      "2021-11-11 11:53:51,915 : INFO : EPOCH 3 - PROGRESS: at 36.47% examples, 386852 words/s, in_qsize 10, out_qsize 1\n",
      "2021-11-11 11:53:52,922 : INFO : EPOCH 3 - PROGRESS: at 41.05% examples, 389966 words/s, in_qsize 11, out_qsize 0\n",
      "2021-11-11 11:53:53,933 : INFO : EPOCH 3 - PROGRESS: at 45.76% examples, 393072 words/s, in_qsize 11, out_qsize 0\n",
      "2021-11-11 11:53:54,943 : INFO : EPOCH 3 - PROGRESS: at 50.42% examples, 394508 words/s, in_qsize 11, out_qsize 0\n",
      "2021-11-11 11:53:55,950 : INFO : EPOCH 3 - PROGRESS: at 55.20% examples, 396952 words/s, in_qsize 11, out_qsize 0\n",
      "2021-11-11 11:53:57,000 : INFO : EPOCH 3 - PROGRESS: at 59.86% examples, 397317 words/s, in_qsize 11, out_qsize 0\n",
      "2021-11-11 11:53:58,016 : INFO : EPOCH 3 - PROGRESS: at 64.51% examples, 398453 words/s, in_qsize 11, out_qsize 0\n",
      "2021-11-11 11:53:59,038 : INFO : EPOCH 3 - PROGRESS: at 69.36% examples, 399668 words/s, in_qsize 11, out_qsize 0\n",
      "2021-11-11 11:54:00,128 : INFO : EPOCH 3 - PROGRESS: at 74.26% examples, 399588 words/s, in_qsize 12, out_qsize 2\n",
      "2021-11-11 11:54:01,133 : INFO : EPOCH 3 - PROGRESS: at 79.14% examples, 401021 words/s, in_qsize 11, out_qsize 0\n",
      "2021-11-11 11:54:02,161 : INFO : EPOCH 3 - PROGRESS: at 83.69% examples, 400625 words/s, in_qsize 11, out_qsize 0\n",
      "2021-11-11 11:54:03,167 : INFO : EPOCH 3 - PROGRESS: at 88.23% examples, 400411 words/s, in_qsize 11, out_qsize 0\n",
      "2021-11-11 11:54:04,175 : INFO : EPOCH 3 - PROGRESS: at 93.01% examples, 401525 words/s, in_qsize 11, out_qsize 0\n",
      "2021-11-11 11:54:05,183 : INFO : EPOCH 3 - PROGRESS: at 97.75% examples, 402472 words/s, in_qsize 11, out_qsize 0\n",
      "2021-11-11 11:54:05,577 : INFO : worker thread finished; awaiting finish of 5 more threads\n",
      "2021-11-11 11:54:05,592 : INFO : worker thread finished; awaiting finish of 4 more threads\n",
      "2021-11-11 11:54:05,605 : INFO : worker thread finished; awaiting finish of 3 more threads\n",
      "2021-11-11 11:54:05,630 : INFO : worker thread finished; awaiting finish of 2 more threads\n",
      "2021-11-11 11:54:05,634 : INFO : worker thread finished; awaiting finish of 1 more threads\n",
      "2021-11-11 11:54:05,664 : INFO : worker thread finished; awaiting finish of 0 more threads\n",
      "2021-11-11 11:54:05,683 : INFO : EPOCH - 3 : training on 12084660 raw words (8902224 effective words) took 22.1s, 402278 effective words/s\n",
      "2021-11-11 11:54:06,744 : INFO : EPOCH 4 - PROGRESS: at 3.84% examples, 345304 words/s, in_qsize 12, out_qsize 3\n",
      "2021-11-11 11:54:07,755 : INFO : EPOCH 4 - PROGRESS: at 8.85% examples, 387692 words/s, in_qsize 11, out_qsize 0\n",
      "2021-11-11 11:54:08,768 : INFO : EPOCH 4 - PROGRESS: at 13.71% examples, 399354 words/s, in_qsize 11, out_qsize 0\n",
      "2021-11-11 11:54:09,787 : INFO : EPOCH 4 - PROGRESS: at 18.35% examples, 400542 words/s, in_qsize 11, out_qsize 0\n",
      "2021-11-11 11:54:10,834 : INFO : EPOCH 4 - PROGRESS: at 23.15% examples, 400569 words/s, in_qsize 11, out_qsize 0\n",
      "2021-11-11 11:54:11,854 : INFO : EPOCH 4 - PROGRESS: at 27.98% examples, 404702 words/s, in_qsize 11, out_qsize 0\n",
      "2021-11-11 11:54:12,855 : INFO : EPOCH 4 - PROGRESS: at 32.55% examples, 405654 words/s, in_qsize 11, out_qsize 0\n",
      "2021-11-11 11:54:13,861 : INFO : EPOCH 4 - PROGRESS: at 37.21% examples, 407051 words/s, in_qsize 12, out_qsize 0\n",
      "2021-11-11 11:54:14,864 : INFO : EPOCH 4 - PROGRESS: at 41.38% examples, 403472 words/s, in_qsize 11, out_qsize 0\n",
      "2021-11-11 11:54:15,893 : INFO : EPOCH 4 - PROGRESS: at 45.52% examples, 399565 words/s, in_qsize 12, out_qsize 0\n",
      "2021-11-11 11:54:16,953 : INFO : EPOCH 4 - PROGRESS: at 49.85% examples, 396062 words/s, in_qsize 11, out_qsize 0\n",
      "2021-11-11 11:54:17,957 : INFO : EPOCH 4 - PROGRESS: at 53.20% examples, 387792 words/s, in_qsize 12, out_qsize 0\n",
      "2021-11-11 11:54:18,970 : INFO : EPOCH 4 - PROGRESS: at 56.25% examples, 379012 words/s, in_qsize 11, out_qsize 0\n",
      "2021-11-11 11:54:19,999 : INFO : EPOCH 4 - PROGRESS: at 61.00% examples, 381670 words/s, in_qsize 11, out_qsize 0\n",
      "2021-11-11 11:54:21,067 : INFO : EPOCH 4 - PROGRESS: at 65.83% examples, 383439 words/s, in_qsize 11, out_qsize 0\n",
      "2021-11-11 11:54:22,070 : INFO : EPOCH 4 - PROGRESS: at 70.47% examples, 384707 words/s, in_qsize 11, out_qsize 0\n",
      "2021-11-11 11:54:23,075 : INFO : EPOCH 4 - PROGRESS: at 75.16% examples, 386549 words/s, in_qsize 11, out_qsize 0\n",
      "2021-11-11 11:54:24,107 : INFO : EPOCH 4 - PROGRESS: at 78.97% examples, 382951 words/s, in_qsize 12, out_qsize 0\n",
      "2021-11-11 11:54:25,149 : INFO : EPOCH 4 - PROGRESS: at 82.93% examples, 380622 words/s, in_qsize 12, out_qsize 1\n",
      "2021-11-11 11:54:26,154 : INFO : EPOCH 4 - PROGRESS: at 87.37% examples, 380737 words/s, in_qsize 10, out_qsize 1\n",
      "2021-11-11 11:54:27,177 : INFO : EPOCH 4 - PROGRESS: at 91.49% examples, 379738 words/s, in_qsize 11, out_qsize 0\n",
      "2021-11-11 11:54:28,204 : INFO : EPOCH 4 - PROGRESS: at 95.17% examples, 377152 words/s, in_qsize 11, out_qsize 0\n",
      "2021-11-11 11:54:29,233 : INFO : EPOCH 4 - PROGRESS: at 99.01% examples, 375093 words/s, in_qsize 11, out_qsize 0\n",
      "2021-11-11 11:54:29,354 : INFO : worker thread finished; awaiting finish of 5 more threads\n",
      "2021-11-11 11:54:29,358 : INFO : worker thread finished; awaiting finish of 4 more threads\n",
      "2021-11-11 11:54:29,369 : INFO : worker thread finished; awaiting finish of 3 more threads\n",
      "2021-11-11 11:54:29,401 : INFO : worker thread finished; awaiting finish of 2 more threads\n",
      "2021-11-11 11:54:29,402 : INFO : worker thread finished; awaiting finish of 1 more threads\n",
      "2021-11-11 11:54:29,429 : INFO : worker thread finished; awaiting finish of 0 more threads\n",
      "2021-11-11 11:54:29,435 : INFO : EPOCH - 4 : training on 12084660 raw words (8901777 effective words) took 23.7s, 375658 effective words/s\n",
      "2021-11-11 11:54:30,486 : INFO : EPOCH 5 - PROGRESS: at 3.44% examples, 310646 words/s, in_qsize 11, out_qsize 0\n",
      "2021-11-11 11:54:31,545 : INFO : EPOCH 5 - PROGRESS: at 8.78% examples, 376118 words/s, in_qsize 11, out_qsize 0\n",
      "2021-11-11 11:54:32,546 : INFO : EPOCH 5 - PROGRESS: at 13.55% examples, 390895 words/s, in_qsize 10, out_qsize 1\n"
     ]
    },
    {
     "name": "stderr",
     "output_type": "stream",
     "text": [
      "2021-11-11 11:54:33,580 : INFO : EPOCH 5 - PROGRESS: at 17.90% examples, 385794 words/s, in_qsize 10, out_qsize 1\n",
      "2021-11-11 11:54:34,617 : INFO : EPOCH 5 - PROGRESS: at 21.91% examples, 376566 words/s, in_qsize 11, out_qsize 0\n",
      "2021-11-11 11:54:35,629 : INFO : EPOCH 5 - PROGRESS: at 27.17% examples, 391155 words/s, in_qsize 11, out_qsize 0\n",
      "2021-11-11 11:54:36,644 : INFO : EPOCH 5 - PROGRESS: at 32.40% examples, 401260 words/s, in_qsize 11, out_qsize 0\n",
      "2021-11-11 11:54:37,677 : INFO : EPOCH 5 - PROGRESS: at 37.23% examples, 403619 words/s, in_qsize 11, out_qsize 0\n",
      "2021-11-11 11:54:38,695 : INFO : EPOCH 5 - PROGRESS: at 42.82% examples, 413952 words/s, in_qsize 11, out_qsize 0\n",
      "2021-11-11 11:54:39,741 : INFO : EPOCH 5 - PROGRESS: at 47.87% examples, 416102 words/s, in_qsize 11, out_qsize 0\n",
      "2021-11-11 11:54:40,765 : INFO : EPOCH 5 - PROGRESS: at 53.10% examples, 419525 words/s, in_qsize 10, out_qsize 1\n",
      "2021-11-11 11:54:41,782 : INFO : EPOCH 5 - PROGRESS: at 58.27% examples, 422681 words/s, in_qsize 11, out_qsize 0\n",
      "2021-11-11 11:54:42,809 : INFO : EPOCH 5 - PROGRESS: at 63.04% examples, 422673 words/s, in_qsize 11, out_qsize 0\n",
      "2021-11-11 11:54:43,812 : INFO : EPOCH 5 - PROGRESS: at 67.46% examples, 420314 words/s, in_qsize 11, out_qsize 0\n",
      "2021-11-11 11:54:44,817 : INFO : EPOCH 5 - PROGRESS: at 72.49% examples, 421612 words/s, in_qsize 11, out_qsize 0\n",
      "2021-11-11 11:54:45,821 : INFO : EPOCH 5 - PROGRESS: at 77.33% examples, 422249 words/s, in_qsize 11, out_qsize 0\n",
      "2021-11-11 11:54:46,836 : INFO : EPOCH 5 - PROGRESS: at 81.99% examples, 420869 words/s, in_qsize 11, out_qsize 0\n",
      "2021-11-11 11:54:47,852 : INFO : EPOCH 5 - PROGRESS: at 87.19% examples, 422443 words/s, in_qsize 11, out_qsize 0\n",
      "2021-11-11 11:54:48,871 : INFO : EPOCH 5 - PROGRESS: at 92.19% examples, 423357 words/s, in_qsize 12, out_qsize 1\n",
      "2021-11-11 11:54:49,897 : INFO : EPOCH 5 - PROGRESS: at 97.16% examples, 423952 words/s, in_qsize 11, out_qsize 0\n",
      "2021-11-11 11:54:50,356 : INFO : worker thread finished; awaiting finish of 5 more threads\n",
      "2021-11-11 11:54:50,358 : INFO : worker thread finished; awaiting finish of 4 more threads\n",
      "2021-11-11 11:54:50,364 : INFO : worker thread finished; awaiting finish of 3 more threads\n",
      "2021-11-11 11:54:50,370 : INFO : worker thread finished; awaiting finish of 2 more threads\n",
      "2021-11-11 11:54:50,382 : INFO : worker thread finished; awaiting finish of 1 more threads\n",
      "2021-11-11 11:54:50,407 : INFO : worker thread finished; awaiting finish of 0 more threads\n",
      "2021-11-11 11:54:50,409 : INFO : EPOCH - 5 : training on 12084660 raw words (8902061 effective words) took 20.9s, 425444 effective words/s\n",
      "2021-11-11 11:54:51,472 : INFO : EPOCH 6 - PROGRESS: at 4.87% examples, 433868 words/s, in_qsize 11, out_qsize 0\n",
      "2021-11-11 11:54:52,488 : INFO : EPOCH 6 - PROGRESS: at 10.56% examples, 463330 words/s, in_qsize 11, out_qsize 0\n",
      "2021-11-11 11:54:53,489 : INFO : EPOCH 6 - PROGRESS: at 15.85% examples, 463595 words/s, in_qsize 11, out_qsize 0\n",
      "2021-11-11 11:54:54,494 : INFO : EPOCH 6 - PROGRESS: at 20.72% examples, 455230 words/s, in_qsize 12, out_qsize 0\n",
      "2021-11-11 11:54:55,505 : INFO : EPOCH 6 - PROGRESS: at 25.83% examples, 454263 words/s, in_qsize 11, out_qsize 0\n",
      "2021-11-11 11:54:56,520 : INFO : EPOCH 6 - PROGRESS: at 31.22% examples, 456876 words/s, in_qsize 12, out_qsize 0\n",
      "2021-11-11 11:54:57,550 : INFO : EPOCH 6 - PROGRESS: at 36.53% examples, 457709 words/s, in_qsize 11, out_qsize 0\n",
      "2021-11-11 11:54:58,570 : INFO : EPOCH 6 - PROGRESS: at 41.12% examples, 451811 words/s, in_qsize 11, out_qsize 0\n",
      "2021-11-11 11:54:59,584 : INFO : EPOCH 6 - PROGRESS: at 45.92% examples, 449102 words/s, in_qsize 11, out_qsize 0\n",
      "2021-11-11 11:55:00,609 : INFO : EPOCH 6 - PROGRESS: at 50.51% examples, 443725 words/s, in_qsize 10, out_qsize 1\n",
      "2021-11-11 11:55:01,692 : INFO : EPOCH 6 - PROGRESS: at 55.37% examples, 439685 words/s, in_qsize 11, out_qsize 0\n",
      "2021-11-11 11:55:02,705 : INFO : EPOCH 6 - PROGRESS: at 59.46% examples, 433533 words/s, in_qsize 11, out_qsize 0\n",
      "2021-11-11 11:55:03,716 : INFO : EPOCH 6 - PROGRESS: at 64.67% examples, 435960 words/s, in_qsize 11, out_qsize 0\n",
      "2021-11-11 11:55:04,744 : INFO : EPOCH 6 - PROGRESS: at 69.38% examples, 433458 words/s, in_qsize 11, out_qsize 0\n",
      "2021-11-11 11:55:05,769 : INFO : EPOCH 6 - PROGRESS: at 73.89% examples, 430382 words/s, in_qsize 11, out_qsize 0\n",
      "2021-11-11 11:55:06,801 : INFO : EPOCH 6 - PROGRESS: at 79.14% examples, 431550 words/s, in_qsize 10, out_qsize 1\n",
      "2021-11-11 11:55:07,810 : INFO : EPOCH 6 - PROGRESS: at 84.47% examples, 433963 words/s, in_qsize 11, out_qsize 0\n",
      "2021-11-11 11:55:08,864 : INFO : EPOCH 6 - PROGRESS: at 90.00% examples, 435456 words/s, in_qsize 11, out_qsize 0\n",
      "2021-11-11 11:55:09,887 : INFO : EPOCH 6 - PROGRESS: at 95.17% examples, 436276 words/s, in_qsize 11, out_qsize 0\n",
      "2021-11-11 11:55:10,732 : INFO : worker thread finished; awaiting finish of 5 more threads\n",
      "2021-11-11 11:55:10,790 : INFO : worker thread finished; awaiting finish of 4 more threads\n",
      "2021-11-11 11:55:10,821 : INFO : worker thread finished; awaiting finish of 3 more threads\n",
      "2021-11-11 11:55:10,839 : INFO : worker thread finished; awaiting finish of 2 more threads\n",
      "2021-11-11 11:55:10,907 : INFO : EPOCH 6 - PROGRESS: at 99.93% examples, 435124 words/s, in_qsize 1, out_qsize 1\n",
      "2021-11-11 11:55:10,909 : INFO : worker thread finished; awaiting finish of 1 more threads\n",
      "2021-11-11 11:55:10,920 : INFO : worker thread finished; awaiting finish of 0 more threads\n",
      "2021-11-11 11:55:10,922 : INFO : EPOCH - 6 : training on 12084660 raw words (8898703 effective words) took 20.4s, 435151 effective words/s\n",
      "2021-11-11 11:55:12,015 : INFO : EPOCH 7 - PROGRESS: at 4.87% examples, 417687 words/s, in_qsize 11, out_qsize 0\n",
      "2021-11-11 11:55:13,018 : INFO : EPOCH 7 - PROGRESS: at 9.92% examples, 429122 words/s, in_qsize 10, out_qsize 1\n",
      "2021-11-11 11:55:14,024 : INFO : EPOCH 7 - PROGRESS: at 15.03% examples, 434959 words/s, in_qsize 11, out_qsize 0\n",
      "2021-11-11 11:55:15,080 : INFO : EPOCH 7 - PROGRESS: at 19.99% examples, 430168 words/s, in_qsize 11, out_qsize 0\n",
      "2021-11-11 11:55:16,115 : INFO : EPOCH 7 - PROGRESS: at 24.52% examples, 422490 words/s, in_qsize 11, out_qsize 0\n",
      "2021-11-11 11:55:17,124 : INFO : EPOCH 7 - PROGRESS: at 29.14% examples, 420188 words/s, in_qsize 11, out_qsize 0\n",
      "2021-11-11 11:55:18,136 : INFO : EPOCH 7 - PROGRESS: at 32.87% examples, 407252 words/s, in_qsize 11, out_qsize 0\n",
      "2021-11-11 11:55:19,137 : INFO : EPOCH 7 - PROGRESS: at 37.69% examples, 410313 words/s, in_qsize 11, out_qsize 0\n",
      "2021-11-11 11:55:20,176 : INFO : EPOCH 7 - PROGRESS: at 42.49% examples, 411146 words/s, in_qsize 11, out_qsize 0\n",
      "2021-11-11 11:55:21,178 : INFO : EPOCH 7 - PROGRESS: at 47.53% examples, 415455 words/s, in_qsize 12, out_qsize 0\n",
      "2021-11-11 11:55:22,181 : INFO : EPOCH 7 - PROGRESS: at 52.89% examples, 420291 words/s, in_qsize 11, out_qsize 0\n",
      "2021-11-11 11:55:23,192 : INFO : EPOCH 7 - PROGRESS: at 56.84% examples, 414669 words/s, in_qsize 11, out_qsize 0\n",
      "2021-11-11 11:55:24,200 : INFO : EPOCH 7 - PROGRESS: at 61.34% examples, 413818 words/s, in_qsize 9, out_qsize 2\n",
      "2021-11-11 11:55:25,206 : INFO : EPOCH 7 - PROGRESS: at 66.46% examples, 417048 words/s, in_qsize 12, out_qsize 0\n",
      "2021-11-11 11:55:26,273 : INFO : EPOCH 7 - PROGRESS: at 71.90% examples, 419190 words/s, in_qsize 11, out_qsize 0\n",
      "2021-11-11 11:55:27,299 : INFO : EPOCH 7 - PROGRESS: at 76.95% examples, 420267 words/s, in_qsize 10, out_qsize 1\n",
      "2021-11-11 11:55:28,315 : INFO : EPOCH 7 - PROGRESS: at 82.47% examples, 423550 words/s, in_qsize 11, out_qsize 0\n",
      "2021-11-11 11:55:29,357 : INFO : EPOCH 7 - PROGRESS: at 88.07% examples, 426397 words/s, in_qsize 12, out_qsize 0\n",
      "2021-11-11 11:55:30,384 : INFO : EPOCH 7 - PROGRESS: at 93.01% examples, 426538 words/s, in_qsize 11, out_qsize 0\n",
      "2021-11-11 11:55:31,385 : INFO : EPOCH 7 - PROGRESS: at 98.16% examples, 428216 words/s, in_qsize 11, out_qsize 2\n",
      "2021-11-11 11:55:31,655 : INFO : worker thread finished; awaiting finish of 5 more threads\n",
      "2021-11-11 11:55:31,659 : INFO : worker thread finished; awaiting finish of 4 more threads\n",
      "2021-11-11 11:55:31,662 : INFO : worker thread finished; awaiting finish of 3 more threads\n",
      "2021-11-11 11:55:31,696 : INFO : worker thread finished; awaiting finish of 2 more threads\n"
     ]
    },
    {
     "name": "stderr",
     "output_type": "stream",
     "text": [
      "2021-11-11 11:55:31,698 : INFO : worker thread finished; awaiting finish of 1 more threads\n",
      "2021-11-11 11:55:31,763 : INFO : worker thread finished; awaiting finish of 0 more threads\n",
      "2021-11-11 11:55:31,767 : INFO : EPOCH - 7 : training on 12084660 raw words (8901039 effective words) took 20.8s, 428104 effective words/s\n",
      "2021-11-11 11:55:32,858 : INFO : EPOCH 8 - PROGRESS: at 5.28% examples, 458366 words/s, in_qsize 11, out_qsize 0\n",
      "2021-11-11 11:55:33,862 : INFO : EPOCH 8 - PROGRESS: at 10.48% examples, 457011 words/s, in_qsize 11, out_qsize 0\n",
      "2021-11-11 11:55:34,909 : INFO : EPOCH 8 - PROGRESS: at 16.00% examples, 459418 words/s, in_qsize 12, out_qsize 0\n",
      "2021-11-11 11:55:35,927 : INFO : EPOCH 8 - PROGRESS: at 21.56% examples, 464888 words/s, in_qsize 11, out_qsize 0\n",
      "2021-11-11 11:55:36,930 : INFO : EPOCH 8 - PROGRESS: at 26.74% examples, 464214 words/s, in_qsize 11, out_qsize 0\n",
      "2021-11-11 11:55:37,944 : INFO : EPOCH 8 - PROGRESS: at 32.08% examples, 465206 words/s, in_qsize 11, out_qsize 0\n",
      "2021-11-11 11:55:38,969 : INFO : EPOCH 8 - PROGRESS: at 37.28% examples, 464259 words/s, in_qsize 11, out_qsize 0\n",
      "2021-11-11 11:55:39,971 : INFO : EPOCH 8 - PROGRESS: at 41.94% examples, 458630 words/s, in_qsize 12, out_qsize 0\n",
      "2021-11-11 11:55:40,975 : INFO : EPOCH 8 - PROGRESS: at 47.10% examples, 459622 words/s, in_qsize 10, out_qsize 1\n",
      "2021-11-11 11:55:41,976 : INFO : EPOCH 8 - PROGRESS: at 52.88% examples, 464340 words/s, in_qsize 11, out_qsize 0\n",
      "2021-11-11 11:55:42,985 : INFO : EPOCH 8 - PROGRESS: at 58.28% examples, 466019 words/s, in_qsize 12, out_qsize 0\n",
      "2021-11-11 11:55:43,992 : INFO : EPOCH 8 - PROGRESS: at 63.13% examples, 463694 words/s, in_qsize 11, out_qsize 0\n",
      "2021-11-11 11:55:44,998 : INFO : EPOCH 8 - PROGRESS: at 68.80% examples, 466217 words/s, in_qsize 11, out_qsize 0\n",
      "2021-11-11 11:55:46,013 : INFO : EPOCH 8 - PROGRESS: at 75.07% examples, 472151 words/s, in_qsize 11, out_qsize 0\n",
      "2021-11-11 11:55:47,019 : INFO : EPOCH 8 - PROGRESS: at 81.10% examples, 475616 words/s, in_qsize 11, out_qsize 0\n",
      "2021-11-11 11:55:48,021 : INFO : EPOCH 8 - PROGRESS: at 86.44% examples, 475271 words/s, in_qsize 11, out_qsize 0\n",
      "2021-11-11 11:55:49,032 : INFO : EPOCH 8 - PROGRESS: at 91.26% examples, 472177 words/s, in_qsize 11, out_qsize 0\n",
      "2021-11-11 11:55:50,049 : INFO : EPOCH 8 - PROGRESS: at 96.24% examples, 470716 words/s, in_qsize 11, out_qsize 0\n",
      "2021-11-11 11:55:50,695 : INFO : worker thread finished; awaiting finish of 5 more threads\n",
      "2021-11-11 11:55:50,703 : INFO : worker thread finished; awaiting finish of 4 more threads\n",
      "2021-11-11 11:55:50,711 : INFO : worker thread finished; awaiting finish of 3 more threads\n",
      "2021-11-11 11:55:50,713 : INFO : worker thread finished; awaiting finish of 2 more threads\n",
      "2021-11-11 11:55:50,782 : INFO : worker thread finished; awaiting finish of 1 more threads\n",
      "2021-11-11 11:55:50,788 : INFO : worker thread finished; awaiting finish of 0 more threads\n",
      "2021-11-11 11:55:50,790 : INFO : EPOCH - 8 : training on 12084660 raw words (8902167 effective words) took 19.0s, 469585 effective words/s\n",
      "2021-11-11 11:55:51,863 : INFO : EPOCH 9 - PROGRESS: at 4.61% examples, 410634 words/s, in_qsize 10, out_qsize 1\n",
      "2021-11-11 11:55:52,900 : INFO : EPOCH 9 - PROGRESS: at 9.83% examples, 425576 words/s, in_qsize 10, out_qsize 1\n",
      "2021-11-11 11:55:53,935 : INFO : EPOCH 9 - PROGRESS: at 14.86% examples, 426178 words/s, in_qsize 12, out_qsize 2\n",
      "2021-11-11 11:55:54,945 : INFO : EPOCH 9 - PROGRESS: at 20.22% examples, 437153 words/s, in_qsize 12, out_qsize 0\n",
      "2021-11-11 11:55:55,953 : INFO : EPOCH 9 - PROGRESS: at 24.85% examples, 431818 words/s, in_qsize 11, out_qsize 0\n",
      "2021-11-11 11:55:56,984 : INFO : EPOCH 9 - PROGRESS: at 29.74% examples, 430066 words/s, in_qsize 11, out_qsize 0\n",
      "2021-11-11 11:55:58,001 : INFO : EPOCH 9 - PROGRESS: at 34.53% examples, 428510 words/s, in_qsize 12, out_qsize 3\n",
      "2021-11-11 11:55:59,005 : INFO : EPOCH 9 - PROGRESS: at 39.89% examples, 435947 words/s, in_qsize 11, out_qsize 0\n",
      "2021-11-11 11:56:00,047 : INFO : EPOCH 9 - PROGRESS: at 45.44% examples, 440859 words/s, in_qsize 11, out_qsize 0\n",
      "2021-11-11 11:56:01,057 : INFO : EPOCH 9 - PROGRESS: at 50.01% examples, 437009 words/s, in_qsize 11, out_qsize 0\n",
      "2021-11-11 11:56:02,066 : INFO : EPOCH 9 - PROGRESS: at 54.79% examples, 435936 words/s, in_qsize 11, out_qsize 0\n",
      "2021-11-11 11:56:03,124 : INFO : EPOCH 9 - PROGRESS: at 59.46% examples, 432605 words/s, in_qsize 11, out_qsize 0\n",
      "2021-11-11 11:56:04,132 : INFO : EPOCH 9 - PROGRESS: at 64.12% examples, 431371 words/s, in_qsize 11, out_qsize 0\n",
      "2021-11-11 11:56:05,139 : INFO : EPOCH 9 - PROGRESS: at 69.35% examples, 433378 words/s, in_qsize 11, out_qsize 0\n",
      "2021-11-11 11:56:06,140 : INFO : EPOCH 9 - PROGRESS: at 74.52% examples, 434774 words/s, in_qsize 11, out_qsize 0\n",
      "2021-11-11 11:56:07,152 : INFO : EPOCH 9 - PROGRESS: at 79.75% examples, 435755 words/s, in_qsize 11, out_qsize 0\n",
      "2021-11-11 11:56:08,153 : INFO : EPOCH 9 - PROGRESS: at 85.05% examples, 438165 words/s, in_qsize 11, out_qsize 0\n",
      "2021-11-11 11:56:09,154 : INFO : EPOCH 9 - PROGRESS: at 90.76% examples, 441481 words/s, in_qsize 10, out_qsize 1\n",
      "2021-11-11 11:56:10,162 : INFO : EPOCH 9 - PROGRESS: at 95.86% examples, 442289 words/s, in_qsize 11, out_qsize 0\n",
      "2021-11-11 11:56:11,114 : INFO : worker thread finished; awaiting finish of 5 more threads\n",
      "2021-11-11 11:56:11,116 : INFO : worker thread finished; awaiting finish of 4 more threads\n",
      "2021-11-11 11:56:11,121 : INFO : worker thread finished; awaiting finish of 3 more threads\n",
      "2021-11-11 11:56:11,125 : INFO : worker thread finished; awaiting finish of 2 more threads\n",
      "2021-11-11 11:56:11,131 : INFO : worker thread finished; awaiting finish of 1 more threads\n",
      "2021-11-11 11:56:11,155 : INFO : worker thread finished; awaiting finish of 0 more threads\n",
      "2021-11-11 11:56:11,158 : INFO : EPOCH - 9 : training on 12084660 raw words (8901480 effective words) took 20.3s, 438496 effective words/s\n",
      "2021-11-11 11:56:12,252 : INFO : EPOCH 10 - PROGRESS: at 3.51% examples, 300739 words/s, in_qsize 10, out_qsize 1\n",
      "2021-11-11 11:56:13,255 : INFO : EPOCH 10 - PROGRESS: at 8.59% examples, 369219 words/s, in_qsize 11, out_qsize 0\n",
      "2021-11-11 11:56:14,282 : INFO : EPOCH 10 - PROGRESS: at 13.57% examples, 387460 words/s, in_qsize 12, out_qsize 1\n",
      "2021-11-11 11:56:15,290 : INFO : EPOCH 10 - PROGRESS: at 19.02% examples, 410124 words/s, in_qsize 11, out_qsize 0\n",
      "2021-11-11 11:56:16,301 : INFO : EPOCH 10 - PROGRESS: at 23.92% examples, 414001 words/s, in_qsize 10, out_qsize 1\n",
      "2021-11-11 11:56:17,303 : INFO : EPOCH 10 - PROGRESS: at 29.39% examples, 426623 words/s, in_qsize 11, out_qsize 0\n",
      "2021-11-11 11:56:18,313 : INFO : EPOCH 10 - PROGRESS: at 34.74% examples, 433053 words/s, in_qsize 11, out_qsize 0\n",
      "2021-11-11 11:56:19,313 : INFO : EPOCH 10 - PROGRESS: at 39.26% examples, 430387 words/s, in_qsize 11, out_qsize 0\n",
      "2021-11-11 11:56:20,332 : INFO : EPOCH 10 - PROGRESS: at 44.11% examples, 429931 words/s, in_qsize 11, out_qsize 0\n",
      "2021-11-11 11:56:21,369 : INFO : EPOCH 10 - PROGRESS: at 49.18% examples, 430927 words/s, in_qsize 11, out_qsize 0\n",
      "2021-11-11 11:56:22,395 : INFO : EPOCH 10 - PROGRESS: at 54.31% examples, 432271 words/s, in_qsize 11, out_qsize 0\n",
      "2021-11-11 11:56:23,447 : INFO : EPOCH 10 - PROGRESS: at 58.90% examples, 428978 words/s, in_qsize 11, out_qsize 0\n",
      "2021-11-11 11:56:24,459 : INFO : EPOCH 10 - PROGRESS: at 63.72% examples, 428944 words/s, in_qsize 11, out_qsize 0\n",
      "2021-11-11 11:56:25,462 : INFO : EPOCH 10 - PROGRESS: at 68.39% examples, 427669 words/s, in_qsize 12, out_qsize 0\n",
      "2021-11-11 11:56:26,467 : INFO : EPOCH 10 - PROGRESS: at 73.49% examples, 428929 words/s, in_qsize 11, out_qsize 0\n",
      "2021-11-11 11:56:27,595 : INFO : EPOCH 10 - PROGRESS: at 77.50% examples, 421425 words/s, in_qsize 12, out_qsize 3\n",
      "2021-11-11 11:56:28,613 : INFO : EPOCH 10 - PROGRESS: at 81.59% examples, 417083 words/s, in_qsize 12, out_qsize 0\n",
      "2021-11-11 11:56:29,693 : INFO : EPOCH 10 - PROGRESS: at 85.94% examples, 413531 words/s, in_qsize 12, out_qsize 0\n",
      "2021-11-11 11:56:30,782 : INFO : EPOCH 10 - PROGRESS: at 89.93% examples, 408632 words/s, in_qsize 11, out_qsize 0\n",
      "2021-11-11 11:56:31,789 : INFO : EPOCH 10 - PROGRESS: at 93.63% examples, 404791 words/s, in_qsize 11, out_qsize 0\n"
     ]
    },
    {
     "name": "stderr",
     "output_type": "stream",
     "text": [
      "2021-11-11 11:56:32,816 : INFO : EPOCH 10 - PROGRESS: at 98.24% examples, 404577 words/s, in_qsize 10, out_qsize 1\n",
      "2021-11-11 11:56:33,094 : INFO : worker thread finished; awaiting finish of 5 more threads\n",
      "2021-11-11 11:56:33,098 : INFO : worker thread finished; awaiting finish of 4 more threads\n",
      "2021-11-11 11:56:33,150 : INFO : worker thread finished; awaiting finish of 3 more threads\n",
      "2021-11-11 11:56:33,152 : INFO : worker thread finished; awaiting finish of 2 more threads\n",
      "2021-11-11 11:56:33,162 : INFO : worker thread finished; awaiting finish of 1 more threads\n",
      "2021-11-11 11:56:33,184 : INFO : worker thread finished; awaiting finish of 0 more threads\n",
      "2021-11-11 11:56:33,186 : INFO : EPOCH - 10 : training on 12084660 raw words (8902042 effective words) took 22.0s, 404790 effective words/s\n",
      "2021-11-11 11:56:33,191 : INFO : Word2Vec lifecycle event {'msg': 'training on 120846600 raw words (89014752 effective words) took 219.7s, 405184 effective words/s', 'datetime': '2021-11-11T11:56:33.191133', 'gensim': '4.1.2', 'python': '3.8.5 (default, Sep  3 2020, 21:29:08) [MSC v.1916 64 bit (AMD64)]', 'platform': 'Windows-10-10.0.22000-SP0', 'event': 'train'}\n",
      "2021-11-11 11:56:33,192 : INFO : Word2Vec lifecycle event {'params': 'Word2Vec(vocab=39730, vector_size=300, alpha=0.025)', 'datetime': '2021-11-11T11:56:33.192130', 'gensim': '4.1.2', 'python': '3.8.5 (default, Sep  3 2020, 21:29:08) [MSC v.1916 64 bit (AMD64)]', 'platform': 'Windows-10-10.0.22000-SP0', 'event': 'created'}\n"
     ]
    }
   ],
   "source": [
    "#Build the model\n",
    "model = gensim.models.Word2Vec(documents, #Word list\n",
    "                               min_count=5, #Ignore all words with total frequency lower than this                           \n",
    "                               workers=6, #Number of CPU Cores\n",
    "                               vector_size=300,  #Embedding size\n",
    "                               window=5, #Maximum Distance between current and predicted word\n",
    "                               epochs=10   #Number of iterations over the text corpus\n",
    "                              )  "
   ]
  },
  {
   "cell_type": "markdown",
   "metadata": {
    "id": "gDY9oFflaiwC"
   },
   "source": [
    "# Exploring the model"
   ]
  },
  {
   "cell_type": "markdown",
   "metadata": {
    "id": "Wnn8dzYTaiwD"
   },
   "source": [
    "### How many words in the model"
   ]
  },
  {
   "cell_type": "markdown",
   "metadata": {
    "id": "WgqQ11DDaiwL"
   },
   "source": [
    "### Get an embedding for a word"
   ]
  },
  {
   "cell_type": "code",
   "execution_count": 26,
   "metadata": {
    "colab": {
     "base_uri": "https://localhost:8080/"
    },
    "executionInfo": {
     "elapsed": 3,
     "status": "ok",
     "timestamp": 1623568910021,
     "user": {
      "displayName": "Sayan Dey",
      "photoUrl": "https://lh3.googleusercontent.com/a-/AOh14GgqVHJ9o6-7idGiRbNNd4iVc1VjzvuPnwmAnvEtD6U=s64",
      "userId": "03603580465490055794"
     },
     "user_tz": -330
    },
    "id": "FKybdCKfaiwM",
    "outputId": "340cdb45-e461-4451-b53d-f68ee90a91e0",
    "scrolled": true
   },
   "outputs": [
    {
     "data": {
      "text/plain": [
       "array([-5.63788593e-01, -6.89677417e-01, -3.01642627e-01,  2.18799639e+00,\n",
       "       -2.50496149e-01,  8.78002942e-01, -1.17330766e+00, -3.51755649e-01,\n",
       "        1.30101585e+00,  1.03170145e+00, -5.80828428e-01,  1.41137004e+00,\n",
       "        1.18380570e+00, -7.72952199e-01, -3.44287634e-01, -1.88736096e-01,\n",
       "       -9.02953684e-01,  1.06075895e+00, -1.02779019e+00,  1.70692945e+00,\n",
       "       -7.66478896e-01,  3.65525514e-01, -3.22231650e-01,  1.95920289e-01,\n",
       "        4.21076924e-01, -1.31468916e+00,  1.75107563e+00,  6.16433203e-01,\n",
       "        3.64473015e-02, -1.09578215e-01,  1.59861195e+00,  7.57923946e-02,\n",
       "        1.92975760e+00,  1.64625376e-01,  9.86693799e-01, -1.74801648e-01,\n",
       "        1.67123228e-01,  1.64913201e+00, -7.62779653e-01, -1.41143692e+00,\n",
       "       -2.93485194e-01,  9.29598927e-01, -1.43900037e-01,  2.58652091e-01,\n",
       "       -3.48249704e-01, -2.06696421e-01,  3.36588502e-01,  1.47412193e+00,\n",
       "        8.17290962e-01, -6.15421653e-01,  6.21364295e-01, -6.72095835e-01,\n",
       "       -1.08734906e+00, -4.41129386e-01, -1.45906043e+00, -3.29905063e-01,\n",
       "        2.18522477e+00,  2.49476552e-01,  3.58744025e-01,  1.17674685e+00,\n",
       "       -6.01987720e-01, -1.90790045e+00,  1.90973568e+00,  4.05996621e-01,\n",
       "        1.88885641e+00, -3.82627070e-01,  1.82469428e-01,  1.21381931e-01,\n",
       "        3.56947154e-01, -1.13578916e+00,  1.61663508e+00,  4.73518312e-01,\n",
       "       -2.17487073e+00, -4.87009324e-02, -4.20998216e-01, -2.16456845e-01,\n",
       "       -1.39056772e-01,  7.14101911e-01, -7.08022654e-01, -1.97507715e+00,\n",
       "       -2.90372819e-01,  1.07238650e+00,  2.97725141e-01, -1.56571651e+00,\n",
       "       -9.68622923e-01, -1.91039169e+00,  6.26539707e-01, -5.68536639e-01,\n",
       "       -7.68293619e-01, -2.67755479e-01,  1.56443012e+00,  1.93581736e+00,\n",
       "        8.16234410e-01,  7.67926157e-01,  3.32072794e-01,  6.21671006e-02,\n",
       "       -3.80928576e-01, -1.00768232e+00,  5.87637007e-01,  5.36491811e-01,\n",
       "        4.96262461e-01,  8.96291554e-01, -2.10544300e+00,  1.05174981e-01,\n",
       "       -9.79922116e-01, -5.44853747e-01, -1.57632351e+00, -2.69635749e+00,\n",
       "        1.25058520e+00, -6.41162217e-01,  2.45969146e-01,  4.30005312e-01,\n",
       "        8.39851975e-01,  8.64265263e-02,  1.17705679e+00, -8.56915712e-01,\n",
       "        1.02015460e+00,  9.82202947e-01, -1.06961131e+00, -4.39964920e-01,\n",
       "       -1.23015916e+00, -2.95623094e-01, -8.06803331e-02,  4.88271452e-02,\n",
       "        4.73522455e-01,  4.58894640e-01, -4.47385371e-01,  9.63146448e-01,\n",
       "        6.43503368e-01, -9.98176396e-01,  4.90649998e-01,  1.31612444e+00,\n",
       "       -6.28022432e-01,  1.08059801e-01,  2.71513909e-01,  1.52707756e+00,\n",
       "        2.45660573e-01,  1.71622241e+00, -2.43424118e-01, -5.99739924e-02,\n",
       "       -1.34509444e+00,  3.94973665e-01,  4.20567900e-01,  1.49342573e+00,\n",
       "       -1.44053563e-01,  4.00721759e-01,  3.79061007e+00, -1.34282351e+00,\n",
       "       -2.59446001e+00,  5.34999311e-01, -8.71628463e-01,  8.34402204e-01,\n",
       "        1.60343337e+00,  5.25016010e-01, -1.85583532e-01,  7.64973044e-01,\n",
       "        3.18552077e-01,  7.03439713e-01,  6.18030131e-01,  6.01288795e-01,\n",
       "       -1.14478433e+00, -5.46909630e-01,  8.78302038e-01,  9.81396258e-01,\n",
       "        3.37862164e-01,  1.03185010e+00,  5.56188673e-02, -4.87351388e-01,\n",
       "       -3.79495502e-01,  5.65769553e-01,  2.22491294e-01, -6.04999840e-01,\n",
       "        4.42601174e-01,  1.52471244e-01,  2.62838602e+00,  2.39623278e-01,\n",
       "        1.57436416e-01,  1.10046339e+00,  1.00964713e+00, -4.74681318e-01,\n",
       "       -8.49516541e-02, -1.81507754e+00,  8.35875213e-01,  2.30642736e-01,\n",
       "       -8.00520360e-01, -1.66260600e+00, -1.06336869e-01,  1.65776408e+00,\n",
       "        1.37365893e-01,  1.39805317e+00,  8.77458632e-01, -2.71932316e+00,\n",
       "        1.22615851e-01, -5.33068299e-01, -1.60683423e-01, -5.13471127e-01,\n",
       "        7.93541670e-01,  1.82501245e+00,  6.92286968e-01,  1.31711876e+00,\n",
       "       -4.96470893e-04,  6.98387682e-01, -1.66051054e+00,  4.46582228e-01,\n",
       "       -5.32188654e-01,  1.49421120e+00, -2.11137271e+00, -1.70021641e+00,\n",
       "       -1.01696052e-01, -1.15758288e+00,  4.70222831e-02,  2.09252739e+00,\n",
       "       -8.48523006e-02,  9.19256806e-01,  6.45966172e-01, -4.88186389e-01,\n",
       "       -2.94438034e-01,  9.43493128e-01,  4.98482496e-01,  8.35943937e-01,\n",
       "       -1.67635009e-01, -7.33251035e-01, -7.44605139e-02,  6.43015683e-01,\n",
       "        9.46563184e-02,  1.15705705e+00,  8.38361561e-01,  3.13668817e-01,\n",
       "       -1.16015375e+00,  6.96137547e-01, -6.47979677e-02, -1.92985559e+00,\n",
       "       -6.32402182e-01,  2.03538034e-02,  7.65044928e-01,  1.85469651e+00,\n",
       "       -4.51302081e-01,  1.28375685e+00,  1.57258654e+00,  5.77383637e-01,\n",
       "        1.21105647e+00, -4.79056239e-01,  1.15731619e-01, -4.61283237e-01,\n",
       "        5.31834252e-02,  8.50807548e-01,  2.39654168e-01,  3.53092402e-02,\n",
       "        3.95187408e-01, -3.43552113e-01, -9.64615703e-01, -1.17453349e+00,\n",
       "       -4.64369833e-01,  1.15128100e+00,  1.67048857e-01,  5.50091147e-01,\n",
       "        1.44071996e+00,  1.19147456e+00,  1.83140159e+00,  1.89474332e+00,\n",
       "        3.18293840e-01,  1.72305965e+00,  7.02429237e-03,  2.30182838e+00,\n",
       "       -1.07220188e-01,  1.28308821e+00, -2.19549060e+00,  6.88434720e-01,\n",
       "        2.90290087e-01,  3.27681810e-01,  1.47261202e+00, -6.24918282e-01,\n",
       "        1.37351167e+00,  6.94130883e-02,  8.40788066e-01,  9.16006505e-01,\n",
       "        2.08518314e+00, -4.69986767e-01, -2.75016725e-01,  2.33175680e-01,\n",
       "       -6.83445752e-01, -1.15690756e+00, -1.20028663e+00,  1.42185926e+00,\n",
       "       -1.10275567e+00, -9.20310199e-01,  2.83451170e-01, -1.82670057e+00,\n",
       "       -5.59175730e-01,  6.28955483e-01, -2.80007243e-01,  1.11712587e+00,\n",
       "       -3.20067227e-01, -1.90103102e+00,  1.92854118e+00,  2.27041170e-01,\n",
       "       -4.79366541e-01,  2.04543471e+00,  6.17022514e-01,  1.10722172e+00],\n",
       "      dtype=float32)"
      ]
     },
     "execution_count": 26,
     "metadata": {},
     "output_type": "execute_result"
    }
   ],
   "source": [
    "model.wv['great']"
   ]
  },
  {
   "cell_type": "code",
   "execution_count": 27,
   "metadata": {
    "colab": {
     "base_uri": "https://localhost:8080/"
    },
    "executionInfo": {
     "elapsed": 616,
     "status": "ok",
     "timestamp": 1623568917083,
     "user": {
      "displayName": "Sayan Dey",
      "photoUrl": "https://lh3.googleusercontent.com/a-/AOh14GgqVHJ9o6-7idGiRbNNd4iVc1VjzvuPnwmAnvEtD6U=s64",
      "userId": "03603580465490055794"
     },
     "user_tz": -330
    },
    "id": "C0FF0naciywM",
    "outputId": "d1c569f8-961b-43ca-9416-5dc317c7df02",
    "scrolled": true
   },
   "outputs": [
    {
     "data": {
      "text/plain": [
       "array([-0.5192292 ,  1.1820428 , -0.88530517, -0.5201202 ,  0.04064511,\n",
       "       -0.7046154 , -1.378359  ,  1.2876801 ,  0.48252356,  1.3447504 ,\n",
       "       -0.5131772 ,  1.7878995 , -0.19430386, -0.6603103 ,  0.55657107,\n",
       "        0.8525216 , -0.61799127,  0.6510389 , -0.4742072 ,  1.0943985 ,\n",
       "       -0.41665834,  2.268133  , -0.30502835,  0.32585153,  0.577128  ,\n",
       "       -0.42187846,  1.2556466 , -0.90146893,  1.4661648 , -0.1984029 ,\n",
       "        1.0675898 ,  0.92750037,  0.9585684 , -0.26613882, -0.62172794,\n",
       "       -0.06825158,  0.87711036,  1.1523486 ,  0.08155826, -0.10478573,\n",
       "       -0.09048163,  1.3414595 , -0.28803468, -0.11576611, -0.6109621 ,\n",
       "        0.21873492, -0.22451432,  0.9202399 , -0.43053088, -0.45861286,\n",
       "       -0.65917236, -0.4253391 , -0.09851655, -0.4524087 , -0.9050053 ,\n",
       "        0.18435404,  0.89784175,  0.4950049 ,  1.010324  ,  0.47974342,\n",
       "       -1.1468371 , -1.5887647 ,  1.322706  ,  2.1893675 ,  2.2134278 ,\n",
       "       -1.2545288 ,  0.42036268,  0.532242  ,  1.0246134 , -0.7565518 ,\n",
       "       -0.18626076, -0.83010817, -1.2127316 ,  0.24924824,  0.18132532,\n",
       "       -1.1149505 , -0.03626722,  0.24268568,  1.4553502 , -0.94481725,\n",
       "       -1.1434568 ,  1.7141435 , -1.1912512 , -1.4097885 , -0.3098415 ,\n",
       "       -0.6513993 ,  0.03211021, -0.65342325, -0.84364706,  0.80490166,\n",
       "        0.53728145,  1.147079  ,  0.394539  , -0.6344595 ,  1.1188419 ,\n",
       "       -0.48201105, -0.10192206,  0.23298287, -1.4082271 , -0.34703583,\n",
       "        0.93144614,  0.05608675, -1.9666227 , -0.01997455, -0.9317577 ,\n",
       "       -0.53501326, -0.53817433, -2.1158545 ,  1.161759  , -0.64236635,\n",
       "        1.4190042 , -0.76406455,  0.42706728, -0.07885633,  0.3388254 ,\n",
       "       -0.5589585 ,  0.3993165 ,  1.7034906 , -0.1513724 , -0.16503449,\n",
       "        0.1343798 , -1.0927023 , -0.02183136,  0.15010192, -0.81825125,\n",
       "        0.16133131, -0.27922818,  0.16727275,  0.8655157 , -0.03493499,\n",
       "        0.99022764,  0.40333393, -0.01896408, -0.48722047,  1.2131275 ,\n",
       "        1.0331551 , -1.3554358 ,  2.1614532 , -0.28962678, -1.2033573 ,\n",
       "       -0.49501067,  1.2301959 ,  1.124034  ,  1.2743318 ,  0.5134726 ,\n",
       "       -1.0089128 ,  1.9285223 , -0.22923827, -1.9168441 , -0.6946248 ,\n",
       "       -0.03740635,  1.1807855 ,  1.2493325 ,  1.0196159 ,  0.07070715,\n",
       "        0.6283961 ,  0.2063343 ,  0.17044811,  0.3222848 ,  0.7681394 ,\n",
       "        0.73728   ,  0.50297976,  1.2088187 ,  0.7770575 , -0.13469024,\n",
       "        0.05279531, -0.23597366,  0.4408423 , -0.24796341,  0.3918189 ,\n",
       "        0.6666437 , -0.90650827,  0.9857153 , -0.17412336,  0.9659783 ,\n",
       "       -0.53904223,  0.97684073,  1.8350663 ,  0.60034597, -1.1221759 ,\n",
       "       -1.1801089 , -1.2615483 ,  0.28543082,  0.10437566,  0.258915  ,\n",
       "       -0.6765135 , -0.46953943,  1.5495914 , -0.7564551 ,  1.2785435 ,\n",
       "        0.483998  , -1.0698543 ,  1.2509356 , -0.38404742, -1.466261  ,\n",
       "       -0.3429903 ,  1.6254307 ,  0.01856719,  0.36367518,  0.37229493,\n",
       "       -0.31416795,  0.88435334, -0.3532129 ,  0.1148553 , -0.14485946,\n",
       "       -0.7219115 , -0.8922891 ,  0.01087919, -0.9946147 , -1.6799877 ,\n",
       "       -0.52651745,  1.2207935 , -0.27372473,  0.54283226,  1.2333895 ,\n",
       "        0.58031106,  0.79537857,  0.34311116, -0.52957404, -0.31825653,\n",
       "       -0.54675615,  0.7374008 ,  0.5524311 ,  3.1514578 , -0.8765672 ,\n",
       "        0.2679521 ,  0.13384451,  0.6303037 , -0.31630856,  0.0516496 ,\n",
       "       -0.3181841 , -1.5356674 , -0.6875564 , -1.061462  , -1.3784713 ,\n",
       "        1.3544126 ,  0.5129106 ,  1.8751172 ,  0.8706736 ,  0.5188638 ,\n",
       "        0.4851566 , -0.72354525, -0.42323276,  0.6587636 , -0.00670395,\n",
       "       -0.77013934,  0.42369065,  1.4535223 ,  0.09843028, -0.53152823,\n",
       "       -0.29767185, -1.2295128 ,  0.33367068,  1.3936095 ,  0.04732675,\n",
       "       -0.46560648, -0.15301323,  0.36376953, -0.01456498,  1.0883727 ,\n",
       "       -2.2540417 ,  0.5069189 , -0.67174804,  2.0154433 , -0.15869668,\n",
       "        1.7941732 ,  0.7722106 ,  0.677802  ,  0.8352628 ,  0.61844516,\n",
       "       -0.10410836, -0.4609046 ,  0.06517574, -0.63956946,  0.21076962,\n",
       "        1.2573117 ,  0.3243658 ,  0.09552989, -0.5042539 ,  2.0985508 ,\n",
       "       -0.9680658 ,  0.14018828,  1.1377251 ,  0.5018557 , -1.6835796 ,\n",
       "       -0.7169643 , -0.08572299, -0.30485895, -0.78940535, -1.5095422 ,\n",
       "       -0.30412012,  0.8113318 , -0.06668384, -0.98924613,  2.362157  ,\n",
       "       -0.58881426,  1.1182512 ,  0.67165285, -0.1841151 ,  0.46892858],\n",
       "      dtype=float32)"
      ]
     },
     "execution_count": 27,
     "metadata": {},
     "output_type": "execute_result"
    }
   ],
   "source": [
    "model.wv['amazing']"
   ]
  },
  {
   "cell_type": "markdown",
   "metadata": {
    "id": "R1L6Z5epaiwP"
   },
   "source": [
    "### Finding Words which have similar meaning"
   ]
  },
  {
   "cell_type": "code",
   "execution_count": 28,
   "metadata": {
    "colab": {
     "base_uri": "https://localhost:8080/"
    },
    "executionInfo": {
     "elapsed": 2,
     "status": "ok",
     "timestamp": 1623568918856,
     "user": {
      "displayName": "Sayan Dey",
      "photoUrl": "https://lh3.googleusercontent.com/a-/AOh14GgqVHJ9o6-7idGiRbNNd4iVc1VjzvuPnwmAnvEtD6U=s64",
      "userId": "03603580465490055794"
     },
     "user_tz": -330
    },
    "id": "0Y93z8W0aiwR",
    "outputId": "4c39a5a7-416d-4ade-e046-19ec30bad394",
    "scrolled": true
   },
   "outputs": [
    {
     "data": {
      "text/plain": [
       "[('incredible', 0.7770970463752747),\n",
       " ('awesome', 0.750782310962677),\n",
       " ('outstanding', 0.6993253231048584),\n",
       " ('astounding', 0.6844815015792847),\n",
       " ('exceptional', 0.674214780330658),\n",
       " ('astonishing', 0.6584542989730835),\n",
       " ('fantastic', 0.6551292538642883),\n",
       " ('excellent', 0.641973078250885),\n",
       " ('wonderful', 0.6101550459861755),\n",
       " ('extraordinary', 0.5955072045326233)]"
      ]
     },
     "execution_count": 28,
     "metadata": {},
     "output_type": "execute_result"
    }
   ],
   "source": [
    "model.wv.most_similar('amazing')"
   ]
  },
  {
   "cell_type": "code",
   "execution_count": 29,
   "metadata": {
    "id": "EXshY_4TUBcf",
    "outputId": "91085aac-b88e-4914-a95c-10396c9d1f2a"
   },
   "outputs": [
    {
     "data": {
      "text/plain": [
       "[('copenhagen', 0.557997465133667),\n",
       " ('donegal', 0.5411016345024109),\n",
       " ('hampshire', 0.5366488099098206),\n",
       " ('bluesmobile', 0.5328510403633118),\n",
       " ('nursemaid', 0.5291029810905457),\n",
       " ('cornwall', 0.5224801301956177),\n",
       " ('upstate', 0.5188958644866943),\n",
       " ('louisiana', 0.5188421607017517),\n",
       " ('orleans', 0.5145027041435242),\n",
       " ('mexico', 0.5084513425827026)]"
      ]
     },
     "execution_count": 29,
     "metadata": {},
     "output_type": "execute_result"
    }
   ],
   "source": [
    "model.wv.most_similar('delhi')"
   ]
  },
  {
   "cell_type": "markdown",
   "metadata": {
    "id": "dWKCuhkSaiwT"
   },
   "source": [
    "### Find the word which is not like others"
   ]
  },
  {
   "cell_type": "markdown",
   "metadata": {
    "id": "dMDqwhZraiwW"
   },
   "source": [
    "### Saving the model"
   ]
  },
  {
   "cell_type": "code",
   "execution_count": 30,
   "metadata": {
    "colab": {
     "base_uri": "https://localhost:8080/"
    },
    "executionInfo": {
     "elapsed": 1140,
     "status": "ok",
     "timestamp": 1623568931738,
     "user": {
      "displayName": "Sayan Dey",
      "photoUrl": "https://lh3.googleusercontent.com/a-/AOh14GgqVHJ9o6-7idGiRbNNd4iVc1VjzvuPnwmAnvEtD6U=s64",
      "userId": "03603580465490055794"
     },
     "user_tz": -330
    },
    "id": "ZMKmOZ0KaiwY",
    "outputId": "77dcabf2-e705-471c-e404-3ebb675e013b"
   },
   "outputs": [
    {
     "name": "stderr",
     "output_type": "stream",
     "text": [
      "2021-11-11 11:58:37,929 : INFO : Word2Vec lifecycle event {'fname_or_handle': 'word2vec-movie-50', 'separately': 'None', 'sep_limit': 10485760, 'ignore': frozenset(), 'datetime': '2021-11-11T11:58:37.929976', 'gensim': '4.1.2', 'python': '3.8.5 (default, Sep  3 2020, 21:29:08) [MSC v.1916 64 bit (AMD64)]', 'platform': 'Windows-10-10.0.22000-SP0', 'event': 'saving'}\n",
      "2021-11-11 11:58:37,930 : INFO : storing np array 'vectors' to word2vec-movie-50.wv.vectors.npy\n",
      "2021-11-11 11:58:38,061 : INFO : storing np array 'syn1neg' to word2vec-movie-50.syn1neg.npy\n",
      "2021-11-11 11:58:38,165 : INFO : not storing attribute cum_table\n",
      "2021-11-11 11:58:38,239 : INFO : saved word2vec-movie-50\n"
     ]
    }
   ],
   "source": [
    "model.save('word2vec-movie-50')"
   ]
  },
  {
   "cell_type": "code",
   "execution_count": 19,
   "metadata": {
    "colab": {
     "base_uri": "https://localhost:8080/"
    },
    "executionInfo": {
     "elapsed": 393,
     "status": "ok",
     "timestamp": 1623567544023,
     "user": {
      "displayName": "Sayan Dey",
      "photoUrl": "https://lh3.googleusercontent.com/a-/AOh14GgqVHJ9o6-7idGiRbNNd4iVc1VjzvuPnwmAnvEtD6U=s64",
      "userId": "03603580465490055794"
     },
     "user_tz": -330
    },
    "id": "zCnMqOVDaiwb",
    "outputId": "72dc1219-09c5-4726-ca8f-f900b8ec24ad"
   },
   "outputs": [
    {
     "name": "stderr",
     "output_type": "stream",
     "text": [
      "2021-08-28 14:05:15,794 : INFO : loading Word2Vec object from word2vec-movie-50\n",
      "2021-08-28 14:05:15,807 : INFO : loading wv recursively from word2vec-movie-50.wv.* with mmap=None\n",
      "2021-08-28 14:05:15,808 : INFO : loading vectors from word2vec-movie-50.wv.vectors.npy with mmap=None\n",
      "2021-08-28 14:05:15,831 : INFO : loading syn1neg from word2vec-movie-50.syn1neg.npy with mmap=None\n",
      "2021-08-28 14:05:15,861 : INFO : setting ignored attribute cum_table to None\n",
      "2021-08-28 14:05:16,241 : INFO : Word2Vec lifecycle event {'fname': 'word2vec-movie-50', 'datetime': '2021-08-28T14:05:16.241096', 'gensim': '4.0.1', 'python': '3.8.5 (default, Sep  3 2020, 21:29:08) [MSC v.1916 64 bit (AMD64)]', 'platform': 'Windows-10-10.0.19041-SP0', 'event': 'loaded'}\n"
     ]
    }
   ],
   "source": [
    "#Load model from memory\n",
    "model = gensim.models.Word2Vec.load('word2vec-movie-50')"
   ]
  },
  {
   "cell_type": "markdown",
   "metadata": {
    "id": "P5698UDZaiwf"
   },
   "source": [
    "1. Equation king + man = queen + ?\n",
    "2. In this case there may not be enough data for this equation"
   ]
  },
  {
   "cell_type": "code",
   "execution_count": 31,
   "metadata": {
    "id": "oUEUdx_EUBcj",
    "outputId": "b5211ea9-08e6-4ebc-ddb6-b3fb03bac912"
   },
   "outputs": [
    {
     "data": {
      "text/plain": [
       "[('queen', 0.43734657764434814),\n",
       " ('princess', 0.4300723075866699),\n",
       " ('commoner', 0.3797640800476074),\n",
       " ('countess', 0.3688327670097351),\n",
       " ('rajput', 0.3613698482513428),\n",
       " ('belle', 0.3526665270328522),\n",
       " ('empress', 0.3479282557964325),\n",
       " ('maria', 0.3453648090362549),\n",
       " ('saint', 0.3422326445579529),\n",
       " ('prince', 0.33791476488113403)]"
      ]
     },
     "execution_count": 31,
     "metadata": {},
     "output_type": "execute_result"
    }
   ],
   "source": [
    "model.wv.most_similar(positive=['woman', 'king'], negative=['man'], topn=10)"
   ]
  },
  {
   "cell_type": "code",
   "execution_count": 32,
   "metadata": {
    "colab": {
     "base_uri": "https://localhost:8080/"
    },
    "executionInfo": {
     "elapsed": 435,
     "status": "ok",
     "timestamp": 1623568952434,
     "user": {
      "displayName": "Sayan Dey",
      "photoUrl": "https://lh3.googleusercontent.com/a-/AOh14GgqVHJ9o6-7idGiRbNNd4iVc1VjzvuPnwmAnvEtD6U=s64",
      "userId": "03603580465490055794"
     },
     "user_tz": -330
    },
    "id": "GPThj2KUQBJ8",
    "outputId": "655bf984-0341-4894-8c1d-b3125e328f70"
   },
   "outputs": [
    {
     "data": {
      "text/plain": [
       "[('heroine', 0.6039318442344666),\n",
       " ('protagonist', 0.48086097836494446),\n",
       " ('villain', 0.3953973352909088),\n",
       " ('girl', 0.3931638300418854),\n",
       " ('damsel', 0.3856784403324127)]"
      ]
     },
     "execution_count": 32,
     "metadata": {},
     "output_type": "execute_result"
    }
   ],
   "source": [
    "model.wv.most_similar(positive=['woman', 'hero'], negative=['man'], topn=5)"
   ]
  },
  {
   "cell_type": "code",
   "execution_count": 33,
   "metadata": {
    "id": "KNfulfToUBcj",
    "outputId": "139985a8-ac55-4fbb-97c5-e3e5876f9b1f"
   },
   "outputs": [
    {
     "data": {
      "text/plain": [
       "[('mother', 0.6816985011100769),\n",
       " ('daughter', 0.6567928791046143),\n",
       " ('grandmother', 0.5871499180793762),\n",
       " ('sister', 0.580805242061615),\n",
       " ('aunt', 0.5742297768592834),\n",
       " ('wife', 0.5611377954483032),\n",
       " ('mom', 0.5472424030303955),\n",
       " ('parents', 0.5446527600288391),\n",
       " ('spouse', 0.5401191115379333),\n",
       " ('girlfriend', 0.5313502550125122)]"
      ]
     },
     "execution_count": 33,
     "metadata": {},
     "output_type": "execute_result"
    }
   ],
   "source": [
    "model.wv.most_similar(positive=['woman','father'], negative=['man'])"
   ]
  },
  {
   "cell_type": "code",
   "execution_count": 34,
   "metadata": {
    "colab": {
     "base_uri": "https://localhost:8080/"
    },
    "executionInfo": {
     "elapsed": 400,
     "status": "ok",
     "timestamp": 1623567576478,
     "user": {
      "displayName": "Sayan Dey",
      "photoUrl": "https://lh3.googleusercontent.com/a-/AOh14GgqVHJ9o6-7idGiRbNNd4iVc1VjzvuPnwmAnvEtD6U=s64",
      "userId": "03603580465490055794"
     },
     "user_tz": -330
    },
    "id": "iRBUsx0gnt-T",
    "outputId": "6fba9ed1-dfdf-43fe-94f4-a5054d25dd5c",
    "scrolled": true
   },
   "outputs": [
    {
     "data": {
      "text/plain": [
       "array([-4.5481160e-01, -3.3779359e-01, -1.5244037e-02, -2.0211082e+00,\n",
       "       -6.7356205e-01,  2.3306243e+00, -9.4789946e-01,  2.1488960e+00,\n",
       "        2.3688393e+00,  1.7235390e+00,  1.1841875e+00,  6.4840496e-01,\n",
       "       -7.3191440e-01, -8.4619927e-01, -6.3268524e-01,  1.4771940e+00,\n",
       "       -2.2085562e+00,  1.3961335e+00,  1.9187338e+00,  3.2880797e+00,\n",
       "        4.9677408e-01,  1.3372293e+00, -2.2337956e+00,  9.2195255e-01,\n",
       "        7.8062302e-01, -1.7935306e-02, -6.9245040e-01,  1.6122983e+00,\n",
       "       -1.2887175e+00, -1.2718621e+00, -7.3152548e-01, -1.6742787e+00,\n",
       "        1.0483837e+00, -1.8832542e+00,  2.0220120e+00, -1.9787261e+00,\n",
       "       -2.5853026e-01, -2.0706016e-01,  4.3984124e-01,  1.9710746e+00,\n",
       "       -1.3892562e+00,  6.8506682e-01,  1.4197485e+00, -1.1302315e+00,\n",
       "       -5.7005870e-01, -9.5372152e-01,  9.5599091e-01,  3.1192303e-03,\n",
       "       -7.7563405e-01, -2.0905914e+00,  2.1767612e+00, -1.2706807e+00,\n",
       "       -1.1860112e+00,  4.3988600e-02, -2.2893026e+00,  5.9431046e-01,\n",
       "        2.6326613e+00, -1.5190947e+00,  3.7258101e+00,  1.4974060e+00,\n",
       "        5.6353694e-01,  8.4295869e-02, -2.5344133e+00, -1.8575873e+00,\n",
       "        3.9975217e-01, -7.1109110e-01,  4.5568943e-02, -2.0952210e+00,\n",
       "       -2.7498889e+00, -1.1523795e-01, -1.9919933e+00,  2.0094883e-01,\n",
       "       -3.2529566e+00, -2.4997406e+00,  3.7622261e-01,  4.0422764e+00,\n",
       "       -3.9638293e+00, -5.9459615e-01, -3.5878968e+00, -3.7737517e+00,\n",
       "       -1.1896068e+00, -2.6047654e+00,  6.8126023e-02, -1.6114665e+00,\n",
       "        2.2064939e+00, -1.8582572e-01, -1.6608620e+00, -5.0472885e-01,\n",
       "        3.6033881e-01,  2.1682978e-03,  2.3407438e-01, -2.6636629e+00,\n",
       "        1.3561249e-01,  3.2042141e+00,  1.2553283e+00, -3.8479584e-01,\n",
       "       -1.3256907e+00,  8.3732706e-01,  2.6406616e-01,  1.4713261e+00,\n",
       "        2.2488840e+00,  3.6305755e-01,  8.4891617e-02, -2.1736860e+00,\n",
       "        9.4000673e-01,  2.2425604e-01,  1.0802236e+00, -1.8505024e+00,\n",
       "        7.7477407e-01, -4.1662768e-01, -1.1693175e+00,  1.7071826e+00,\n",
       "        6.6326571e-01,  2.0350239e+00,  7.0194823e-01,  1.1536895e+00,\n",
       "        4.9341059e-01,  3.3764672e-01,  2.4899197e+00, -1.9964778e+00,\n",
       "       -1.6070074e-01,  7.2742891e-01,  3.1004474e+00, -1.3189888e+00,\n",
       "        1.5001930e+00, -9.2078412e-01,  4.0702862e-01, -1.2908702e+00,\n",
       "       -2.9734528e+00, -3.8585848e-01, -4.1161358e-01,  1.4830759e+00,\n",
       "       -7.0360696e-01, -1.0096362e+00,  1.4596524e+00,  5.2515044e+00,\n",
       "       -8.0809295e-02,  2.0518911e+00,  3.5159039e+00, -1.4641378e+00,\n",
       "        1.6113324e+00,  4.0257636e-01,  5.4871058e-01, -2.9334879e+00,\n",
       "        1.4223748e+00, -8.8776773e-01, -1.0769179e+00,  9.1920841e-01,\n",
       "       -1.0239997e+00, -7.4688435e-01,  2.5260558e+00, -9.6059394e-01,\n",
       "        3.6844056e+00, -1.7993977e+00,  1.9796845e+00,  6.9970977e-01,\n",
       "       -1.2327267e+00, -5.1051384e-01, -1.0297191e+00, -3.0112245e+00,\n",
       "        2.2353506e+00,  2.5347192e+00,  1.9565866e+00, -6.1649561e-01,\n",
       "       -5.9323329e-01, -9.6157849e-02,  2.8326640e+00,  4.1987568e-01,\n",
       "       -1.4887815e+00, -1.5505487e-01, -1.4261396e+00, -7.7378774e-01,\n",
       "        2.5389934e-01, -1.5550476e+00,  1.7572457e-01, -8.9722776e-01,\n",
       "       -3.4855193e-01,  6.2414509e-01, -2.1561623e+00, -2.2851491e+00,\n",
       "       -1.6542379e+00,  1.4056727e+00,  1.4747369e+00, -3.0442834e+00,\n",
       "       -4.3820012e-01, -1.8536074e+00,  6.1138284e-01, -2.1205311e+00,\n",
       "       -2.6685259e+00,  4.5385212e-01, -2.2643850e+00,  2.5117011e+00,\n",
       "        1.9641248e+00, -2.1934483e+00, -1.5913323e+00,  1.4332495e+00,\n",
       "       -3.9586341e-01, -4.1307807e-01,  7.5948340e-01, -3.4460156e+00,\n",
       "        1.4196415e+00,  5.8030176e-01,  1.5886127e+00, -9.7194660e-01,\n",
       "        1.9877571e-01, -4.6851832e-01, -1.4870958e+00,  3.9040134e+00,\n",
       "        1.7068791e+00, -2.3448904e+00, -2.5370951e+00, -2.9396951e-01,\n",
       "        1.4563795e+00,  1.0974114e+00, -4.7713751e-01, -1.2392095e+00,\n",
       "        3.5085385e+00, -9.6310079e-01, -1.5723372e-01,  3.2577193e-01,\n",
       "        3.3254912e+00, -2.4334472e-01,  3.2312083e-01,  2.2884605e+00,\n",
       "       -8.3288431e-02,  1.1824936e+00, -1.3497416e+00,  8.7342906e-01,\n",
       "        1.5118718e+00,  4.6345365e-01, -1.3150146e+00, -1.9804487e+00,\n",
       "       -1.8914429e+00,  2.9156106e+00, -1.1406927e+00, -1.6093184e+00,\n",
       "        1.2472841e-01, -6.9376582e-01, -2.9961815e+00, -1.9079325e+00,\n",
       "       -5.8105688e+00,  6.0467255e-01, -3.2769018e-01, -1.3743697e+00,\n",
       "       -1.7717308e+00, -1.3120273e+00,  2.9755311e+00,  2.0519221e-01,\n",
       "       -1.2695068e-01, -2.4832662e-02, -1.3634503e+00,  1.9358230e+00,\n",
       "        9.9719477e-01,  3.7079930e-01, -5.7858533e-01,  2.5082588e-02,\n",
       "        2.1064534e+00,  2.7840984e-01,  2.0000734e+00, -2.2975228e+00,\n",
       "       -3.4352064e-02,  2.2699504e+00, -9.5765764e-01,  7.7381128e-01,\n",
       "       -7.8868884e-01, -2.0160375e+00, -2.0229685e+00, -7.9362738e-01,\n",
       "        1.8930011e+00,  9.0160608e-01,  5.8582985e-01,  1.1181639e+00,\n",
       "        5.0970697e-01,  1.6452394e+00, -8.7407476e-01,  5.8301455e-01,\n",
       "        7.3990554e-02, -3.0267859e-01,  3.7050319e-01, -1.9377294e+00,\n",
       "        1.6208284e+00, -2.5420994e-01, -1.4371966e+00,  7.3209089e-01,\n",
       "        3.5777882e-02,  6.1613387e-01, -1.0563606e+00,  7.2828472e-02,\n",
       "        2.9031680e+00,  2.4514306e+00,  3.9894679e-01, -2.3372865e-01,\n",
       "       -1.7057055e-01, -1.4927042e-01,  1.5771155e-01, -1.0898266e+00,\n",
       "       -1.4967248e+00, -1.8751538e+00, -7.5772876e-01,  1.5222691e+00],\n",
       "      dtype=float32)"
      ]
     },
     "execution_count": 34,
     "metadata": {},
     "output_type": "execute_result"
    }
   ],
   "source": [
    "model.wv['king'] + model.wv['man'] - model.wv['queen']"
   ]
  }
 ],
 "metadata": {
  "accelerator": "GPU",
  "colab": {
   "collapsed_sections": [],
   "name": "3. Word2vec_gensim_movie_data.ipynb",
   "provenance": []
  },
  "kernelspec": {
   "display_name": "Python 3",
   "language": "python",
   "name": "python3"
  },
  "language_info": {
   "codemirror_mode": {
    "name": "ipython",
    "version": 3
   },
   "file_extension": ".py",
   "mimetype": "text/x-python",
   "name": "python",
   "nbconvert_exporter": "python",
   "pygments_lexer": "ipython3",
   "version": "3.8.5"
  }
 },
 "nbformat": 4,
 "nbformat_minor": 1
}
